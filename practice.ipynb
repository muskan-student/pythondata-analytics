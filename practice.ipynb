{
 "cells": [
  {
   "cell_type": "code",
   "execution_count": 3,
   "metadata": {},
   "outputs": [
    {
     "name": "stdout",
     "output_type": "stream",
     "text": [
      "My favourite movie is Harry Potter\n",
      "<class 'str'>\n",
      "34\n"
     ]
    }
   ],
   "source": [
    "#creare a string and print it\n",
    "a= \"My favourite movie is Harry Potter\"\n",
    "print(a)\n",
    "print(type(a))\n",
    "print(len(a))"
   ]
  },
  {
   "cell_type": "code",
   "execution_count": 6,
   "metadata": {},
   "outputs": [
    {
     "name": "stdout",
     "output_type": "stream",
     "text": [
      "great\n"
     ]
    }
   ],
   "source": [
    "msg = \"python is great\"\n",
    "print (msg [-5:])"
   ]
  },
  {
   "cell_type": "code",
   "execution_count": 3,
   "metadata": {},
   "outputs": [
    {
     "name": "stdout",
     "output_type": "stream",
     "text": [
      "e\n",
      "r\n",
      "e\n",
      "h\n",
      "w\n",
      "y\n",
      "r\n",
      "e\n",
      "v\n",
      "e\n"
     ]
    }
   ],
   "source": [
    "word = \" Python is everywhere\"\n",
    "print (word[-1])\n",
    "print (word[-2])\n",
    "print (word[-3])\n",
    "print (word[-4])\n",
    "print (word[-5])\n",
    "print (word[-6])\n",
    "print (word[-7])\n",
    "print (word[-8])\n",
    "print (word[-9])\n",
    "print (word[-10])"
   ]
  },
  {
   "cell_type": "code",
   "execution_count": 8,
   "metadata": {},
   "outputs": [
    {
     "name": "stdout",
     "output_type": "stream",
     "text": [
      "dlrow olleh\n"
     ]
    }
   ],
   "source": [
    "b= \"hello world\"\n",
    "print(b[::-1])"
   ]
  },
  {
   "cell_type": "code",
   "execution_count": 11,
   "metadata": {},
   "outputs": [
    {
     "name": "stdout",
     "output_type": "stream",
     "text": [
      "HOW ARE YOU?\n",
      "how is it going?\n"
     ]
    }
   ],
   "source": [
    "txt= \"how are you?\"\n",
    "print(txt.upper())\n",
    "text = \"How Is It Going?\"\n",
    "print(text.lower())"
   ]
  },
  {
   "cell_type": "code",
   "execution_count": 15,
   "metadata": {},
   "outputs": [
    {
     "name": "stdout",
     "output_type": "stream",
     "text": [
      "['python', 'is', 'easy', 'to', 'learn']\n",
      "python/is/easy/to/learn\n"
     ]
    }
   ],
   "source": [
    "p= ['python','is','easy', 'to','learn']\n",
    "print(p)\n",
    "full_p = \"/\".join(p)\n",
    "print(full_p)"
   ]
  },
  {
   "cell_type": "code",
   "execution_count": 18,
   "metadata": {},
   "outputs": [
    {
     "name": "stdout",
     "output_type": "stream",
     "text": [
      "['Twinkle Twinkle,  little star,', 'How i wonder , what you are', 'Up above the world so high,', 'like a diamond , in the sky']\n",
      "['Twinkle Twinkle,  little star,', 'How i wonder , what you are', 'Up above the world so high,', 'like a diamond , in the sky']\n",
      "['Twinkle Twinkle,  little star,', 'How i wonder , what you are', 'Up above the world so high,', 'like a diamond , in the sky']\n",
      "['Twinkle Twinkle,  little star,', 'How i wonder , what you are', 'Up above the world so high,', 'like a diamond , in the sky']\n"
     ]
    }
   ],
   "source": [
    "ch = \"\"\"Twinkle Twinkle,  little star,\n",
    "How i wonder , what you are\n",
    "Up above the world so high,\n",
    "like a diamond , in the sky\"\"\"\n",
    "lines =ch.splitlines()\n",
    "for line in lines:\n",
    "    print(lines)"
   ]
  },
  {
   "cell_type": "code",
   "execution_count": 21,
   "metadata": {},
   "outputs": [
    {
     "name": "stdout",
     "output_type": "stream",
     "text": [
      "python is great\n"
     ]
    }
   ],
   "source": [
    "s1=\"python\"\n",
    "s2 = \"is\"\n",
    "s3 = \"great\"\n",
    "result = \" \".join([s1,s2,s3])\n",
    "print(result)\n"
   ]
  },
  {
   "cell_type": "code",
   "execution_count": null,
   "metadata": {},
   "outputs": [],
   "source": []
  }
 ],
 "metadata": {
  "kernelspec": {
   "display_name": "base",
   "language": "python",
   "name": "python3"
  },
  "language_info": {
   "codemirror_mode": {
    "name": "ipython",
    "version": 3
   },
   "file_extension": ".py",
   "mimetype": "text/x-python",
   "name": "python",
   "nbconvert_exporter": "python",
   "pygments_lexer": "ipython3",
   "version": "3.12.3"
  }
 },
 "nbformat": 4,
 "nbformat_minor": 2
}
