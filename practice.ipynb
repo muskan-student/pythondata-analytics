{
 "cells": [
  {
   "cell_type": "code",
   "execution_count": null,
   "metadata": {},
   "outputs": [],
   "source": [
    "#creare a string and print it\n",
    "a= \"My favourite movie is Harry Potter\"\n",
    "print(a)\n",
    "print(type(a))\n",
    "print(len(a))"
   ]
  },
  {
   "cell_type": "code",
   "execution_count": null,
   "metadata": {},
   "outputs": [],
   "source": [
    "msg = \"python is great\"\n",
    "print (msg [-5:])"
   ]
  },
  {
   "cell_type": "code",
   "execution_count": null,
   "metadata": {},
   "outputs": [],
   "source": [
    "word = \" Python is everywhere\"\n",
    "print (word[-1])\n",
    "print (word[-2])\n",
    "print (word[-3])\n",
    "print (word[-4])\n",
    "print (word[-5])\n",
    "print (word[-6])\n",
    "print (word[-7])\n",
    "print (word[-8])\n",
    "print (word[-9])\n",
    "print (word[-10])"
   ]
  },
  {
   "cell_type": "code",
   "execution_count": null,
   "metadata": {},
   "outputs": [],
   "source": [
    "b= \"hello world\"\n",
    "print(b[::-1])"
   ]
  },
  {
   "cell_type": "code",
   "execution_count": null,
   "metadata": {},
   "outputs": [],
   "source": [
    "txt= \"how are you?\"\n",
    "print(txt.upper())\n",
    "text = \"How Is It Going?\"\n",
    "print(text.lower())"
   ]
  },
  {
   "cell_type": "code",
   "execution_count": null,
   "metadata": {},
   "outputs": [],
   "source": [
    "p= ['python','is','easy', 'to','learn']\n",
    "print(p)\n",
    "full_p = \"/\".join(p)\n",
    "print(full_p)"
   ]
  },
  {
   "cell_type": "code",
   "execution_count": null,
   "metadata": {},
   "outputs": [],
   "source": [
    "ch = \"\"\"Twinkle Twinkle,  little star,\n",
    "How i wonder , what you are\n",
    "Up above the world so high,\n",
    "like a diamond , in the sky\"\"\"\n",
    "ch.splitlines()\n",
    "\n"
   ]
  },
  {
   "cell_type": "code",
   "execution_count": null,
   "metadata": {},
   "outputs": [],
   "source": [
    "s1=\"python\"\n",
    "s2 = \"is\"\n",
    "s3 = \"great\"\n",
    "result = \" \".join([s1,s2,s3])\n",
    "print(result)\n"
   ]
  },
  {
   "cell_type": "code",
   "execution_count": null,
   "metadata": {},
   "outputs": [],
   "source": [
    "for i in range (1,10):\n",
    "    print (f'{i}.')"
   ]
  },
  {
   "cell_type": "code",
   "execution_count": null,
   "metadata": {},
   "outputs": [],
   "source": [
    "sen = input(\"enter any sentence\")\n",
    "j = sen.split()\n",
    "for word in j:\n",
    "    print(word)\n",
    "c = sen.count('e')\n",
    "print('the number of e in the sentence',c)\n"
   ]
  },
  {
   "cell_type": "code",
   "execution_count": null,
   "metadata": {},
   "outputs": [],
   "source": [
    "txt = '    this is not a good string  '\n",
    "print (len(txt),txt)\n",
    "clear_txt = txt.strip()\n",
    "print(len(clear_txt),clear_txt)\n"
   ]
  },
  {
   "cell_type": "markdown",
   "metadata": {},
   "source": [
    "# LOOPS "
   ]
  },
  {
   "cell_type": "code",
   "execution_count": null,
   "metadata": {},
   "outputs": [],
   "source": [
    "#wap a program to print number from 1 to 10 using for loop\n",
    "nums = 11\n",
    "for i in range (1,11):\n",
    "    print(i)"
   ]
  },
  {
   "cell_type": "code",
   "execution_count": null,
   "metadata": {},
   "outputs": [],
   "source": [
    "#WAP  a program to print multiplcation table of a given number using a while loop\n",
    "num = int(input(\"enter the number\"))\n",
    "i = 1\n",
    "while i <= 10:\n",
    "    product = num*i\n",
    "    print(f\"{num} * {i} = {product}\")"
   ]
  },
  {
   "cell_type": "code",
   "execution_count": null,
   "metadata": {},
   "outputs": [],
   "source": [
    "#wap a program to print a sum of all even number between 1 to 100\n",
    "sum = 0 \n",
    "for i in range (1,10):\n",
    "    if i % 2 == 0:\n",
    "        continue\n",
    "    sum += i\n",
    "    print(sum)"
   ]
  },
  {
   "cell_type": "code",
   "execution_count": null,
   "metadata": {},
   "outputs": [],
   "source": [
    "#prime number\n",
    "num = int(input(\"enter the number\"))\n",
    "if num > 1:\n",
    "    for i  in range (2,(num//2)+1):\n",
    "        if num % i==0:\n",
    "            print (f\"{num} is not the prime number\")\n",
    "            break\n",
    "    else:\n",
    "        print(f\"{num} is the prime number \")\n",
    "else:\n",
    "    print(f\"{num }is not a prime number\")\n"
   ]
  },
  {
   "cell_type": "code",
   "execution_count": 1,
   "metadata": {},
   "outputs": [],
   "source": [
    "import numpy as np"
   ]
  },
  {
   "cell_type": "code",
   "execution_count": null,
   "metadata": {},
   "outputs": [],
   "source": [
    "a =np.array([0]*10)\n",
    "print (a)\n",
    "b = np.array([1]*10)\n",
    "print(b)"
   ]
  },
  {
   "cell_type": "code",
   "execution_count": null,
   "metadata": {},
   "outputs": [],
   "source": [
    "z = np.random.randint(0,8,(3,3))\n",
    "print(z)"
   ]
  },
  {
   "cell_type": "code",
   "execution_count": 16,
   "metadata": {},
   "outputs": [
    {
     "name": "stdout",
     "output_type": "stream",
     "text": [
      "[9 8 7 6 5 4 3 2 1 0]\n"
     ]
    }
   ],
   "source": [
    "z= np.array([0,1,2,3,4,5,6,7,8,9])\n",
    "nz = z[::-1]\n",
    "print(nz)"
   ]
  },
  {
   "cell_type": "code",
   "execution_count": 20,
   "metadata": {},
   "outputs": [
    {
     "name": "stdout",
     "output_type": "stream",
     "text": [
      "array = [0, 1, 2, 3, 4, 5, 6, 7, 8, 9]\n",
      "reversed array = [9 8 7 6 5 4 3 2 1 0]\n"
     ]
    }
   ],
   "source": [
    "c = ([0,1,2,3,4,5,6,7,8,9])\n",
    "print(f\"array = {c}\")\n",
    "nc = np.flip(c)\n",
    "print(f\"reversed array = {nc}\")"
   ]
  },
  {
   "cell_type": "code",
   "execution_count": 23,
   "metadata": {},
   "outputs": [
    {
     "name": "stdout",
     "output_type": "stream",
     "text": [
      "reversed array= [[6 5 4]\n",
      " [3 2 1]]\n"
     ]
    }
   ],
   "source": [
    "m = np.array([[1,2,3],[4,5,6]])\n",
    "nm = np.flip(m)\n",
    "print(f\"reversed array= {nm}\")"
   ]
  },
  {
   "cell_type": "code",
   "execution_count": 9,
   "metadata": {},
   "outputs": [
    {
     "name": "stdout",
     "output_type": "stream",
     "text": [
      "even numbers :  [56 12 24 90 56]\n"
     ]
    }
   ],
   "source": [
    "num = np.array([[23,56,9],[87,12,24],[67,90,56]])\n",
    "even_mask = num %2 == 0\n",
    "even_num = num[even_mask]\n",
    "print('even numbers : ',even_num)\n",
    "\n"
   ]
  },
  {
   "cell_type": "code",
   "execution_count": 6,
   "metadata": {},
   "outputs": [
    {
     "name": "stdout",
     "output_type": "stream",
     "text": [
      "771\n"
     ]
    }
   ],
   "source": [
    "num = np.array([12,23,3,445,55,66,78,9,80])\n",
    "print(num.sum())"
   ]
  },
  {
   "cell_type": "code",
   "execution_count": 11,
   "metadata": {},
   "outputs": [
    {
     "name": "stdout",
     "output_type": "stream",
     "text": [
      "352\n",
      "[ 88 132 132]\n",
      "[102 250]\n",
      "58.666666666666664\n",
      "28.697657666707844\n"
     ]
    }
   ],
   "source": [
    "n= np.array([[12,34,56],[76,98,76]])\n",
    "print(n.sum())\n",
    "print(n.sum(axis = 0))\n",
    "print(n.sum(axis = 1))\n",
    "print(n.mean())\n",
    "print(n.std())"
   ]
  },
  {
   "cell_type": "code",
   "execution_count": 22,
   "metadata": {},
   "outputs": [
    {
     "name": "stdout",
     "output_type": "stream",
     "text": [
      "[[98 74 68 23 12]\n",
      " [ 0 78 81 42 11]\n",
      " [58 19 53 19 30]\n",
      " [ 5  2 71 72 30]\n",
      " [37 41 15 49 29]]\n",
      "minimum value = 0\n",
      "maximum value = 98\n"
     ]
    }
   ],
   "source": [
    "a = np.random.randint(0,99,(5,5))\n",
    "print(a)\n",
    "print(f'minimum value = {a.min()}')\n",
    "print(f'maximum value = {a.max()}')"
   ]
  },
  {
   "cell_type": "code",
   "execution_count": 10,
   "metadata": {},
   "outputs": [
    {
     "name": "stdout",
     "output_type": "stream",
     "text": [
      "original array\n",
      "[[1. 1. 1. 1. 1.]\n",
      " [1. 0. 0. 0. 1.]\n",
      " [1. 0. 0. 0. 1.]\n",
      " [1. 0. 0. 0. 1.]\n",
      " [1. 1. 1. 1. 1.]]\n",
      "\n",
      " 1 on the border and 0 inside\n",
      "0\n"
     ]
    }
   ],
   "source": [
    "x = np.ones((5,5))\n",
    "c = x[1:-1,1:-1] =0\n",
    "print('original array')\n",
    "print(x)\n",
    "\n",
    "#c =x[1:-1,1:-1] = 0\n",
    "print('\\n 1 on the border and 0 inside')\n",
    "print(c)\n"
   ]
  },
  {
   "cell_type": "code",
   "execution_count": 41,
   "metadata": {},
   "outputs": [
    {
     "name": "stdout",
     "output_type": "stream",
     "text": [
      "60\n",
      "[[10 20 30]\n",
      " [40 50 60]]\n"
     ]
    }
   ],
   "source": [
    "x = np.array([[10,20,30],[40,50,60]])\n",
    "print(x[1,2])\n",
    "print(x)\n",
    "#print(x.size())"
   ]
  },
  {
   "cell_type": "code",
   "execution_count": 47,
   "metadata": {},
   "outputs": [
    {
     "name": "stdout",
     "output_type": "stream",
     "text": [
      "[[1 2 3]\n",
      " [4 5 6]\n",
      " [7 8 9]]\n",
      "[[1 2 3]\n",
      " [4 5 6]]\n"
     ]
    }
   ],
   "source": [
    "arr1 = np.array([[1,2,3],[4,5,6],[7,8,9]])\n",
    "print(arr1)\n",
    "subarr = arr1[0:2]\n",
    "print(subarr)"
   ]
  },
  {
   "cell_type": "code",
   "execution_count": 6,
   "metadata": {},
   "outputs": [
    {
     "name": "stdout",
     "output_type": "stream",
     "text": [
      "matrix a\n",
      "[[1 2 3]\n",
      " [4 5 6]\n",
      " [7 8 9]]\n",
      "Matrix b\n",
      "[[3 4 1]\n",
      " [6 7 8]\n",
      " [2 3 5]]\n",
      "Matrix Multiplication of a and b\n",
      "[[ 21  27  32]\n",
      " [ 54  69  74]\n",
      " [ 87 111 116]]\n"
     ]
    }
   ],
   "source": [
    "a = np.array([[1,2,3],[4,5,6],[7,8,9]])\n",
    "b = np.array([[3,4,1],[6,7,8],[2,3,5]])\n",
    "result = np.dot(a,b)\n",
    "print(\"matrix a\")\n",
    "print(a)\n",
    "print(\"Matrix b\")\n",
    "print(b)\n",
    "print(\"Matrix Multiplication of a and b\")\n",
    "print(result)"
   ]
  },
  {
   "cell_type": "code",
   "execution_count": 1,
   "metadata": {},
   "outputs": [],
   "source": [
    "import numpy as np\n",
    "import seaborn as sns\n",
    "import matplotlib.pyplot as plt \n",
    "import plotly.express as px"
   ]
  },
  {
   "cell_type": "code",
   "execution_count": null,
   "metadata": {},
   "outputs": [],
   "source": []
  }
 ],
 "metadata": {
  "kernelspec": {
   "display_name": "base",
   "language": "python",
   "name": "python3"
  },
  "language_info": {
   "codemirror_mode": {
    "name": "ipython",
    "version": 3
   },
   "file_extension": ".py",
   "mimetype": "text/x-python",
   "name": "python",
   "nbconvert_exporter": "python",
   "pygments_lexer": "ipython3",
   "version": "3.12.3"
  }
 },
 "nbformat": 4,
 "nbformat_minor": 2
}
