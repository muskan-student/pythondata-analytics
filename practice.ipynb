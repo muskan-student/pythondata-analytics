{
 "cells": [
  {
   "cell_type": "code",
   "execution_count": 3,
   "metadata": {},
   "outputs": [
    {
     "name": "stdout",
     "output_type": "stream",
     "text": [
      "My favourite movie is Harry Potter\n",
      "<class 'str'>\n",
      "34\n"
     ]
    }
   ],
   "source": [
    "#creare a string and print it\n",
    "a= \"My favourite movie is Harry Potter\"\n",
    "print(a)\n",
    "print(type(a))\n",
    "print(len(a))"
   ]
  },
  {
   "cell_type": "code",
   "execution_count": 6,
   "metadata": {},
   "outputs": [
    {
     "name": "stdout",
     "output_type": "stream",
     "text": [
      "great\n"
     ]
    }
   ],
   "source": [
    "msg = \"python is great\"\n",
    "print (msg [-5:])"
   ]
  },
  {
   "cell_type": "code",
   "execution_count": 3,
   "metadata": {},
   "outputs": [
    {
     "name": "stdout",
     "output_type": "stream",
     "text": [
      "e\n",
      "r\n",
      "e\n",
      "h\n",
      "w\n",
      "y\n",
      "r\n",
      "e\n",
      "v\n",
      "e\n"
     ]
    }
   ],
   "source": [
    "word = \" Python is everywhere\"\n",
    "print (word[-1])\n",
    "print (word[-2])\n",
    "print (word[-3])\n",
    "print (word[-4])\n",
    "print (word[-5])\n",
    "print (word[-6])\n",
    "print (word[-7])\n",
    "print (word[-8])\n",
    "print (word[-9])\n",
    "print (word[-10])"
   ]
  },
  {
   "cell_type": "code",
   "execution_count": 8,
   "metadata": {},
   "outputs": [
    {
     "name": "stdout",
     "output_type": "stream",
     "text": [
      "dlrow olleh\n"
     ]
    }
   ],
   "source": [
    "b= \"hello world\"\n",
    "print(b[::-1])"
   ]
  },
  {
   "cell_type": "code",
   "execution_count": 11,
   "metadata": {},
   "outputs": [
    {
     "name": "stdout",
     "output_type": "stream",
     "text": [
      "HOW ARE YOU?\n",
      "how is it going?\n"
     ]
    }
   ],
   "source": [
    "txt= \"how are you?\"\n",
    "print(txt.upper())\n",
    "text = \"How Is It Going?\"\n",
    "print(text.lower())"
   ]
  },
  {
   "cell_type": "code",
   "execution_count": 15,
   "metadata": {},
   "outputs": [
    {
     "name": "stdout",
     "output_type": "stream",
     "text": [
      "['python', 'is', 'easy', 'to', 'learn']\n",
      "python/is/easy/to/learn\n"
     ]
    }
   ],
   "source": [
    "p= ['python','is','easy', 'to','learn']\n",
    "print(p)\n",
    "full_p = \"/\".join(p)\n",
    "print(full_p)"
   ]
  },
  {
   "cell_type": "code",
   "execution_count": 1,
   "metadata": {},
   "outputs": [
    {
     "data": {
      "text/plain": [
       "['Twinkle Twinkle,  little star,',\n",
       " 'How i wonder , what you are',\n",
       " 'Up above the world so high,',\n",
       " 'like a diamond , in the sky']"
      ]
     },
     "execution_count": 1,
     "metadata": {},
     "output_type": "execute_result"
    }
   ],
   "source": [
    "ch = \"\"\"Twinkle Twinkle,  little star,\n",
    "How i wonder , what you are\n",
    "Up above the world so high,\n",
    "like a diamond , in the sky\"\"\"\n",
    "ch.splitlines()\n",
    "\n"
   ]
  },
  {
   "cell_type": "code",
   "execution_count": 21,
   "metadata": {},
   "outputs": [
    {
     "name": "stdout",
     "output_type": "stream",
     "text": [
      "python is great\n"
     ]
    }
   ],
   "source": [
    "s1=\"python\"\n",
    "s2 = \"is\"\n",
    "s3 = \"great\"\n",
    "result = \" \".join([s1,s2,s3])\n",
    "print(result)\n"
   ]
  },
  {
   "cell_type": "code",
   "execution_count": 10,
   "metadata": {},
   "outputs": [
    {
     "name": "stdout",
     "output_type": "stream",
     "text": [
      "1.\n",
      "2.\n",
      "3.\n",
      "4.\n",
      "5.\n",
      "6.\n",
      "7.\n",
      "8.\n",
      "9.\n"
     ]
    }
   ],
   "source": [
    "for i in range (1,10):\n",
    "    print (f'{i}.')"
   ]
  },
  {
   "cell_type": "code",
   "execution_count": 25,
   "metadata": {},
   "outputs": [
    {
     "name": "stdout",
     "output_type": "stream",
     "text": [
      "life\n",
      "is\n",
      "immutable\n",
      "the number of e in the sentence 2\n"
     ]
    }
   ],
   "source": [
    "sen = input(\"enter any sentence\")\n",
    "j = sen.split()\n",
    "for word in j:\n",
    "    print(word)\n",
    "c = sen.count('e')\n",
    "print('the number of e in the sentence',c)\n"
   ]
  },
  {
   "cell_type": "code",
   "execution_count": 26,
   "metadata": {},
   "outputs": [
    {
     "name": "stdout",
     "output_type": "stream",
     "text": [
      "31     this is not a good string  \n",
      "25 this is not a good string\n"
     ]
    }
   ],
   "source": [
    "txt = '    this is not a good string  '\n",
    "print (len(txt),txt)\n",
    "clear_txt = txt.strip()\n",
    "print(len(clear_txt),clear_txt)\n"
   ]
  },
  {
   "cell_type": "markdown",
   "metadata": {},
   "source": [
    "# LOOPS "
   ]
  },
  {
   "cell_type": "code",
   "execution_count": 3,
   "metadata": {},
   "outputs": [
    {
     "name": "stdout",
     "output_type": "stream",
     "text": [
      "1\n",
      "2\n",
      "3\n",
      "4\n",
      "5\n",
      "6\n",
      "7\n",
      "8\n",
      "9\n",
      "10\n"
     ]
    }
   ],
   "source": [
    "#wap a program to print number from 1 to 10 using for loop\n",
    "nums = 11\n",
    "for i in range (1,11):\n",
    "    print(i)"
   ]
  },
  {
   "cell_type": "code",
   "execution_count": 2,
   "metadata": {},
   "outputs": [],
   "source": [
    "#WAP  a program to print multiplcation table of a given number using a while loop\n",
    "num = int(input(\"enter the number\"))\n",
    "i = 1\n",
    "while i <= 10:\n",
    "    product = num*i\n",
    "    print(f\"{num} * {i} = {product}\")"
   ]
  },
  {
   "cell_type": "code",
   "execution_count": 2,
   "metadata": {},
   "outputs": [
    {
     "name": "stdout",
     "output_type": "stream",
     "text": [
      "1\n",
      "4\n",
      "9\n",
      "16\n",
      "25\n"
     ]
    }
   ],
   "source": [
    "#wap a program to print a sum of all even number between 1 to 100\n",
    "sum = 0 \n",
    "for i in range (1,10):\n",
    "    if i % 2 == 0:\n",
    "        continue\n",
    "    sum += i\n",
    "    print(sum)"
   ]
  },
  {
   "cell_type": "code",
   "execution_count": 5,
   "metadata": {},
   "outputs": [
    {
     "name": "stdout",
     "output_type": "stream",
     "text": [
      "7 is the prime number \n"
     ]
    }
   ],
   "source": [
    "#prime number\n",
    "num = int(input(\"enter the number\"))\n",
    "if num > 1:\n",
    "    for i  in range (2,(num//2)+1):\n",
    "        if num % i==0:\n",
    "            print (f\"{num} is not the prime number\")\n",
    "            break\n",
    "    else:\n",
    "        print(f\"{num} is the prime number \")\n",
    "else:\n",
    "    print(f\"{num }is not a prime number\")\n"
   ]
  },
  {
   "cell_type": "code",
   "execution_count": null,
   "metadata": {},
   "outputs": [],
   "source": []
  },
  {
   "cell_type": "code",
   "execution_count": null,
   "metadata": {},
   "outputs": [],
   "source": []
  }
 ],
 "metadata": {
  "kernelspec": {
   "display_name": "base",
   "language": "python",
   "name": "python3"
  },
  "language_info": {
   "codemirror_mode": {
    "name": "ipython",
    "version": 3
   },
   "file_extension": ".py",
   "mimetype": "text/x-python",
   "name": "python",
   "nbconvert_exporter": "python",
   "pygments_lexer": "ipython3",
   "version": "3.12.3"
  }
 },
 "nbformat": 4,
 "nbformat_minor": 2
}
