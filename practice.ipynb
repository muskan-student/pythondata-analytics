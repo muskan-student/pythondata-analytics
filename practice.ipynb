{
 "cells": [
  {
   "cell_type": "code",
   "execution_count": null,
   "metadata": {},
   "outputs": [],
   "source": [
    "#creare a string and print it\n",
    "a= \"My favourite movie is Harry Potter\"\n",
    "print(a)\n",
    "print(type(a))\n",
    "print(len(a))"
   ]
  },
  {
   "cell_type": "code",
   "execution_count": null,
   "metadata": {},
   "outputs": [],
   "source": [
    "msg = \"python is great\"\n",
    "print (msg [-5:])"
   ]
  },
  {
   "cell_type": "code",
   "execution_count": null,
   "metadata": {},
   "outputs": [],
   "source": [
    "word = \" Python is everywhere\"\n",
    "print (word[-1])\n",
    "print (word[-2])\n",
    "print (word[-3])\n",
    "print (word[-4])\n",
    "print (word[-5])\n",
    "print (word[-6])\n",
    "print (word[-7])\n",
    "print (word[-8])\n",
    "print (word[-9])\n",
    "print (word[-10])"
   ]
  },
  {
   "cell_type": "code",
   "execution_count": null,
   "metadata": {},
   "outputs": [],
   "source": [
    "b= \"hello world\"\n",
    "print(b[::-1])"
   ]
  },
  {
   "cell_type": "code",
   "execution_count": null,
   "metadata": {},
   "outputs": [],
   "source": [
    "txt= \"how are you?\"\n",
    "print(txt.upper())\n",
    "text = \"How Is It Going?\"\n",
    "print(text.lower())"
   ]
  },
  {
   "cell_type": "code",
   "execution_count": null,
   "metadata": {},
   "outputs": [],
   "source": [
    "p= ['python','is','easy', 'to','learn']\n",
    "print(p)\n",
    "full_p = \"/\".join(p)\n",
    "print(full_p)"
   ]
  },
  {
   "cell_type": "code",
   "execution_count": null,
   "metadata": {},
   "outputs": [],
   "source": [
    "ch = \"\"\"Twinkle Twinkle,  little star,\n",
    "How i wonder , what you are\n",
    "Up above the world so high,\n",
    "like a diamond , in the sky\"\"\"\n",
    "ch.splitlines()\n",
    "\n"
   ]
  },
  {
   "cell_type": "code",
   "execution_count": null,
   "metadata": {},
   "outputs": [],
   "source": [
    "s1=\"python\"\n",
    "s2 = \"is\"\n",
    "s3 = \"great\"\n",
    "result = \" \".join([s1,s2,s3])\n",
    "print(result)\n"
   ]
  },
  {
   "cell_type": "code",
   "execution_count": null,
   "metadata": {},
   "outputs": [],
   "source": [
    "for i in range (1,10):\n",
    "    print (f'{i}.')"
   ]
  },
  {
   "cell_type": "code",
   "execution_count": null,
   "metadata": {},
   "outputs": [],
   "source": [
    "sen = input(\"enter any sentence\")\n",
    "j = sen.split()\n",
    "for word in j:\n",
    "    print(word)\n",
    "c = sen.count('e')\n",
    "print('the number of e in the sentence',c)\n"
   ]
  },
  {
   "cell_type": "code",
   "execution_count": null,
   "metadata": {},
   "outputs": [],
   "source": [
    "txt = '    this is not a good string  '\n",
    "print (len(txt),txt)\n",
    "clear_txt = txt.strip()\n",
    "print(len(clear_txt),clear_txt)\n"
   ]
  },
  {
   "cell_type": "markdown",
   "metadata": {},
   "source": [
    "# LOOPS "
   ]
  },
  {
   "cell_type": "code",
   "execution_count": null,
   "metadata": {},
   "outputs": [],
   "source": [
    "#wap a program to print number from 1 to 10 using for loop\n",
    "nums = 11\n",
    "for i in range (1,11):\n",
    "    print(i)"
   ]
  },
  {
   "cell_type": "code",
   "execution_count": null,
   "metadata": {},
   "outputs": [],
   "source": [
    "#WAP  a program to print multiplcation table of a given number using a while loop\n",
    "num = int(input(\"enter the number\"))\n",
    "i = 1\n",
    "while i <= 10:\n",
    "    product = num*i\n",
    "    print(f\"{num} * {i} = {product}\")"
   ]
  },
  {
   "cell_type": "code",
   "execution_count": null,
   "metadata": {},
   "outputs": [],
   "source": [
    "#wap a program to print a sum of all even number between 1 to 100\n",
    "sum = 0 \n",
    "for i in range (1,10):\n",
    "    if i % 2 == 0:\n",
    "        continue\n",
    "    sum += i\n",
    "    print(sum)"
   ]
  },
  {
   "cell_type": "code",
   "execution_count": null,
   "metadata": {},
   "outputs": [],
   "source": [
    "#prime number\n",
    "num = int(input(\"enter the number\"))\n",
    "if num > 1:\n",
    "    for i  in range (2,(num//2)+1):\n",
    "        if num % i==0:\n",
    "            print (f\"{num} is not the prime number\")\n",
    "            break\n",
    "    else:\n",
    "        print(f\"{num} is the prime number \")\n",
    "else:\n",
    "    print(f\"{num }is not a prime number\")\n"
   ]
  },
  {
   "cell_type": "code",
   "execution_count": null,
   "metadata": {},
   "outputs": [],
   "source": [
    "import numpy as np"
   ]
  },
  {
   "cell_type": "code",
   "execution_count": null,
   "metadata": {},
   "outputs": [],
   "source": [
    "a =np.array([0]*10)\n",
    "print (a)\n",
    "b = np.array([1]*10)\n",
    "print(b)"
   ]
  },
  {
   "cell_type": "code",
   "execution_count": null,
   "metadata": {},
   "outputs": [],
   "source": [
    "z = np.random.randint(0,8,(3,3))\n",
    "print(z)"
   ]
  },
  {
   "cell_type": "code",
   "execution_count": 16,
   "metadata": {},
   "outputs": [
    {
     "name": "stdout",
     "output_type": "stream",
     "text": [
      "[9 8 7 6 5 4 3 2 1 0]\n"
     ]
    }
   ],
   "source": [
    "z= np.array([0,1,2,3,4,5,6,7,8,9])\n",
    "nz = z[::-1]\n",
    "print(nz)"
   ]
  },
  {
   "cell_type": "code",
   "execution_count": 20,
   "metadata": {},
   "outputs": [
    {
     "name": "stdout",
     "output_type": "stream",
     "text": [
      "array = [0, 1, 2, 3, 4, 5, 6, 7, 8, 9]\n",
      "reversed array = [9 8 7 6 5 4 3 2 1 0]\n"
     ]
    }
   ],
   "source": [
    "c = ([0,1,2,3,4,5,6,7,8,9])\n",
    "print(f\"array = {c}\")\n",
    "nc = np.flip(c)\n",
    "print(f\"reversed array = {nc}\")"
   ]
  },
  {
   "cell_type": "code",
   "execution_count": 23,
   "metadata": {},
   "outputs": [
    {
     "name": "stdout",
     "output_type": "stream",
     "text": [
      "reversed array= [[6 5 4]\n",
      " [3 2 1]]\n"
     ]
    }
   ],
   "source": [
    "m = np.array([[1,2,3],[4,5,6]])\n",
    "nm = np.flip(m)\n",
    "print(f\"reversed array= {nm}\")"
   ]
  },
  {
   "cell_type": "code",
   "execution_count": null,
   "metadata": {},
   "outputs": [],
   "source": [
    "num = ([23,56,9,87,12,24,56,90])\n",
    "odd_num = num %2 == 1\n"
   ]
  }
 ],
 "metadata": {
  "kernelspec": {
   "display_name": "base",
   "language": "python",
   "name": "python3"
  },
  "language_info": {
   "codemirror_mode": {
    "name": "ipython",
    "version": 3
   },
   "file_extension": ".py",
   "mimetype": "text/x-python",
   "name": "python",
   "nbconvert_exporter": "python",
   "pygments_lexer": "ipython3",
   "version": "3.12.3"
  }
 },
 "nbformat": 4,
 "nbformat_minor": 2
}
