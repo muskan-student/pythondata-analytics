{
 "cells": [
  {
   "cell_type": "code",
   "execution_count": null,
   "metadata": {},
   "outputs": [],
   "source": [
    "from PIL import Image, ImageFilter, ImageDraw, ImageFont, ImageEnhance"
   ]
  },
  {
   "cell_type": "code",
   "execution_count": null,
   "metadata": {},
   "outputs": [],
   "source": [
    "im1 = Image.open(r'c:\\Users\\PC\\Downloads\\WhatsApp Image 2023-11-21 at 7.59.17 PM (1).jpeg')\n",
    "im1"
   ]
  },
  {
   "cell_type": "markdown",
   "metadata": {},
   "source": [
    "Properties"
   ]
  },
  {
   "cell_type": "code",
   "execution_count": null,
   "metadata": {},
   "outputs": [],
   "source": [
    "print(im1.size)\n",
    "print(im1.width,im1.height)\n",
    "print(im1.mode)\n",
    "print(im1.format)\n"
   ]
  },
  {
   "cell_type": "markdown",
   "metadata": {},
   "source": [
    "Scaling"
   ]
  },
  {
   "cell_type": "code",
   "execution_count": null,
   "metadata": {},
   "outputs": [],
   "source": [
    "im1.resize((600,800))"
   ]
  },
  {
   "cell_type": "code",
   "execution_count": null,
   "metadata": {},
   "outputs": [],
   "source": [
    "w = im1.width \n",
    "h = im1.height\n",
    "im1.resize((w//2,h//2))"
   ]
  },
  {
   "cell_type": "code",
   "execution_count": null,
   "metadata": {},
   "outputs": [],
   "source": [
    "im1.resize((int(w*1.2),int(h*10)))"
   ]
  },
  {
   "cell_type": "code",
   "execution_count": null,
   "metadata": {},
   "outputs": [],
   "source": [
    "im1.resize((w*10,h*10)).size"
   ]
  },
  {
   "cell_type": "code",
   "execution_count": null,
   "metadata": {},
   "outputs": [],
   "source": [
    "im1.rotate(180, expand = True)"
   ]
  },
  {
   "cell_type": "code",
   "execution_count": null,
   "metadata": {},
   "outputs": [],
   "source": [
    "im1.transpose(Image.FLIP_LEFT_RIGHT)"
   ]
  },
  {
   "cell_type": "code",
   "execution_count": null,
   "metadata": {},
   "outputs": [],
   "source": [
    "im2 = im1.resize((600,800))\n",
    "im2"
   ]
  },
  {
   "cell_type": "code",
   "execution_count": null,
   "metadata": {},
   "outputs": [],
   "source": [
    "im2.filter(ImageFilter.EMBOSS)"
   ]
  },
  {
   "cell_type": "code",
   "execution_count": null,
   "metadata": {},
   "outputs": [],
   "source": [
    "im2.filter(ImageFilter.CONTOUR)"
   ]
  },
  {
   "cell_type": "code",
   "execution_count": null,
   "metadata": {},
   "outputs": [],
   "source": [
    "im2.filter(ImageFilter.EDGE_ENHANCE)"
   ]
  },
  {
   "cell_type": "code",
   "execution_count": null,
   "metadata": {},
   "outputs": [],
   "source": [
    "im2.filter(ImageFilter.FIND_EDGES).save('scene.jpeg')"
   ]
  },
  {
   "cell_type": "code",
   "execution_count": null,
   "metadata": {},
   "outputs": [],
   "source": [
    "im2.filter(ImageFilter.GaussianBlur(25))"
   ]
  },
  {
   "cell_type": "code",
   "execution_count": null,
   "metadata": {},
   "outputs": [],
   "source": [
    "en1  = ImageEnhance.Color(im2)\n",
    "for i in range(1,6,-1):\n",
    "    en1.enhnace(i).show()\n",
    "    "
   ]
  },
  {
   "cell_type": "code",
   "execution_count": null,
   "metadata": {},
   "outputs": [],
   "source": [
    "en1.degenerate"
   ]
  },
  {
   "cell_type": "code",
   "execution_count": null,
   "metadata": {},
   "outputs": [],
   "source": [
    "en1 = ImageEnhance.Contrast(im2)\n",
    "en1.enhance(2)"
   ]
  },
  {
   "cell_type": "code",
   "execution_count": null,
   "metadata": {},
   "outputs": [],
   "source": [
    "en1.enhance(-2)"
   ]
  },
  {
   "cell_type": "markdown",
   "metadata": {},
   "source": [
    "Drawing on image"
   ]
  },
  {
   "cell_type": "code",
   "execution_count": null,
   "metadata": {},
   "outputs": [],
   "source": [
    "im1 = Image.open(r'c:\\Users\\PC\\Downloads\\WhatsApp Image 2023-11-21 at 7.59.17 PM (1).jpeg')\n",
    "f1 = ImageFont.truetype('font.ttf',100)\n",
    "f2 = ImageFont.truetype('font.ttf',255)\n",
    "drawim1 = ImageDraw.Draw(im1)\n",
    "drawim1.circle((im1.width))\n",
    "drawim1.text((im1.width//2,100),'MOUNTAIN',fill= 'Green',font = f1,anchor = 'mm')\n",
    "drawim1.text((im1.width//2,200),'Beauiful',\n",
    "             fill = '#ffEE00',font = f2,anchor= 'mm')\n",
    "im1"
   ]
  },
  {
   "cell_type": "markdown",
   "metadata": {},
   "source": [
    "Batch Processing"
   ]
  },
  {
   "cell_type": "code",
   "execution_count": 42,
   "metadata": {},
   "outputs": [
    {
     "name": "stdout",
     "output_type": "stream",
     "text": [
      "bts-jungkook-lotte-family-2.jpg\n",
      "iffeltower.jpg\n",
      "sample-image.png\n",
      "score-June 26, 2024.png\n"
     ]
    }
   ],
   "source": [
    "import os \n",
    "image_list = []\n",
    "for filename in os.listdir('c:/Users/PC/Downloads/'):\n",
    "    if filename.endswith('.jpg') or filename.endswith('.png'):\n",
    "        print(filename)\n",
    "        image_list.append('c:/Users/PC/Downloads' + filename)\n",
    "\n",
    "for path in image_list:\n",
    "    try:\n",
    "        im = Image.open(path)\n",
    "        im = im.convert('L')\n",
    "        draw = ImageDraw.Draw(im)\n",
    "        w, h = im.size\n",
    "        f1 = ImageFont.truetype('font.ttp',100)\n",
    "        draw.text((w//2,h//2),\"Image\",fill = 'white',font = f1, anchor = 'mm')\n",
    "        save_dir = \"image\"\n",
    "        os.makedirs(save_dir,exist_ok = True)\n",
    "        filename= os.path.basename(path)\n",
    "        im.save(f'{save_dir}/{filename}')\n",
    "    except:\n",
    "        pass"
   ]
  },
  {
   "cell_type": "code",
   "execution_count": null,
   "metadata": {},
   "outputs": [],
   "source": []
  }
 ],
 "metadata": {
  "kernelspec": {
   "display_name": "base",
   "language": "python",
   "name": "python3"
  },
  "language_info": {
   "codemirror_mode": {
    "name": "ipython",
    "version": 3
   },
   "file_extension": ".py",
   "mimetype": "text/x-python",
   "name": "python",
   "nbconvert_exporter": "python",
   "pygments_lexer": "ipython3",
   "version": "3.12.3"
  }
 },
 "nbformat": 4,
 "nbformat_minor": 2
}
