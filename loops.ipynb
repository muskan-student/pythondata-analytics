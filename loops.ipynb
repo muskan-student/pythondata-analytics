{
 "cells": [
  {
   "cell_type": "markdown",
   "metadata": {},
   "source": [
    "loops in python\n",
    "- for loops -> step based loop\n",
    "- while loops -> conditions based loops\n",
    "*iterable is any object that has childrn/item to iterabte over *\n",
    "- string\n",
    "- list \n",
    "- tuple\n"
   ]
  },
  {
   "cell_type": "code",
   "execution_count": 3,
   "metadata": {},
   "outputs": [
    {
     "name": "stdout",
     "output_type": "stream",
     "text": [
      "0\n",
      "1\n",
      "2\n",
      "3\n",
      "4\n",
      "5\n",
      "6\n",
      "7\n"
     ]
    }
   ],
   "source": [
    "for i in range(8):\n",
    "    print(i)"
   ]
  },
  {
   "cell_type": "code",
   "execution_count": 5,
   "metadata": {},
   "outputs": [
    {
     "name": "stdout",
     "output_type": "stream",
     "text": [
      "10\n",
      "11\n",
      "12\n",
      "13\n",
      "14\n",
      "15\n",
      "16\n",
      "17\n",
      "18\n",
      "19\n"
     ]
    }
   ],
   "source": [
    "for i in range(10,20):\n",
    "    print(i)"
   ]
  },
  {
   "cell_type": "code",
   "execution_count": 9,
   "metadata": {},
   "outputs": [
    {
     "name": "stdout",
     "output_type": "stream",
     "text": [
      "1 ,3 ,5 ,7 ,9 ,11 ,"
     ]
    }
   ],
   "source": [
    "for i in range(1,12,2):\n",
    "    print(i , end =' ,')\n"
   ]
  },
  {
   "cell_type": "code",
   "execution_count": 11,
   "metadata": {},
   "outputs": [
    {
     "name": "stdout",
     "output_type": "stream",
     "text": [
      "5 ,4 ,3 ,2 ,1 ,0 ,-1 ,-2 ,-3 ,-4 ,-5 ,"
     ]
    }
   ],
   "source": [
    "for i in range(5,-6,-1):\n",
    "    print(i , end =' ,')\n"
   ]
  },
  {
   "cell_type": "code",
   "execution_count": 13,
   "metadata": {},
   "outputs": [
    {
     "name": "stdout",
     "output_type": "stream",
     "text": [
      "=> d\n",
      "=> i\n",
      "=> g\n",
      "=> i\n",
      "=> p\n",
      "=> o\n",
      "=> d\n",
      "=> i\n",
      "=> u\n",
      "=> m\n"
     ]
    }
   ],
   "source": [
    "word = 'digipodium'\n",
    "for char in word :\n",
    "    print(\"=>\" ,char)"
   ]
  },
  {
   "cell_type": "code",
   "execution_count": 16,
   "metadata": {},
   "outputs": [
    {
     "name": "stdout",
     "output_type": "stream",
     "text": [
      "p\n",
      "y\n",
      "t\n",
      "h\n",
      "o\n",
      "n\n"
     ]
    }
   ],
   "source": [
    "data = \" p@_y@!t%h*on\"\n",
    "for i in data :\n",
    "    if i. isalpha():\n",
    "        print(i)"
   ]
  },
  {
   "cell_type": "code",
   "execution_count": 2,
   "metadata": {},
   "outputs": [
    {
     "name": "stdout",
     "output_type": "stream",
     "text": [
      "-4\n",
      "-2\n",
      "0\n",
      "2\n",
      "4\n"
     ]
    }
   ],
   "source": [
    "nums = [-5 ,-4 ,-3,-2,-1,0,1,2,3,4,5]\n",
    "for num in nums:\n",
    "    if num % 2 == 0:\n",
    "        print (num)\n",
    "    "
   ]
  },
  {
   "cell_type": "code",
   "execution_count": 23,
   "metadata": {},
   "outputs": [
    {
     "name": "stdout",
     "output_type": "stream",
     "text": [
      "apple 5\n",
      "banana 6\n",
      "cherry 6\n",
      "dragonfriut 11\n",
      "eggplant 8\n",
      "fig 3\n",
      "guava 5\n",
      "honeydew 8\n",
      "imli 4\n",
      "kiwi 4\n"
     ]
    }
   ],
   "source": [
    "fruits = ['apple','banana', 'cherry','dragonfriut','eggplant','fig','guava','honeydew','imli','kiwi']\n",
    "for fruit in fruits:\n",
    "    print(fruit,len(fruit))"
   ]
  },
  {
   "cell_type": "code",
   "execution_count": 25,
   "metadata": {},
   "outputs": [
    {
     "name": "stdout",
     "output_type": "stream",
     "text": [
      "apple\n",
      "banana\n",
      "cherry\n",
      "dragonfriut\n",
      "eggplant\n",
      "loop completed\n"
     ]
    }
   ],
   "source": [
    "for i in fruits:\n",
    "    if i== 'fig':\n",
    "        break\n",
    "    print(i)\n",
    "print('loop completed')"
   ]
  },
  {
   "cell_type": "code",
   "execution_count": 1,
   "metadata": {},
   "outputs": [
    {
     "name": "stdout",
     "output_type": "stream",
     "text": [
      "212\n"
     ]
    }
   ],
   "source": [
    "nums = [10,30,65,29,-90,78]\n",
    "sum =0 \n",
    "for i in nums :\n",
    "    if i<0:\n",
    "        continue\n",
    "    sum +=i\n",
    "print(sum)"
   ]
  },
  {
   "cell_type": "code",
   "execution_count": 4,
   "metadata": {},
   "outputs": [
    {
     "name": "stdout",
     "output_type": "stream",
     "text": [
      "the sum is 210\n"
     ]
    }
   ],
   "source": [
    "n = int(input(\"enter the number\"))\n",
    "sum = 0\n",
    "i = 1\n",
    "while i <=n:\n",
    "    sum = sum+i\n",
    "    i= i+1\n",
    "print(\"the sum is\" , sum)\n",
    "\n"
   ]
  },
  {
   "cell_type": "code",
   "execution_count": 8,
   "metadata": {},
   "outputs": [
    {
     "name": "stdout",
     "output_type": "stream",
     "text": [
      "1\n",
      "2\n",
      "3\n",
      "4\n",
      "5\n"
     ]
    }
   ],
   "source": [
    "for i in range (1,6):\n",
    "    s= i*i\n",
    "    print(i)\n"
   ]
  },
  {
   "cell_type": "code",
   "execution_count": 2,
   "metadata": {},
   "outputs": [
    {
     "name": "stdout",
     "output_type": "stream",
     "text": [
      "the sum is 348\n"
     ]
    }
   ],
   "source": [
    "num = int(input(\"enter the number\"))\n",
    "total = 0\n",
    "while num != 0:\n",
    "    total +=num\n",
    "    num =int(input(\"enter the number\"))\n",
    "print(\"the sum is\", total)"
   ]
  },
  {
   "cell_type": "code",
   "execution_count": 4,
   "metadata": {},
   "outputs": [
    {
     "name": "stdout",
     "output_type": "stream",
     "text": [
      "0 apple\n",
      "1 banana\n",
      "2 cherry\n",
      "3 dragonfruit\n",
      "4 eggplant\n"
     ]
    }
   ],
   "source": [
    "fruits =['apple','banana','cherry','dragonfruit','eggplant']\n",
    "for i ,v in enumerate (fruits):\n",
    "    print (i,v)"
   ]
  },
  {
   "cell_type": "code",
   "execution_count": 9,
   "metadata": {},
   "outputs": [
    {
     "name": "stdout",
     "output_type": "stream",
     "text": [
      "0 apple\n",
      "2 cherry\n",
      "4 eggplant\n"
     ]
    }
   ],
   "source": [
    "fruits =['apple','banana','cherry','dragonfruit','eggplant']\n",
    "for i ,v in enumerate (fruits):\n",
    "    if i %2 ==0:\n",
    "        print (i,v)"
   ]
  },
  {
   "cell_type": "code",
   "execution_count": 12,
   "metadata": {},
   "outputs": [
    {
     "name": "stdout",
     "output_type": "stream",
     "text": [
      "1 + 6= 7\n",
      "2 + 7= 9\n",
      "3 + 8= 11\n",
      "4 + 9= 13\n",
      "5 + 10= 15\n"
     ]
    }
   ],
   "source": [
    "x= [1,2,3,4,5]\n",
    "y =[6,7,8,9,10]\n",
    "for i,j in zip(x,y):\n",
    "    sum =i+j\n",
    "    print(f'{i} + {j}= {i+j}')"
   ]
  },
  {
   "cell_type": "code",
   "execution_count": 13,
   "metadata": {},
   "outputs": [
    {
     "name": "stdout",
     "output_type": "stream",
     "text": [
      "1+6+12 = 19\n",
      "2+7+13 = 22\n",
      "3+8+14 = 25\n",
      "4+9+15 = 28\n",
      "5+10+16 = 31\n"
     ]
    }
   ],
   "source": [
    "x= [1,2,3,4,5]\n",
    "y =[6,7,8,9,10]\n",
    "z =[12,13,14,15,16]\n",
    "for i,j,k in zip (x,y,z):\n",
    "    print(f'{i}+{j}+{k} = {i+j+k}')\n"
   ]
  },
  {
   "cell_type": "code",
   "execution_count": 20,
   "metadata": {},
   "outputs": [
    {
     "name": "stdout",
     "output_type": "stream",
     "text": [
      "apple     | 100 | 3 |  300\n",
      "banana    | 200 | 2 |  400\n",
      "cherry    | 300 | 5 | 1500\n",
      "______________________________\n",
      "total                  2200\n"
     ]
    }
   ],
   "source": [
    "name = ['apple','banana','cherry']\n",
    "price = [100,200,300]\n",
    "qty = [3,2,5]\n",
    "total = 0\n",
    "for n, p,q in zip (name,price,qty):\n",
    "    print(f'{n:10}|{p:^5}|{q:^3}|{p*q:>5}')\n",
    "    total += p*q\n",
    "print('_'*30)\n",
    "print(f\"total {total:21}\")\n"
   ]
  },
  {
   "cell_type": "code",
   "execution_count": 21,
   "metadata": {},
   "outputs": [
    {
     "name": "stdout",
     "output_type": "stream",
     "text": [
      "0\n",
      "1\n",
      "2\n",
      "3\n",
      "4\n",
      "loop completed successfully\n"
     ]
    }
   ],
   "source": [
    "for i in range (5):\n",
    "    print(i)\n",
    "    if i ==13:\n",
    "        break\n",
    "else:\n",
    "    print(\"loop completed successfully\")"
   ]
  },
  {
   "cell_type": "code",
   "execution_count": 23,
   "metadata": {},
   "outputs": [
    {
     "name": "stdout",
     "output_type": "stream",
     "text": [
      "1\n",
      "2\n",
      "3\n",
      "4\n",
      "loop terminated\n"
     ]
    }
   ],
   "source": [
    "n=int(input(\"enter the stop value\"))\n",
    "for i in range (1,11):\n",
    "    if i == n:\n",
    "        print(\"loop terminated\")\n",
    "        break\n",
    "    print(i)\n",
    "else:\n",
    "    print(\"well done\")\n"
   ]
  },
  {
   "cell_type": "code",
   "execution_count": 33,
   "metadata": {},
   "outputs": [
    {
     "name": "stdout",
     "output_type": "stream",
     "text": [
      "=> 11 % 2 == False\n",
      "=> 11 % 3 == False\n",
      "=> 11 % 4 == False\n",
      "=> 11 % 5 == False\n",
      "=> 11 % 6 == False\n",
      "=> 11 % 7 == False\n",
      "=> 11 % 8 == False\n",
      "=> 11 % 9 == False\n",
      "=> 11 % 10 == False\n",
      " prime number\n"
     ]
    }
   ],
   "source": [
    "#prime number\n",
    "n = int(input(\"enter the number\"))\n",
    "for i in range (2,n):\n",
    "    print(f'=> {n} % {i} == {n%i==0}')\n",
    "    if n%i==0:\n",
    "        print(\"not prime number\")\n",
    "        break\n",
    "else:\n",
    "    print(\" prime number\")\n",
    "\n"
   ]
  },
  {
   "cell_type": "code",
   "execution_count": 34,
   "metadata": {},
   "outputs": [
    {
     "name": "stdout",
     "output_type": "stream",
     "text": [
      "200\n",
      "175\n",
      "150\n",
      "125\n",
      "100\n",
      "75\n",
      "50\n",
      "25\n"
     ]
    }
   ],
   "source": [
    "i= 200\n",
    "while i> 0:\n",
    "    print(i)\n",
    "    i -=25"
   ]
  },
  {
   "cell_type": "code",
   "execution_count": null,
   "metadata": {},
   "outputs": [],
   "source": []
  }
 ],
 "metadata": {
  "kernelspec": {
   "display_name": "base",
   "language": "python",
   "name": "python3"
  },
  "language_info": {
   "codemirror_mode": {
    "name": "ipython",
    "version": 3
   },
   "file_extension": ".py",
   "mimetype": "text/x-python",
   "name": "python",
   "nbconvert_exporter": "python",
   "pygments_lexer": "ipython3",
   "version": "3.12.3"
  }
 },
 "nbformat": 4,
 "nbformat_minor": 2
}
