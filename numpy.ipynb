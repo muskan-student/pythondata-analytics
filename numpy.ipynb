{
 "cells": [
  {
   "cell_type": "code",
   "execution_count": 1,
   "metadata": {},
   "outputs": [],
   "source": [
    "# pip install numpy matplotlib"
   ]
  },
  {
   "cell_type": "code",
   "execution_count": 2,
   "metadata": {},
   "outputs": [],
   "source": [
    "import numpy as np"
   ]
  },
  {
   "cell_type": "markdown",
   "metadata": {},
   "source": [
    "- create\n",
    "- basic operation\n",
    "- math operation\n",
    "- indexing and slicing\n",
    "- boolean filter"
   ]
  },
  {
   "cell_type": "code",
   "execution_count": 3,
   "metadata": {},
   "outputs": [
    {
     "name": "stdout",
     "output_type": "stream",
     "text": [
      "[1 2 3 4 5]\n"
     ]
    }
   ],
   "source": [
    "x = np.array([1,2,3,4,5])\n",
    "print(x)"
   ]
  },
  {
   "cell_type": "code",
   "execution_count": 5,
   "metadata": {},
   "outputs": [
    {
     "name": "stdout",
     "output_type": "stream",
     "text": [
      "[[1 2 3]\n",
      " [4 5 6]]\n",
      "(2, 3)\n"
     ]
    }
   ],
   "source": [
    "a = np.array([[1,2,3],[4,5,6]])\n",
    "print(a)\n",
    "print(a.shape)"
   ]
  },
  {
   "cell_type": "code",
   "execution_count": 7,
   "metadata": {},
   "outputs": [
    {
     "name": "stdout",
     "output_type": "stream",
     "text": [
      "[[0 1 2 3 4 5 6 7 8 9]\n",
      " [0 1 2 3 4 5 6 7 8 9]\n",
      " [0 1 2 3 4 5 6 7 8 9]\n",
      " [0 1 2 3 4 5 6 7 8 9]\n",
      " [0 1 2 3 4 5 6 7 8 9]\n",
      " [0 1 2 3 4 5 6 7 8 9]\n",
      " [0 1 2 3 4 5 6 7 8 9]\n",
      " [0 1 2 3 4 5 6 7 8 9]\n",
      " [0 1 2 3 4 5 6 7 8 9]\n",
      " [0 1 2 3 4 5 6 7 8 9]\n",
      " [0 1 2 3 4 5 6 7 8 9]\n",
      " [0 1 2 3 4 5 6 7 8 9]\n",
      " [0 1 2 3 4 5 6 7 8 9]\n",
      " [0 1 2 3 4 5 6 7 8 9]\n",
      " [0 1 2 3 4 5 6 7 8 9]\n",
      " [0 1 2 3 4 5 6 7 8 9]\n",
      " [0 1 2 3 4 5 6 7 8 9]\n",
      " [0 1 2 3 4 5 6 7 8 9]\n",
      " [0 1 2 3 4 5 6 7 8 9]\n",
      " [0 1 2 3 4 5 6 7 8 9]\n",
      " [0 1 2 3 4 5 6 7 8 9]\n",
      " [0 1 2 3 4 5 6 7 8 9]\n",
      " [0 1 2 3 4 5 6 7 8 9]\n",
      " [0 1 2 3 4 5 6 7 8 9]\n",
      " [0 1 2 3 4 5 6 7 8 9]\n",
      " [0 1 2 3 4 5 6 7 8 9]\n",
      " [0 1 2 3 4 5 6 7 8 9]\n",
      " [0 1 2 3 4 5 6 7 8 9]\n",
      " [0 1 2 3 4 5 6 7 8 9]\n",
      " [0 1 2 3 4 5 6 7 8 9]\n",
      " [0 1 2 3 4 5 6 7 8 9]\n",
      " [0 1 2 3 4 5 6 7 8 9]\n",
      " [0 1 2 3 4 5 6 7 8 9]\n",
      " [0 1 2 3 4 5 6 7 8 9]\n",
      " [0 1 2 3 4 5 6 7 8 9]\n",
      " [0 1 2 3 4 5 6 7 8 9]\n",
      " [0 1 2 3 4 5 6 7 8 9]\n",
      " [0 1 2 3 4 5 6 7 8 9]\n",
      " [0 1 2 3 4 5 6 7 8 9]\n",
      " [0 1 2 3 4 5 6 7 8 9]\n",
      " [0 1 2 3 4 5 6 7 8 9]\n",
      " [0 1 2 3 4 5 6 7 8 9]\n",
      " [0 1 2 3 4 5 6 7 8 9]\n",
      " [0 1 2 3 4 5 6 7 8 9]\n",
      " [0 1 2 3 4 5 6 7 8 9]\n",
      " [0 1 2 3 4 5 6 7 8 9]\n",
      " [0 1 2 3 4 5 6 7 8 9]\n",
      " [0 1 2 3 4 5 6 7 8 9]\n",
      " [0 1 2 3 4 5 6 7 8 9]\n",
      " [0 1 2 3 4 5 6 7 8 9]\n",
      " [0 1 2 3 4 5 6 7 8 9]\n",
      " [0 1 2 3 4 5 6 7 8 9]\n",
      " [0 1 2 3 4 5 6 7 8 9]\n",
      " [0 1 2 3 4 5 6 7 8 9]\n",
      " [0 1 2 3 4 5 6 7 8 9]\n",
      " [0 1 2 3 4 5 6 7 8 9]\n",
      " [0 1 2 3 4 5 6 7 8 9]\n",
      " [0 1 2 3 4 5 6 7 8 9]\n",
      " [0 1 2 3 4 5 6 7 8 9]\n",
      " [0 1 2 3 4 5 6 7 8 9]\n",
      " [0 1 2 3 4 5 6 7 8 9]\n",
      " [0 1 2 3 4 5 6 7 8 9]\n",
      " [0 1 2 3 4 5 6 7 8 9]\n",
      " [0 1 2 3 4 5 6 7 8 9]\n",
      " [0 1 2 3 4 5 6 7 8 9]\n",
      " [0 1 2 3 4 5 6 7 8 9]\n",
      " [0 1 2 3 4 5 6 7 8 9]\n",
      " [0 1 2 3 4 5 6 7 8 9]\n",
      " [0 1 2 3 4 5 6 7 8 9]\n",
      " [0 1 2 3 4 5 6 7 8 9]\n",
      " [0 1 2 3 4 5 6 7 8 9]\n",
      " [0 1 2 3 4 5 6 7 8 9]\n",
      " [0 1 2 3 4 5 6 7 8 9]\n",
      " [0 1 2 3 4 5 6 7 8 9]\n",
      " [0 1 2 3 4 5 6 7 8 9]\n",
      " [0 1 2 3 4 5 6 7 8 9]\n",
      " [0 1 2 3 4 5 6 7 8 9]\n",
      " [0 1 2 3 4 5 6 7 8 9]\n",
      " [0 1 2 3 4 5 6 7 8 9]\n",
      " [0 1 2 3 4 5 6 7 8 9]\n",
      " [0 1 2 3 4 5 6 7 8 9]\n",
      " [0 1 2 3 4 5 6 7 8 9]\n",
      " [0 1 2 3 4 5 6 7 8 9]\n",
      " [0 1 2 3 4 5 6 7 8 9]\n",
      " [0 1 2 3 4 5 6 7 8 9]\n",
      " [0 1 2 3 4 5 6 7 8 9]\n",
      " [0 1 2 3 4 5 6 7 8 9]\n",
      " [0 1 2 3 4 5 6 7 8 9]\n",
      " [0 1 2 3 4 5 6 7 8 9]\n",
      " [0 1 2 3 4 5 6 7 8 9]\n",
      " [0 1 2 3 4 5 6 7 8 9]\n",
      " [0 1 2 3 4 5 6 7 8 9]\n",
      " [0 1 2 3 4 5 6 7 8 9]\n",
      " [0 1 2 3 4 5 6 7 8 9]\n",
      " [0 1 2 3 4 5 6 7 8 9]\n",
      " [0 1 2 3 4 5 6 7 8 9]\n",
      " [0 1 2 3 4 5 6 7 8 9]\n",
      " [0 1 2 3 4 5 6 7 8 9]\n",
      " [0 1 2 3 4 5 6 7 8 9]\n",
      " [0 1 2 3 4 5 6 7 8 9]]\n",
      "(100, 10)\n"
     ]
    }
   ],
   "source": [
    "z = [0,1,2,3,4,5,6,7,8,9]\n",
    "nz = np.array([z]*100)\n",
    "print(nz)\n",
    "print(nz.shape)"
   ]
  },
  {
   "cell_type": "code",
   "execution_count": 8,
   "metadata": {},
   "outputs": [
    {
     "data": {
      "text/plain": [
       "array([[0.09023011, 0.74213986, 0.84811827],\n",
       "       [0.01752986, 0.14632084, 0.76660716],\n",
       "       [0.00478935, 0.37250937, 0.46154389]])"
      ]
     },
     "execution_count": 8,
     "metadata": {},
     "output_type": "execute_result"
    }
   ],
   "source": [
    "np.random.rand(3,3)"
   ]
  },
  {
   "cell_type": "code",
   "execution_count": 10,
   "metadata": {},
   "outputs": [
    {
     "name": "stdout",
     "output_type": "stream",
     "text": [
      "[[ 0 -5  1  5  0]\n",
      " [ 5  4  3  3  4]\n",
      " [-3 -4  4 -3 -3]\n",
      " [-4  5 -1 -2  5]\n",
      " [ 5  3  3 -2 -4]]\n"
     ]
    }
   ],
   "source": [
    "r1 = np.random.randint(-5,6,(5,5))\n",
    "print(r1)"
   ]
  },
  {
   "cell_type": "code",
   "execution_count": 11,
   "metadata": {},
   "outputs": [
    {
     "data": {
      "text/plain": [
       "array([ 0. ,  0.5,  1. ,  1.5,  2. ,  2.5,  3. ,  3.5,  4. ,  4.5,  5. ,\n",
       "        5.5,  6. ,  6.5,  7. ,  7.5,  8. ,  8.5,  9. ,  9.5, 10. , 10.5,\n",
       "       11. , 11.5, 12. , 12.5, 13. , 13.5, 14. , 14.5, 15. , 15.5, 16. ,\n",
       "       16.5, 17. , 17.5, 18. , 18.5, 19. , 19.5, 20. , 20.5, 21. , 21.5,\n",
       "       22. , 22.5, 23. , 23.5, 24. , 24.5, 25. , 25.5, 26. , 26.5, 27. ,\n",
       "       27.5, 28. , 28.5, 29. , 29.5, 30. , 30.5, 31. , 31.5, 32. , 32.5,\n",
       "       33. , 33.5, 34. , 34.5, 35. , 35.5, 36. , 36.5, 37. , 37.5, 38. ,\n",
       "       38.5, 39. , 39.5, 40. , 40.5, 41. , 41.5, 42. , 42.5, 43. , 43.5,\n",
       "       44. , 44.5, 45. , 45.5, 46. , 46.5, 47. , 47.5, 48. , 48.5, 49. ,\n",
       "       49.5])"
      ]
     },
     "execution_count": 11,
     "metadata": {},
     "output_type": "execute_result"
    }
   ],
   "source": [
    "np.arange(0,50, .5)#start stop gap"
   ]
  },
  {
   "cell_type": "code",
   "execution_count": 13,
   "metadata": {},
   "outputs": [
    {
     "data": {
      "text/plain": [
       "array([ 0.        ,  0.50505051,  1.01010101,  1.51515152,  2.02020202,\n",
       "        2.52525253,  3.03030303,  3.53535354,  4.04040404,  4.54545455,\n",
       "        5.05050505,  5.55555556,  6.06060606,  6.56565657,  7.07070707,\n",
       "        7.57575758,  8.08080808,  8.58585859,  9.09090909,  9.5959596 ,\n",
       "       10.1010101 , 10.60606061, 11.11111111, 11.61616162, 12.12121212,\n",
       "       12.62626263, 13.13131313, 13.63636364, 14.14141414, 14.64646465,\n",
       "       15.15151515, 15.65656566, 16.16161616, 16.66666667, 17.17171717,\n",
       "       17.67676768, 18.18181818, 18.68686869, 19.19191919, 19.6969697 ,\n",
       "       20.2020202 , 20.70707071, 21.21212121, 21.71717172, 22.22222222,\n",
       "       22.72727273, 23.23232323, 23.73737374, 24.24242424, 24.74747475,\n",
       "       25.25252525, 25.75757576, 26.26262626, 26.76767677, 27.27272727,\n",
       "       27.77777778, 28.28282828, 28.78787879, 29.29292929, 29.7979798 ,\n",
       "       30.3030303 , 30.80808081, 31.31313131, 31.81818182, 32.32323232,\n",
       "       32.82828283, 33.33333333, 33.83838384, 34.34343434, 34.84848485,\n",
       "       35.35353535, 35.85858586, 36.36363636, 36.86868687, 37.37373737,\n",
       "       37.87878788, 38.38383838, 38.88888889, 39.39393939, 39.8989899 ,\n",
       "       40.4040404 , 40.90909091, 41.41414141, 41.91919192, 42.42424242,\n",
       "       42.92929293, 43.43434343, 43.93939394, 44.44444444, 44.94949495,\n",
       "       45.45454545, 45.95959596, 46.46464646, 46.96969697, 47.47474747,\n",
       "       47.97979798, 48.48484848, 48.98989899, 49.49494949, 50.        ])"
      ]
     },
     "execution_count": 13,
     "metadata": {},
     "output_type": "execute_result"
    }
   ],
   "source": [
    "np.linspace(0,50,100)#number of items"
   ]
  },
  {
   "cell_type": "markdown",
   "metadata": {},
   "source": [
    "array attributes\n",
    "- shape\n",
    "- dtype\n",
    "- ndim\n",
    "- size\n",
    "\n",
    "# basic operation\n",
    "- sum\n",
    "- mean\n",
    "- min\n",
    "- max\n",
    "- std\n",
    "- reshape\n",
    "- transpose\n",
    "- flatten"
   ]
  },
  {
   "cell_type": "code",
   "execution_count": 14,
   "metadata": {},
   "outputs": [
    {
     "data": {
      "text/plain": [
       "dtype('float64')"
      ]
     },
     "execution_count": 14,
     "metadata": {},
     "output_type": "execute_result"
    }
   ],
   "source": [
    "x = np.random.rand(3,3)\n",
    "x.dtype"
   ]
  },
  {
   "cell_type": "code",
   "execution_count": 15,
   "metadata": {},
   "outputs": [
    {
     "data": {
      "text/plain": [
       "2"
      ]
     },
     "execution_count": 15,
     "metadata": {},
     "output_type": "execute_result"
    }
   ],
   "source": [
    "x.ndim"
   ]
  },
  {
   "cell_type": "code",
   "execution_count": 16,
   "metadata": {},
   "outputs": [
    {
     "data": {
      "text/plain": [
       "3"
      ]
     },
     "execution_count": 16,
     "metadata": {},
     "output_type": "execute_result"
    }
   ],
   "source": [
    "z = np.random.randint(1,5,(3,3,3))\n",
    "z.ndim"
   ]
  },
  {
   "cell_type": "code",
   "execution_count": 17,
   "metadata": {},
   "outputs": [
    {
     "data": {
      "text/plain": [
       "27"
      ]
     },
     "execution_count": 17,
     "metadata": {},
     "output_type": "execute_result"
    }
   ],
   "source": [
    "z.size"
   ]
  },
  {
   "cell_type": "code",
   "execution_count": 18,
   "metadata": {},
   "outputs": [
    {
     "data": {
      "text/plain": [
       "np.int64(64)"
      ]
     },
     "execution_count": 18,
     "metadata": {},
     "output_type": "execute_result"
    }
   ],
   "source": [
    "z.sum()"
   ]
  },
  {
   "cell_type": "code",
   "execution_count": 21,
   "metadata": {},
   "outputs": [
    {
     "name": "stdout",
     "output_type": "stream",
     "text": [
      "2.1609033273038496\n",
      "[1.33732178 0.13153037 0.69205118]\n",
      "[1.29191029 0.86899303]\n",
      "0.3601505545506416\n",
      "0.050872427955378274\n",
      "0.7984592560088258\n"
     ]
    }
   ],
   "source": [
    "a = np.random.rand(2,3)\n",
    "print(a.sum())\n",
    "print(a.sum(axis = 0))#row wise\n",
    "print(a.sum(axis = 1))#row wise\n",
    "print(a.mean())\n",
    "print(a.min())\n",
    "print(a.max())\n"
   ]
  },
  {
   "cell_type": "code",
   "execution_count": 27,
   "metadata": {},
   "outputs": [
    {
     "name": "stdout",
     "output_type": "stream",
     "text": [
      "[[82 24 44 74 21]\n",
      " [66 59 44 66 77]\n",
      " [30 26 83 64 98]\n",
      " [67 65 42 31 75]\n",
      " [43 59 70 27 89]]\n",
      "tanspose\n",
      "[[82 66 30 67 43]\n",
      " [24 59 26 65 59]\n",
      " [44 44 83 42 70]\n",
      " [74 66 64 31 27]\n",
      " [21 77 98 75 89]]\n",
      "[[82 66 30 67 43]\n",
      " [24 59 26 65 59]\n",
      " [44 44 83 42 70]\n",
      " [74 66 64 31 27]\n",
      " [21 77 98 75 89]]\n",
      "flattened\n",
      "[82 24 44 74 21 66 59 44 66 77 30 26 83 64 98 67 65 42 31 75 43 59 70 27\n",
      " 89]\n"
     ]
    }
   ],
   "source": [
    "z= np.random.randint(11,99,(5,5))\n",
    "print(z)\n",
    "print('tanspose')\n",
    "print(z.transpose())\n",
    "print(z.T)\n",
    "print('flattened')\n",
    "print(z.flatten())"
   ]
  },
  {
   "cell_type": "code",
   "execution_count": 29,
   "metadata": {},
   "outputs": [
    {
     "name": "stdout",
     "output_type": "stream",
     "text": [
      "[[1 2 6 8 9]\n",
      " [9 6 3 9 4]\n",
      " [6 7 9 7 5]\n",
      " [3 3 4 8 1]]\n",
      "[1 2 6 8 9 9 6 3 9 4 6 7 9 7 5 3 3 4 8 1]\n",
      "[[1 2 6 8]\n",
      " [9 9 6 3]\n",
      " [9 4 6 7]\n",
      " [9 7 5 3]\n",
      " [3 4 8 1]]\n",
      "[[1 2 6 8 9]\n",
      " [9 6 3 9 4]\n",
      " [6 7 9 7 5]\n",
      " [3 3 4 8 1]]\n",
      "[[1 2 6 8 9 9 6 3 9 4]\n",
      " [6 7 9 7 5 3 3 4 8 1]]\n",
      "[[1 2]\n",
      " [6 8]\n",
      " [9 9]\n",
      " [6 3]\n",
      " [9 4]\n",
      " [6 7]\n",
      " [9 7]\n",
      " [5 3]\n",
      " [3 4]\n",
      " [8 1]]\n"
     ]
    }
   ],
   "source": [
    "a = np.random.randint(1,10,(4,5))\n",
    "print(a)\n",
    "print(a.reshape(20))\n",
    "print(a.reshape(5,4))\n",
    "print(a.reshape(4,5))\n",
    "print(a.reshape(2,10))\n",
    "print(a.reshape(10,2))"
   ]
  },
  {
   "cell_type": "code",
   "execution_count": 30,
   "metadata": {},
   "outputs": [
    {
     "name": "stdout",
     "output_type": "stream",
     "text": [
      "[[1 2]\n",
      " [5 7]]\n",
      "[[3 4]\n",
      " [5 7]]\n"
     ]
    }
   ],
   "source": [
    "a = np.array([[1,2],[5,7]])\n",
    "b = np.array([[3,4],[5,7]])\n",
    "print(a)\n",
    "print(b)"
   ]
  },
  {
   "cell_type": "code",
   "execution_count": 31,
   "metadata": {},
   "outputs": [
    {
     "name": "stdout",
     "output_type": "stream",
     "text": [
      "[[ 4  6]\n",
      " [10 14]]\n",
      "[[-2 -2]\n",
      " [ 0  0]]\n",
      "[[0.33333333 0.5       ]\n",
      " [1.         1.        ]]\n",
      "[[13 18]\n",
      " [50 69]]\n",
      "[[13 18]\n",
      " [50 69]]\n"
     ]
    }
   ],
   "source": [
    "print(a +b)\n",
    "print(a - b)\n",
    "print(a / b)\n",
    "print(a @b)\n",
    "print(a.dot(b))\n"
   ]
  },
  {
   "cell_type": "code",
   "execution_count": 32,
   "metadata": {},
   "outputs": [
    {
     "name": "stdout",
     "output_type": "stream",
     "text": [
      "[[-9 -8]\n",
      " [-5 -3]]\n",
      "[[10 20]\n",
      " [50 70]]\n",
      "[[0.1 0.2]\n",
      " [0.5 0.7]]\n",
      "[[11 12]\n",
      " [15 17]]\n"
     ]
    }
   ],
   "source": [
    "# when using matrix and scalar\n",
    "print(a- 10)#broadcasting\n",
    "print(a * 10)\n",
    "print(a / 10)\n",
    "print(a + 10)"
   ]
  },
  {
   "cell_type": "code",
   "execution_count": 33,
   "metadata": {},
   "outputs": [
    {
     "name": "stdout",
     "output_type": "stream",
     "text": [
      "1\n",
      "7\n"
     ]
    }
   ],
   "source": [
    "#indexing \n",
    "print(a[0,0])\n",
    "print(a[-1,-1])"
   ]
  },
  {
   "cell_type": "code",
   "execution_count": 36,
   "metadata": {},
   "outputs": [
    {
     "name": "stdout",
     "output_type": "stream",
     "text": [
      "[[3 9 9 7 9]\n",
      " [4 1 9 2 6]\n",
      " [7 6 7 4 3]\n",
      " [6 4 6 9 7]\n",
      " [2 4 3 6 8]]\n",
      "[3 4 7 6 2]\n",
      "[9 6 3 7 8]\n",
      "[[3 9 9]\n",
      " [4 1 9]\n",
      " [7 6 7]\n",
      " [6 4 6]\n",
      " [2 4 3]]\n"
     ]
    }
   ],
   "source": [
    "# slicing \n",
    "x = np.random.randint(1,10,(5,5))\n",
    "print(x)\n",
    "#syntax of slicing arr[rs:rstop:rgap]\n",
    "print(x[:,0])\n",
    "print(x[:,-1])\n",
    "print(x[:,:3])"
   ]
  },
  {
   "cell_type": "code",
   "execution_count": 40,
   "metadata": {},
   "outputs": [
    {
     "name": "stdout",
     "output_type": "stream",
     "text": [
      "[[1 9 2 6]\n",
      " [6 7 4 3]]\n"
     ]
    }
   ],
   "source": [
    "print(x[1:3,1:5])"
   ]
  },
  {
   "cell_type": "code",
   "execution_count": 3,
   "metadata": {},
   "outputs": [
    {
     "ename": "NameError",
     "evalue": "name 'x' is not defined",
     "output_type": "error",
     "traceback": [
      "\u001b[1;31m---------------------------------------------------------------------------\u001b[0m",
      "\u001b[1;31mNameError\u001b[0m                                 Traceback (most recent call last)",
      "Cell \u001b[1;32mIn[3], line 1\u001b[0m\n\u001b[1;32m----> 1\u001b[0m x[x\u001b[38;5;241m>\u001b[39m\u001b[38;5;241m=\u001b[39m \u001b[38;5;241m50\u001b[39m]\n",
      "\u001b[1;31mNameError\u001b[0m: name 'x' is not defined"
     ]
    }
   ],
   "source": [
    "x[x>= 50]\n"
   ]
  },
  {
   "cell_type": "code",
   "execution_count": 6,
   "metadata": {},
   "outputs": [
    {
     "ename": "TypeError",
     "evalue": "Cannot interpret '100' as a data type",
     "output_type": "error",
     "traceback": [
      "\u001b[1;31m---------------------------------------------------------------------------\u001b[0m",
      "\u001b[1;31mTypeError\u001b[0m                                 Traceback (most recent call last)",
      "Cell \u001b[1;32mIn[6], line 1\u001b[0m\n\u001b[1;32m----> 1\u001b[0m x\u001b[38;5;241m=\u001b[39m np\u001b[38;5;241m.\u001b[39marray(\u001b[38;5;241m0\u001b[39m,\u001b[38;5;241m100\u001b[39m)\n",
      "\u001b[1;31mTypeError\u001b[0m: Cannot interpret '100' as a data type"
     ]
    }
   ],
   "source": [
    "x= np.array(0,100)\n",
    "#x[(x>=25) & (x<=75)]"
   ]
  },
  {
   "cell_type": "code",
   "execution_count": 7,
   "metadata": {},
   "outputs": [
    {
     "data": {
      "text/plain": [
       "array([[1., 0., 0., 0., 0.],\n",
       "       [0., 1., 0., 0., 0.],\n",
       "       [0., 0., 1., 0., 0.],\n",
       "       [0., 0., 0., 1., 0.],\n",
       "       [0., 0., 0., 0., 1.]])"
      ]
     },
     "execution_count": 7,
     "metadata": {},
     "output_type": "execute_result"
    }
   ],
   "source": [
    "np.eye(5)"
   ]
  },
  {
   "cell_type": "code",
   "execution_count": 8,
   "metadata": {},
   "outputs": [
    {
     "data": {
      "text/plain": [
       "array([[1, 0, 0, 0, 0],\n",
       "       [0, 1, 0, 0, 0],\n",
       "       [0, 0, 1, 0, 0],\n",
       "       [0, 0, 0, 1, 0],\n",
       "       [0, 0, 0, 0, 1]])"
      ]
     },
     "execution_count": 8,
     "metadata": {},
     "output_type": "execute_result"
    }
   ],
   "source": [
    "np.eye(5, dtype=int)"
   ]
  },
  {
   "cell_type": "code",
   "execution_count": 9,
   "metadata": {},
   "outputs": [
    {
     "data": {
      "text/plain": [
       "array([[1, 0, 0, 0, 0, 0],\n",
       "       [0, 2, 0, 0, 0, 0],\n",
       "       [0, 0, 3, 0, 0, 0],\n",
       "       [0, 0, 0, 4, 0, 0],\n",
       "       [0, 0, 0, 0, 5, 0],\n",
       "       [0, 0, 0, 0, 0, 6]])"
      ]
     },
     "execution_count": 9,
     "metadata": {},
     "output_type": "execute_result"
    }
   ],
   "source": [
    "np.diag([1,2,3,4,5,6])"
   ]
  },
  {
   "cell_type": "code",
   "execution_count": 10,
   "metadata": {},
   "outputs": [],
   "source": [
    "np.set_printoptions(precision=2)"
   ]
  },
  {
   "cell_type": "code",
   "execution_count": 11,
   "metadata": {},
   "outputs": [
    {
     "data": {
      "text/plain": [
       "array([[1., 1., 1.],\n",
       "       [1., 1., 1.],\n",
       "       [1., 1., 1.]])"
      ]
     },
     "execution_count": 11,
     "metadata": {},
     "output_type": "execute_result"
    }
   ],
   "source": [
    "np.ones((3,3))"
   ]
  },
  {
   "cell_type": "code",
   "execution_count": 12,
   "metadata": {},
   "outputs": [
    {
     "data": {
      "text/plain": [
       "array([[0., 0., 0.],\n",
       "       [0., 0., 0.],\n",
       "       [0., 0., 0.]])"
      ]
     },
     "execution_count": 12,
     "metadata": {},
     "output_type": "execute_result"
    }
   ],
   "source": [
    "np.zeros((3,3))"
   ]
  },
  {
   "cell_type": "code",
   "execution_count": 14,
   "metadata": {},
   "outputs": [
    {
     "data": {
      "text/plain": [
       "array([ 0.84,  0.91,  0.14, -0.76, -0.96, -0.28,  0.66,  0.99,  0.41])"
      ]
     },
     "execution_count": 14,
     "metadata": {},
     "output_type": "execute_result"
    }
   ],
   "source": [
    "x= ([1,2,3,4,5,6,7,8,9])\n",
    "np.sin(x)"
   ]
  },
  {
   "cell_type": "code",
   "execution_count": 16,
   "metadata": {},
   "outputs": [
    {
     "name": "stdout",
     "output_type": "stream",
     "text": [
      "[ 0.54 -0.42 -0.99 -0.65  0.28  0.96  0.75 -0.15 -0.91]\n",
      "[ 1.56 -2.19 -0.14  1.16 -3.38 -0.29  0.87 -6.8  -0.45]\n"
     ]
    }
   ],
   "source": [
    "print(np.cos(x))\n",
    "print(np.tan(x))"
   ]
  },
  {
   "cell_type": "code",
   "execution_count": 18,
   "metadata": {},
   "outputs": [
    {
     "name": "stdout",
     "output_type": "stream",
     "text": [
      "[ 5.44e-01  5.01e-01  4.58e-01  4.13e-01  3.66e-01  3.20e-01  2.72e-01\n",
      "  2.23e-01  1.74e-01  1.25e-01  7.52e-02  2.52e-02 -2.48e-02 -7.47e-02\n",
      " -1.24e-01 -1.74e-01 -2.23e-01 -2.71e-01 -3.19e-01 -3.66e-01 -4.12e-01\n",
      " -4.57e-01 -5.01e-01 -5.44e-01 -5.85e-01 -6.25e-01 -6.63e-01 -7.00e-01\n",
      " -7.34e-01 -7.67e-01 -7.98e-01 -8.28e-01 -8.55e-01 -8.79e-01 -9.02e-01\n",
      " -9.23e-01 -9.41e-01 -9.57e-01 -9.70e-01 -9.81e-01 -9.89e-01 -9.95e-01\n",
      " -9.99e-01 -1.00e+00 -9.99e-01 -9.95e-01 -9.88e-01 -9.79e-01 -9.68e-01\n",
      " -9.54e-01 -9.38e-01 -9.20e-01 -8.99e-01 -8.76e-01 -8.50e-01 -8.23e-01\n",
      " -7.94e-01 -7.62e-01 -7.29e-01 -6.94e-01 -6.57e-01 -6.18e-01 -5.78e-01\n",
      " -5.37e-01 -4.94e-01 -4.50e-01 -4.05e-01 -3.59e-01 -3.12e-01 -2.64e-01\n",
      " -2.15e-01 -1.66e-01 -1.17e-01 -6.68e-02 -1.68e-02  3.32e-02  8.31e-02\n",
      "  1.33e-01  1.82e-01  2.31e-01  2.79e-01  3.27e-01  3.74e-01  4.20e-01\n",
      "  4.65e-01  5.08e-01  5.51e-01  5.92e-01  6.31e-01  6.69e-01  7.06e-01\n",
      "  7.40e-01  7.73e-01  8.04e-01  8.32e-01  8.59e-01  8.83e-01  9.06e-01\n",
      "  9.26e-01  9.44e-01  9.59e-01  9.72e-01  9.82e-01  9.91e-01  9.96e-01\n",
      "  9.99e-01  1.00e+00  9.98e-01  9.94e-01  9.87e-01  9.78e-01  9.66e-01\n",
      "  9.52e-01  9.35e-01  9.16e-01  8.95e-01  8.72e-01  8.46e-01  8.18e-01\n",
      "  7.89e-01  7.57e-01  7.23e-01  6.88e-01  6.51e-01  6.12e-01  5.72e-01\n",
      "  5.30e-01  4.87e-01  4.43e-01  3.97e-01  3.51e-01  3.04e-01  2.56e-01\n",
      "  2.07e-01  1.58e-01  1.08e-01  5.84e-02  8.41e-03 -4.16e-02 -9.15e-02\n",
      " -1.41e-01 -1.90e-01 -2.39e-01 -2.87e-01 -3.35e-01 -3.82e-01 -4.27e-01\n",
      " -4.72e-01 -5.16e-01 -5.58e-01 -5.98e-01 -6.38e-01 -6.75e-01 -7.11e-01\n",
      " -7.46e-01 -7.78e-01 -8.08e-01 -8.37e-01 -8.63e-01 -8.87e-01 -9.09e-01\n",
      " -9.29e-01 -9.46e-01 -9.61e-01 -9.74e-01 -9.84e-01 -9.92e-01 -9.97e-01\n",
      " -1.00e+00 -1.00e+00 -9.97e-01 -9.93e-01 -9.85e-01 -9.76e-01 -9.64e-01\n",
      " -9.49e-01 -9.32e-01 -9.13e-01 -8.91e-01 -8.67e-01 -8.41e-01 -8.13e-01\n",
      " -7.83e-01 -7.51e-01 -7.17e-01 -6.82e-01 -6.44e-01 -6.05e-01 -5.65e-01\n",
      " -5.23e-01 -4.79e-01 -4.35e-01 -3.89e-01 -3.43e-01 -2.96e-01 -2.47e-01\n",
      " -1.99e-01 -1.49e-01 -9.98e-02 -5.00e-02  1.42e-13  5.00e-02  9.98e-02\n",
      "  1.49e-01  1.99e-01  2.47e-01  2.96e-01  3.43e-01  3.89e-01  4.35e-01\n",
      "  4.79e-01  5.23e-01  5.65e-01  6.05e-01  6.44e-01  6.82e-01  7.17e-01\n",
      "  7.51e-01  7.83e-01  8.13e-01  8.41e-01  8.67e-01  8.91e-01  9.13e-01\n",
      "  9.32e-01  9.49e-01  9.64e-01  9.76e-01  9.85e-01  9.93e-01  9.97e-01\n",
      "  1.00e+00  1.00e+00  9.97e-01  9.92e-01  9.84e-01  9.74e-01  9.61e-01\n",
      "  9.46e-01  9.29e-01  9.09e-01  8.87e-01  8.63e-01  8.37e-01  8.08e-01\n",
      "  7.78e-01  7.46e-01  7.11e-01  6.75e-01  6.38e-01  5.98e-01  5.58e-01\n",
      "  5.16e-01  4.72e-01  4.27e-01  3.82e-01  3.35e-01  2.87e-01  2.39e-01\n",
      "  1.90e-01  1.41e-01  9.15e-02  4.16e-02 -8.41e-03 -5.84e-02 -1.08e-01\n",
      " -1.58e-01 -2.07e-01 -2.56e-01 -3.04e-01 -3.51e-01 -3.97e-01 -4.43e-01\n",
      " -4.87e-01 -5.30e-01 -5.72e-01 -6.12e-01 -6.51e-01 -6.88e-01 -7.23e-01\n",
      " -7.57e-01 -7.89e-01 -8.18e-01 -8.46e-01 -8.72e-01 -8.95e-01 -9.16e-01\n",
      " -9.35e-01 -9.52e-01 -9.66e-01 -9.78e-01 -9.87e-01 -9.94e-01 -9.98e-01\n",
      " -1.00e+00 -9.99e-01 -9.96e-01 -9.91e-01 -9.82e-01 -9.72e-01 -9.59e-01\n",
      " -9.44e-01 -9.26e-01 -9.06e-01 -8.83e-01 -8.59e-01 -8.32e-01 -8.04e-01\n",
      " -7.73e-01 -7.40e-01 -7.06e-01 -6.69e-01 -6.31e-01 -5.92e-01 -5.51e-01\n",
      " -5.08e-01 -4.65e-01 -4.20e-01 -3.74e-01 -3.27e-01 -2.79e-01 -2.31e-01\n",
      " -1.82e-01 -1.33e-01 -8.31e-02 -3.32e-02  1.68e-02  6.68e-02  1.17e-01\n",
      "  1.66e-01  2.15e-01  2.64e-01  3.12e-01  3.59e-01  4.05e-01  4.50e-01\n",
      "  4.94e-01  5.37e-01  5.78e-01  6.18e-01  6.57e-01  6.94e-01  7.29e-01\n",
      "  7.62e-01  7.94e-01  8.23e-01  8.50e-01  8.76e-01  8.99e-01  9.20e-01\n",
      "  9.38e-01  9.54e-01  9.68e-01  9.79e-01  9.88e-01  9.95e-01  9.99e-01\n",
      "  1.00e+00  9.99e-01  9.95e-01  9.89e-01  9.81e-01  9.70e-01  9.57e-01\n",
      "  9.41e-01  9.23e-01  9.02e-01  8.79e-01  8.55e-01  8.28e-01  7.98e-01\n",
      "  7.67e-01  7.34e-01  7.00e-01  6.63e-01  6.25e-01  5.85e-01  5.44e-01\n",
      "  5.01e-01  4.57e-01  4.12e-01  3.66e-01  3.19e-01  2.71e-01  2.23e-01\n",
      "  1.74e-01  1.24e-01  7.47e-02  2.48e-02 -2.52e-02 -7.52e-02 -1.25e-01\n",
      " -1.74e-01 -2.23e-01 -2.72e-01 -3.20e-01 -3.66e-01 -4.13e-01 -4.58e-01\n",
      " -5.01e-01]\n",
      "[-0.84 -0.87 -0.89 -0.91 -0.93 -0.95 -0.96 -0.97 -0.98 -0.99 -1.   -1.\n",
      " -1.   -1.   -0.99 -0.98 -0.97 -0.96 -0.95 -0.93 -0.91 -0.89 -0.87 -0.84\n",
      " -0.81 -0.78 -0.75 -0.71 -0.68 -0.64 -0.6  -0.56 -0.52 -0.48 -0.43 -0.39\n",
      " -0.34 -0.29 -0.24 -0.19 -0.15 -0.1  -0.05  0.    0.05  0.1   0.15  0.2\n",
      "  0.25  0.3   0.35  0.39  0.44  0.48  0.53  0.57  0.61  0.65  0.68  0.72\n",
      "  0.75  0.79  0.82  0.84  0.87  0.89  0.91  0.93  0.95  0.96  0.98  0.99\n",
      "  0.99  1.    1.    1.    1.    0.99  0.98  0.97  0.96  0.95  0.93  0.91\n",
      "  0.89  0.86  0.83  0.81  0.78  0.74  0.71  0.67  0.63  0.6   0.55  0.51\n",
      "  0.47  0.42  0.38  0.33  0.28  0.24  0.19  0.14  0.09  0.04 -0.01 -0.06\n",
      " -0.11 -0.16 -0.21 -0.26 -0.31 -0.35 -0.4  -0.45 -0.49 -0.53 -0.57 -0.62\n",
      " -0.65 -0.69 -0.73 -0.76 -0.79 -0.82 -0.85 -0.87 -0.9  -0.92 -0.94 -0.95\n",
      " -0.97 -0.98 -0.99 -0.99 -1.   -1.   -1.   -1.   -0.99 -0.98 -0.97 -0.96\n",
      " -0.94 -0.92 -0.9  -0.88 -0.86 -0.83 -0.8  -0.77 -0.74 -0.7  -0.67 -0.63\n",
      " -0.59 -0.55 -0.5  -0.46 -0.42 -0.37 -0.32 -0.28 -0.23 -0.18 -0.13 -0.08\n",
      " -0.03  0.02  0.07  0.12  0.17  0.22  0.27  0.32  0.36  0.41  0.45  0.5\n",
      "  0.54  0.58  0.62  0.66  0.7   0.73  0.76  0.8   0.83  0.85  0.88  0.9\n",
      "  0.92  0.94  0.96  0.97  0.98  0.99  1.    1.    1.    1.    1.    0.99\n",
      "  0.98  0.97  0.96  0.94  0.92  0.9   0.88  0.85  0.83  0.8   0.76  0.73\n",
      "  0.7   0.66  0.62  0.58  0.54  0.5   0.45  0.41  0.36  0.32  0.27  0.22\n",
      "  0.17  0.12  0.07  0.02 -0.03 -0.08 -0.13 -0.18 -0.23 -0.28 -0.32 -0.37\n",
      " -0.42 -0.46 -0.5  -0.55 -0.59 -0.63 -0.67 -0.7  -0.74 -0.77 -0.8  -0.83\n",
      " -0.86 -0.88 -0.9  -0.92 -0.94 -0.96 -0.97 -0.98 -0.99 -1.   -1.   -1.\n",
      " -1.   -0.99 -0.99 -0.98 -0.97 -0.95 -0.94 -0.92 -0.9  -0.87 -0.85 -0.82\n",
      " -0.79 -0.76 -0.73 -0.69 -0.65 -0.62 -0.57 -0.53 -0.49 -0.45 -0.4  -0.35\n",
      " -0.31 -0.26 -0.21 -0.16 -0.11 -0.06 -0.01  0.04  0.09  0.14  0.19  0.24\n",
      "  0.28  0.33  0.38  0.42  0.47  0.51  0.55  0.6   0.63  0.67  0.71  0.74\n",
      "  0.78  0.81  0.83  0.86  0.89  0.91  0.93  0.95  0.96  0.97  0.98  0.99\n",
      "  1.    1.    1.    1.    0.99  0.99  0.98  0.96  0.95  0.93  0.91  0.89\n",
      "  0.87  0.84  0.82  0.79  0.75  0.72  0.68  0.65  0.61  0.57  0.53  0.48\n",
      "  0.44  0.39  0.35  0.3   0.25  0.2   0.15  0.1   0.05  0.   -0.05 -0.1\n",
      " -0.15 -0.19 -0.24 -0.29 -0.34 -0.39 -0.43 -0.48 -0.52 -0.56 -0.6  -0.64\n",
      " -0.68 -0.71 -0.75 -0.78 -0.81 -0.84 -0.87 -0.89 -0.91 -0.93 -0.95 -0.96\n",
      " -0.97 -0.98 -0.99 -1.   -1.   -1.   -1.   -0.99 -0.98 -0.97 -0.96 -0.95\n",
      " -0.93 -0.91 -0.89 -0.87]\n"
     ]
    }
   ],
   "source": [
    "t= np.arange(-10,10,(0.05))\n",
    "x= np.sin(t)\n",
    "y = np.cos(t)\n",
    "print(x)\n",
    "print(y)"
   ]
  },
  {
   "cell_type": "code",
   "execution_count": 19,
   "metadata": {},
   "outputs": [
    {
     "data": {
      "text/plain": [
       "[<matplotlib.lines.Line2D at 0x1a9f4a95d90>]"
      ]
     },
     "execution_count": 19,
     "metadata": {},
     "output_type": "execute_result"
    },
    {
     "data": {
      "image/png": "[encoded data removed]",
      "text/plain": [
       "<Figure size 640x480 with 1 Axes>"
      ]
     },
     "metadata": {},
     "output_type": "display_data"
    }
   ],
   "source": [
    "import matplotlib.pyplot as plt\n",
    "plt.plot(t,x)\n",
    "plt.plot(t,y)"
   ]
  },
  {
   "cell_type": "markdown",
   "metadata": {},
   "source": [
    "# visualization"
   ]
  },
  {
   "cell_type": "code",
   "execution_count": 55,
   "metadata": {},
   "outputs": [
    {
     "data": {
      "text/plain": [
       "<matplotlib.patches.Rectangle at 0x1a9fc5e3170>"
      ]
     },
     "execution_count": 55,
     "metadata": {},
     "output_type": "execute_result"
    },
    {
     "data": {
      "image/png": "[encoded data removed]",
      "text/plain": [
       "<Figure size 640x480 with 1 Axes>"
      ]
     },
     "metadata": {},
     "output_type": "display_data"
    }
   ],
   "source": [
    "fig ,ax = plt.subplots()\n",
    "fig.set_facecolor('#ffff77')\n",
    "ax.set_facecolor('#ffffdd')\n",
    "#plt.xlabel('time')\n",
    "ax.set_xlabel('time')\n",
    "ax.set_ylabel('amplitude')\n",
    "ax.set_title('sine wave')\n",
    "x = [1,2,3,4,5,6,7,8,9,10]\n",
    "y = [23,56,67,34,12,56,23,56,78,23]\n",
    "\n",
    "ax.plot(x,y ,linewidth = 2,markersize=7,markerfacecolor= 'red',markeredgecolor='blue',\n",
    "        markeredgewidth=3,color ='green',marker ='h',linestyle=':',alpha =.8)\n",
    "#horizontal line\n",
    "ax.axhline(50,linewidth= 1,color='k')\n",
    "ax.axvline(3,linewidth= 1,color='k')\n",
    "ax.text(3.2,51.6,'crossing point')\n",
    "ax.text(3.2,47,'below threshold')\n",
    "#rectangle box\n",
    "ax.axvspan(3,6,color= 'red',alpha=.1)\n",
    "ax.axhspan(40,60,color='green',alpha=.2)\n"
   ]
  },
  {
   "cell_type": "code",
   "execution_count": 65,
   "metadata": {},
   "outputs": [
    {
     "data": {
      "text/plain": [
       "Text(0.5, 1.0, 'Scatter Plot')"
      ]
     },
     "execution_count": 65,
     "metadata": {},
     "output_type": "execute_result"
    },
    {
     "data": {
      "image/png": "[encoded data removed]",
      "text/plain": [
       "<Figure size 1000x500 with 2 Axes>"
      ]
     },
     "metadata": {},
     "output_type": "display_data"
    }
   ],
   "source": [
    "fig,(ax1,ax2) = plt.subplots(1,2,figsize=(10,5))#1 row 2 column\n",
    "x= np.arange(1,101)\n",
    "y= np.random.uniform(1,10,100)\n",
    "ax1.plot(x,y)\n",
    "ax2.scatter(x,y,s=100,c='orange',alpha=1)\n",
    "ax1.set_title('Line Plot')\n",
    "ax1.set_title('Scatter Plot')"
   ]
  },
  {
   "cell_type": "code",
   "execution_count": null,
   "metadata": {},
   "outputs": [],
   "source": []
  }
 ],
 "metadata": {
  "kernelspec": {
   "display_name": "base",
   "language": "python",
   "name": "python3"
  },
  "language_info": {
   "codemirror_mode": {
    "name": "ipython",
    "version": 3
   },
   "file_extension": ".py",
   "mimetype": "text/x-python",
   "name": "python",
   "nbconvert_exporter": "python",
   "pygments_lexer": "ipython3",
   "version": "3.12.3"
  }
 },
 "nbformat": 4,
 "nbformat_minor": 2
}
