{
 "cells": [
  {
   "cell_type": "code",
   "execution_count": 1,
   "metadata": {},
   "outputs": [],
   "source": [
    "# pip install numpy matplotlib"
   ]
  },
  {
   "cell_type": "code",
   "execution_count": 2,
   "metadata": {},
   "outputs": [],
   "source": [
    "import numpy as np"
   ]
  },
  {
   "cell_type": "markdown",
   "metadata": {},
   "source": [
    "- create\n",
    "- basic operation\n",
    "- math operation\n",
    "- indexing and slicing\n",
    "- boolean filter"
   ]
  },
  {
   "cell_type": "code",
   "execution_count": 3,
   "metadata": {},
   "outputs": [
    {
     "name": "stdout",
     "output_type": "stream",
     "text": [
      "[1 2 3 4 5]\n"
     ]
    }
   ],
   "source": [
    "x = np.array([1,2,3,4,5])\n",
    "print(x)"
   ]
  },
  {
   "cell_type": "code",
   "execution_count": 5,
   "metadata": {},
   "outputs": [
    {
     "name": "stdout",
     "output_type": "stream",
     "text": [
      "[[1 2 3]\n",
      " [4 5 6]]\n",
      "(2, 3)\n"
     ]
    }
   ],
   "source": [
    "a = np.array([[1,2,3],[4,5,6]])\n",
    "print(a)\n",
    "print(a.shape)"
   ]
  },
  {
   "cell_type": "code",
   "execution_count": 7,
   "metadata": {},
   "outputs": [
    {
     "name": "stdout",
     "output_type": "stream",
     "text": [
      "[[0 1 2 3 4 5 6 7 8 9]\n",
      " [0 1 2 3 4 5 6 7 8 9]\n",
      " [0 1 2 3 4 5 6 7 8 9]\n",
      " [0 1 2 3 4 5 6 7 8 9]\n",
      " [0 1 2 3 4 5 6 7 8 9]\n",
      " [0 1 2 3 4 5 6 7 8 9]\n",
      " [0 1 2 3 4 5 6 7 8 9]\n",
      " [0 1 2 3 4 5 6 7 8 9]\n",
      " [0 1 2 3 4 5 6 7 8 9]\n",
      " [0 1 2 3 4 5 6 7 8 9]\n",
      " [0 1 2 3 4 5 6 7 8 9]\n",
      " [0 1 2 3 4 5 6 7 8 9]\n",
      " [0 1 2 3 4 5 6 7 8 9]\n",
      " [0 1 2 3 4 5 6 7 8 9]\n",
      " [0 1 2 3 4 5 6 7 8 9]\n",
      " [0 1 2 3 4 5 6 7 8 9]\n",
      " [0 1 2 3 4 5 6 7 8 9]\n",
      " [0 1 2 3 4 5 6 7 8 9]\n",
      " [0 1 2 3 4 5 6 7 8 9]\n",
      " [0 1 2 3 4 5 6 7 8 9]\n",
      " [0 1 2 3 4 5 6 7 8 9]\n",
      " [0 1 2 3 4 5 6 7 8 9]\n",
      " [0 1 2 3 4 5 6 7 8 9]\n",
      " [0 1 2 3 4 5 6 7 8 9]\n",
      " [0 1 2 3 4 5 6 7 8 9]\n",
      " [0 1 2 3 4 5 6 7 8 9]\n",
      " [0 1 2 3 4 5 6 7 8 9]\n",
      " [0 1 2 3 4 5 6 7 8 9]\n",
      " [0 1 2 3 4 5 6 7 8 9]\n",
      " [0 1 2 3 4 5 6 7 8 9]\n",
      " [0 1 2 3 4 5 6 7 8 9]\n",
      " [0 1 2 3 4 5 6 7 8 9]\n",
      " [0 1 2 3 4 5 6 7 8 9]\n",
      " [0 1 2 3 4 5 6 7 8 9]\n",
      " [0 1 2 3 4 5 6 7 8 9]\n",
      " [0 1 2 3 4 5 6 7 8 9]\n",
      " [0 1 2 3 4 5 6 7 8 9]\n",
      " [0 1 2 3 4 5 6 7 8 9]\n",
      " [0 1 2 3 4 5 6 7 8 9]\n",
      " [0 1 2 3 4 5 6 7 8 9]\n",
      " [0 1 2 3 4 5 6 7 8 9]\n",
      " [0 1 2 3 4 5 6 7 8 9]\n",
      " [0 1 2 3 4 5 6 7 8 9]\n",
      " [0 1 2 3 4 5 6 7 8 9]\n",
      " [0 1 2 3 4 5 6 7 8 9]\n",
      " [0 1 2 3 4 5 6 7 8 9]\n",
      " [0 1 2 3 4 5 6 7 8 9]\n",
      " [0 1 2 3 4 5 6 7 8 9]\n",
      " [0 1 2 3 4 5 6 7 8 9]\n",
      " [0 1 2 3 4 5 6 7 8 9]\n",
      " [0 1 2 3 4 5 6 7 8 9]\n",
      " [0 1 2 3 4 5 6 7 8 9]\n",
      " [0 1 2 3 4 5 6 7 8 9]\n",
      " [0 1 2 3 4 5 6 7 8 9]\n",
      " [0 1 2 3 4 5 6 7 8 9]\n",
      " [0 1 2 3 4 5 6 7 8 9]\n",
      " [0 1 2 3 4 5 6 7 8 9]\n",
      " [0 1 2 3 4 5 6 7 8 9]\n",
      " [0 1 2 3 4 5 6 7 8 9]\n",
      " [0 1 2 3 4 5 6 7 8 9]\n",
      " [0 1 2 3 4 5 6 7 8 9]\n",
      " [0 1 2 3 4 5 6 7 8 9]\n",
      " [0 1 2 3 4 5 6 7 8 9]\n",
      " [0 1 2 3 4 5 6 7 8 9]\n",
      " [0 1 2 3 4 5 6 7 8 9]\n",
      " [0 1 2 3 4 5 6 7 8 9]\n",
      " [0 1 2 3 4 5 6 7 8 9]\n",
      " [0 1 2 3 4 5 6 7 8 9]\n",
      " [0 1 2 3 4 5 6 7 8 9]\n",
      " [0 1 2 3 4 5 6 7 8 9]\n",
      " [0 1 2 3 4 5 6 7 8 9]\n",
      " [0 1 2 3 4 5 6 7 8 9]\n",
      " [0 1 2 3 4 5 6 7 8 9]\n",
      " [0 1 2 3 4 5 6 7 8 9]\n",
      " [0 1 2 3 4 5 6 7 8 9]\n",
      " [0 1 2 3 4 5 6 7 8 9]\n",
      " [0 1 2 3 4 5 6 7 8 9]\n",
      " [0 1 2 3 4 5 6 7 8 9]\n",
      " [0 1 2 3 4 5 6 7 8 9]\n",
      " [0 1 2 3 4 5 6 7 8 9]\n",
      " [0 1 2 3 4 5 6 7 8 9]\n",
      " [0 1 2 3 4 5 6 7 8 9]\n",
      " [0 1 2 3 4 5 6 7 8 9]\n",
      " [0 1 2 3 4 5 6 7 8 9]\n",
      " [0 1 2 3 4 5 6 7 8 9]\n",
      " [0 1 2 3 4 5 6 7 8 9]\n",
      " [0 1 2 3 4 5 6 7 8 9]\n",
      " [0 1 2 3 4 5 6 7 8 9]\n",
      " [0 1 2 3 4 5 6 7 8 9]\n",
      " [0 1 2 3 4 5 6 7 8 9]\n",
      " [0 1 2 3 4 5 6 7 8 9]\n",
      " [0 1 2 3 4 5 6 7 8 9]\n",
      " [0 1 2 3 4 5 6 7 8 9]\n",
      " [0 1 2 3 4 5 6 7 8 9]\n",
      " [0 1 2 3 4 5 6 7 8 9]\n",
      " [0 1 2 3 4 5 6 7 8 9]\n",
      " [0 1 2 3 4 5 6 7 8 9]\n",
      " [0 1 2 3 4 5 6 7 8 9]\n",
      " [0 1 2 3 4 5 6 7 8 9]\n",
      " [0 1 2 3 4 5 6 7 8 9]]\n",
      "(100, 10)\n"
     ]
    }
   ],
   "source": [
    "z = [0,1,2,3,4,5,6,7,8,9]\n",
    "nz = np.array([z]*100)\n",
    "print(nz)\n",
    "print(nz.shape)"
   ]
  },
  {
   "cell_type": "code",
   "execution_count": 8,
   "metadata": {},
   "outputs": [
    {
     "data": {
      "text/plain": [
       "array([[0.09023011, 0.74213986, 0.84811827],\n",
       "       [0.01752986, 0.14632084, 0.76660716],\n",
       "       [0.00478935, 0.37250937, 0.46154389]])"
      ]
     },
     "execution_count": 8,
     "metadata": {},
     "output_type": "execute_result"
    }
   ],
   "source": [
    "np.random.rand(3,3)"
   ]
  },
  {
   "cell_type": "code",
   "execution_count": 10,
   "metadata": {},
   "outputs": [
    {
     "name": "stdout",
     "output_type": "stream",
     "text": [
      "[[ 0 -5  1  5  0]\n",
      " [ 5  4  3  3  4]\n",
      " [-3 -4  4 -3 -3]\n",
      " [-4  5 -1 -2  5]\n",
      " [ 5  3  3 -2 -4]]\n"
     ]
    }
   ],
   "source": [
    "r1 = np.random.randint(-5,6,(5,5))\n",
    "print(r1)"
   ]
  },
  {
   "cell_type": "code",
   "execution_count": 11,
   "metadata": {},
   "outputs": [
    {
     "data": {
      "text/plain": [
       "array([ 0. ,  0.5,  1. ,  1.5,  2. ,  2.5,  3. ,  3.5,  4. ,  4.5,  5. ,\n",
       "        5.5,  6. ,  6.5,  7. ,  7.5,  8. ,  8.5,  9. ,  9.5, 10. , 10.5,\n",
       "       11. , 11.5, 12. , 12.5, 13. , 13.5, 14. , 14.5, 15. , 15.5, 16. ,\n",
       "       16.5, 17. , 17.5, 18. , 18.5, 19. , 19.5, 20. , 20.5, 21. , 21.5,\n",
       "       22. , 22.5, 23. , 23.5, 24. , 24.5, 25. , 25.5, 26. , 26.5, 27. ,\n",
       "       27.5, 28. , 28.5, 29. , 29.5, 30. , 30.5, 31. , 31.5, 32. , 32.5,\n",
       "       33. , 33.5, 34. , 34.5, 35. , 35.5, 36. , 36.5, 37. , 37.5, 38. ,\n",
       "       38.5, 39. , 39.5, 40. , 40.5, 41. , 41.5, 42. , 42.5, 43. , 43.5,\n",
       "       44. , 44.5, 45. , 45.5, 46. , 46.5, 47. , 47.5, 48. , 48.5, 49. ,\n",
       "       49.5])"
      ]
     },
     "execution_count": 11,
     "metadata": {},
     "output_type": "execute_result"
    }
   ],
   "source": [
    "np.arange(0,50, .5)#start stop gap"
   ]
  },
  {
   "cell_type": "code",
   "execution_count": 13,
   "metadata": {},
   "outputs": [
    {
     "data": {
      "text/plain": [
       "array([ 0.        ,  0.50505051,  1.01010101,  1.51515152,  2.02020202,\n",
       "        2.52525253,  3.03030303,  3.53535354,  4.04040404,  4.54545455,\n",
       "        5.05050505,  5.55555556,  6.06060606,  6.56565657,  7.07070707,\n",
       "        7.57575758,  8.08080808,  8.58585859,  9.09090909,  9.5959596 ,\n",
       "       10.1010101 , 10.60606061, 11.11111111, 11.61616162, 12.12121212,\n",
       "       12.62626263, 13.13131313, 13.63636364, 14.14141414, 14.64646465,\n",
       "       15.15151515, 15.65656566, 16.16161616, 16.66666667, 17.17171717,\n",
       "       17.67676768, 18.18181818, 18.68686869, 19.19191919, 19.6969697 ,\n",
       "       20.2020202 , 20.70707071, 21.21212121, 21.71717172, 22.22222222,\n",
       "       22.72727273, 23.23232323, 23.73737374, 24.24242424, 24.74747475,\n",
       "       25.25252525, 25.75757576, 26.26262626, 26.76767677, 27.27272727,\n",
       "       27.77777778, 28.28282828, 28.78787879, 29.29292929, 29.7979798 ,\n",
       "       30.3030303 , 30.80808081, 31.31313131, 31.81818182, 32.32323232,\n",
       "       32.82828283, 33.33333333, 33.83838384, 34.34343434, 34.84848485,\n",
       "       35.35353535, 35.85858586, 36.36363636, 36.86868687, 37.37373737,\n",
       "       37.87878788, 38.38383838, 38.88888889, 39.39393939, 39.8989899 ,\n",
       "       40.4040404 , 40.90909091, 41.41414141, 41.91919192, 42.42424242,\n",
       "       42.92929293, 43.43434343, 43.93939394, 44.44444444, 44.94949495,\n",
       "       45.45454545, 45.95959596, 46.46464646, 46.96969697, 47.47474747,\n",
       "       47.97979798, 48.48484848, 48.98989899, 49.49494949, 50.        ])"
      ]
     },
     "execution_count": 13,
     "metadata": {},
     "output_type": "execute_result"
    }
   ],
   "source": [
    "np.linspace(0,50,100)#number of items"
   ]
  },
  {
   "cell_type": "markdown",
   "metadata": {},
   "source": [
    "array attributes\n",
    "- shape\n",
    "- dtype\n",
    "- ndim\n",
    "- size\n",
    "\n",
    "# basic operation\n",
    "- sum\n",
    "- mean\n",
    "- min\n",
    "- max\n",
    "- std\n",
    "- reshape\n",
    "- transpose\n",
    "- flatten"
   ]
  },
  {
   "cell_type": "code",
   "execution_count": 4,
   "metadata": {},
   "outputs": [
    {
     "name": "stdout",
     "output_type": "stream",
     "text": [
      "[[0.31601767 0.30788925 0.40968543]\n",
      " [0.34360546 0.84160045 0.29566557]\n",
      " [0.91739008 0.70252964 0.5459582 ]]\n"
     ]
    },
    {
     "data": {
      "text/plain": [
       "dtype('float64')"
      ]
     },
     "execution_count": 4,
     "metadata": {},
     "output_type": "execute_result"
    }
   ],
   "source": [
    "x = np.random.rand(3,3)\n",
    "print(x)\n",
    "x.dtype"
   ]
  },
  {
   "cell_type": "code",
   "execution_count": 15,
   "metadata": {},
   "outputs": [
    {
     "data": {
      "text/plain": [
       "2"
      ]
     },
     "execution_count": 15,
     "metadata": {},
     "output_type": "execute_result"
    }
   ],
   "source": [
    "x.ndim"
   ]
  },
  {
   "cell_type": "code",
   "execution_count": 6,
   "metadata": {},
   "outputs": [
    {
     "name": "stdout",
     "output_type": "stream",
     "text": [
      "[[[1 4 2]\n",
      "  [1 2 2]\n",
      "  [1 3 4]]\n",
      "\n",
      " [[4 1 3]\n",
      "  [1 4 2]\n",
      "  [1 3 2]]\n",
      "\n",
      " [[3 3 3]\n",
      "  [1 4 4]\n",
      "  [3 4 3]]]\n"
     ]
    },
    {
     "data": {
      "text/plain": [
       "3"
      ]
     },
     "execution_count": 6,
     "metadata": {},
     "output_type": "execute_result"
    }
   ],
   "source": [
    "z = np.random.randint(1,5,(3,3,3))\n",
    "print(z)\n",
    "z.ndim #no of dimensions"
   ]
  },
  {
   "cell_type": "code",
   "execution_count": 17,
   "metadata": {},
   "outputs": [
    {
     "data": {
      "text/plain": [
       "27"
      ]
     },
     "execution_count": 17,
     "metadata": {},
     "output_type": "execute_result"
    }
   ],
   "source": [
    "z.size#no of elements in materix"
   ]
  },
  {
   "cell_type": "code",
   "execution_count": 18,
   "metadata": {},
   "outputs": [
    {
     "data": {
      "text/plain": [
       "np.int64(64)"
      ]
     },
     "execution_count": 18,
     "metadata": {},
     "output_type": "execute_result"
    }
   ],
   "source": [
    "z.sum()"
   ]
  },
  {
   "cell_type": "code",
   "execution_count": 21,
   "metadata": {},
   "outputs": [
    {
     "name": "stdout",
     "output_type": "stream",
     "text": [
      "2.1609033273038496\n",
      "[1.33732178 0.13153037 0.69205118]\n",
      "[1.29191029 0.86899303]\n",
      "0.3601505545506416\n",
      "0.050872427955378274\n",
      "0.7984592560088258\n"
     ]
    }
   ],
   "source": [
    "a = np.random.rand(2,3)\n",
    "print(a.sum())\n",
    "print(a.sum(axis = 0))#row wise\n",
    "print(a.sum(axis = 1))#row wise\n",
    "print(a.mean())\n",
    "print(a.min())\n",
    "print(a.max())\n"
   ]
  },
  {
   "cell_type": "code",
   "execution_count": 27,
   "metadata": {},
   "outputs": [
    {
     "name": "stdout",
     "output_type": "stream",
     "text": [
      "[[82 24 44 74 21]\n",
      " [66 59 44 66 77]\n",
      " [30 26 83 64 98]\n",
      " [67 65 42 31 75]\n",
      " [43 59 70 27 89]]\n",
      "tanspose\n",
      "[[82 66 30 67 43]\n",
      " [24 59 26 65 59]\n",
      " [44 44 83 42 70]\n",
      " [74 66 64 31 27]\n",
      " [21 77 98 75 89]]\n",
      "[[82 66 30 67 43]\n",
      " [24 59 26 65 59]\n",
      " [44 44 83 42 70]\n",
      " [74 66 64 31 27]\n",
      " [21 77 98 75 89]]\n",
      "flattened\n",
      "[82 24 44 74 21 66 59 44 66 77 30 26 83 64 98 67 65 42 31 75 43 59 70 27\n",
      " 89]\n"
     ]
    }
   ],
   "source": [
    "z= np.random.randint(11,99,(5,5))\n",
    "print(z)\n",
    "print('tanspose')\n",
    "print(z.transpose())\n",
    "print(z.T)\n",
    "print('flattened')\n",
    "print(z.flatten())"
   ]
  },
  {
   "cell_type": "code",
   "execution_count": 29,
   "metadata": {},
   "outputs": [
    {
     "name": "stdout",
     "output_type": "stream",
     "text": [
      "[[1 2 6 8 9]\n",
      " [9 6 3 9 4]\n",
      " [6 7 9 7 5]\n",
      " [3 3 4 8 1]]\n",
      "[1 2 6 8 9 9 6 3 9 4 6 7 9 7 5 3 3 4 8 1]\n",
      "[[1 2 6 8]\n",
      " [9 9 6 3]\n",
      " [9 4 6 7]\n",
      " [9 7 5 3]\n",
      " [3 4 8 1]]\n",
      "[[1 2 6 8 9]\n",
      " [9 6 3 9 4]\n",
      " [6 7 9 7 5]\n",
      " [3 3 4 8 1]]\n",
      "[[1 2 6 8 9 9 6 3 9 4]\n",
      " [6 7 9 7 5 3 3 4 8 1]]\n",
      "[[1 2]\n",
      " [6 8]\n",
      " [9 9]\n",
      " [6 3]\n",
      " [9 4]\n",
      " [6 7]\n",
      " [9 7]\n",
      " [5 3]\n",
      " [3 4]\n",
      " [8 1]]\n"
     ]
    }
   ],
   "source": [
    "a = np.random.randint(1,10,(4,5))\n",
    "print(a)\n",
    "print(a.reshape(20))\n",
    "print(a.reshape(5,4))\n",
    "print(a.reshape(4,5))\n",
    "print(a.reshape(2,10))\n",
    "print(a.reshape(10,2))"
   ]
  },
  {
   "cell_type": "code",
   "execution_count": 30,
   "metadata": {},
   "outputs": [
    {
     "name": "stdout",
     "output_type": "stream",
     "text": [
      "[[1 2]\n",
      " [5 7]]\n",
      "[[3 4]\n",
      " [5 7]]\n"
     ]
    }
   ],
   "source": [
    "a = np.array([[1,2],[5,7]])\n",
    "b = np.array([[3,4],[5,7]])\n",
    "print(a)\n",
    "print(b)"
   ]
  },
  {
   "cell_type": "code",
   "execution_count": 31,
   "metadata": {},
   "outputs": [
    {
     "name": "stdout",
     "output_type": "stream",
     "text": [
      "[[ 4  6]\n",
      " [10 14]]\n",
      "[[-2 -2]\n",
      " [ 0  0]]\n",
      "[[0.33333333 0.5       ]\n",
      " [1.         1.        ]]\n",
      "[[13 18]\n",
      " [50 69]]\n",
      "[[13 18]\n",
      " [50 69]]\n"
     ]
    }
   ],
   "source": [
    "print(a +b)\n",
    "print(a - b)\n",
    "print(a / b)\n",
    "print(a @b)\n",
    "print(a.dot(b))\n"
   ]
  },
  {
   "cell_type": "code",
   "execution_count": 32,
   "metadata": {},
   "outputs": [
    {
     "name": "stdout",
     "output_type": "stream",
     "text": [
      "[[-9 -8]\n",
      " [-5 -3]]\n",
      "[[10 20]\n",
      " [50 70]]\n",
      "[[0.1 0.2]\n",
      " [0.5 0.7]]\n",
      "[[11 12]\n",
      " [15 17]]\n"
     ]
    }
   ],
   "source": [
    "# when using matrix and scalar\n",
    "print(a- 10)#broadcasting\n",
    "print(a * 10)\n",
    "print(a / 10)\n",
    "print(a + 10)"
   ]
  },
  {
   "cell_type": "code",
   "execution_count": 33,
   "metadata": {},
   "outputs": [
    {
     "name": "stdout",
     "output_type": "stream",
     "text": [
      "1\n",
      "7\n"
     ]
    }
   ],
   "source": [
    "#indexing \n",
    "print(a[0,0])\n",
    "print(a[-1,-1])"
   ]
  },
  {
   "cell_type": "code",
   "execution_count": 36,
   "metadata": {},
   "outputs": [
    {
     "name": "stdout",
     "output_type": "stream",
     "text": [
      "[[3 9 9 7 9]\n",
      " [4 1 9 2 6]\n",
      " [7 6 7 4 3]\n",
      " [6 4 6 9 7]\n",
      " [2 4 3 6 8]]\n",
      "[3 4 7 6 2]\n",
      "[9 6 3 7 8]\n",
      "[[3 9 9]\n",
      " [4 1 9]\n",
      " [7 6 7]\n",
      " [6 4 6]\n",
      " [2 4 3]]\n"
     ]
    }
   ],
   "source": [
    "# slicing \n",
    "x = np.random.randint(1,10,(5,5))\n",
    "print(x)\n",
    "#syntax of slicing arr[rs:rstop:rgap]\n",
    "print(x[:,0])\n",
    "print(x[:,-1])\n",
    "print(x[:,:3])"
   ]
  },
  {
   "cell_type": "code",
   "execution_count": 40,
   "metadata": {},
   "outputs": [
    {
     "name": "stdout",
     "output_type": "stream",
     "text": [
      "[[1 9 2 6]\n",
      " [6 7 4 3]]\n"
     ]
    }
   ],
   "source": [
    "print(x[1:3,1:5])"
   ]
  },
  {
   "cell_type": "code",
   "execution_count": 3,
   "metadata": {},
   "outputs": [
    {
     "ename": "NameError",
     "evalue": "name 'x' is not defined",
     "output_type": "error",
     "traceback": [
      "\u001b[1;31m---------------------------------------------------------------------------\u001b[0m",
      "\u001b[1;31mNameError\u001b[0m                                 Traceback (most recent call last)",
      "Cell \u001b[1;32mIn[3], line 1\u001b[0m\n\u001b[1;32m----> 1\u001b[0m x[x\u001b[38;5;241m>\u001b[39m\u001b[38;5;241m=\u001b[39m \u001b[38;5;241m50\u001b[39m]\n",
      "\u001b[1;31mNameError\u001b[0m: name 'x' is not defined"
     ]
    }
   ],
   "source": [
    "x[x>= 50]\n"
   ]
  },
  {
   "cell_type": "code",
   "execution_count": 6,
   "metadata": {},
   "outputs": [
    {
     "ename": "TypeError",
     "evalue": "Cannot interpret '100' as a data type",
     "output_type": "error",
     "traceback": [
      "\u001b[1;31m---------------------------------------------------------------------------\u001b[0m",
      "\u001b[1;31mTypeError\u001b[0m                                 Traceback (most recent call last)",
      "Cell \u001b[1;32mIn[6], line 1\u001b[0m\n\u001b[1;32m----> 1\u001b[0m x\u001b[38;5;241m=\u001b[39m np\u001b[38;5;241m.\u001b[39marray(\u001b[38;5;241m0\u001b[39m,\u001b[38;5;241m100\u001b[39m)\n",
      "\u001b[1;31mTypeError\u001b[0m: Cannot interpret '100' as a data type"
     ]
    }
   ],
   "source": [
    "x= np.array(0,100)\n",
    "#x[(x>=25) & (x<=75)]"
   ]
  },
  {
   "cell_type": "code",
   "execution_count": 7,
   "metadata": {},
   "outputs": [
    {
     "data": {
      "text/plain": [
       "array([[1., 0., 0., 0., 0.],\n",
       "       [0., 1., 0., 0., 0.],\n",
       "       [0., 0., 1., 0., 0.],\n",
       "       [0., 0., 0., 1., 0.],\n",
       "       [0., 0., 0., 0., 1.]])"
      ]
     },
     "execution_count": 7,
     "metadata": {},
     "output_type": "execute_result"
    }
   ],
   "source": [
    "np.eye(5)"
   ]
  },
  {
   "cell_type": "code",
   "execution_count": 8,
   "metadata": {},
   "outputs": [
    {
     "data": {
      "text/plain": [
       "array([[1, 0, 0, 0, 0],\n",
       "       [0, 1, 0, 0, 0],\n",
       "       [0, 0, 1, 0, 0],\n",
       "       [0, 0, 0, 1, 0],\n",
       "       [0, 0, 0, 0, 1]])"
      ]
     },
     "execution_count": 8,
     "metadata": {},
     "output_type": "execute_result"
    }
   ],
   "source": [
    "np.eye(5, dtype=int)"
   ]
  },
  {
   "cell_type": "code",
   "execution_count": 9,
   "metadata": {},
   "outputs": [
    {
     "data": {
      "text/plain": [
       "array([[1, 0, 0, 0, 0, 0],\n",
       "       [0, 2, 0, 0, 0, 0],\n",
       "       [0, 0, 3, 0, 0, 0],\n",
       "       [0, 0, 0, 4, 0, 0],\n",
       "       [0, 0, 0, 0, 5, 0],\n",
       "       [0, 0, 0, 0, 0, 6]])"
      ]
     },
     "execution_count": 9,
     "metadata": {},
     "output_type": "execute_result"
    }
   ],
   "source": [
    "np.diag([1,2,3,4,5,6])"
   ]
  },
  {
   "cell_type": "code",
   "execution_count": 10,
   "metadata": {},
   "outputs": [],
   "source": [
    "np.set_printoptions(precision=2)"
   ]
  },
  {
   "cell_type": "code",
   "execution_count": 11,
   "metadata": {},
   "outputs": [
    {
     "data": {
      "text/plain": [
       "array([[1., 1., 1.],\n",
       "       [1., 1., 1.],\n",
       "       [1., 1., 1.]])"
      ]
     },
     "execution_count": 11,
     "metadata": {},
     "output_type": "execute_result"
    }
   ],
   "source": [
    "np.ones((3,3))"
   ]
  },
  {
   "cell_type": "code",
   "execution_count": 12,
   "metadata": {},
   "outputs": [
    {
     "data": {
      "text/plain": [
       "array([[0., 0., 0.],\n",
       "       [0., 0., 0.],\n",
       "       [0., 0., 0.]])"
      ]
     },
     "execution_count": 12,
     "metadata": {},
     "output_type": "execute_result"
    }
   ],
   "source": [
    "np.zeros((3,3))"
   ]
  },
  {
   "cell_type": "code",
   "execution_count": 14,
   "metadata": {},
   "outputs": [
    {
     "data": {
      "text/plain": [
       "array([ 0.84,  0.91,  0.14, -0.76, -0.96, -0.28,  0.66,  0.99,  0.41])"
      ]
     },
     "execution_count": 14,
     "metadata": {},
     "output_type": "execute_result"
    }
   ],
   "source": [
    "x= ([1,2,3,4,5,6,7,8,9])\n",
    "np.sin(x)"
   ]
  },
  {
   "cell_type": "code",
   "execution_count": 16,
   "metadata": {},
   "outputs": [
    {
     "name": "stdout",
     "output_type": "stream",
     "text": [
      "[ 0.54 -0.42 -0.99 -0.65  0.28  0.96  0.75 -0.15 -0.91]\n",
      "[ 1.56 -2.19 -0.14  1.16 -3.38 -0.29  0.87 -6.8  -0.45]\n"
     ]
    }
   ],
   "source": [
    "print(np.cos(x))\n",
    "print(np.tan(x))"
   ]
  },
  {
   "cell_type": "code",
   "execution_count": 18,
   "metadata": {},
   "outputs": [
    {
     "name": "stdout",
     "output_type": "stream",
     "text": [
      "[ 5.44e-01  5.01e-01  4.58e-01  4.13e-01  3.66e-01  3.20e-01  2.72e-01\n",
      "  2.23e-01  1.74e-01  1.25e-01  7.52e-02  2.52e-02 -2.48e-02 -7.47e-02\n",
      " -1.24e-01 -1.74e-01 -2.23e-01 -2.71e-01 -3.19e-01 -3.66e-01 -4.12e-01\n",
      " -4.57e-01 -5.01e-01 -5.44e-01 -5.85e-01 -6.25e-01 -6.63e-01 -7.00e-01\n",
      " -7.34e-01 -7.67e-01 -7.98e-01 -8.28e-01 -8.55e-01 -8.79e-01 -9.02e-01\n",
      " -9.23e-01 -9.41e-01 -9.57e-01 -9.70e-01 -9.81e-01 -9.89e-01 -9.95e-01\n",
      " -9.99e-01 -1.00e+00 -9.99e-01 -9.95e-01 -9.88e-01 -9.79e-01 -9.68e-01\n",
      " -9.54e-01 -9.38e-01 -9.20e-01 -8.99e-01 -8.76e-01 -8.50e-01 -8.23e-01\n",
      " -7.94e-01 -7.62e-01 -7.29e-01 -6.94e-01 -6.57e-01 -6.18e-01 -5.78e-01\n",
      " -5.37e-01 -4.94e-01 -4.50e-01 -4.05e-01 -3.59e-01 -3.12e-01 -2.64e-01\n",
      " -2.15e-01 -1.66e-01 -1.17e-01 -6.68e-02 -1.68e-02  3.32e-02  8.31e-02\n",
      "  1.33e-01  1.82e-01  2.31e-01  2.79e-01  3.27e-01  3.74e-01  4.20e-01\n",
      "  4.65e-01  5.08e-01  5.51e-01  5.92e-01  6.31e-01  6.69e-01  7.06e-01\n",
      "  7.40e-01  7.73e-01  8.04e-01  8.32e-01  8.59e-01  8.83e-01  9.06e-01\n",
      "  9.26e-01  9.44e-01  9.59e-01  9.72e-01  9.82e-01  9.91e-01  9.96e-01\n",
      "  9.99e-01  1.00e+00  9.98e-01  9.94e-01  9.87e-01  9.78e-01  9.66e-01\n",
      "  9.52e-01  9.35e-01  9.16e-01  8.95e-01  8.72e-01  8.46e-01  8.18e-01\n",
      "  7.89e-01  7.57e-01  7.23e-01  6.88e-01  6.51e-01  6.12e-01  5.72e-01\n",
      "  5.30e-01  4.87e-01  4.43e-01  3.97e-01  3.51e-01  3.04e-01  2.56e-01\n",
      "  2.07e-01  1.58e-01  1.08e-01  5.84e-02  8.41e-03 -4.16e-02 -9.15e-02\n",
      " -1.41e-01 -1.90e-01 -2.39e-01 -2.87e-01 -3.35e-01 -3.82e-01 -4.27e-01\n",
      " -4.72e-01 -5.16e-01 -5.58e-01 -5.98e-01 -6.38e-01 -6.75e-01 -7.11e-01\n",
      " -7.46e-01 -7.78e-01 -8.08e-01 -8.37e-01 -8.63e-01 -8.87e-01 -9.09e-01\n",
      " -9.29e-01 -9.46e-01 -9.61e-01 -9.74e-01 -9.84e-01 -9.92e-01 -9.97e-01\n",
      " -1.00e+00 -1.00e+00 -9.97e-01 -9.93e-01 -9.85e-01 -9.76e-01 -9.64e-01\n",
      " -9.49e-01 -9.32e-01 -9.13e-01 -8.91e-01 -8.67e-01 -8.41e-01 -8.13e-01\n",
      " -7.83e-01 -7.51e-01 -7.17e-01 -6.82e-01 -6.44e-01 -6.05e-01 -5.65e-01\n",
      " -5.23e-01 -4.79e-01 -4.35e-01 -3.89e-01 -3.43e-01 -2.96e-01 -2.47e-01\n",
      " -1.99e-01 -1.49e-01 -9.98e-02 -5.00e-02  1.42e-13  5.00e-02  9.98e-02\n",
      "  1.49e-01  1.99e-01  2.47e-01  2.96e-01  3.43e-01  3.89e-01  4.35e-01\n",
      "  4.79e-01  5.23e-01  5.65e-01  6.05e-01  6.44e-01  6.82e-01  7.17e-01\n",
      "  7.51e-01  7.83e-01  8.13e-01  8.41e-01  8.67e-01  8.91e-01  9.13e-01\n",
      "  9.32e-01  9.49e-01  9.64e-01  9.76e-01  9.85e-01  9.93e-01  9.97e-01\n",
      "  1.00e+00  1.00e+00  9.97e-01  9.92e-01  9.84e-01  9.74e-01  9.61e-01\n",
      "  9.46e-01  9.29e-01  9.09e-01  8.87e-01  8.63e-01  8.37e-01  8.08e-01\n",
      "  7.78e-01  7.46e-01  7.11e-01  6.75e-01  6.38e-01  5.98e-01  5.58e-01\n",
      "  5.16e-01  4.72e-01  4.27e-01  3.82e-01  3.35e-01  2.87e-01  2.39e-01\n",
      "  1.90e-01  1.41e-01  9.15e-02  4.16e-02 -8.41e-03 -5.84e-02 -1.08e-01\n",
      " -1.58e-01 -2.07e-01 -2.56e-01 -3.04e-01 -3.51e-01 -3.97e-01 -4.43e-01\n",
      " -4.87e-01 -5.30e-01 -5.72e-01 -6.12e-01 -6.51e-01 -6.88e-01 -7.23e-01\n",
      " -7.57e-01 -7.89e-01 -8.18e-01 -8.46e-01 -8.72e-01 -8.95e-01 -9.16e-01\n",
      " -9.35e-01 -9.52e-01 -9.66e-01 -9.78e-01 -9.87e-01 -9.94e-01 -9.98e-01\n",
      " -1.00e+00 -9.99e-01 -9.96e-01 -9.91e-01 -9.82e-01 -9.72e-01 -9.59e-01\n",
      " -9.44e-01 -9.26e-01 -9.06e-01 -8.83e-01 -8.59e-01 -8.32e-01 -8.04e-01\n",
      " -7.73e-01 -7.40e-01 -7.06e-01 -6.69e-01 -6.31e-01 -5.92e-01 -5.51e-01\n",
      " -5.08e-01 -4.65e-01 -4.20e-01 -3.74e-01 -3.27e-01 -2.79e-01 -2.31e-01\n",
      " -1.82e-01 -1.33e-01 -8.31e-02 -3.32e-02  1.68e-02  6.68e-02  1.17e-01\n",
      "  1.66e-01  2.15e-01  2.64e-01  3.12e-01  3.59e-01  4.05e-01  4.50e-01\n",
      "  4.94e-01  5.37e-01  5.78e-01  6.18e-01  6.57e-01  6.94e-01  7.29e-01\n",
      "  7.62e-01  7.94e-01  8.23e-01  8.50e-01  8.76e-01  8.99e-01  9.20e-01\n",
      "  9.38e-01  9.54e-01  9.68e-01  9.79e-01  9.88e-01  9.95e-01  9.99e-01\n",
      "  1.00e+00  9.99e-01  9.95e-01  9.89e-01  9.81e-01  9.70e-01  9.57e-01\n",
      "  9.41e-01  9.23e-01  9.02e-01  8.79e-01  8.55e-01  8.28e-01  7.98e-01\n",
      "  7.67e-01  7.34e-01  7.00e-01  6.63e-01  6.25e-01  5.85e-01  5.44e-01\n",
      "  5.01e-01  4.57e-01  4.12e-01  3.66e-01  3.19e-01  2.71e-01  2.23e-01\n",
      "  1.74e-01  1.24e-01  7.47e-02  2.48e-02 -2.52e-02 -7.52e-02 -1.25e-01\n",
      " -1.74e-01 -2.23e-01 -2.72e-01 -3.20e-01 -3.66e-01 -4.13e-01 -4.58e-01\n",
      " -5.01e-01]\n",
      "[-0.84 -0.87 -0.89 -0.91 -0.93 -0.95 -0.96 -0.97 -0.98 -0.99 -1.   -1.\n",
      " -1.   -1.   -0.99 -0.98 -0.97 -0.96 -0.95 -0.93 -0.91 -0.89 -0.87 -0.84\n",
      " -0.81 -0.78 -0.75 -0.71 -0.68 -0.64 -0.6  -0.56 -0.52 -0.48 -0.43 -0.39\n",
      " -0.34 -0.29 -0.24 -0.19 -0.15 -0.1  -0.05  0.    0.05  0.1   0.15  0.2\n",
      "  0.25  0.3   0.35  0.39  0.44  0.48  0.53  0.57  0.61  0.65  0.68  0.72\n",
      "  0.75  0.79  0.82  0.84  0.87  0.89  0.91  0.93  0.95  0.96  0.98  0.99\n",
      "  0.99  1.    1.    1.    1.    0.99  0.98  0.97  0.96  0.95  0.93  0.91\n",
      "  0.89  0.86  0.83  0.81  0.78  0.74  0.71  0.67  0.63  0.6   0.55  0.51\n",
      "  0.47  0.42  0.38  0.33  0.28  0.24  0.19  0.14  0.09  0.04 -0.01 -0.06\n",
      " -0.11 -0.16 -0.21 -0.26 -0.31 -0.35 -0.4  -0.45 -0.49 -0.53 -0.57 -0.62\n",
      " -0.65 -0.69 -0.73 -0.76 -0.79 -0.82 -0.85 -0.87 -0.9  -0.92 -0.94 -0.95\n",
      " -0.97 -0.98 -0.99 -0.99 -1.   -1.   -1.   -1.   -0.99 -0.98 -0.97 -0.96\n",
      " -0.94 -0.92 -0.9  -0.88 -0.86 -0.83 -0.8  -0.77 -0.74 -0.7  -0.67 -0.63\n",
      " -0.59 -0.55 -0.5  -0.46 -0.42 -0.37 -0.32 -0.28 -0.23 -0.18 -0.13 -0.08\n",
      " -0.03  0.02  0.07  0.12  0.17  0.22  0.27  0.32  0.36  0.41  0.45  0.5\n",
      "  0.54  0.58  0.62  0.66  0.7   0.73  0.76  0.8   0.83  0.85  0.88  0.9\n",
      "  0.92  0.94  0.96  0.97  0.98  0.99  1.    1.    1.    1.    1.    0.99\n",
      "  0.98  0.97  0.96  0.94  0.92  0.9   0.88  0.85  0.83  0.8   0.76  0.73\n",
      "  0.7   0.66  0.62  0.58  0.54  0.5   0.45  0.41  0.36  0.32  0.27  0.22\n",
      "  0.17  0.12  0.07  0.02 -0.03 -0.08 -0.13 -0.18 -0.23 -0.28 -0.32 -0.37\n",
      " -0.42 -0.46 -0.5  -0.55 -0.59 -0.63 -0.67 -0.7  -0.74 -0.77 -0.8  -0.83\n",
      " -0.86 -0.88 -0.9  -0.92 -0.94 -0.96 -0.97 -0.98 -0.99 -1.   -1.   -1.\n",
      " -1.   -0.99 -0.99 -0.98 -0.97 -0.95 -0.94 -0.92 -0.9  -0.87 -0.85 -0.82\n",
      " -0.79 -0.76 -0.73 -0.69 -0.65 -0.62 -0.57 -0.53 -0.49 -0.45 -0.4  -0.35\n",
      " -0.31 -0.26 -0.21 -0.16 -0.11 -0.06 -0.01  0.04  0.09  0.14  0.19  0.24\n",
      "  0.28  0.33  0.38  0.42  0.47  0.51  0.55  0.6   0.63  0.67  0.71  0.74\n",
      "  0.78  0.81  0.83  0.86  0.89  0.91  0.93  0.95  0.96  0.97  0.98  0.99\n",
      "  1.    1.    1.    1.    0.99  0.99  0.98  0.96  0.95  0.93  0.91  0.89\n",
      "  0.87  0.84  0.82  0.79  0.75  0.72  0.68  0.65  0.61  0.57  0.53  0.48\n",
      "  0.44  0.39  0.35  0.3   0.25  0.2   0.15  0.1   0.05  0.   -0.05 -0.1\n",
      " -0.15 -0.19 -0.24 -0.29 -0.34 -0.39 -0.43 -0.48 -0.52 -0.56 -0.6  -0.64\n",
      " -0.68 -0.71 -0.75 -0.78 -0.81 -0.84 -0.87 -0.89 -0.91 -0.93 -0.95 -0.96\n",
      " -0.97 -0.98 -0.99 -1.   -1.   -1.   -1.   -0.99 -0.98 -0.97 -0.96 -0.95\n",
      " -0.93 -0.91 -0.89 -0.87]\n"
     ]
    }
   ],
   "source": [
    "t= np.arange(-10,10,(0.05))\n",
    "x= np.sin(t)\n",
    "y = np.cos(t)\n",
    "print(x)\n",
    "print(y)"
   ]
  },
  {
   "cell_type": "code",
   "execution_count": 19,
   "metadata": {},
   "outputs": [
    {
     "data": {
      "text/plain": [
       "[<matplotlib.lines.Line2D at 0x1a9f4a95d90>]"
      ]
     },
     "execution_count": 19,
     "metadata": {},
     "output_type": "execute_result"
    },
    {
     "data": {
      "image/png": "[encoded data removed]",
      "text/plain": [
       "<Figure size 640x480 with 1 Axes>"
      ]
     },
     "metadata": {},
     "output_type": "display_data"
    }
   ],
   "source": [
    "import matplotlib.pyplot as plt\n",
    "plt.plot(t,x)\n",
    "plt.plot(t,y)"
   ]
  },
  {
   "cell_type": "markdown",
   "metadata": {},
   "source": [
    "# visualization"
   ]
  },
  {
   "cell_type": "code",
   "execution_count": 55,
   "metadata": {},
   "outputs": [
    {
     "data": {
      "text/plain": [
       "<matplotlib.patches.Rectangle at 0x1a9fc5e3170>"
      ]
     },
     "execution_count": 55,
     "metadata": {},
     "output_type": "execute_result"
    },
    {
     "data": {
      "image/png": "[encoded data removed]",
      "text/plain": [
       "<Figure size 640x480 with 1 Axes>"
      ]
     },
     "metadata": {},
     "output_type": "display_data"
    }
   ],
   "source": [
    "fig ,ax = plt.subplots()\n",
    "fig.set_facecolor('#ffff77')\n",
    "ax.set_facecolor('#ffffdd')\n",
    "#plt.xlabel('time')\n",
    "ax.set_xlabel('time')\n",
    "ax.set_ylabel('amplitude')\n",
    "ax.set_title('sine wave')\n",
    "x = [1,2,3,4,5,6,7,8,9,10]\n",
    "y = [23,56,67,34,12,56,23,56,78,23]\n",
    "\n",
    "ax.plot(x,y ,linewidth = 2,markersize=7,markerfacecolor= 'red',markeredgecolor='blue',\n",
    "        markeredgewidth=3,color ='green',marker ='h',linestyle=':',alpha =.8)\n",
    "#horizontal line\n",
    "ax.axhline(50,linewidth= 1,color='k')\n",
    "ax.axvline(3,linewidth= 1,color='k')\n",
    "ax.text(3.2,51.6,'crossing point')\n",
    "ax.text(3.2,47,'below threshold')\n",
    "#rectangle box\n",
    "ax.axvspan(3,6,color= 'red',alpha=.1)\n",
    "ax.axhspan(40,60,color='green',alpha=.2)\n"
   ]
  },
  {
   "cell_type": "code",
   "execution_count": 65,
   "metadata": {},
   "outputs": [
    {
     "data": {
      "text/plain": [
       "Text(0.5, 1.0, 'Scatter Plot')"
      ]
     },
     "execution_count": 65,
     "metadata": {},
     "output_type": "execute_result"
    },
    {
     "data": {
      "image/png": "[encoded data removed]",
      "text/plain": [
       "<Figure size 1000x500 with 2 Axes>"
      ]
     },
     "metadata": {},
     "output_type": "display_data"
    }
   ],
   "source": [
    "fig,(ax1,ax2) = plt.subplots(1,2,figsize=(10,5))#1 row 2 column\n",
    "x= np.arange(1,101)\n",
    "y= np.random.uniform(1,10,100)\n",
    "ax1.plot(x,y)\n",
    "ax2.scatter(x,y,s=100,c='orange',alpha=1)\n",
    "ax1.set_title('Line Plot')\n",
    "ax1.set_title('Scatter Plot')"
   ]
  },
  {
   "cell_type": "markdown",
   "metadata": {},
   "source": []
  },
  {
   "cell_type": "markdown",
   "metadata": {},
   "source": [
    "# visualization\n",
    "- libraries\n",
    "    - matplotlib\n",
    "    - seaborn\n",
    "    - plotlylib "
   ]
  },
  {
   "cell_type": "code",
   "execution_count": null,
   "metadata": {},
   "outputs": [],
   "source": []
  },
  {
   "cell_type": "code",
   "execution_count": null,
   "metadata": {},
   "outputs": [],
   "source": []
  },
  {
   "cell_type": "markdown",
   "metadata": {},
   "source": [
    "# Graph\n",
    "1. Univariate graph\n",
    "    - line plot - for growth/decay over a period\n",
    "    - histogram - distribution of data\n",
    "    - density plot - \"          \"  \"     in normalized form\n",
    "    - box plot  -    \"           \"  \"     \" quartiles \n",
    "    - pie chart -     \"          \"  '       percentage\n",
    "    - bar graph  - for discrete data comparison\n",
    "2. Bivariat graph\n",
    "    - scatter plot- relation between 2 variable \n",
    "    - heat map   -   in matrix form\n",
    "    - violin plot - density form\n",
    "    - pair plot   - in grid form\n",
    "3. Multivatrient graph \n",
    "    - bubble plot  - with size\n",
    "    - 3d scatter plot - relation b/w 3 varible on x,y,z axis\n",
    "    - stacked bar chart - in bar form(3 variable)"
   ]
  },
  {
   "cell_type": "code",
   "execution_count": 2,
   "metadata": {},
   "outputs": [],
   "source": [
    "import numpy as np\n",
    "import seaborn as sns\n",
    "import matplotlib.pyplot as plt \n",
    "import plotly.express as px"
   ]
  },
  {
   "cell_type": "code",
   "execution_count": 3,
   "metadata": {},
   "outputs": [
    {
     "data": {
      "image/png": "[encoded data removed]",
      "text/plain": [
       "<Figure size 640x480 with 1 Axes>"
      ]
     },
     "metadata": {},
     "output_type": "display_data"
    }
   ],
   "source": [
    "x = np.random.normal(size = 1000)\n",
    "plt.hist(x, bins = np.arange(-3,3,.5),edgecolor = 'black')\n",
    "plt.show()"
   ]
  },
  {
   "cell_type": "code",
   "execution_count": 5,
   "metadata": {},
   "outputs": [
    {
     "data": {
      "text/plain": [
       "<Axes: ylabel='Count'>"
      ]
     },
     "execution_count": 5,
     "metadata": {},
     "output_type": "execute_result"
    },
    {
     "data": {
      "image/png": "[encoded data removed]",
      "text/plain": [
       "<Figure size 640x480 with 1 Axes>"
      ]
     },
     "metadata": {},
     "output_type": "display_data"
    }
   ],
   "source": [
    "sns.histplot(x, bins =np.arange(-3, 3 , .5),kde = True)"
   ]
  },
  {
   "cell_type": "code",
   "execution_count": 8,
   "metadata": {},
   "outputs": [
    {
     "data": {
      "application/vnd.plotly.v1+json": {
       "config": {
        "plotlyServerURL": "https://plot.ly"
       },
       "data": [
        {
         "alignmentgroup": "True",
         "bingroup": "x",
         "hovertemplate": "variable=0<br>value=%{x}<br>count=%{y}<extra></extra>",
         "legendgroup": "0",
         "marker": {
          "color": "#636efa",
          "pattern": {
           "shape": ""
          }
         },
         "name": "0",
         "nbinsx": 50,
         "offsetgroup": "0",
         "orientation": "v",
         "showlegend": true,
         "type": "histogram",
         "x": [
          -1.350928053787711,
          -0.4439396273806084,
          -0.058111843491310926,
          1.1039861367335637,
          -1.18127896712422,
          -1.6098484090460246,
          1.241169058590062,
          -0.38976826096061723,
          -0.2677477958973923,
          0.6580932491563277,
          0.7816320887954465,
          -0.1244798197567318,
          -1.7182519196900865,
          0.6311437292443928,
          0.46690496242350854,
          1.0457773947546771,
          -0.06468664105067805,
          -0.4824439574634848,
          -0.7580527160153253,
          -1.254409889180216,
          0.15587220562091303,
          -0.3125140769870877,
          0.009639391858262816,
          -2.6599791739939564,
          0.220473359175919,
          0.45119216052665306,
          0.1279955223950422,
          -0.5085824267168942,
          -0.5771117705575765,
          -1.428710994465694,
          1.4728103265608037,
          -1.0589434484029476,
          0.6422755579447226,
          -1.2825534716021112,
          0.3800023482948819,
          -0.3938622320589069,
          -0.3859359895302204,
          1.387045087000218,
          0.049571039013535316,
          0.23866897906994056,
          -0.8487015987354574,
          -0.6017932053862547,
          -2.24848540160673,
          -0.49407492827661914,
          0.19026946554094773,
          0.4481215034108972,
          -2.5660727652130504,
          0.25214634945079334,
          -0.10531337613260473,
          -0.095127516583876,
          -0.4026736377961218,
          0.14289136780040712,
          0.6439928163239642,
          -0.8029454596407096,
          -0.6083747941295644,
          -1.1325481681172456,
          -1.022807315560846,
          -0.5433864302562603,
          -0.657738659285836,
          -0.8320486521914067,
          -1.066651862580475,
          1.6900486344423487,
          -0.0033658968079125755,
          -0.11544614313655673,
          0.266016745888555,
          0.6617988505918933,
          1.4014137213083002,
          0.7327243774030406,
          -1.1455349266663302,
          -2.5725800548992677,
          0.017450697104343525,
          1.4641163327826585,
          -1.7014020136976058,
          -0.1580758804731833,
          0.47760919724194495,
          0.8627600780654527,
          0.06980318228834627,
          0.3924211788828328,
          1.7434600346291775,
          0.13359979043028244,
          1.4206479772019245,
          1.2011287000787605,
          -1.1341882472236489,
          0.5826591429327073,
          -0.9486547465240507,
          -0.5591779931980684,
          2.351281570848594,
          -1.7801967619679877,
          -0.8437733224041846,
          1.2214873462942908,
          -0.46218947235221025,
          0.6841289273627215,
          -0.13111088957356934,
          1.1756661402689976,
          -0.923404405379095,
          -0.3422091858911133,
          1.3987622665476243,
          -0.11822567314029134,
          0.294067006230932,
          0.28714990813247265,
          0.6703428602452896,
          -0.3864378136659085,
          -0.67628320125936,
          0.21590275267997106,
          -0.45996247276517876,
          -0.09427420940290596,
          -2.4008103988971308,
          0.5691871851730644,
          -0.550331880953919,
          -0.5120486433614808,
          -0.2226930999285907,
          0.4267865286235405,
          0.5720690098294198,
          0.7848674781030632,
          -0.5746829386966664,
          -0.48516359733840775,
          -0.042253451473613785,
          0.2584617855318643,
          0.8615550709229679,
          -1.969317334978969,
          0.3326390558425848,
          -0.08839228808848809,
          -1.348566279123518,
          0.4677335694640864,
          1.137009215149159,
          -0.5280018388575656,
          -1.8615996252803388,
          1.2972012715281913,
          -0.480865749696388,
          1.7854647216240858,
          -0.5510579095892973,
          -0.2024764118206194,
          -0.4168835867904113,
          0.22553628113805443,
          1.2891488655588001,
          -1.356719502602967,
          -0.1759299252418894,
          0.044369383247271334,
          0.6566965812914767,
          -0.6061054443923561,
          0.46760651433758843,
          -1.095083297985661,
          0.6948237301175898,
          0.04004437177254479,
          -1.6499208169722983,
          1.3467770376208636,
          0.7629575789153296,
          -0.07623204405737855,
          0.2314313762262673,
          1.0219854360395644,
          -0.3180082879191174,
          0.4895511497479283,
          0.24065115161072315,
          -1.3885827506551018,
          -0.8064467984811193,
          0.09056680646955044,
          1.0637571797646757,
          0.15959524716784917,
          0.6516561193703585,
          -0.6847589545974668,
          0.015798352916204936,
          -1.1794950008956757,
          0.42096378493753694,
          -0.7861117660023764,
          1.0676994766602068,
          0.4213847737289769,
          0.38826598185491257,
          -0.5617901032184182,
          -0.4735937235482629,
          0.7489368620251228,
          -0.7479834162242959,
          -0.7354961036993657,
          1.037785297812979,
          -1.774914721818373,
          -1.0219413214505941,
          0.3985774749568021,
          -0.0020877114808399936,
          2.1236350929827386,
          -0.26457439881109657,
          -0.3214853060587383,
          2.2933487873426257,
          1.114077832704754,
          -1.6312577381455822,
          0.4270794402698759,
          -2.2836255453966854,
          -1.0593695616945942,
          -0.09179096304170847,
          -1.1599547549688973,
          1.8204660744752397,
          -0.8885117810637727,
          -1.6412520446992096,
          0.6606521436555098,
          -0.32111456162031343,
          -0.7127657046443521,
          0.9530154699260147,
          -0.09652543378000653,
          -0.16428205246197347,
          0.12364950530056276,
          0.38279090839313523,
          0.07961944503467001,
          -0.2732531203582095,
          1.5259455711611962,
          -0.2890326702403341,
          0.17352998767548075,
          -0.15367759540252726,
          0.7793905681455356,
          -0.099391910574036,
          -1.1568435559551595,
          0.9070125794526295,
          -0.6328224671851749,
          1.4291282753991568,
          1.902791753415576,
          1.1110043855014609,
          -1.405528076928608,
          0.2765912475726282,
          -0.5680428976925388,
          -1.068195255883691,
          -1.6666374257038787,
          2.202598937029406,
          0.5521956491260559,
          0.5596872653858485,
          2.0601739720495917,
          1.288715659378357,
          0.8706880553500284,
          -1.4315959469504178,
          -0.32322140267170074,
          0.7952110234630377,
          0.17736712216912637,
          0.07465712298130944,
          2.849884853964475,
          0.6572434956759391,
          0.2662139862512289,
          -0.9310614018319291,
          0.5597746237170576,
          -1.0049240022557069,
          -1.3065956621648633,
          -0.1771498915873554,
          0.4293640960981753,
          0.8386372652086878,
          -0.9374631048566703,
          0.34458807418611237,
          0.3898023488462101,
          0.04805202280025902,
          -1.7682608311096577,
          1.3868504314083436,
          0.21687208019231233,
          0.2272603897999723,
          -0.04046797154981184,
          0.3607819885838729,
          -0.40435798518739835,
          -0.69020717811213,
          0.5828722756557317,
          -0.5258453529499563,
          0.6656213451348619,
          1.496039730168461,
          -1.0964494498475603,
          0.529019958972635,
          0.8060793401847887,
          1.2819563728908274,
          -0.08603493212562602,
          -1.6918656816668372,
          0.9371722290980984,
          0.5092507268217492,
          -0.8731922708402974,
          0.18900602342977518,
          -2.129360330944639,
          0.6055089618269351,
          0.3414235951242589,
          -0.18530962775315407,
          -1.48462498093458,
          2.1707748534440063,
          1.1192236091170564,
          0.5629804919826473,
          -0.6236745733703304,
          -1.4457581838538525,
          1.1460619807615784,
          -1.068933652243173,
          -0.2418710001790729,
          1.2814679154265054,
          0.2851275614661138,
          1.401645058112593,
          1.0964228248764225,
          1.7161867882634345,
          1.3188471775654675,
          -1.283266571942497,
          0.4341073082482649,
          0.10401781330027551,
          0.6860492971275667,
          0.3081557811979528,
          1.2806433016752035,
          -0.5409701690597585,
          0.6804989694715328,
          0.22605202051532788,
          0.0781414681871017,
          1.8797979992195815,
          0.3692924413373238,
          0.32963475879389403,
          0.5328437207280161,
          -0.5278807378486885,
          1.8167699466346585,
          0.23729467873496826,
          0.6687007135631173,
          0.5905626255400139,
          0.6722191583773484,
          0.3876643982223595,
          -0.7626054086319509,
          1.2905153258072675,
          -0.0724981523598136,
          2.2582916988939488,
          0.7143678634285746,
          -1.3535135417110473,
          -1.9952845839687126,
          -3.1923231201252,
          1.4203486133421828,
          -0.05923117780111265,
          1.2180394207152108,
          0.30740800535215024,
          0.9935143083311696,
          1.7116070657673492,
          0.9868766817899981,
          -0.7466031676927779,
          -0.6007113272332603,
          -0.07816904299980225,
          0.1603114897446765,
          1.5369456944022413,
          -0.6165512496616747,
          -0.872078305838064,
          0.838616156654868,
          0.4422369553270038,
          1.0640526968388224,
          1.995238997277978,
          0.8253931099296563,
          0.8872260428325022,
          -0.6996896631217869,
          1.1225125292959217,
          -0.8535650406778194,
          0.10151885322680217,
          0.3078533201518956,
          1.3548822264694116,
          0.9946441191406062,
          2.1775316493420225,
          0.9146246189072722,
          0.9443110435935009,
          -1.360799002950176,
          0.997368014661242,
          -0.30457395637157897,
          0.43133160892514477,
          0.007920355449981653,
          0.25535290344559314,
          0.24396987465846864,
          -1.3389067320469736,
          0.49639196333191543,
          -0.404857077635148,
          0.9863354348716985,
          0.09870873813228544,
          1.1841367967935532,
          1.0267553175268034,
          -0.33965011109308796,
          -0.2110649508392704,
          -1.1945584948592123,
          0.8664296266751537,
          -3.1566306199069776,
          1.259001822445806,
          0.8440098245270459,
          -1.2705525310527588,
          0.7240434504287718,
          0.9706607104966608,
          -0.4847572019232908,
          -1.3241249416171224,
          0.18735772403457235,
          0.1887714474735174,
          -0.808700893075251,
          0.6005222326594184,
          0.8659160588373248,
          -0.05408182570404595,
          0.1757187807972867,
          -0.33019663580568487,
          0.3538829946207831,
          0.049728796232905124,
          -0.8548359008321071,
          -0.2904740412965162,
          -0.8090576288810677,
          0.5867710028879174,
          -0.4645711740306719,
          -0.25144594753748983,
          1.2274240076521523,
          0.4921472212847307,
          1.7288618479710973,
          -0.4567389251102949,
          -0.9905293142557465,
          0.7932748103095246,
          1.1714683046273326,
          -0.2084341400329738,
          0.699680342334957,
          -1.0538670642338803,
          0.4342529634240381,
          -1.1556340632195126,
          -0.04583817072623087,
          0.28212353229906567,
          0.7894054716593969,
          -0.8591411331274968,
          1.4244984213420935,
          0.6758890241582344,
          -0.20294786748062613,
          -0.277566673385432,
          0.644910116903411,
          -0.7869775637346315,
          -0.1613344276054318,
          0.7880441047020432,
          -0.6011777407664154,
          0.24941844442022476,
          0.5845558814086643,
          0.8408858766505752,
          0.12756302893411253,
          -1.0052023460990902,
          2.727709578668509,
          -1.1072505302679134,
          -0.5507403894958051,
          -0.44428423717869525,
          -1.3875609861581553,
          0.25006655064368105,
          0.6415011873433555,
          -0.721304654920505,
          1.7120770149983315,
          -0.4794582588503732,
          0.17840947683417094,
          -1.5218076055685963,
          -1.2873701121294374,
          1.5010737293997898,
          0.1266794254922154,
          -0.7117366521576883,
          -0.25215749198755644,
          0.09699971051933984,
          0.8264467642405721,
          1.4426441092984181,
          1.0985318705734974,
          0.32194630206910185,
          -1.7133550465047482,
          -1.0909327684451096,
          -0.311187091412613,
          -1.5432314354742416,
          0.09004822898327369,
          0.9381102226305222,
          -0.4196735267174713,
          1.947395345794082,
          -0.7686378028650567,
          0.004106682276147025,
          -0.5948237211940817,
          -0.5909393694648184,
          -0.44775094675316934,
          0.1850450795808669,
          -0.5153593091016183,
          0.7911112822172044,
          0.21279674338350205,
          -1.0376126983773963,
          0.823195820015664,
          0.23088356144692038,
          -0.6255398768953762,
          0.4478075104727951,
          -0.5180581870154021,
          0.2361349302243728,
          0.20364741635424402,
          1.4414421134303586,
          1.8510083511029893,
          -0.25599161043890545,
          -0.10655831790433189,
          0.5395110847300466,
          -0.8598070523994717,
          -0.3083505488058097,
          -0.9938991994910505,
          0.41079181337625537,
          0.35234967902570336,
          -0.4437850251354906,
          -1.2700263472569078,
          -0.6282342842809008,
          0.060366379473147394,
          0.8563624065677967,
          1.287554309911452,
          0.6987848196861118,
          -1.3226942252288012,
          0.09686420195286914,
          -1.0894321896347807,
          -0.7298510389766595,
          -0.4815198260384551,
          0.5431579455956173,
          0.3668585469725331,
          0.6913189790749699,
          -1.3212729571890685,
          -1.3705958893427375,
          2.2363088310672263,
          -0.9168710992731013,
          -0.7797261083969111,
          0.8936613565216163,
          1.1356652620347143,
          -1.7015537871723583,
          0.6185872355128909,
          -0.3428859372832962,
          -0.49898949636569506,
          -0.4583795536412089,
          -1.2680566286363297,
          0.43816501472095176,
          0.5367662734402182,
          -0.16488112146925982,
          0.1197485400388638,
          -0.34878168728006864,
          1.0901959629493478,
          0.731093687942932,
          0.5283033128422802,
          -0.3904346227858147,
          -1.9833670901157914,
          -0.2406147667347028,
          0.6700366119047236,
          0.24280843811966446,
          -0.24944416783006446,
          0.4285787570604526,
          -0.8566774961197393,
          0.06905551983062372,
          0.5915793108079924,
          -0.23765275002660985,
          2.791337450063603,
          0.1371706570069546,
          -0.5767347862286161,
          -0.4458166149897887,
          0.7461745285428832,
          1.13324767091928,
          0.11964251171730211,
          0.43444533041972183,
          2.193465216182426,
          0.048014124506593904,
          -1.3241954478909421,
          -0.06885579277811116,
          -0.4701691506580709,
          -0.19362398137664866,
          0.33389116302422633,
          1.1014992163811705,
          1.4185144988397993,
          -0.5001710101822832,
          -0.9513938072145035,
          0.9992400351455386,
          0.21391189340891914,
          -0.9741926648067296,
          -0.9487281133043313,
          0.21674869521693782,
          1.18401602757517,
          -2.087648639893707,
          0.5589042225645041,
          0.014150318363438127,
          0.5677863974456453,
          0.5632266178059296,
          1.2036153998352082,
          -0.6991658171768907,
          0.05744092867322661,
          0.7203333566797739,
          -1.481288790439037,
          0.39516667094571745,
          0.5946779080442273,
          0.6777953258775012,
          -2.0558124191815996,
          1.3403940756635842,
          -0.38213315038255796,
          -1.1574590822392161,
          0.8544452521556445,
          1.997331851966105,
          -0.20081716402732686,
          -1.3180517004124048,
          1.411843257415862,
          -0.42890998261752383,
          0.05524457842417077,
          2.2767454964661358,
          -1.035665733405309,
          0.9733257761042231,
          -1.718886478330092,
          0.1816111655149555,
          1.1771141778200762,
          -0.4181704001058526,
          1.3601391187396727,
          -2.2238124921001114,
          -1.7374774057896647,
          1.1922889067041749,
          0.9768669345046059,
          0.7855660982062536,
          -0.24757820676187678,
          -2.0394026546733772,
          0.25538087904234985,
          0.6019578341185766,
          -0.013802990774069957,
          0.6941983948868822,
          0.9591731630872236,
          0.40255841363477124,
          -0.3379896752239653,
          0.8292275847264231,
          -1.8228343903394837,
          -0.2778949588065597,
          -0.1963662641570943,
          -1.546974172366435,
          -0.7845375549749702,
          1.3239798018460736,
          0.41858610023519277,
          -1.191556719645221,
          -2.386205576690247,
          1.004464304897602,
          0.2980701059366335,
          0.7801873112029264,
          -0.454700356304891,
          0.07456972673045315,
          0.2775966781026855,
          -1.5198253882849375,
          -1.2092356857359023,
          2.1319014141764114,
          -2.0157173316303787,
          1.4907881638952336,
          -0.38109303503979436,
          -0.959603947168721,
          -1.1736437640639168,
          0.22906348367277657,
          -0.7409622654239318,
          0.8709825934458405,
          0.0910199777501526,
          1.9605505830530259,
          -1.134043238110891,
          -0.2124916880004415,
          -0.992271058164769,
          -0.7521949116209599,
          -0.15424874368975974,
          1.0314140747032787,
          1.2678714172313474,
          -0.865653436434002,
          0.8441138887611135,
          -1.3050079359502464,
          -0.03339612814079212,
          -0.039705933304936755,
          0.7166642694341343,
          1.244544850134884,
          -0.4581940282868442,
          1.3464648220417872,
          1.659360813739875,
          -1.8610511244512047,
          1.2305493160673016,
          0.006638256314237951,
          -0.5134641888360005,
          -0.7266430866480329,
          -0.45686695862213816,
          0.5486831720750427,
          0.19873837369940225,
          0.6164346014408902,
          -1.0153462913083762,
          0.17020030849103893,
          -1.0048044791177788,
          0.4921283047023642,
          -1.134642496619677,
          0.12969536200856624,
          0.2035442787037837,
          -0.49292890379058724,
          -0.33127485245979604,
          1.627051039296121,
          -1.6602762255561168,
          -0.5738965453664845,
          0.2406857583817997,
          0.9023701238159263,
          -1.379097413473085,
          0.9087851378546117,
          -0.7163675038632636,
          0.32471782818402634,
          -0.5729403464269984,
          -1.7096577200486032,
          -0.9675535326023128,
          -1.6092853908849654,
          2.754476114303265,
          0.6841153876204104,
          0.027109550957011022,
          -0.34087940795591604,
          0.44927785178467106,
          -0.7045059536202719,
          1.0038293122622672,
          2.119437144513232,
          -0.8290847289833329,
          -1.3853990785317396,
          1.4150685678073083,
          0.024226560259704488,
          -0.3817948554998064,
          -0.6633141244738923,
          2.2697214182932663,
          -1.5079296901857744,
          2.4121615631642164,
          2.379090961866971,
          -0.6239124058712391,
          0.19268748716524225,
          -0.41255966760777796,
          -0.018940547695295008,
          -0.051179148603565434,
          -0.6553055517319812,
          0.3605915403383524,
          2.185078772988368,
          0.6528465241878627,
          -1.644646197918977,
          0.3405191044275489,
          -0.5869513434927006,
          0.6057526588583746,
          -0.6090378762951021,
          -0.6053756667519927,
          -0.5077643800003107,
          -0.11831713505783502,
          0.0772841209733001,
          -1.079143962694945,
          0.6421924296194518,
          -0.7342869017551911,
          0.3747947118786083,
          -0.8985410714526116,
          -0.4077602195941105,
          1.096632314433862,
          -0.21819366214148458,
          1.2748290281547345,
          1.1170432303274698,
          -1.3355018042419597,
          1.2539280605060212,
          -2.0016920046499513,
          -1.5912847766451046,
          -1.2367213276840676,
          -0.6268501842939774,
          2.239725088988013,
          -1.7202125797114263,
          -0.2341430854065092,
          0.9473191280590667,
          1.8854489628470505,
          -0.7088086714659899,
          -0.11971895755975852,
          2.149987730807073,
          0.5160745459556203,
          1.5894816906606406,
          -0.5376875768715552,
          0.15148547805887805,
          -1.5681217237305711,
          -1.1872436480091173,
          -0.03003254154562816,
          0.531073022327157,
          -1.8902567678320308,
          0.18309038504640895,
          -1.590926314275629,
          -0.3639671523206717,
          -0.7005279088637517,
          1.3071213031300326,
          0.22352094328783748,
          0.657188122982032,
          -1.3971069373000213,
          -1.4936972735308571,
          -0.04218252754657829,
          1.3940748384679986,
          0.02570639614840764,
          0.31717092566020877,
          0.10410423824524317,
          0.7679441595399223,
          1.913707476280961,
          -1.0077133808333165,
          0.6892149979004848,
          -0.1476642054451197,
          1.0900922537940012,
          1.6882242238899532,
          1.0797874178171067,
          0.3128804811307394,
          -0.6632850278706105,
          0.7184450644768325,
          0.009481033440586534,
          0.19541342278247828,
          -0.06809036565016305,
          0.13002041295311967,
          0.4253737131552673,
          -0.15640884491158638,
          -0.459949936453141,
          0.5012607753710484,
          0.09168095306275666,
          -0.573665263897562,
          0.5020182929025355,
          0.2131634119743709,
          0.8400086770423634,
          -0.5854344896140813,
          -1.8254585088559343,
          -0.8728328435647239,
          0.4375879807402787,
          0.4295935562283769,
          -0.2982583393695801,
          0.014394458130829785,
          2.3115924386378244,
          -0.08494449726433186,
          0.37362337450116667,
          -0.44395913565457745,
          0.16347766645252976,
          -0.4489417207964018,
          -0.908973637490416,
          -2.4643703523435545,
          -0.47030310802069547,
          -0.9793009615387731,
          0.03986659342197307,
          1.0879977973842703,
          0.8122688734028009,
          -0.5870822180112918,
          1.0790990894513754,
          0.23565369319670965,
          0.8159487562550157,
          -1.1901036893960106,
          1.6689269446334063,
          0.37274874648982304,
          -0.017195030409884966,
          -1.0746518223599455,
          -0.4110296048518622,
          0.29364144805027104,
          0.19856334592044053,
          0.13563206594819205,
          0.6441805710175389,
          0.8626732843675828,
          0.28107521281120207,
          -0.8952213878673523,
          -0.3298747004745189,
          0.4084780935295044,
          0.04571484954166233,
          1.7334572561092745,
          -0.44633969094192505,
          0.6907219316430796,
          -0.09397014425753901,
          -0.0014358075230664592,
          0.5823255217402604,
          0.13043372022642638,
          -0.3692656174995039,
          -0.6266401899654699,
          0.2945980273186708,
          -0.7072830498648491,
          -1.3985035847792533,
          0.6796177453807143,
          -0.04383187517926673,
          -1.3691576636579144,
          -0.9195794886037011,
          0.25064124349640643,
          -1.9198891181237727,
          -0.3941118364060651,
          1.5261736194874278,
          -1.5352671796352295,
          -0.5116140582553813,
          -0.23571367259282477,
          1.3725432516100848,
          0.5839104174590087,
          0.18118907570442386,
          -0.027816633819381202,
          -0.09097377924816243,
          -1.0537457110057706,
          0.19168744375963614,
          -0.9488749560198486,
          -0.4914645626925454,
          -0.2191601123596903,
          1.0995122717905175,
          0.7420129112199527,
          0.4469251454074081,
          -0.7144311674384745,
          -0.2398699857742305,
          1.251698956825049,
          0.6994118004066815,
          -1.8753863353180897,
          0.7658470181239935,
          -1.044670477396095,
          -0.764975144273009,
          0.8991338018905418,
          0.341565525720259,
          0.5242084148914394,
          -0.6011268617983363,
          0.07993791724132038,
          0.9491415500573182,
          -0.2555686571104777,
          0.3149315860847048,
          -0.026724185102848044,
          1.3417481931322937,
          2.0239165542347175,
          0.9532447857267999,
          0.20342827434863384,
          -0.004804216646011255,
          -0.4757625248871987,
          -0.8085439132830882,
          -0.39014622841191526,
          0.008743090686027261,
          0.06402900362830034,
          0.9228482257616205,
          1.141436069396138,
          -0.7995152242110816,
          -0.9437292007226847,
          0.9889530294407963,
          -0.0496395301223193,
          -1.0436207850502401,
          0.5621117066820838,
          1.159083051635582,
          0.6926643499755435,
          -0.31466620148986835,
          -1.5812996613657264,
          0.6410540957430617,
          0.11173675712963758,
          0.1461965404610626,
          -0.36325733179873065,
          0.8879576200969846,
          1.3098167989743434,
          -2.148378925039378,
          0.020775910533823348,
          -0.35998468465552225,
          1.7467476811067704,
          0.9324337477777096,
          -2.266421539127766,
          -1.9101814828716353,
          0.9695861229726253,
          1.5612679017742204,
          0.40944693898694223,
          -0.005201432629794434,
          -0.5090722187814963,
          -1.2149592061032162,
          -0.45641336338500293,
          0.5791551933222882,
          -0.007944444946903426,
          1.1516381039540913,
          1.2682150674509796,
          -0.20530851686193208,
          -0.8486075572927593,
          -1.8413105017502238,
          0.5099676144364224,
          -0.18718833587885803,
          -0.480155821075171,
          1.1832636968114456,
          -0.6988494010957101,
          0.653417667204782,
          -0.4420027503478292,
          0.8323138832423408,
          0.29434405544271947,
          -0.5783813911243378,
          -0.6854965931582873,
          0.37787396544663165,
          -0.14271356421637504,
          0.4707031548186037,
          0.16732627599633718,
          -0.6802283038631735,
          0.4518485401141379,
          -0.12142355513776783,
          1.7726063312367393,
          0.8706653770465482,
          0.6069514295150706,
          -0.629199145381944,
          -0.38917052563211707,
          -0.23140110198821953,
          0.14612991449142443,
          -0.6013686072156084,
          -0.8641799686404092,
          3.110353879939955,
          -2.373174750067662,
          1.0080493805796469,
          -1.0813934965885648,
          -0.11304984738135326,
          0.5218668835809402,
          1.299515560726499,
          0.3061263491022418,
          0.8501942492573709,
          -2.3903480601176135,
          -0.20750810022872404,
          -0.24356126123255512,
          -0.049918811587640485,
          0.15451407925515703,
          -0.16963374608163917,
          1.7593742436433846,
          1.378147045392506,
          1.3644426832417191,
          -0.24067065508760088,
          -1.1060878918390689,
          0.9209852866014282,
          0.26928783410855234,
          0.47667828761486747,
          0.10293755318440961,
          0.313897715263506,
          1.674111588767238,
          -1.8083150274152053,
          -1.0431993742251053,
          0.5183605915824809,
          2.1292110434709572,
          -0.5079505783884286,
          -0.9939205426658015,
          -0.18877206966238694,
          0.23286255498878658,
          -1.0699133448233151,
          -0.057307719915613696,
          -0.6820482764358308,
          -1.9448082550601764,
          0.6655447319055007,
          0.25252353681127443,
          0.31400419135150426,
          0.6677391826314725,
          0.614828762185084,
          -1.0627698654452216,
          -0.8462854922955295,
          1.103793606565116,
          -0.3940977208308538,
          0.6992486527416085,
          0.3434633468815823,
          0.21855995180610197,
          -0.5410454886474614,
          0.747332219809552,
          -1.171328044501972,
          1.8846828309126147,
          0.5871442567864196,
          -0.6157577785682421,
          -2.0266451921749904
         ],
         "xaxis": "x",
         "yaxis": "y"
        }
       ],
       "layout": {
        "barmode": "relative",
        "legend": {
         "title": {
          "text": "variable"
         },
         "tracegroupgap": 0
        },
        "margin": {
         "t": 60
        },
        "template": {
         "data": {
          "bar": [
           {
            "error_x": {
             "color": "#2a3f5f"
            },
            "error_y": {
             "color": "#2a3f5f"
            },
            "marker": {
             "line": {
              "color": "#E5ECF6",
              "width": 0.5
             },
             "pattern": {
              "fillmode": "overlay",
              "size": 10,
              "solidity": 0.2
             }
            },
            "type": "bar"
           }
          ],
          "barpolar": [
           {
            "marker": {
             "line": {
              "color": "#E5ECF6",
              "width": 0.5
             },
             "pattern": {
              "fillmode": "overlay",
              "size": 10,
              "solidity": 0.2
             }
            },
            "type": "barpolar"
           }
          ],
          "carpet": [
           {
            "aaxis": {
             "endlinecolor": "#2a3f5f",
             "gridcolor": "white",
             "linecolor": "white",
             "minorgridcolor": "white",
             "startlinecolor": "#2a3f5f"
            },
            "baxis": {
             "endlinecolor": "#2a3f5f",
             "gridcolor": "white",
             "linecolor": "white",
             "minorgridcolor": "white",
             "startlinecolor": "#2a3f5f"
            },
            "type": "carpet"
           }
          ],
          "choropleth": [
           {
            "colorbar": {
             "outlinewidth": 0,
             "ticks": ""
            },
            "type": "choropleth"
           }
          ],
          "contour": [
           {
            "colorbar": {
             "outlinewidth": 0,
             "ticks": ""
            },
            "colorscale": [
             [
              0,
              "#0d0887"
             ],
             [
              0.1111111111111111,
              "#46039f"
             ],
             [
              0.2222222222222222,
              "#7201a8"
             ],
             [
              0.3333333333333333,
              "#9c179e"
             ],
             [
              0.4444444444444444,
              "#bd3786"
             ],
             [
              0.5555555555555556,
              "#d8576b"
             ],
             [
              0.6666666666666666,
              "#ed7953"
             ],
             [
              0.7777777777777778,
              "#fb9f3a"
             ],
             [
              0.8888888888888888,
              "#fdca26"
             ],
             [
              1,
              "#f0f921"
             ]
            ],
            "type": "contour"
           }
          ],
          "contourcarpet": [
           {
            "colorbar": {
             "outlinewidth": 0,
             "ticks": ""
            },
            "type": "contourcarpet"
           }
          ],
          "heatmap": [
           {
            "colorbar": {
             "outlinewidth": 0,
             "ticks": ""
            },
            "colorscale": [
             [
              0,
              "#0d0887"
             ],
             [
              0.1111111111111111,
              "#46039f"
             ],
             [
              0.2222222222222222,
              "#7201a8"
             ],
             [
              0.3333333333333333,
              "#9c179e"
             ],
             [
              0.4444444444444444,
              "#bd3786"
             ],
             [
              0.5555555555555556,
              "#d8576b"
             ],
             [
              0.6666666666666666,
              "#ed7953"
             ],
             [
              0.7777777777777778,
              "#fb9f3a"
             ],
             [
              0.8888888888888888,
              "#fdca26"
             ],
             [
              1,
              "#f0f921"
             ]
            ],
            "type": "heatmap"
           }
          ],
          "heatmapgl": [
           {
            "colorbar": {
             "outlinewidth": 0,
             "ticks": ""
            },
            "colorscale": [
             [
              0,
              "#0d0887"
             ],
             [
              0.1111111111111111,
              "#46039f"
             ],
             [
              0.2222222222222222,
              "#7201a8"
             ],
             [
              0.3333333333333333,
              "#9c179e"
             ],
             [
              0.4444444444444444,
              "#bd3786"
             ],
             [
              0.5555555555555556,
              "#d8576b"
             ],
             [
              0.6666666666666666,
              "#ed7953"
             ],
             [
              0.7777777777777778,
              "#fb9f3a"
             ],
             [
              0.8888888888888888,
              "#fdca26"
             ],
             [
              1,
              "#f0f921"
             ]
            ],
            "type": "heatmapgl"
           }
          ],
          "histogram": [
           {
            "marker": {
             "pattern": {
              "fillmode": "overlay",
              "size": 10,
              "solidity": 0.2
             }
            },
            "type": "histogram"
           }
          ],
          "histogram2d": [
           {
            "colorbar": {
             "outlinewidth": 0,
             "ticks": ""
            },
            "colorscale": [
             [
              0,
              "#0d0887"
             ],
             [
              0.1111111111111111,
              "#46039f"
             ],
             [
              0.2222222222222222,
              "#7201a8"
             ],
             [
              0.3333333333333333,
              "#9c179e"
             ],
             [
              0.4444444444444444,
              "#bd3786"
             ],
             [
              0.5555555555555556,
              "#d8576b"
             ],
             [
              0.6666666666666666,
              "#ed7953"
             ],
             [
              0.7777777777777778,
              "#fb9f3a"
             ],
             [
              0.8888888888888888,
              "#fdca26"
             ],
             [
              1,
              "#f0f921"
             ]
            ],
            "type": "histogram2d"
           }
          ],
          "histogram2dcontour": [
           {
            "colorbar": {
             "outlinewidth": 0,
             "ticks": ""
            },
            "colorscale": [
             [
              0,
              "#0d0887"
             ],
             [
              0.1111111111111111,
              "#46039f"
             ],
             [
              0.2222222222222222,
              "#7201a8"
             ],
             [
              0.3333333333333333,
              "#9c179e"
             ],
             [
              0.4444444444444444,
              "#bd3786"
             ],
             [
              0.5555555555555556,
              "#d8576b"
             ],
             [
              0.6666666666666666,
              "#ed7953"
             ],
             [
              0.7777777777777778,
              "#fb9f3a"
             ],
             [
              0.8888888888888888,
              "#fdca26"
             ],
             [
              1,
              "#f0f921"
             ]
            ],
            "type": "histogram2dcontour"
           }
          ],
          "mesh3d": [
           {
            "colorbar": {
             "outlinewidth": 0,
             "ticks": ""
            },
            "type": "mesh3d"
           }
          ],
          "parcoords": [
           {
            "line": {
             "colorbar": {
              "outlinewidth": 0,
              "ticks": ""
             }
            },
            "type": "parcoords"
           }
          ],
          "pie": [
           {
            "automargin": true,
            "type": "pie"
           }
          ],
          "scatter": [
           {
            "fillpattern": {
             "fillmode": "overlay",
             "size": 10,
             "solidity": 0.2
            },
            "type": "scatter"
           }
          ],
          "scatter3d": [
           {
            "line": {
             "colorbar": {
              "outlinewidth": 0,
              "ticks": ""
             }
            },
            "marker": {
             "colorbar": {
              "outlinewidth": 0,
              "ticks": ""
             }
            },
            "type": "scatter3d"
           }
          ],
          "scattercarpet": [
           {
            "marker": {
             "colorbar": {
              "outlinewidth": 0,
              "ticks": ""
             }
            },
            "type": "scattercarpet"
           }
          ],
          "scattergeo": [
           {
            "marker": {
             "colorbar": {
              "outlinewidth": 0,
              "ticks": ""
             }
            },
            "type": "scattergeo"
           }
          ],
          "scattergl": [
           {
            "marker": {
             "colorbar": {
              "outlinewidth": 0,
              "ticks": ""
             }
            },
            "type": "scattergl"
           }
          ],
          "scattermapbox": [
           {
            "marker": {
             "colorbar": {
              "outlinewidth": 0,
              "ticks": ""
             }
            },
            "type": "scattermapbox"
           }
          ],
          "scatterpolar": [
           {
            "marker": {
             "colorbar": {
              "outlinewidth": 0,
              "ticks": ""
             }
            },
            "type": "scatterpolar"
           }
          ],
          "scatterpolargl": [
           {
            "marker": {
             "colorbar": {
              "outlinewidth": 0,
              "ticks": ""
             }
            },
            "type": "scatterpolargl"
           }
          ],
          "scatterternary": [
           {
            "marker": {
             "colorbar": {
              "outlinewidth": 0,
              "ticks": ""
             }
            },
            "type": "scatterternary"
           }
          ],
          "surface": [
           {
            "colorbar": {
             "outlinewidth": 0,
             "ticks": ""
            },
            "colorscale": [
             [
              0,
              "#0d0887"
             ],
             [
              0.1111111111111111,
              "#46039f"
             ],
             [
              0.2222222222222222,
              "#7201a8"
             ],
             [
              0.3333333333333333,
              "#9c179e"
             ],
             [
              0.4444444444444444,
              "#bd3786"
             ],
             [
              0.5555555555555556,
              "#d8576b"
             ],
             [
              0.6666666666666666,
              "#ed7953"
             ],
             [
              0.7777777777777778,
              "#fb9f3a"
             ],
             [
              0.8888888888888888,
              "#fdca26"
             ],
             [
              1,
              "#f0f921"
             ]
            ],
            "type": "surface"
           }
          ],
          "table": [
           {
            "cells": {
             "fill": {
              "color": "#EBF0F8"
             },
             "line": {
              "color": "white"
             }
            },
            "header": {
             "fill": {
              "color": "#C8D4E3"
             },
             "line": {
              "color": "white"
             }
            },
            "type": "table"
           }
          ]
         },
         "layout": {
          "annotationdefaults": {
           "arrowcolor": "#2a3f5f",
           "arrowhead": 0,
           "arrowwidth": 1
          },
          "autotypenumbers": "strict",
          "coloraxis": {
           "colorbar": {
            "outlinewidth": 0,
            "ticks": ""
           }
          },
          "colorscale": {
           "diverging": [
            [
             0,
             "#8e0152"
            ],
            [
             0.1,
             "#c51b7d"
            ],
            [
             0.2,
             "#de77ae"
            ],
            [
             0.3,
             "#f1b6da"
            ],
            [
             0.4,
             "#fde0ef"
            ],
            [
             0.5,
             "#f7f7f7"
            ],
            [
             0.6,
             "#e6f5d0"
            ],
            [
             0.7,
             "#b8e186"
            ],
            [
             0.8,
             "#7fbc41"
            ],
            [
             0.9,
             "#4d9221"
            ],
            [
             1,
             "#276419"
            ]
           ],
           "sequential": [
            [
             0,
             "#0d0887"
            ],
            [
             0.1111111111111111,
             "#46039f"
            ],
            [
             0.2222222222222222,
             "#7201a8"
            ],
            [
             0.3333333333333333,
             "#9c179e"
            ],
            [
             0.4444444444444444,
             "#bd3786"
            ],
            [
             0.5555555555555556,
             "#d8576b"
            ],
            [
             0.6666666666666666,
             "#ed7953"
            ],
            [
             0.7777777777777778,
             "#fb9f3a"
            ],
            [
             0.8888888888888888,
             "#fdca26"
            ],
            [
             1,
             "#f0f921"
            ]
           ],
           "sequentialminus": [
            [
             0,
             "#0d0887"
            ],
            [
             0.1111111111111111,
             "#46039f"
            ],
            [
             0.2222222222222222,
             "#7201a8"
            ],
            [
             0.3333333333333333,
             "#9c179e"
            ],
            [
             0.4444444444444444,
             "#bd3786"
            ],
            [
             0.5555555555555556,
             "#d8576b"
            ],
            [
             0.6666666666666666,
             "#ed7953"
            ],
            [
             0.7777777777777778,
             "#fb9f3a"
            ],
            [
             0.8888888888888888,
             "#fdca26"
            ],
            [
             1,
             "#f0f921"
            ]
           ]
          },
          "colorway": [
           "#636efa",
           "#EF553B",
           "#00cc96",
           "#ab63fa",
           "#FFA15A",
           "#19d3f3",
           "#FF6692",
           "#B6E880",
           "#FF97FF",
           "#FECB52"
          ],
          "font": {
           "color": "#2a3f5f"
          },
          "geo": {
           "bgcolor": "white",
           "lakecolor": "white",
           "landcolor": "#E5ECF6",
           "showlakes": true,
           "showland": true,
           "subunitcolor": "white"
          },
          "hoverlabel": {
           "align": "left"
          },
          "hovermode": "closest",
          "mapbox": {
           "style": "light"
          },
          "paper_bgcolor": "white",
          "plot_bgcolor": "#E5ECF6",
          "polar": {
           "angularaxis": {
            "gridcolor": "white",
            "linecolor": "white",
            "ticks": ""
           },
           "bgcolor": "#E5ECF6",
           "radialaxis": {
            "gridcolor": "white",
            "linecolor": "white",
            "ticks": ""
           }
          },
          "scene": {
           "xaxis": {
            "backgroundcolor": "#E5ECF6",
            "gridcolor": "white",
            "gridwidth": 2,
            "linecolor": "white",
            "showbackground": true,
            "ticks": "",
            "zerolinecolor": "white"
           },
           "yaxis": {
            "backgroundcolor": "#E5ECF6",
            "gridcolor": "white",
            "gridwidth": 2,
            "linecolor": "white",
            "showbackground": true,
            "ticks": "",
            "zerolinecolor": "white"
           },
           "zaxis": {
            "backgroundcolor": "#E5ECF6",
            "gridcolor": "white",
            "gridwidth": 2,
            "linecolor": "white",
            "showbackground": true,
            "ticks": "",
            "zerolinecolor": "white"
           }
          },
          "shapedefaults": {
           "line": {
            "color": "#2a3f5f"
           }
          },
          "ternary": {
           "aaxis": {
            "gridcolor": "white",
            "linecolor": "white",
            "ticks": ""
           },
           "baxis": {
            "gridcolor": "white",
            "linecolor": "white",
            "ticks": ""
           },
           "bgcolor": "#E5ECF6",
           "caxis": {
            "gridcolor": "white",
            "linecolor": "white",
            "ticks": ""
           }
          },
          "title": {
           "x": 0.05
          },
          "xaxis": {
           "automargin": true,
           "gridcolor": "white",
           "linecolor": "white",
           "ticks": "",
           "title": {
            "standoff": 15
           },
           "zerolinecolor": "white",
           "zerolinewidth": 2
          },
          "yaxis": {
           "automargin": true,
           "gridcolor": "white",
           "linecolor": "white",
           "ticks": "",
           "title": {
            "standoff": 15
           },
           "zerolinecolor": "white",
           "zerolinewidth": 2
          }
         }
        },
        "xaxis": {
         "anchor": "y",
         "domain": [
          0,
          1
         ],
         "title": {
          "text": "value"
         }
        },
        "yaxis": {
         "anchor": "x",
         "domain": [
          0,
          1
         ],
         "title": {
          "text": "count"
         }
        }
       }
      }
     },
     "metadata": {},
     "output_type": "display_data"
    }
   ],
   "source": [
    "px.histogram(x , nbins = 50)"
   ]
  },
  {
   "cell_type": "code",
   "execution_count": 9,
   "metadata": {},
   "outputs": [
    {
     "data": {
      "image/png": "[encoded data removed]",
      "text/plain": [
       "<Figure size 640x480 with 1 Axes>"
      ]
     },
     "metadata": {},
     "output_type": "display_data"
    }
   ],
   "source": [
    "#box plot\n",
    "x= np.random.normal(size = 1000 )\n",
    "plt.boxplot(x)\n",
    "plt.show()"
   ]
  },
  {
   "cell_type": "code",
   "execution_count": 10,
   "metadata": {},
   "outputs": [
    {
     "data": {
      "text/plain": [
       "<Axes: >"
      ]
     },
     "execution_count": 10,
     "metadata": {},
     "output_type": "execute_result"
    },
    {
     "data": {
      "image/png": "[encoded data removed]",
      "text/plain": [
       "<Figure size 640x480 with 1 Axes>"
      ]
     },
     "metadata": {},
     "output_type": "display_data"
    }
   ],
   "source": [
    "sns.boxplot(x)"
   ]
  },
  {
   "cell_type": "code",
   "execution_count": 11,
   "metadata": {},
   "outputs": [
    {
     "data": {
      "application/vnd.plotly.v1+json": {
       "config": {
        "plotlyServerURL": "https://plot.ly"
       },
       "data": [
        {
         "alignmentgroup": "True",
         "hovertemplate": "variable=%{x}<br>value=%{y}<extra></extra>",
         "legendgroup": "",
         "marker": {
          "color": "#636efa"
         },
         "name": "",
         "notched": false,
         "offsetgroup": "",
         "orientation": "v",
         "showlegend": false,
         "type": "box",
         "x": [
          "0",
          "0",
          "0",
          "0",
          "0",
          "0",
          "0",
          "0",
          "0",
          "0",
          "0",
          "0",
          "0",
          "0",
          "0",
          "0",
          "0",
          "0",
          "0",
          "0",
          "0",
          "0",
          "0",
          "0",
          "0",
          "0",
          "0",
          "0",
          "0",
          "0",
          "0",
          "0",
          "0",
          "0",
          "0",
          "0",
          "0",
          "0",
          "0",
          "0",
          "0",
          "0",
          "0",
          "0",
          "0",
          "0",
          "0",
          "0",
          "0",
          "0",
          "0",
          "0",
          "0",
          "0",
          "0",
          "0",
          "0",
          "0",
          "0",
          "0",
          "0",
          "0",
          "0",
          "0",
          "0",
          "0",
          "0",
          "0",
          "0",
          "0",
          "0",
          "0",
          "0",
          "0",
          "0",
          "0",
          "0",
          "0",
          "0",
          "0",
          "0",
          "0",
          "0",
          "0",
          "0",
          "0",
          "0",
          "0",
          "0",
          "0",
          "0",
          "0",
          "0",
          "0",
          "0",
          "0",
          "0",
          "0",
          "0",
          "0",
          "0",
          "0",
          "0",
          "0",
          "0",
          "0",
          "0",
          "0",
          "0",
          "0",
          "0",
          "0",
          "0",
          "0",
          "0",
          "0",
          "0",
          "0",
          "0",
          "0",
          "0",
          "0",
          "0",
          "0",
          "0",
          "0",
          "0",
          "0",
          "0",
          "0",
          "0",
          "0",
          "0",
          "0",
          "0",
          "0",
          "0",
          "0",
          "0",
          "0",
          "0",
          "0",
          "0",
          "0",
          "0",
          "0",
          "0",
          "0",
          "0",
          "0",
          "0",
          "0",
          "0",
          "0",
          "0",
          "0",
          "0",
          "0",
          "0",
          "0",
          "0",
          "0",
          "0",
          "0",
          "0",
          "0",
          "0",
          "0",
          "0",
          "0",
          "0",
          "0",
          "0",
          "0",
          "0",
          "0",
          "0",
          "0",
          "0",
          "0",
          "0",
          "0",
          "0",
          "0",
          "0",
          "0",
          "0",
          "0",
          "0",
          "0",
          "0",
          "0",
          "0",
          "0",
          "0",
          "0",
          "0",
          "0",
          "0",
          "0",
          "0",
          "0",
          "0",
          "0",
          "0",
          "0",
          "0",
          "0",
          "0",
          "0",
          "0",
          "0",
          "0",
          "0",
          "0",
          "0",
          "0",
          "0",
          "0",
          "0",
          "0",
          "0",
          "0",
          "0",
          "0",
          "0",
          "0",
          "0",
          "0",
          "0",
          "0",
          "0",
          "0",
          "0",
          "0",
          "0",
          "0",
          "0",
          "0",
          "0",
          "0",
          "0",
          "0",
          "0",
          "0",
          "0",
          "0",
          "0",
          "0",
          "0",
          "0",
          "0",
          "0",
          "0",
          "0",
          "0",
          "0",
          "0",
          "0",
          "0",
          "0",
          "0",
          "0",
          "0",
          "0",
          "0",
          "0",
          "0",
          "0",
          "0",
          "0",
          "0",
          "0",
          "0",
          "0",
          "0",
          "0",
          "0",
          "0",
          "0",
          "0",
          "0",
          "0",
          "0",
          "0",
          "0",
          "0",
          "0",
          "0",
          "0",
          "0",
          "0",
          "0",
          "0",
          "0",
          "0",
          "0",
          "0",
          "0",
          "0",
          "0",
          "0",
          "0",
          "0",
          "0",
          "0",
          "0",
          "0",
          "0",
          "0",
          "0",
          "0",
          "0",
          "0",
          "0",
          "0",
          "0",
          "0",
          "0",
          "0",
          "0",
          "0",
          "0",
          "0",
          "0",
          "0",
          "0",
          "0",
          "0",
          "0",
          "0",
          "0",
          "0",
          "0",
          "0",
          "0",
          "0",
          "0",
          "0",
          "0",
          "0",
          "0",
          "0",
          "0",
          "0",
          "0",
          "0",
          "0",
          "0",
          "0",
          "0",
          "0",
          "0",
          "0",
          "0",
          "0",
          "0",
          "0",
          "0",
          "0",
          "0",
          "0",
          "0",
          "0",
          "0",
          "0",
          "0",
          "0",
          "0",
          "0",
          "0",
          "0",
          "0",
          "0",
          "0",
          "0",
          "0",
          "0",
          "0",
          "0",
          "0",
          "0",
          "0",
          "0",
          "0",
          "0",
          "0",
          "0",
          "0",
          "0",
          "0",
          "0",
          "0",
          "0",
          "0",
          "0",
          "0",
          "0",
          "0",
          "0",
          "0",
          "0",
          "0",
          "0",
          "0",
          "0",
          "0",
          "0",
          "0",
          "0",
          "0",
          "0",
          "0",
          "0",
          "0",
          "0",
          "0",
          "0",
          "0",
          "0",
          "0",
          "0",
          "0",
          "0",
          "0",
          "0",
          "0",
          "0",
          "0",
          "0",
          "0",
          "0",
          "0",
          "0",
          "0",
          "0",
          "0",
          "0",
          "0",
          "0",
          "0",
          "0",
          "0",
          "0",
          "0",
          "0",
          "0",
          "0",
          "0",
          "0",
          "0",
          "0",
          "0",
          "0",
          "0",
          "0",
          "0",
          "0",
          "0",
          "0",
          "0",
          "0",
          "0",
          "0",
          "0",
          "0",
          "0",
          "0",
          "0",
          "0",
          "0",
          "0",
          "0",
          "0",
          "0",
          "0",
          "0",
          "0",
          "0",
          "0",
          "0",
          "0",
          "0",
          "0",
          "0",
          "0",
          "0",
          "0",
          "0",
          "0",
          "0",
          "0",
          "0",
          "0",
          "0",
          "0",
          "0",
          "0",
          "0",
          "0",
          "0",
          "0",
          "0",
          "0",
          "0",
          "0",
          "0",
          "0",
          "0",
          "0",
          "0",
          "0",
          "0",
          "0",
          "0",
          "0",
          "0",
          "0",
          "0",
          "0",
          "0",
          "0",
          "0",
          "0",
          "0",
          "0",
          "0",
          "0",
          "0",
          "0",
          "0",
          "0",
          "0",
          "0",
          "0",
          "0",
          "0",
          "0",
          "0",
          "0",
          "0",
          "0",
          "0",
          "0",
          "0",
          "0",
          "0",
          "0",
          "0",
          "0",
          "0",
          "0",
          "0",
          "0",
          "0",
          "0",
          "0",
          "0",
          "0",
          "0",
          "0",
          "0",
          "0",
          "0",
          "0",
          "0",
          "0",
          "0",
          "0",
          "0",
          "0",
          "0",
          "0",
          "0",
          "0",
          "0",
          "0",
          "0",
          "0",
          "0",
          "0",
          "0",
          "0",
          "0",
          "0",
          "0",
          "0",
          "0",
          "0",
          "0",
          "0",
          "0",
          "0",
          "0",
          "0",
          "0",
          "0",
          "0",
          "0",
          "0",
          "0",
          "0",
          "0",
          "0",
          "0",
          "0",
          "0",
          "0",
          "0",
          "0",
          "0",
          "0",
          "0",
          "0",
          "0",
          "0",
          "0",
          "0",
          "0",
          "0",
          "0",
          "0",
          "0",
          "0",
          "0",
          "0",
          "0",
          "0",
          "0",
          "0",
          "0",
          "0",
          "0",
          "0",
          "0",
          "0",
          "0",
          "0",
          "0",
          "0",
          "0",
          "0",
          "0",
          "0",
          "0",
          "0",
          "0",
          "0",
          "0",
          "0",
          "0",
          "0",
          "0",
          "0",
          "0",
          "0",
          "0",
          "0",
          "0",
          "0",
          "0",
          "0",
          "0",
          "0",
          "0",
          "0",
          "0",
          "0",
          "0",
          "0",
          "0",
          "0",
          "0",
          "0",
          "0",
          "0",
          "0",
          "0",
          "0",
          "0",
          "0",
          "0",
          "0",
          "0",
          "0",
          "0",
          "0",
          "0",
          "0",
          "0",
          "0",
          "0",
          "0",
          "0",
          "0",
          "0",
          "0",
          "0",
          "0",
          "0",
          "0",
          "0",
          "0",
          "0",
          "0",
          "0",
          "0",
          "0",
          "0",
          "0",
          "0",
          "0",
          "0",
          "0",
          "0",
          "0",
          "0",
          "0",
          "0",
          "0",
          "0",
          "0",
          "0",
          "0",
          "0",
          "0",
          "0",
          "0",
          "0",
          "0",
          "0",
          "0",
          "0",
          "0",
          "0",
          "0",
          "0",
          "0",
          "0",
          "0",
          "0",
          "0",
          "0",
          "0",
          "0",
          "0",
          "0",
          "0",
          "0",
          "0",
          "0",
          "0",
          "0",
          "0",
          "0",
          "0",
          "0",
          "0",
          "0",
          "0",
          "0",
          "0",
          "0",
          "0",
          "0",
          "0",
          "0",
          "0",
          "0",
          "0",
          "0",
          "0",
          "0",
          "0",
          "0",
          "0",
          "0",
          "0",
          "0",
          "0",
          "0",
          "0",
          "0",
          "0",
          "0",
          "0",
          "0",
          "0",
          "0",
          "0",
          "0",
          "0",
          "0",
          "0",
          "0",
          "0",
          "0",
          "0",
          "0",
          "0",
          "0",
          "0",
          "0",
          "0",
          "0",
          "0",
          "0",
          "0",
          "0",
          "0",
          "0",
          "0",
          "0",
          "0",
          "0",
          "0",
          "0",
          "0",
          "0",
          "0",
          "0",
          "0",
          "0",
          "0",
          "0",
          "0",
          "0",
          "0",
          "0",
          "0",
          "0",
          "0",
          "0",
          "0",
          "0",
          "0",
          "0",
          "0",
          "0",
          "0",
          "0",
          "0",
          "0",
          "0",
          "0",
          "0",
          "0",
          "0",
          "0",
          "0",
          "0",
          "0",
          "0",
          "0",
          "0",
          "0",
          "0",
          "0",
          "0",
          "0",
          "0",
          "0",
          "0",
          "0",
          "0",
          "0",
          "0",
          "0",
          "0",
          "0",
          "0",
          "0",
          "0",
          "0",
          "0",
          "0",
          "0",
          "0",
          "0",
          "0",
          "0",
          "0",
          "0",
          "0",
          "0",
          "0",
          "0",
          "0",
          "0",
          "0",
          "0",
          "0",
          "0",
          "0",
          "0",
          "0",
          "0",
          "0",
          "0",
          "0",
          "0",
          "0",
          "0",
          "0",
          "0",
          "0",
          "0",
          "0",
          "0",
          "0",
          "0",
          "0",
          "0",
          "0",
          "0",
          "0",
          "0",
          "0",
          "0",
          "0",
          "0",
          "0",
          "0",
          "0",
          "0",
          "0",
          "0",
          "0",
          "0",
          "0",
          "0",
          "0",
          "0",
          "0",
          "0",
          "0",
          "0",
          "0",
          "0",
          "0",
          "0",
          "0",
          "0",
          "0",
          "0",
          "0",
          "0",
          "0",
          "0",
          "0",
          "0",
          "0",
          "0",
          "0",
          "0",
          "0",
          "0",
          "0",
          "0",
          "0",
          "0",
          "0",
          "0",
          "0",
          "0",
          "0",
          "0",
          "0",
          "0",
          "0",
          "0",
          "0",
          "0",
          "0",
          "0",
          "0",
          "0",
          "0",
          "0",
          "0",
          "0",
          "0",
          "0",
          "0",
          "0",
          "0",
          "0",
          "0",
          "0",
          "0",
          "0",
          "0",
          "0",
          "0",
          "0",
          "0",
          "0",
          "0",
          "0",
          "0"
         ],
         "x0": " ",
         "xaxis": "x",
         "y": [
          -0.3409126303744598,
          -0.2817494800523199,
          1.0759593878226756,
          0.633565454814378,
          0.40469740313308766,
          0.5402325126631704,
          0.05552724260589136,
          0.12512469112709826,
          -0.326984751812925,
          1.063276323894169,
          -0.645588487583684,
          0.26747115171996255,
          0.1523185667499612,
          -1.7082184362766528,
          0.46438730563817654,
          0.8767497615507097,
          -0.6486266479150611,
          -0.31060032300695667,
          -0.12325842534260169,
          -0.36983188465137107,
          0.16387674010637585,
          0.04439455304093457,
          -0.503450679617405,
          0.20802695975299232,
          0.175243130145256,
          0.6300563075537865,
          0.8168510210029356,
          0.45409773264942804,
          0.08753936446889424,
          0.22893242192517707,
          0.9843118097654181,
          0.22458408172646466,
          1.6207505434806264,
          -0.7700319176923545,
          0.06821092096056987,
          -1.0297402693859472,
          0.7824630891703952,
          1.343186351232678,
          -0.6517202018987597,
          -1.4301558040706925,
          -1.124540653079276,
          0.16426316747166425,
          -1.1955406706462681,
          -0.3681633850838545,
          -0.17995395952141802,
          0.2945657612361677,
          1.064655216768972,
          -1.1858758227122892,
          0.9382893775184509,
          -0.07862625452227381,
          2.1759787051385002,
          -1.1209205056816334,
          1.7320698822405045,
          -0.13213357568394668,
          -0.7957948709716608,
          1.2421885845388567,
          -0.45782464132532324,
          0.3445603032580307,
          1.1797521200240555,
          0.942110970847119,
          0.45315461737811236,
          -0.5650376406918532,
          2.2217616880690954,
          -0.07243415007945642,
          0.01438032827862541,
          -0.6677156639115047,
          0.0031796479997686657,
          1.6110607121164275,
          -1.8376427739471446,
          0.3841363451273862,
          -0.09151064013840984,
          -0.8429189941006314,
          -0.42659439559072687,
          0.3691389916989376,
          -1.5245370213385514,
          -1.284574461667083,
          0.9017791776774148,
          0.2883297231249364,
          -1.0050321877154518,
          0.5446485363314907,
          0.003270722058564445,
          -2.7088510735197344,
          0.7522667331467293,
          1.2284651610645414,
          0.005469036269093199,
          -0.8709265802084758,
          -1.4459588830260206,
          1.195412629258667,
          2.75252877659057,
          -0.2394133430064984,
          -1.5722418729160035,
          0.1657806122238246,
          -0.05584655192744129,
          -1.828166331129518,
          -1.6095633378913958,
          -0.026732976355122815,
          -1.080785877209082,
          1.802529180331081,
          -0.5916704827968321,
          -1.0627361147927392,
          1.08418603350792,
          0.2173397275211512,
          1.3233031607398824,
          -0.5507840995825071,
          -0.9237681708508452,
          -1.2135565235604513,
          -0.2525299700338439,
          0.8478970930486347,
          1.7383410126282524,
          -0.5869280654288589,
          0.26647597212671503,
          -0.5298660218817163,
          0.042478510255820175,
          0.12212170750643357,
          0.13589153917582206,
          0.9375367144470144,
          -0.35577356238025293,
          0.39811609332984893,
          1.3694703366738723,
          -0.7299008760009515,
          -0.6089822188255701,
          0.21688907649723632,
          0.2887271633051646,
          -0.8121556469629172,
          -0.4758715354395913,
          -1.2887603795974376,
          0.4224361177555252,
          -1.2378212937934048,
          2.4222788912612367,
          -1.2770255708660556,
          0.5376007117749846,
          0.26733879397943505,
          1.32724785948431,
          1.433874122655566,
          -0.9382947439349623,
          0.04264699521329717,
          0.19280577424666898,
          -2.331029938028003,
          -0.5144467229060111,
          0.06968919187407804,
          2.3343040940250654,
          -0.5829336474248704,
          -1.9344186147480007,
          -0.5926618731568815,
          0.2653193895211106,
          1.127690454897973,
          1.18423360533346,
          1.1964698409204568,
          1.4821007812286453,
          -0.003735155049698879,
          -0.04868211726245829,
          -0.09160532885367483,
          1.1347302781928919,
          -0.10287154471323287,
          0.7229533514556218,
          1.203878517620835,
          -0.5871414021899842,
          0.037015748309610894,
          0.28300271349666006,
          -2.4663927784037503,
          2.46079070702741,
          0.1337390746751105,
          0.4792055948395112,
          0.9865790895718181,
          -0.44616663662263445,
          0.547447380330607,
          -0.017844576535076814,
          0.11655953871679675,
          0.11982051106742755,
          -0.0029737674643701755,
          0.8389417061792488,
          1.7502423726655465,
          -0.16494580119413588,
          0.9797846944148398,
          0.3485183634381913,
          2.380136108886186,
          -0.6913486949747151,
          0.7699078522282699,
          -0.5443674887051857,
          0.1557651735521843,
          0.10596543256791467,
          1.6831281130637947,
          -1.9449756669352396,
          -0.039483642796224815,
          0.9966133149500006,
          1.5014064304396022,
          -1.5049082085708667,
          -1.1440849074781736,
          1.015076665175604,
          0.7637762946013702,
          -0.0811377035471494,
          0.9872539211030094,
          1.382866422900037,
          -1.0675174881277347,
          0.09942111576120767,
          0.5763153762116061,
          -0.6602052679253488,
          -1.2184669975765328,
          -0.19132243750297395,
          0.807058172479539,
          -1.2424991345677985,
          -1.960102349360541,
          1.0912828162892136,
          -0.30051436531069714,
          0.8083407955897561,
          -0.881980710649361,
          0.9322446041161198,
          -2.1787404487978925,
          0.8129738267728662,
          -1.2179469954226143,
          0.3911693106492139,
          1.3552034987637376,
          0.1991769150486305,
          -0.47096102551727304,
          -0.46767214495448756,
          1.498226730587981,
          -0.0663808694164018,
          0.6248059620059334,
          2.615459277141987,
          1.7461974323475404,
          -2.3587312776960534,
          1.4417207844278341,
          -1.151327258656114,
          0.11609688184528934,
          0.9058555153088642,
          0.2205308182163388,
          1.3918551784208422,
          -1.471891498488476,
          -0.29152664248422444,
          0.9623451494834089,
          0.3825726444562117,
          -0.12417619186798107,
          0.7841936491917688,
          0.8505396936359221,
          1.391293038644216,
          1.45824490652801,
          0.21932614081239582,
          -0.5650426374156198,
          -1.09938130901039,
          -0.11628467546256682,
          -0.6722839547570676,
          1.1589622005733382,
          -0.9235276737558344,
          -1.1443300960934757,
          1.0711423925106824,
          -0.629635180558433,
          2.2555592772523414,
          1.2760223593737168,
          -1.3177222452754385,
          -0.7381687767537161,
          0.17006223960914443,
          -1.1639061129074675,
          0.012450672755304433,
          -1.5850554598297408,
          0.2569485753932067,
          1.1651598106029022,
          0.42712290151078175,
          -0.5502994476668054,
          -1.775547174748305,
          -0.31841437067877915,
          0.8695460550041579,
          -0.2525919236463411,
          -0.24468548748276298,
          -0.37710663309335785,
          -0.5922343730317252,
          -0.7655617507010325,
          0.2742975420688252,
          0.7703264845423228,
          -0.3626197469445915,
          1.1259542983791944,
          -1.6224160112656238,
          -0.18074741289889526,
          2.22161696365027,
          -0.513215616534843,
          0.6853292779941274,
          -0.35484895404371275,
          -0.5220992949508219,
          -0.29439756761502067,
          0.33845686217590937,
          0.04065534996485448,
          -0.08392548928757872,
          -0.5209840772613614,
          -0.4136134920869806,
          -3.8124740766238343,
          0.4410254151506882,
          -0.6841980666550267,
          1.2087727381902416,
          -1.0549147254803368,
          -0.3175377811233539,
          -1.00064661598802,
          0.4699157637047649,
          -0.3275999018763327,
          0.18953080144534878,
          0.4663732930601184,
          0.21714298364195034,
          0.07375653438934462,
          -0.4987883628175702,
          -1.0306222190036027,
          0.3503139159144011,
          -1.6437434726006896,
          -1.624797556861204,
          0.027926924889899694,
          -2.2902193482293507,
          0.664456080138189,
          -0.18997184931623154,
          -0.567299133148932,
          0.2738955310495619,
          -0.9805667373882463,
          0.26372378026291254,
          1.5032311618255032,
          -0.5944908318907816,
          0.23255092042228212,
          -0.16972857279308656,
          -0.148317252228065,
          -1.5734289255169114,
          0.3968217161417856,
          -0.695629739732785,
          -0.6599697754374105,
          -0.1419442729199677,
          0.7912482047915641,
          -1.1655443821215417,
          -0.12449415516110236,
          0.40004165523756685,
          0.20757587479743525,
          -1.5854883238487307,
          0.06426148446567158,
          1.2758879946410633,
          0.8200386014288469,
          1.621759288982875,
          0.7721125425462609,
          -1.8850517737409904,
          0.8155847835477462,
          0.9729339467825054,
          0.6566891939061352,
          0.664224598225188,
          -0.3227468581213622,
          -0.6522952133464668,
          1.9553002789772724,
          1.290004716035129,
          1.2683509320393824,
          -0.6027778522457762,
          -0.28698060942840886,
          0.19813235756197745,
          0.19930957898993676,
          -0.32536585775449095,
          -0.44912534983247976,
          -0.9686518863648415,
          1.222494737013546,
          0.510619001232266,
          0.8888068708982848,
          2.1194954122247363,
          -0.20328979814026052,
          -0.17648397612036293,
          0.3353503887540694,
          1.0198061911617216,
          -1.0559072221409782,
          0.18803327378918455,
          -0.6052575732107393,
          0.01725164096063252,
          -1.021540078705355,
          0.476604760458657,
          -1.9617675950794118,
          0.5275831921452838,
          -0.8648722298046482,
          0.23155932178334973,
          -1.6199858008704724,
          0.16362410560573895,
          -0.8579857272886069,
          -0.03750941192452221,
          0.8952383601780737,
          -1.0790714501182423,
          2.212536427407794,
          -0.28648663425664894,
          -0.08698800217072994,
          0.8458428564988488,
          -0.8672145245203173,
          0.22441475792040633,
          -0.18701757576554526,
          -0.4533016243168363,
          0.08997627174683807,
          0.3833339970569985,
          -0.49987746840937836,
          0.7836836557541108,
          1.3213912602609763,
          0.377155019540952,
          0.1099353713935793,
          0.9196612013409853,
          0.8584841994952725,
          0.7960395304672984,
          1.785103190704328,
          -0.49709580089995886,
          0.3934020244804072,
          0.42973422046809284,
          0.3367082038538993,
          1.5465613226673758,
          0.03823063442124471,
          -0.7588359952292928,
          0.05339635118427773,
          -0.3280497099915076,
          2.2495345989130944,
          0.1606988451613535,
          1.688426326021919,
          0.08938613920553179,
          -0.8730918967799709,
          1.3119610168708313,
          -1.074445209044904,
          0.3265586067229555,
          -0.834504615268005,
          -0.3288424448994099,
          -2.481430855523624,
          0.1375392842973,
          -1.3166069627840054,
          -0.9528554179772223,
          0.21932866399099293,
          -1.0512812546220138,
          0.8301677143176285,
          -0.014485022430286803,
          -0.044670801081556105,
          -0.30234641282810987,
          -0.5457812542176773,
          0.5534321739678147,
          -1.7667859248854492,
          0.07044811129239555,
          -0.2270261984428644,
          0.8417197774983465,
          0.9459687770031213,
          1.1640682284819335,
          0.7962852650076057,
          -0.18747071308308053,
          -0.6420332171288213,
          -0.6365694554842252,
          -1.3344071054556648,
          -0.726294565823539,
          -1.4122134657234713,
          1.1048903732288435,
          -2.167198125163576,
          1.5190123336715522,
          -0.532878080880264,
          -1.6279011664834229,
          0.6773156520081506,
          -1.7859718165052392,
          -1.3219072100778009,
          -0.509594241357519,
          0.40661305998755826,
          1.6703261457952865,
          -0.4589082357482534,
          -0.7235950200151152,
          0.2962074191685926,
          -0.26742953967661043,
          0.9338712639299992,
          0.3189516928839609,
          -0.7699438948716395,
          -2.5349867913497284,
          -0.9688710243943228,
          -0.12491324499589859,
          -0.0019468219880080804,
          -1.0859616330029667,
          1.235034918612575,
          -0.3802736321507235,
          -0.6400806552243146,
          1.3230027109729539,
          0.13123809855329097,
          0.09309011869946074,
          -0.4370999496824533,
          -1.151347367748873,
          0.9458236980333247,
          -0.3614890821545016,
          -0.8529160569199903,
          0.24210411692320466,
          0.5675817074034917,
          -0.5039549799101749,
          -0.2769535216547928,
          0.18187627784761504,
          -0.34614265307068265,
          -0.35432282148920885,
          -2.0203112522986064,
          -0.6696750117172777,
          -0.6832705189571918,
          -0.2480477665186452,
          1.6232363037327617,
          0.2080414717312037,
          0.4688041166940738,
          -0.6178012728039957,
          -1.1878283698305023,
          1.3661773748514232,
          0.14835233799458628,
          1.8703667453945372,
          0.11048782356337547,
          0.7066405331126602,
          -1.9559601560226807,
          0.02760199377098623,
          -0.599747196260633,
          0.12656425235137195,
          0.04683691125311688,
          0.7513397654224073,
          0.6003556883183536,
          -1.4474289252940646,
          0.22626616094816973,
          -0.4770245936453111,
          -0.022190731096321834,
          -0.10888373349519934,
          1.397581381752182,
          -1.0312085338466053,
          0.5745300150951622,
          -0.07582818305716771,
          0.1498863900256419,
          -0.047333003918079916,
          -1.561925031899926,
          -0.15019637187829057,
          1.5419889429585139,
          -0.5539228203674188,
          0.5187552973499965,
          -2.3705659660519243,
          -0.07922757049538562,
          -0.34589187453801246,
          -0.8943303698377879,
          -0.07766810378603727,
          0.16973718557737597,
          0.920833303044389,
          -0.9790080490226246,
          -0.3332083888381805,
          -1.7612299947103012,
          -0.20953378485867932,
          -0.8217860694292087,
          0.8729118779437708,
          0.5325065408574913,
          0.6189811922632353,
          0.4124503419265399,
          0.7778653113143127,
          0.16802164819047608,
          0.3020050192979405,
          2.8098338576800437,
          0.4581214867830421,
          1.8301187567113928,
          0.9149332226431015,
          -0.9774183673282795,
          2.6249884121826175,
          0.7714373544150875,
          0.29266301649476384,
          0.6502478140641899,
          -1.9160160519533636,
          0.4606325162788376,
          -0.8272770020762148,
          -2.876928167751119,
          -0.7331820798213623,
          -0.9129187973058422,
          -0.11106893503615918,
          -0.10178257101650441,
          0.6923498080154729,
          0.0007474608522617686,
          -0.609550510682641,
          -0.8862311390330089,
          1.2454314508368174,
          -1.1885721247290362,
          -1.1319176185159106,
          -0.7563803882496904,
          1.4487984533327416,
          -0.027346201630413226,
          1.0211728837926681,
          0.5382501954750492,
          -2.8066033412636173,
          1.1216261177758482,
          0.73460868132584,
          -0.3408738466787083,
          -0.9246520557860842,
          0.08923705705972006,
          0.20022972281768223,
          -0.24308842253723806,
          1.5762841171360924,
          0.2572080381055199,
          -0.6784216467177104,
          1.3590821718677577,
          -0.6327479473120824,
          0.18768859976729937,
          0.07347290306583605,
          1.371930222564061,
          -0.7261464645334381,
          -0.2073596043164745,
          0.3784816162876331,
          -0.9095028809263528,
          -0.042973696575254024,
          -1.0989162305606919,
          -0.5086235280552943,
          -1.7856615652203238,
          -0.2768793455194891,
          0.4450158420636105,
          0.18495674043455593,
          1.9342586559316068,
          0.4277968370015396,
          -0.31192551534023716,
          -0.5629359700000629,
          -0.65121130310344,
          0.2973156946275879,
          -0.954012096450112,
          0.7608771999200202,
          0.7919351061886627,
          -0.4559531237042471,
          0.593363306740647,
          -1.4541761377717273,
          -0.6776762011652314,
          -0.7514118667556573,
          0.5580374863041684,
          0.3271640812233432,
          1.092368199182667,
          -0.7044117076770832,
          -0.355812947735935,
          1.4378103141378344,
          -0.9904885955602701,
          0.08737374870719893,
          -0.22436631501799117,
          -0.03908880922535855,
          0.15558143229259014,
          0.1342473734428597,
          -0.6267193880242012,
          1.2323672202306695,
          0.8962629165677216,
          0.20513892678740808,
          -1.5210577294793726,
          -1.5461877888571116,
          1.930604062792144,
          1.7010157310185097,
          1.2130713075644026,
          -2.644015908462116,
          1.207449415245232,
          1.3214059256914763,
          -2.9664783157936823,
          0.49965155993538685,
          -1.3676393178595663,
          0.3774666786449833,
          0.6054267931074269,
          -2.288558341230875,
          -0.3781054413848218,
          -2.1709130648308284,
          0.9119420645132568,
          -0.1749446297850763,
          -0.8877571489934566,
          0.8249724527708987,
          -1.5109001671042188,
          -0.8361710056258819,
          0.5747627311772316,
          0.02902631455675271,
          0.861908011891744,
          -0.31149583520682383,
          -0.6050991626017834,
          1.3162244105964274,
          -0.5922767165977421,
          0.10734128380523765,
          0.3251439940988643,
          -0.6446195063942779,
          -0.04755942156296423,
          -0.008432182180595974,
          2.2901103751577945,
          -1.3666936811902761,
          0.2640365756373844,
          0.26624058088316643,
          0.7896865352082454,
          1.970683453763696,
          -0.47512510957478266,
          0.6178026138698991,
          1.9010959898886546,
          1.1573163629812928,
          -0.5330531002546888,
          0.3519069317371376,
          0.7460600510613242,
          -0.9302075622226886,
          -0.37290711306547086,
          -1.1515355248172543,
          -0.06923239781840451,
          1.2357589106610807,
          -1.6502562384498656,
          0.053126398134460136,
          -0.38605149264582883,
          0.4832100248905595,
          0.5137490034900064,
          -1.7567413569919326,
          0.10168542511707175,
          1.2002568869525194,
          -0.2643242122083865,
          0.355295665058757,
          -0.8032151860440655,
          -1.0984348371436323,
          0.398762155369894,
          0.8243789683932438,
          0.10497006317551358,
          1.303327189450358,
          -0.640165689879307,
          1.2573352889489877,
          -1.2952506335469647,
          1.5869756862841675,
          -0.6263039937803234,
          0.1049291558844466,
          0.2526031774213965,
          -2.3914453819615256,
          -0.11571941338569951,
          -0.6790268679716996,
          1.8486367027410806,
          0.1769321884464372,
          -0.0970686912376334,
          1.9423331906307884,
          -0.4017900460936344,
          -0.19369475457226162,
          -0.8089063211113199,
          1.2161785331399317,
          1.023507222624555,
          -0.47742010311030714,
          -1.295840538707115,
          1.164604736804604,
          1.203089573137091,
          -0.31715091308286775,
          -0.27906567176196045,
          -1.1004465374052104,
          0.007935064740201826,
          2.0578642042367243,
          -2.136307890177647,
          1.355019199819854,
          -0.4702703763605217,
          -0.8165692028055042,
          0.40961327049762614,
          0.1112178529607685,
          0.9970281376585258,
          -1.6623888858299907,
          0.8926724437884248,
          -0.9795291437772751,
          0.38426110758184984,
          -0.7789695581725653,
          -0.4352700390697223,
          -0.19112676929055478,
          0.20757155893695914,
          -0.0579840936673511,
          -1.2648032793179491,
          0.47104993551769536,
          -0.6258691404423737,
          -0.6732774754679947,
          0.03992124287998413,
          -0.18832027730623974,
          -1.9302482794469917,
          -1.627648135844077,
          0.08186085039170501,
          -0.07410569953827341,
          1.027256043528004,
          0.45793387742671243,
          -0.4440406208382899,
          -1.146549543898423,
          0.9239583524562541,
          -0.4311299370536286,
          -0.45552229770299596,
          0.34193896876640717,
          -0.5818201044750982,
          -0.4123129097924486,
          -1.3218676315944053,
          0.15855777798190815,
          0.4133540455315968,
          0.5533066444767454,
          0.6415272120190799,
          -1.4616719107512002,
          -0.5286765645851719,
          1.184289063584244,
          -1.4318460649757039,
          0.23653361021612926,
          -1.2423445624162344,
          -0.1398854004502813,
          -0.5356247946178733,
          0.10605401724451369,
          -0.3513615639261463,
          -1.5692334003964243,
          0.837903283440817,
          0.12335625398387629,
          1.2691690124346957,
          -1.3099774186727815,
          -0.4605228957519776,
          -0.6484831765289656,
          0.728034497558079,
          -0.2882383331899311,
          0.09975930331856425,
          -0.023693445508603448,
          -2.4267591317709147,
          0.4575276522304754,
          -0.47378889679651104,
          0.4700364197478517,
          -2.0104094997917756,
          -0.3804284132653942,
          -0.39338189593019185,
          1.5459853381966357,
          0.8990981227471543,
          -0.24009037585694765,
          0.08504551980924062,
          0.2604094365463184,
          0.9168282668663061,
          0.9244253460468215,
          1.0961033074448212,
          -1.1095645087084773,
          -0.536076069823292,
          -0.38201869269992245,
          -1.0559743097373095,
          0.02626980562864508,
          -1.6089432437020885,
          -1.5366629713552504,
          1.3224234818979332,
          -1.1926435149217811,
          0.6807434984561818,
          -1.1382229380598476,
          -0.14426558309432858,
          0.5214528196029526,
          0.9203481847710315,
          1.2134225691635547,
          -1.2710061336532843,
          -1.5925476937237417,
          0.18850125672722348,
          -1.3037806690885019,
          0.6829623043063011,
          -1.3770785458636907,
          1.2151103326363255,
          1.5953394596692787,
          0.001292865099115953,
          -1.6270825049672353,
          -2.251690652844786,
          0.5212350630424567,
          -0.5881382832891233,
          -1.6569017672488326,
          -0.5333565325307179,
          0.6100154350445219,
          1.3602240034439566,
          0.5800452206664328,
          0.38471338499755137,
          -0.6275150617981298,
          -0.4766326585246867,
          -1.1575183028966316,
          -0.2680950453433469,
          -2.0048419122075978,
          -0.27613928192078796,
          -0.18008206169356644,
          -1.390190579091617,
          0.12132505122052306,
          -1.9298322705322308,
          1.6220394556006732,
          1.0353849127045,
          -0.08681626199826262,
          0.2988435110054655,
          2.1222999067960293,
          -0.240250727304868,
          -1.6485773258506067,
          -1.080256256386654,
          -0.26298718132851734,
          0.3995384783990664,
          0.10904151781773702,
          -0.06684490809856446,
          0.1911672967307971,
          0.8433427520285416,
          0.4732117015260743,
          0.3623475350093163,
          0.37731796810670115,
          1.1215029726182761,
          -1.7576432512688533,
          0.30859307661399427,
          -2.297593739845091,
          -1.0429336299798617,
          -0.5531859207282379,
          0.11387030671794998,
          -1.4086273584178912,
          -0.05598200975433053,
          -0.8902440177752611,
          -0.1395260464290978,
          -1.0992778696729941,
          1.0270388793265761,
          -0.7801618783197866,
          -1.0574568340399295,
          -0.639052915909811,
          -1.7691370963233606,
          0.09328940596940832,
          0.774631012025004,
          -0.20110310793201747,
          -0.9950003776161594,
          -0.3777579527168981,
          -0.013920116583949786,
          -0.5953425561529326,
          -0.6936510020680281,
          -0.6107589457695873,
          -0.24013086237682896,
          0.8856466742508713,
          -1.927873189258586,
          1.2255002449823458,
          0.3058294742337121,
          0.22290701667276397,
          -0.06760282858969238,
          0.8275028915042354,
          -0.8974213060177125,
          0.37251550606311007,
          -0.9708010128448433,
          -0.634449448791738,
          0.1536123402881908,
          0.13244572919003056,
          -1.1555012613237525,
          1.2971628328095208,
          0.14860102823415708,
          -0.5392328738136287,
          -0.3593813869189506,
          0.12974342720494814,
          0.6388273921154183,
          -0.01769672723320591,
          -0.32752134462391813,
          1.1614148727474716,
          -0.8308015482146643,
          0.20326696823030385,
          -0.4714110921641902,
          -0.2898758806756543,
          -2.257001833907212,
          0.12118419268939286,
          -0.281643949901439,
          0.06772825133175085,
          -3.6581615462626687,
          -0.913841311303132,
          0.33503840350332426,
          -0.7271541078585055,
          -1.6459495042434995,
          0.32548396657843687,
          -1.9179418690934866,
          0.20896678906056826,
          -1.0588324581798627,
          1.06350679691058,
          1.6106142184788674,
          -1.1045923184863482,
          0.7097813624245992,
          0.5902992827904934,
          0.5717708560900948,
          0.12347049778296885,
          0.3171921380211908,
          -0.7745988328781472,
          2.513717700530671,
          1.6008952928648592,
          0.8981860799623116,
          0.445717481670006,
          -0.14584322416867262,
          -0.5899417424473464,
          1.3008357177849335,
          -0.3833341836838289,
          -1.4019937928471198,
          -0.36197093496685634,
          -1.4033062414452964,
          -1.598398625082391,
          1.321845256568726,
          -1.0480095274323245,
          1.7914278816947957,
          -1.5490740147985964,
          -0.42196405054875513,
          0.21175110483944462,
          -0.1283638336141165,
          -0.22862024685753435,
          0.5211443530856167,
          1.262933869346764,
          0.2667211052125131,
          2.2481427750281227,
          0.9147583370805367,
          0.19981934062831075,
          -1.1204585900012298,
          0.8031277216457817,
          -0.507974417342245,
          -0.04613632685310705,
          0.6203769087197488,
          0.4209435590674378,
          -1.2097525294324494,
          0.9374941687524673,
          -0.9688161775004108,
          -1.9639805072529846,
          -1.1647349280627977,
          0.5614768777306538,
          -0.028978539469470897,
          0.6707788441722702,
          -1.1092163118812512,
          -0.9186253644033532,
          0.4628768628251021,
          -0.6953082017414436,
          1.3091841251700833,
          1.391298584037585,
          1.3702731628402338,
          0.5572927467683159,
          -0.45311435054219507,
          -0.7281428915094301,
          1.906521763556688,
          0.30106496575326375,
          -0.6150871667597,
          -0.15960457290857125,
          -0.5302616889347471,
          -1.5515887708713174,
          -0.35870134910042,
          1.441717629866985,
          -0.8761224631772357,
          1.5637641624176162,
          0.3791392146260062,
          0.16512975359877538,
          0.47482351340264095,
          1.1608729033137737,
          -0.40259842583085453,
          -1.8256389228350247,
          -1.7039748616330859,
          -0.24959862594222823,
          -3.3225087602694225,
          1.5980440363021877,
          0.44387063734975307,
          -1.2751050058749995,
          -0.5292082537324194
         ],
         "y0": " ",
         "yaxis": "y"
        }
       ],
       "layout": {
        "boxmode": "group",
        "legend": {
         "tracegroupgap": 0
        },
        "margin": {
         "t": 60
        },
        "template": {
         "data": {
          "bar": [
           {
            "error_x": {
             "color": "#2a3f5f"
            },
            "error_y": {
             "color": "#2a3f5f"
            },
            "marker": {
             "line": {
              "color": "#E5ECF6",
              "width": 0.5
             },
             "pattern": {
              "fillmode": "overlay",
              "size": 10,
              "solidity": 0.2
             }
            },
            "type": "bar"
           }
          ],
          "barpolar": [
           {
            "marker": {
             "line": {
              "color": "#E5ECF6",
              "width": 0.5
             },
             "pattern": {
              "fillmode": "overlay",
              "size": 10,
              "solidity": 0.2
             }
            },
            "type": "barpolar"
           }
          ],
          "carpet": [
           {
            "aaxis": {
             "endlinecolor": "#2a3f5f",
             "gridcolor": "white",
             "linecolor": "white",
             "minorgridcolor": "white",
             "startlinecolor": "#2a3f5f"
            },
            "baxis": {
             "endlinecolor": "#2a3f5f",
             "gridcolor": "white",
             "linecolor": "white",
             "minorgridcolor": "white",
             "startlinecolor": "#2a3f5f"
            },
            "type": "carpet"
           }
          ],
          "choropleth": [
           {
            "colorbar": {
             "outlinewidth": 0,
             "ticks": ""
            },
            "type": "choropleth"
           }
          ],
          "contour": [
           {
            "colorbar": {
             "outlinewidth": 0,
             "ticks": ""
            },
            "colorscale": [
             [
              0,
              "#0d0887"
             ],
             [
              0.1111111111111111,
              "#46039f"
             ],
             [
              0.2222222222222222,
              "#7201a8"
             ],
             [
              0.3333333333333333,
              "#9c179e"
             ],
             [
              0.4444444444444444,
              "#bd3786"
             ],
             [
              0.5555555555555556,
              "#d8576b"
             ],
             [
              0.6666666666666666,
              "#ed7953"
             ],
             [
              0.7777777777777778,
              "#fb9f3a"
             ],
             [
              0.8888888888888888,
              "#fdca26"
             ],
             [
              1,
              "#f0f921"
             ]
            ],
            "type": "contour"
           }
          ],
          "contourcarpet": [
           {
            "colorbar": {
             "outlinewidth": 0,
             "ticks": ""
            },
            "type": "contourcarpet"
           }
          ],
          "heatmap": [
           {
            "colorbar": {
             "outlinewidth": 0,
             "ticks": ""
            },
            "colorscale": [
             [
              0,
              "#0d0887"
             ],
             [
              0.1111111111111111,
              "#46039f"
             ],
             [
              0.2222222222222222,
              "#7201a8"
             ],
             [
              0.3333333333333333,
              "#9c179e"
             ],
             [
              0.4444444444444444,
              "#bd3786"
             ],
             [
              0.5555555555555556,
              "#d8576b"
             ],
             [
              0.6666666666666666,
              "#ed7953"
             ],
             [
              0.7777777777777778,
              "#fb9f3a"
             ],
             [
              0.8888888888888888,
              "#fdca26"
             ],
             [
              1,
              "#f0f921"
             ]
            ],
            "type": "heatmap"
           }
          ],
          "heatmapgl": [
           {
            "colorbar": {
             "outlinewidth": 0,
             "ticks": ""
            },
            "colorscale": [
             [
              0,
              "#0d0887"
             ],
             [
              0.1111111111111111,
              "#46039f"
             ],
             [
              0.2222222222222222,
              "#7201a8"
             ],
             [
              0.3333333333333333,
              "#9c179e"
             ],
             [
              0.4444444444444444,
              "#bd3786"
             ],
             [
              0.5555555555555556,
              "#d8576b"
             ],
             [
              0.6666666666666666,
              "#ed7953"
             ],
             [
              0.7777777777777778,
              "#fb9f3a"
             ],
             [
              0.8888888888888888,
              "#fdca26"
             ],
             [
              1,
              "#f0f921"
             ]
            ],
            "type": "heatmapgl"
           }
          ],
          "histogram": [
           {
            "marker": {
             "pattern": {
              "fillmode": "overlay",
              "size": 10,
              "solidity": 0.2
             }
            },
            "type": "histogram"
           }
          ],
          "histogram2d": [
           {
            "colorbar": {
             "outlinewidth": 0,
             "ticks": ""
            },
            "colorscale": [
             [
              0,
              "#0d0887"
             ],
             [
              0.1111111111111111,
              "#46039f"
             ],
             [
              0.2222222222222222,
              "#7201a8"
             ],
             [
              0.3333333333333333,
              "#9c179e"
             ],
             [
              0.4444444444444444,
              "#bd3786"
             ],
             [
              0.5555555555555556,
              "#d8576b"
             ],
             [
              0.6666666666666666,
              "#ed7953"
             ],
             [
              0.7777777777777778,
              "#fb9f3a"
             ],
             [
              0.8888888888888888,
              "#fdca26"
             ],
             [
              1,
              "#f0f921"
             ]
            ],
            "type": "histogram2d"
           }
          ],
          "histogram2dcontour": [
           {
            "colorbar": {
             "outlinewidth": 0,
             "ticks": ""
            },
            "colorscale": [
             [
              0,
              "#0d0887"
             ],
             [
              0.1111111111111111,
              "#46039f"
             ],
             [
              0.2222222222222222,
              "#7201a8"
             ],
             [
              0.3333333333333333,
              "#9c179e"
             ],
             [
              0.4444444444444444,
              "#bd3786"
             ],
             [
              0.5555555555555556,
              "#d8576b"
             ],
             [
              0.6666666666666666,
              "#ed7953"
             ],
             [
              0.7777777777777778,
              "#fb9f3a"
             ],
             [
              0.8888888888888888,
              "#fdca26"
             ],
             [
              1,
              "#f0f921"
             ]
            ],
            "type": "histogram2dcontour"
           }
          ],
          "mesh3d": [
           {
            "colorbar": {
             "outlinewidth": 0,
             "ticks": ""
            },
            "type": "mesh3d"
           }
          ],
          "parcoords": [
           {
            "line": {
             "colorbar": {
              "outlinewidth": 0,
              "ticks": ""
             }
            },
            "type": "parcoords"
           }
          ],
          "pie": [
           {
            "automargin": true,
            "type": "pie"
           }
          ],
          "scatter": [
           {
            "fillpattern": {
             "fillmode": "overlay",
             "size": 10,
             "solidity": 0.2
            },
            "type": "scatter"
           }
          ],
          "scatter3d": [
           {
            "line": {
             "colorbar": {
              "outlinewidth": 0,
              "ticks": ""
             }
            },
            "marker": {
             "colorbar": {
              "outlinewidth": 0,
              "ticks": ""
             }
            },
            "type": "scatter3d"
           }
          ],
          "scattercarpet": [
           {
            "marker": {
             "colorbar": {
              "outlinewidth": 0,
              "ticks": ""
             }
            },
            "type": "scattercarpet"
           }
          ],
          "scattergeo": [
           {
            "marker": {
             "colorbar": {
              "outlinewidth": 0,
              "ticks": ""
             }
            },
            "type": "scattergeo"
           }
          ],
          "scattergl": [
           {
            "marker": {
             "colorbar": {
              "outlinewidth": 0,
              "ticks": ""
             }
            },
            "type": "scattergl"
           }
          ],
          "scattermapbox": [
           {
            "marker": {
             "colorbar": {
              "outlinewidth": 0,
              "ticks": ""
             }
            },
            "type": "scattermapbox"
           }
          ],
          "scatterpolar": [
           {
            "marker": {
             "colorbar": {
              "outlinewidth": 0,
              "ticks": ""
             }
            },
            "type": "scatterpolar"
           }
          ],
          "scatterpolargl": [
           {
            "marker": {
             "colorbar": {
              "outlinewidth": 0,
              "ticks": ""
             }
            },
            "type": "scatterpolargl"
           }
          ],
          "scatterternary": [
           {
            "marker": {
             "colorbar": {
              "outlinewidth": 0,
              "ticks": ""
             }
            },
            "type": "scatterternary"
           }
          ],
          "surface": [
           {
            "colorbar": {
             "outlinewidth": 0,
             "ticks": ""
            },
            "colorscale": [
             [
              0,
              "#0d0887"
             ],
             [
              0.1111111111111111,
              "#46039f"
             ],
             [
              0.2222222222222222,
              "#7201a8"
             ],
             [
              0.3333333333333333,
              "#9c179e"
             ],
             [
              0.4444444444444444,
              "#bd3786"
             ],
             [
              0.5555555555555556,
              "#d8576b"
             ],
             [
              0.6666666666666666,
              "#ed7953"
             ],
             [
              0.7777777777777778,
              "#fb9f3a"
             ],
             [
              0.8888888888888888,
              "#fdca26"
             ],
             [
              1,
              "#f0f921"
             ]
            ],
            "type": "surface"
           }
          ],
          "table": [
           {
            "cells": {
             "fill": {
              "color": "#EBF0F8"
             },
             "line": {
              "color": "white"
             }
            },
            "header": {
             "fill": {
              "color": "#C8D4E3"
             },
             "line": {
              "color": "white"
             }
            },
            "type": "table"
           }
          ]
         },
         "layout": {
          "annotationdefaults": {
           "arrowcolor": "#2a3f5f",
           "arrowhead": 0,
           "arrowwidth": 1
          },
          "autotypenumbers": "strict",
          "coloraxis": {
           "colorbar": {
            "outlinewidth": 0,
            "ticks": ""
           }
          },
          "colorscale": {
           "diverging": [
            [
             0,
             "#8e0152"
            ],
            [
             0.1,
             "#c51b7d"
            ],
            [
             0.2,
             "#de77ae"
            ],
            [
             0.3,
             "#f1b6da"
            ],
            [
             0.4,
             "#fde0ef"
            ],
            [
             0.5,
             "#f7f7f7"
            ],
            [
             0.6,
             "#e6f5d0"
            ],
            [
             0.7,
             "#b8e186"
            ],
            [
             0.8,
             "#7fbc41"
            ],
            [
             0.9,
             "#4d9221"
            ],
            [
             1,
             "#276419"
            ]
           ],
           "sequential": [
            [
             0,
             "#0d0887"
            ],
            [
             0.1111111111111111,
             "#46039f"
            ],
            [
             0.2222222222222222,
             "#7201a8"
            ],
            [
             0.3333333333333333,
             "#9c179e"
            ],
            [
             0.4444444444444444,
             "#bd3786"
            ],
            [
             0.5555555555555556,
             "#d8576b"
            ],
            [
             0.6666666666666666,
             "#ed7953"
            ],
            [
             0.7777777777777778,
             "#fb9f3a"
            ],
            [
             0.8888888888888888,
             "#fdca26"
            ],
            [
             1,
             "#f0f921"
            ]
           ],
           "sequentialminus": [
            [
             0,
             "#0d0887"
            ],
            [
             0.1111111111111111,
             "#46039f"
            ],
            [
             0.2222222222222222,
             "#7201a8"
            ],
            [
             0.3333333333333333,
             "#9c179e"
            ],
            [
             0.4444444444444444,
             "#bd3786"
            ],
            [
             0.5555555555555556,
             "#d8576b"
            ],
            [
             0.6666666666666666,
             "#ed7953"
            ],
            [
             0.7777777777777778,
             "#fb9f3a"
            ],
            [
             0.8888888888888888,
             "#fdca26"
            ],
            [
             1,
             "#f0f921"
            ]
           ]
          },
          "colorway": [
           "#636efa",
           "#EF553B",
           "#00cc96",
           "#ab63fa",
           "#FFA15A",
           "#19d3f3",
           "#FF6692",
           "#B6E880",
           "#FF97FF",
           "#FECB52"
          ],
          "font": {
           "color": "#2a3f5f"
          },
          "geo": {
           "bgcolor": "white",
           "lakecolor": "white",
           "landcolor": "#E5ECF6",
           "showlakes": true,
           "showland": true,
           "subunitcolor": "white"
          },
          "hoverlabel": {
           "align": "left"
          },
          "hovermode": "closest",
          "mapbox": {
           "style": "light"
          },
          "paper_bgcolor": "white",
          "plot_bgcolor": "#E5ECF6",
          "polar": {
           "angularaxis": {
            "gridcolor": "white",
            "linecolor": "white",
            "ticks": ""
           },
           "bgcolor": "#E5ECF6",
           "radialaxis": {
            "gridcolor": "white",
            "linecolor": "white",
            "ticks": ""
           }
          },
          "scene": {
           "xaxis": {
            "backgroundcolor": "#E5ECF6",
            "gridcolor": "white",
            "gridwidth": 2,
            "linecolor": "white",
            "showbackground": true,
            "ticks": "",
            "zerolinecolor": "white"
           },
           "yaxis": {
            "backgroundcolor": "#E5ECF6",
            "gridcolor": "white",
            "gridwidth": 2,
            "linecolor": "white",
            "showbackground": true,
            "ticks": "",
            "zerolinecolor": "white"
           },
           "zaxis": {
            "backgroundcolor": "#E5ECF6",
            "gridcolor": "white",
            "gridwidth": 2,
            "linecolor": "white",
            "showbackground": true,
            "ticks": "",
            "zerolinecolor": "white"
           }
          },
          "shapedefaults": {
           "line": {
            "color": "#2a3f5f"
           }
          },
          "ternary": {
           "aaxis": {
            "gridcolor": "white",
            "linecolor": "white",
            "ticks": ""
           },
           "baxis": {
            "gridcolor": "white",
            "linecolor": "white",
            "ticks": ""
           },
           "bgcolor": "#E5ECF6",
           "caxis": {
            "gridcolor": "white",
            "linecolor": "white",
            "ticks": ""
           }
          },
          "title": {
           "x": 0.05
          },
          "xaxis": {
           "automargin": true,
           "gridcolor": "white",
           "linecolor": "white",
           "ticks": "",
           "title": {
            "standoff": 15
           },
           "zerolinecolor": "white",
           "zerolinewidth": 2
          },
          "yaxis": {
           "automargin": true,
           "gridcolor": "white",
           "linecolor": "white",
           "ticks": "",
           "title": {
            "standoff": 15
           },
           "zerolinecolor": "white",
           "zerolinewidth": 2
          }
         }
        },
        "xaxis": {
         "anchor": "y",
         "domain": [
          0,
          1
         ],
         "title": {
          "text": "variable"
         }
        },
        "yaxis": {
         "anchor": "x",
         "domain": [
          0,
          1
         ],
         "title": {
          "text": "value"
         }
        }
       }
      }
     },
     "metadata": {},
     "output_type": "display_data"
    }
   ],
   "source": [
    "px.box(x)"
   ]
  },
  {
   "cell_type": "code",
   "execution_count": 12,
   "metadata": {},
   "outputs": [
    {
     "data": {
      "image/png": "[encoded data removed]",
      "text/plain": [
       "<Figure size 640x480 with 1 Axes>"
      ]
     },
     "metadata": {},
     "output_type": "display_data"
    }
   ],
   "source": [
    "rainfall = [99,25,78,54,23,45]\n",
    "labels = ['jan','Feb', 'March','April','May','june']\n",
    "plt.pie(\n",
    "    rainfall,\n",
    "    autopct= '%.2f%%',\n",
    "    labels= labels\n",
    ")\n",
    "plt.show()"
   ]
  },
  {
   "cell_type": "code",
   "execution_count": 13,
   "metadata": {},
   "outputs": [
    {
     "data": {
      "application/vnd.plotly.v1+json": {
       "config": {
        "plotlyServerURL": "https://plot.ly"
       },
       "data": [
        {
         "domain": {
          "x": [
           0,
           1
          ],
          "y": [
           0,
           1
          ]
         },
         "hole": 0.5,
         "hovertemplate": "label=%{label}<br>value=%{value}<extra></extra>",
         "labels": [
          "jan",
          "Feb",
          "March",
          "April",
          "May",
          "june"
         ],
         "legendgroup": "",
         "name": "",
         "showlegend": true,
         "type": "pie",
         "values": [
          99,
          25,
          78,
          54,
          23,
          45
         ]
        }
       ],
       "layout": {
        "legend": {
         "tracegroupgap": 0
        },
        "margin": {
         "t": 60
        },
        "template": {
         "data": {
          "bar": [
           {
            "error_x": {
             "color": "#2a3f5f"
            },
            "error_y": {
             "color": "#2a3f5f"
            },
            "marker": {
             "line": {
              "color": "#E5ECF6",
              "width": 0.5
             },
             "pattern": {
              "fillmode": "overlay",
              "size": 10,
              "solidity": 0.2
             }
            },
            "type": "bar"
           }
          ],
          "barpolar": [
           {
            "marker": {
             "line": {
              "color": "#E5ECF6",
              "width": 0.5
             },
             "pattern": {
              "fillmode": "overlay",
              "size": 10,
              "solidity": 0.2
             }
            },
            "type": "barpolar"
           }
          ],
          "carpet": [
           {
            "aaxis": {
             "endlinecolor": "#2a3f5f",
             "gridcolor": "white",
             "linecolor": "white",
             "minorgridcolor": "white",
             "startlinecolor": "#2a3f5f"
            },
            "baxis": {
             "endlinecolor": "#2a3f5f",
             "gridcolor": "white",
             "linecolor": "white",
             "minorgridcolor": "white",
             "startlinecolor": "#2a3f5f"
            },
            "type": "carpet"
           }
          ],
          "choropleth": [
           {
            "colorbar": {
             "outlinewidth": 0,
             "ticks": ""
            },
            "type": "choropleth"
           }
          ],
          "contour": [
           {
            "colorbar": {
             "outlinewidth": 0,
             "ticks": ""
            },
            "colorscale": [
             [
              0,
              "#0d0887"
             ],
             [
              0.1111111111111111,
              "#46039f"
             ],
             [
              0.2222222222222222,
              "#7201a8"
             ],
             [
              0.3333333333333333,
              "#9c179e"
             ],
             [
              0.4444444444444444,
              "#bd3786"
             ],
             [
              0.5555555555555556,
              "#d8576b"
             ],
             [
              0.6666666666666666,
              "#ed7953"
             ],
             [
              0.7777777777777778,
              "#fb9f3a"
             ],
             [
              0.8888888888888888,
              "#fdca26"
             ],
             [
              1,
              "#f0f921"
             ]
            ],
            "type": "contour"
           }
          ],
          "contourcarpet": [
           {
            "colorbar": {
             "outlinewidth": 0,
             "ticks": ""
            },
            "type": "contourcarpet"
           }
          ],
          "heatmap": [
           {
            "colorbar": {
             "outlinewidth": 0,
             "ticks": ""
            },
            "colorscale": [
             [
              0,
              "#0d0887"
             ],
             [
              0.1111111111111111,
              "#46039f"
             ],
             [
              0.2222222222222222,
              "#7201a8"
             ],
             [
              0.3333333333333333,
              "#9c179e"
             ],
             [
              0.4444444444444444,
              "#bd3786"
             ],
             [
              0.5555555555555556,
              "#d8576b"
             ],
             [
              0.6666666666666666,
              "#ed7953"
             ],
             [
              0.7777777777777778,
              "#fb9f3a"
             ],
             [
              0.8888888888888888,
              "#fdca26"
             ],
             [
              1,
              "#f0f921"
             ]
            ],
            "type": "heatmap"
           }
          ],
          "heatmapgl": [
           {
            "colorbar": {
             "outlinewidth": 0,
             "ticks": ""
            },
            "colorscale": [
             [
              0,
              "#0d0887"
             ],
             [
              0.1111111111111111,
              "#46039f"
             ],
             [
              0.2222222222222222,
              "#7201a8"
             ],
             [
              0.3333333333333333,
              "#9c179e"
             ],
             [
              0.4444444444444444,
              "#bd3786"
             ],
             [
              0.5555555555555556,
              "#d8576b"
             ],
             [
              0.6666666666666666,
              "#ed7953"
             ],
             [
              0.7777777777777778,
              "#fb9f3a"
             ],
             [
              0.8888888888888888,
              "#fdca26"
             ],
             [
              1,
              "#f0f921"
             ]
            ],
            "type": "heatmapgl"
           }
          ],
          "histogram": [
           {
            "marker": {
             "pattern": {
              "fillmode": "overlay",
              "size": 10,
              "solidity": 0.2
             }
            },
            "type": "histogram"
           }
          ],
          "histogram2d": [
           {
            "colorbar": {
             "outlinewidth": 0,
             "ticks": ""
            },
            "colorscale": [
             [
              0,
              "#0d0887"
             ],
             [
              0.1111111111111111,
              "#46039f"
             ],
             [
              0.2222222222222222,
              "#7201a8"
             ],
             [
              0.3333333333333333,
              "#9c179e"
             ],
             [
              0.4444444444444444,
              "#bd3786"
             ],
             [
              0.5555555555555556,
              "#d8576b"
             ],
             [
              0.6666666666666666,
              "#ed7953"
             ],
             [
              0.7777777777777778,
              "#fb9f3a"
             ],
             [
              0.8888888888888888,
              "#fdca26"
             ],
             [
              1,
              "#f0f921"
             ]
            ],
            "type": "histogram2d"
           }
          ],
          "histogram2dcontour": [
           {
            "colorbar": {
             "outlinewidth": 0,
             "ticks": ""
            },
            "colorscale": [
             [
              0,
              "#0d0887"
             ],
             [
              0.1111111111111111,
              "#46039f"
             ],
             [
              0.2222222222222222,
              "#7201a8"
             ],
             [
              0.3333333333333333,
              "#9c179e"
             ],
             [
              0.4444444444444444,
              "#bd3786"
             ],
             [
              0.5555555555555556,
              "#d8576b"
             ],
             [
              0.6666666666666666,
              "#ed7953"
             ],
             [
              0.7777777777777778,
              "#fb9f3a"
             ],
             [
              0.8888888888888888,
              "#fdca26"
             ],
             [
              1,
              "#f0f921"
             ]
            ],
            "type": "histogram2dcontour"
           }
          ],
          "mesh3d": [
           {
            "colorbar": {
             "outlinewidth": 0,
             "ticks": ""
            },
            "type": "mesh3d"
           }
          ],
          "parcoords": [
           {
            "line": {
             "colorbar": {
              "outlinewidth": 0,
              "ticks": ""
             }
            },
            "type": "parcoords"
           }
          ],
          "pie": [
           {
            "automargin": true,
            "type": "pie"
           }
          ],
          "scatter": [
           {
            "fillpattern": {
             "fillmode": "overlay",
             "size": 10,
             "solidity": 0.2
            },
            "type": "scatter"
           }
          ],
          "scatter3d": [
           {
            "line": {
             "colorbar": {
              "outlinewidth": 0,
              "ticks": ""
             }
            },
            "marker": {
             "colorbar": {
              "outlinewidth": 0,
              "ticks": ""
             }
            },
            "type": "scatter3d"
           }
          ],
          "scattercarpet": [
           {
            "marker": {
             "colorbar": {
              "outlinewidth": 0,
              "ticks": ""
             }
            },
            "type": "scattercarpet"
           }
          ],
          "scattergeo": [
           {
            "marker": {
             "colorbar": {
              "outlinewidth": 0,
              "ticks": ""
             }
            },
            "type": "scattergeo"
           }
          ],
          "scattergl": [
           {
            "marker": {
             "colorbar": {
              "outlinewidth": 0,
              "ticks": ""
             }
            },
            "type": "scattergl"
           }
          ],
          "scattermapbox": [
           {
            "marker": {
             "colorbar": {
              "outlinewidth": 0,
              "ticks": ""
             }
            },
            "type": "scattermapbox"
           }
          ],
          "scatterpolar": [
           {
            "marker": {
             "colorbar": {
              "outlinewidth": 0,
              "ticks": ""
             }
            },
            "type": "scatterpolar"
           }
          ],
          "scatterpolargl": [
           {
            "marker": {
             "colorbar": {
              "outlinewidth": 0,
              "ticks": ""
             }
            },
            "type": "scatterpolargl"
           }
          ],
          "scatterternary": [
           {
            "marker": {
             "colorbar": {
              "outlinewidth": 0,
              "ticks": ""
             }
            },
            "type": "scatterternary"
           }
          ],
          "surface": [
           {
            "colorbar": {
             "outlinewidth": 0,
             "ticks": ""
            },
            "colorscale": [
             [
              0,
              "#0d0887"
             ],
             [
              0.1111111111111111,
              "#46039f"
             ],
             [
              0.2222222222222222,
              "#7201a8"
             ],
             [
              0.3333333333333333,
              "#9c179e"
             ],
             [
              0.4444444444444444,
              "#bd3786"
             ],
             [
              0.5555555555555556,
              "#d8576b"
             ],
             [
              0.6666666666666666,
              "#ed7953"
             ],
             [
              0.7777777777777778,
              "#fb9f3a"
             ],
             [
              0.8888888888888888,
              "#fdca26"
             ],
             [
              1,
              "#f0f921"
             ]
            ],
            "type": "surface"
           }
          ],
          "table": [
           {
            "cells": {
             "fill": {
              "color": "#EBF0F8"
             },
             "line": {
              "color": "white"
             }
            },
            "header": {
             "fill": {
              "color": "#C8D4E3"
             },
             "line": {
              "color": "white"
             }
            },
            "type": "table"
           }
          ]
         },
         "layout": {
          "annotationdefaults": {
           "arrowcolor": "#2a3f5f",
           "arrowhead": 0,
           "arrowwidth": 1
          },
          "autotypenumbers": "strict",
          "coloraxis": {
           "colorbar": {
            "outlinewidth": 0,
            "ticks": ""
           }
          },
          "colorscale": {
           "diverging": [
            [
             0,
             "#8e0152"
            ],
            [
             0.1,
             "#c51b7d"
            ],
            [
             0.2,
             "#de77ae"
            ],
            [
             0.3,
             "#f1b6da"
            ],
            [
             0.4,
             "#fde0ef"
            ],
            [
             0.5,
             "#f7f7f7"
            ],
            [
             0.6,
             "#e6f5d0"
            ],
            [
             0.7,
             "#b8e186"
            ],
            [
             0.8,
             "#7fbc41"
            ],
            [
             0.9,
             "#4d9221"
            ],
            [
             1,
             "#276419"
            ]
           ],
           "sequential": [
            [
             0,
             "#0d0887"
            ],
            [
             0.1111111111111111,
             "#46039f"
            ],
            [
             0.2222222222222222,
             "#7201a8"
            ],
            [
             0.3333333333333333,
             "#9c179e"
            ],
            [
             0.4444444444444444,
             "#bd3786"
            ],
            [
             0.5555555555555556,
             "#d8576b"
            ],
            [
             0.6666666666666666,
             "#ed7953"
            ],
            [
             0.7777777777777778,
             "#fb9f3a"
            ],
            [
             0.8888888888888888,
             "#fdca26"
            ],
            [
             1,
             "#f0f921"
            ]
           ],
           "sequentialminus": [
            [
             0,
             "#0d0887"
            ],
            [
             0.1111111111111111,
             "#46039f"
            ],
            [
             0.2222222222222222,
             "#7201a8"
            ],
            [
             0.3333333333333333,
             "#9c179e"
            ],
            [
             0.4444444444444444,
             "#bd3786"
            ],
            [
             0.5555555555555556,
             "#d8576b"
            ],
            [
             0.6666666666666666,
             "#ed7953"
            ],
            [
             0.7777777777777778,
             "#fb9f3a"
            ],
            [
             0.8888888888888888,
             "#fdca26"
            ],
            [
             1,
             "#f0f921"
            ]
           ]
          },
          "colorway": [
           "#636efa",
           "#EF553B",
           "#00cc96",
           "#ab63fa",
           "#FFA15A",
           "#19d3f3",
           "#FF6692",
           "#B6E880",
           "#FF97FF",
           "#FECB52"
          ],
          "font": {
           "color": "#2a3f5f"
          },
          "geo": {
           "bgcolor": "white",
           "lakecolor": "white",
           "landcolor": "#E5ECF6",
           "showlakes": true,
           "showland": true,
           "subunitcolor": "white"
          },
          "hoverlabel": {
           "align": "left"
          },
          "hovermode": "closest",
          "mapbox": {
           "style": "light"
          },
          "paper_bgcolor": "white",
          "plot_bgcolor": "#E5ECF6",
          "polar": {
           "angularaxis": {
            "gridcolor": "white",
            "linecolor": "white",
            "ticks": ""
           },
           "bgcolor": "#E5ECF6",
           "radialaxis": {
            "gridcolor": "white",
            "linecolor": "white",
            "ticks": ""
           }
          },
          "scene": {
           "xaxis": {
            "backgroundcolor": "#E5ECF6",
            "gridcolor": "white",
            "gridwidth": 2,
            "linecolor": "white",
            "showbackground": true,
            "ticks": "",
            "zerolinecolor": "white"
           },
           "yaxis": {
            "backgroundcolor": "#E5ECF6",
            "gridcolor": "white",
            "gridwidth": 2,
            "linecolor": "white",
            "showbackground": true,
            "ticks": "",
            "zerolinecolor": "white"
           },
           "zaxis": {
            "backgroundcolor": "#E5ECF6",
            "gridcolor": "white",
            "gridwidth": 2,
            "linecolor": "white",
            "showbackground": true,
            "ticks": "",
            "zerolinecolor": "white"
           }
          },
          "shapedefaults": {
           "line": {
            "color": "#2a3f5f"
           }
          },
          "ternary": {
           "aaxis": {
            "gridcolor": "white",
            "linecolor": "white",
            "ticks": ""
           },
           "baxis": {
            "gridcolor": "white",
            "linecolor": "white",
            "ticks": ""
           },
           "bgcolor": "#E5ECF6",
           "caxis": {
            "gridcolor": "white",
            "linecolor": "white",
            "ticks": ""
           }
          },
          "title": {
           "x": 0.05
          },
          "xaxis": {
           "automargin": true,
           "gridcolor": "white",
           "linecolor": "white",
           "ticks": "",
           "title": {
            "standoff": 15
           },
           "zerolinecolor": "white",
           "zerolinewidth": 2
          },
          "yaxis": {
           "automargin": true,
           "gridcolor": "white",
           "linecolor": "white",
           "ticks": "",
           "title": {
            "standoff": 15
           },
           "zerolinecolor": "white",
           "zerolinewidth": 2
          }
         }
        }
       }
      }
     },
     "metadata": {},
     "output_type": "display_data"
    }
   ],
   "source": [
    "px.pie(\n",
    "    values = rainfall,\n",
    "    names = labels,\n",
    "    hole= .5\n",
    ")"
   ]
  },
  {
   "cell_type": "code",
   "execution_count": 15,
   "metadata": {},
   "outputs": [
    {
     "data": {
      "image/png": "[encoded data removed]",
      "text/plain": [
       "<Figure size 640x480 with 1 Axes>"
      ]
     },
     "metadata": {},
     "output_type": "display_data"
    }
   ],
   "source": [
    "#area chart\n",
    "x = np.arange(10)\n",
    "y= np.random.randint(1,10,10)\n",
    "plt.fill_between(x,y)\n",
    "plt.show()"
   ]
  },
  {
   "cell_type": "code",
   "execution_count": 16,
   "metadata": {},
   "outputs": [
    {
     "data": {
      "application/vnd.plotly.v1+json": {
       "config": {
        "plotlyServerURL": "https://plot.ly"
       },
       "data": [
        {
         "fillpattern": {
          "shape": ""
         },
         "hovertemplate": "x=%{x}<br>y=%{y}<extra></extra>",
         "legendgroup": "",
         "line": {
          "color": "#636efa"
         },
         "marker": {
          "symbol": "circle"
         },
         "mode": "lines",
         "name": "",
         "orientation": "v",
         "showlegend": false,
         "stackgroup": "1",
         "type": "scatter",
         "x": [
          0,
          1,
          2,
          3,
          4,
          5,
          6,
          7,
          8,
          9
         ],
         "xaxis": "x",
         "y": [
          4,
          4,
          4,
          4,
          8,
          1,
          7,
          7,
          8,
          3
         ],
         "yaxis": "y"
        }
       ],
       "layout": {
        "legend": {
         "tracegroupgap": 0
        },
        "margin": {
         "t": 60
        },
        "template": {
         "data": {
          "bar": [
           {
            "error_x": {
             "color": "#2a3f5f"
            },
            "error_y": {
             "color": "#2a3f5f"
            },
            "marker": {
             "line": {
              "color": "#E5ECF6",
              "width": 0.5
             },
             "pattern": {
              "fillmode": "overlay",
              "size": 10,
              "solidity": 0.2
             }
            },
            "type": "bar"
           }
          ],
          "barpolar": [
           {
            "marker": {
             "line": {
              "color": "#E5ECF6",
              "width": 0.5
             },
             "pattern": {
              "fillmode": "overlay",
              "size": 10,
              "solidity": 0.2
             }
            },
            "type": "barpolar"
           }
          ],
          "carpet": [
           {
            "aaxis": {
             "endlinecolor": "#2a3f5f",
             "gridcolor": "white",
             "linecolor": "white",
             "minorgridcolor": "white",
             "startlinecolor": "#2a3f5f"
            },
            "baxis": {
             "endlinecolor": "#2a3f5f",
             "gridcolor": "white",
             "linecolor": "white",
             "minorgridcolor": "white",
             "startlinecolor": "#2a3f5f"
            },
            "type": "carpet"
           }
          ],
          "choropleth": [
           {
            "colorbar": {
             "outlinewidth": 0,
             "ticks": ""
            },
            "type": "choropleth"
           }
          ],
          "contour": [
           {
            "colorbar": {
             "outlinewidth": 0,
             "ticks": ""
            },
            "colorscale": [
             [
              0,
              "#0d0887"
             ],
             [
              0.1111111111111111,
              "#46039f"
             ],
             [
              0.2222222222222222,
              "#7201a8"
             ],
             [
              0.3333333333333333,
              "#9c179e"
             ],
             [
              0.4444444444444444,
              "#bd3786"
             ],
             [
              0.5555555555555556,
              "#d8576b"
             ],
             [
              0.6666666666666666,
              "#ed7953"
             ],
             [
              0.7777777777777778,
              "#fb9f3a"
             ],
             [
              0.8888888888888888,
              "#fdca26"
             ],
             [
              1,
              "#f0f921"
             ]
            ],
            "type": "contour"
           }
          ],
          "contourcarpet": [
           {
            "colorbar": {
             "outlinewidth": 0,
             "ticks": ""
            },
            "type": "contourcarpet"
           }
          ],
          "heatmap": [
           {
            "colorbar": {
             "outlinewidth": 0,
             "ticks": ""
            },
            "colorscale": [
             [
              0,
              "#0d0887"
             ],
             [
              0.1111111111111111,
              "#46039f"
             ],
             [
              0.2222222222222222,
              "#7201a8"
             ],
             [
              0.3333333333333333,
              "#9c179e"
             ],
             [
              0.4444444444444444,
              "#bd3786"
             ],
             [
              0.5555555555555556,
              "#d8576b"
             ],
             [
              0.6666666666666666,
              "#ed7953"
             ],
             [
              0.7777777777777778,
              "#fb9f3a"
             ],
             [
              0.8888888888888888,
              "#fdca26"
             ],
             [
              1,
              "#f0f921"
             ]
            ],
            "type": "heatmap"
           }
          ],
          "heatmapgl": [
           {
            "colorbar": {
             "outlinewidth": 0,
             "ticks": ""
            },
            "colorscale": [
             [
              0,
              "#0d0887"
             ],
             [
              0.1111111111111111,
              "#46039f"
             ],
             [
              0.2222222222222222,
              "#7201a8"
             ],
             [
              0.3333333333333333,
              "#9c179e"
             ],
             [
              0.4444444444444444,
              "#bd3786"
             ],
             [
              0.5555555555555556,
              "#d8576b"
             ],
             [
              0.6666666666666666,
              "#ed7953"
             ],
             [
              0.7777777777777778,
              "#fb9f3a"
             ],
             [
              0.8888888888888888,
              "#fdca26"
             ],
             [
              1,
              "#f0f921"
             ]
            ],
            "type": "heatmapgl"
           }
          ],
          "histogram": [
           {
            "marker": {
             "pattern": {
              "fillmode": "overlay",
              "size": 10,
              "solidity": 0.2
             }
            },
            "type": "histogram"
           }
          ],
          "histogram2d": [
           {
            "colorbar": {
             "outlinewidth": 0,
             "ticks": ""
            },
            "colorscale": [
             [
              0,
              "#0d0887"
             ],
             [
              0.1111111111111111,
              "#46039f"
             ],
             [
              0.2222222222222222,
              "#7201a8"
             ],
             [
              0.3333333333333333,
              "#9c179e"
             ],
             [
              0.4444444444444444,
              "#bd3786"
             ],
             [
              0.5555555555555556,
              "#d8576b"
             ],
             [
              0.6666666666666666,
              "#ed7953"
             ],
             [
              0.7777777777777778,
              "#fb9f3a"
             ],
             [
              0.8888888888888888,
              "#fdca26"
             ],
             [
              1,
              "#f0f921"
             ]
            ],
            "type": "histogram2d"
           }
          ],
          "histogram2dcontour": [
           {
            "colorbar": {
             "outlinewidth": 0,
             "ticks": ""
            },
            "colorscale": [
             [
              0,
              "#0d0887"
             ],
             [
              0.1111111111111111,
              "#46039f"
             ],
             [
              0.2222222222222222,
              "#7201a8"
             ],
             [
              0.3333333333333333,
              "#9c179e"
             ],
             [
              0.4444444444444444,
              "#bd3786"
             ],
             [
              0.5555555555555556,
              "#d8576b"
             ],
             [
              0.6666666666666666,
              "#ed7953"
             ],
             [
              0.7777777777777778,
              "#fb9f3a"
             ],
             [
              0.8888888888888888,
              "#fdca26"
             ],
             [
              1,
              "#f0f921"
             ]
            ],
            "type": "histogram2dcontour"
           }
          ],
          "mesh3d": [
           {
            "colorbar": {
             "outlinewidth": 0,
             "ticks": ""
            },
            "type": "mesh3d"
           }
          ],
          "parcoords": [
           {
            "line": {
             "colorbar": {
              "outlinewidth": 0,
              "ticks": ""
             }
            },
            "type": "parcoords"
           }
          ],
          "pie": [
           {
            "automargin": true,
            "type": "pie"
           }
          ],
          "scatter": [
           {
            "fillpattern": {
             "fillmode": "overlay",
             "size": 10,
             "solidity": 0.2
            },
            "type": "scatter"
           }
          ],
          "scatter3d": [
           {
            "line": {
             "colorbar": {
              "outlinewidth": 0,
              "ticks": ""
             }
            },
            "marker": {
             "colorbar": {
              "outlinewidth": 0,
              "ticks": ""
             }
            },
            "type": "scatter3d"
           }
          ],
          "scattercarpet": [
           {
            "marker": {
             "colorbar": {
              "outlinewidth": 0,
              "ticks": ""
             }
            },
            "type": "scattercarpet"
           }
          ],
          "scattergeo": [
           {
            "marker": {
             "colorbar": {
              "outlinewidth": 0,
              "ticks": ""
             }
            },
            "type": "scattergeo"
           }
          ],
          "scattergl": [
           {
            "marker": {
             "colorbar": {
              "outlinewidth": 0,
              "ticks": ""
             }
            },
            "type": "scattergl"
           }
          ],
          "scattermapbox": [
           {
            "marker": {
             "colorbar": {
              "outlinewidth": 0,
              "ticks": ""
             }
            },
            "type": "scattermapbox"
           }
          ],
          "scatterpolar": [
           {
            "marker": {
             "colorbar": {
              "outlinewidth": 0,
              "ticks": ""
             }
            },
            "type": "scatterpolar"
           }
          ],
          "scatterpolargl": [
           {
            "marker": {
             "colorbar": {
              "outlinewidth": 0,
              "ticks": ""
             }
            },
            "type": "scatterpolargl"
           }
          ],
          "scatterternary": [
           {
            "marker": {
             "colorbar": {
              "outlinewidth": 0,
              "ticks": ""
             }
            },
            "type": "scatterternary"
           }
          ],
          "surface": [
           {
            "colorbar": {
             "outlinewidth": 0,
             "ticks": ""
            },
            "colorscale": [
             [
              0,
              "#0d0887"
             ],
             [
              0.1111111111111111,
              "#46039f"
             ],
             [
              0.2222222222222222,
              "#7201a8"
             ],
             [
              0.3333333333333333,
              "#9c179e"
             ],
             [
              0.4444444444444444,
              "#bd3786"
             ],
             [
              0.5555555555555556,
              "#d8576b"
             ],
             [
              0.6666666666666666,
              "#ed7953"
             ],
             [
              0.7777777777777778,
              "#fb9f3a"
             ],
             [
              0.8888888888888888,
              "#fdca26"
             ],
             [
              1,
              "#f0f921"
             ]
            ],
            "type": "surface"
           }
          ],
          "table": [
           {
            "cells": {
             "fill": {
              "color": "#EBF0F8"
             },
             "line": {
              "color": "white"
             }
            },
            "header": {
             "fill": {
              "color": "#C8D4E3"
             },
             "line": {
              "color": "white"
             }
            },
            "type": "table"
           }
          ]
         },
         "layout": {
          "annotationdefaults": {
           "arrowcolor": "#2a3f5f",
           "arrowhead": 0,
           "arrowwidth": 1
          },
          "autotypenumbers": "strict",
          "coloraxis": {
           "colorbar": {
            "outlinewidth": 0,
            "ticks": ""
           }
          },
          "colorscale": {
           "diverging": [
            [
             0,
             "#8e0152"
            ],
            [
             0.1,
             "#c51b7d"
            ],
            [
             0.2,
             "#de77ae"
            ],
            [
             0.3,
             "#f1b6da"
            ],
            [
             0.4,
             "#fde0ef"
            ],
            [
             0.5,
             "#f7f7f7"
            ],
            [
             0.6,
             "#e6f5d0"
            ],
            [
             0.7,
             "#b8e186"
            ],
            [
             0.8,
             "#7fbc41"
            ],
            [
             0.9,
             "#4d9221"
            ],
            [
             1,
             "#276419"
            ]
           ],
           "sequential": [
            [
             0,
             "#0d0887"
            ],
            [
             0.1111111111111111,
             "#46039f"
            ],
            [
             0.2222222222222222,
             "#7201a8"
            ],
            [
             0.3333333333333333,
             "#9c179e"
            ],
            [
             0.4444444444444444,
             "#bd3786"
            ],
            [
             0.5555555555555556,
             "#d8576b"
            ],
            [
             0.6666666666666666,
             "#ed7953"
            ],
            [
             0.7777777777777778,
             "#fb9f3a"
            ],
            [
             0.8888888888888888,
             "#fdca26"
            ],
            [
             1,
             "#f0f921"
            ]
           ],
           "sequentialminus": [
            [
             0,
             "#0d0887"
            ],
            [
             0.1111111111111111,
             "#46039f"
            ],
            [
             0.2222222222222222,
             "#7201a8"
            ],
            [
             0.3333333333333333,
             "#9c179e"
            ],
            [
             0.4444444444444444,
             "#bd3786"
            ],
            [
             0.5555555555555556,
             "#d8576b"
            ],
            [
             0.6666666666666666,
             "#ed7953"
            ],
            [
             0.7777777777777778,
             "#fb9f3a"
            ],
            [
             0.8888888888888888,
             "#fdca26"
            ],
            [
             1,
             "#f0f921"
            ]
           ]
          },
          "colorway": [
           "#636efa",
           "#EF553B",
           "#00cc96",
           "#ab63fa",
           "#FFA15A",
           "#19d3f3",
           "#FF6692",
           "#B6E880",
           "#FF97FF",
           "#FECB52"
          ],
          "font": {
           "color": "#2a3f5f"
          },
          "geo": {
           "bgcolor": "white",
           "lakecolor": "white",
           "landcolor": "#E5ECF6",
           "showlakes": true,
           "showland": true,
           "subunitcolor": "white"
          },
          "hoverlabel": {
           "align": "left"
          },
          "hovermode": "closest",
          "mapbox": {
           "style": "light"
          },
          "paper_bgcolor": "white",
          "plot_bgcolor": "#E5ECF6",
          "polar": {
           "angularaxis": {
            "gridcolor": "white",
            "linecolor": "white",
            "ticks": ""
           },
           "bgcolor": "#E5ECF6",
           "radialaxis": {
            "gridcolor": "white",
            "linecolor": "white",
            "ticks": ""
           }
          },
          "scene": {
           "xaxis": {
            "backgroundcolor": "#E5ECF6",
            "gridcolor": "white",
            "gridwidth": 2,
            "linecolor": "white",
            "showbackground": true,
            "ticks": "",
            "zerolinecolor": "white"
           },
           "yaxis": {
            "backgroundcolor": "#E5ECF6",
            "gridcolor": "white",
            "gridwidth": 2,
            "linecolor": "white",
            "showbackground": true,
            "ticks": "",
            "zerolinecolor": "white"
           },
           "zaxis": {
            "backgroundcolor": "#E5ECF6",
            "gridcolor": "white",
            "gridwidth": 2,
            "linecolor": "white",
            "showbackground": true,
            "ticks": "",
            "zerolinecolor": "white"
           }
          },
          "shapedefaults": {
           "line": {
            "color": "#2a3f5f"
           }
          },
          "ternary": {
           "aaxis": {
            "gridcolor": "white",
            "linecolor": "white",
            "ticks": ""
           },
           "baxis": {
            "gridcolor": "white",
            "linecolor": "white",
            "ticks": ""
           },
           "bgcolor": "#E5ECF6",
           "caxis": {
            "gridcolor": "white",
            "linecolor": "white",
            "ticks": ""
           }
          },
          "title": {
           "x": 0.05
          },
          "xaxis": {
           "automargin": true,
           "gridcolor": "white",
           "linecolor": "white",
           "ticks": "",
           "title": {
            "standoff": 15
           },
           "zerolinecolor": "white",
           "zerolinewidth": 2
          },
          "yaxis": {
           "automargin": true,
           "gridcolor": "white",
           "linecolor": "white",
           "ticks": "",
           "title": {
            "standoff": 15
           },
           "zerolinecolor": "white",
           "zerolinewidth": 2
          }
         }
        },
        "xaxis": {
         "anchor": "y",
         "domain": [
          0,
          1
         ],
         "title": {
          "text": "x"
         }
        },
        "yaxis": {
         "anchor": "x",
         "domain": [
          0,
          1
         ],
         "title": {
          "text": "y"
         }
        }
       }
      }
     },
     "metadata": {},
     "output_type": "display_data"
    }
   ],
   "source": [
    "px.area(x=x,y=y)"
   ]
  },
  {
   "cell_type": "code",
   "execution_count": 17,
   "metadata": {},
   "outputs": [
    {
     "data": {
      "text/plain": [
       "<BarContainer object of 10 artists>"
      ]
     },
     "execution_count": 17,
     "metadata": {},
     "output_type": "execute_result"
    },
    {
     "data": {
      "image/png": "[encoded data removed]",
      "text/plain": [
       "<Figure size 640x480 with 1 Axes>"
      ]
     },
     "metadata": {},
     "output_type": "display_data"
    }
   ],
   "source": [
    "years = np.arange(2010,2020,dtype=int)\n",
    "sales= np.random.randint(1000,5000,10)\n",
    "plt.bar(years,sales)"
   ]
  },
  {
   "cell_type": "code",
   "execution_count": 18,
   "metadata": {},
   "outputs": [
    {
     "data": {
      "text/plain": [
       "<Axes: >"
      ]
     },
     "execution_count": 18,
     "metadata": {},
     "output_type": "execute_result"
    },
    {
     "data": {
      "image/png": "[encoded data removed]",
      "text/plain": [
       "<Figure size 640x480 with 1 Axes>"
      ]
     },
     "metadata": {},
     "output_type": "display_data"
    }
   ],
   "source": [
    "sns.barplot(x= years,y = sales)"
   ]
  },
  {
   "cell_type": "code",
   "execution_count": 19,
   "metadata": {},
   "outputs": [
    {
     "data": {
      "application/vnd.plotly.v1+json": {
       "config": {
        "plotlyServerURL": "https://plot.ly"
       },
       "data": [
        {
         "alignmentgroup": "True",
         "hovertemplate": "x=%{x}<br>y=%{y}<extra></extra>",
         "legendgroup": "",
         "marker": {
          "color": "#636efa",
          "pattern": {
           "shape": ""
          }
         },
         "name": "",
         "offsetgroup": "",
         "orientation": "v",
         "showlegend": false,
         "textposition": "auto",
         "type": "bar",
         "x": [
          2010,
          2011,
          2012,
          2013,
          2014,
          2015,
          2016,
          2017,
          2018,
          2019
         ],
         "xaxis": "x",
         "y": [
          1012,
          1706,
          2684,
          1627,
          2365,
          3833,
          2886,
          1306,
          3924,
          1673
         ],
         "yaxis": "y"
        }
       ],
       "layout": {
        "barmode": "relative",
        "legend": {
         "tracegroupgap": 0
        },
        "margin": {
         "t": 60
        },
        "template": {
         "data": {
          "bar": [
           {
            "error_x": {
             "color": "#2a3f5f"
            },
            "error_y": {
             "color": "#2a3f5f"
            },
            "marker": {
             "line": {
              "color": "#E5ECF6",
              "width": 0.5
             },
             "pattern": {
              "fillmode": "overlay",
              "size": 10,
              "solidity": 0.2
             }
            },
            "type": "bar"
           }
          ],
          "barpolar": [
           {
            "marker": {
             "line": {
              "color": "#E5ECF6",
              "width": 0.5
             },
             "pattern": {
              "fillmode": "overlay",
              "size": 10,
              "solidity": 0.2
             }
            },
            "type": "barpolar"
           }
          ],
          "carpet": [
           {
            "aaxis": {
             "endlinecolor": "#2a3f5f",
             "gridcolor": "white",
             "linecolor": "white",
             "minorgridcolor": "white",
             "startlinecolor": "#2a3f5f"
            },
            "baxis": {
             "endlinecolor": "#2a3f5f",
             "gridcolor": "white",
             "linecolor": "white",
             "minorgridcolor": "white",
             "startlinecolor": "#2a3f5f"
            },
            "type": "carpet"
           }
          ],
          "choropleth": [
           {
            "colorbar": {
             "outlinewidth": 0,
             "ticks": ""
            },
            "type": "choropleth"
           }
          ],
          "contour": [
           {
            "colorbar": {
             "outlinewidth": 0,
             "ticks": ""
            },
            "colorscale": [
             [
              0,
              "#0d0887"
             ],
             [
              0.1111111111111111,
              "#46039f"
             ],
             [
              0.2222222222222222,
              "#7201a8"
             ],
             [
              0.3333333333333333,
              "#9c179e"
             ],
             [
              0.4444444444444444,
              "#bd3786"
             ],
             [
              0.5555555555555556,
              "#d8576b"
             ],
             [
              0.6666666666666666,
              "#ed7953"
             ],
             [
              0.7777777777777778,
              "#fb9f3a"
             ],
             [
              0.8888888888888888,
              "#fdca26"
             ],
             [
              1,
              "#f0f921"
             ]
            ],
            "type": "contour"
           }
          ],
          "contourcarpet": [
           {
            "colorbar": {
             "outlinewidth": 0,
             "ticks": ""
            },
            "type": "contourcarpet"
           }
          ],
          "heatmap": [
           {
            "colorbar": {
             "outlinewidth": 0,
             "ticks": ""
            },
            "colorscale": [
             [
              0,
              "#0d0887"
             ],
             [
              0.1111111111111111,
              "#46039f"
             ],
             [
              0.2222222222222222,
              "#7201a8"
             ],
             [
              0.3333333333333333,
              "#9c179e"
             ],
             [
              0.4444444444444444,
              "#bd3786"
             ],
             [
              0.5555555555555556,
              "#d8576b"
             ],
             [
              0.6666666666666666,
              "#ed7953"
             ],
             [
              0.7777777777777778,
              "#fb9f3a"
             ],
             [
              0.8888888888888888,
              "#fdca26"
             ],
             [
              1,
              "#f0f921"
             ]
            ],
            "type": "heatmap"
           }
          ],
          "heatmapgl": [
           {
            "colorbar": {
             "outlinewidth": 0,
             "ticks": ""
            },
            "colorscale": [
             [
              0,
              "#0d0887"
             ],
             [
              0.1111111111111111,
              "#46039f"
             ],
             [
              0.2222222222222222,
              "#7201a8"
             ],
             [
              0.3333333333333333,
              "#9c179e"
             ],
             [
              0.4444444444444444,
              "#bd3786"
             ],
             [
              0.5555555555555556,
              "#d8576b"
             ],
             [
              0.6666666666666666,
              "#ed7953"
             ],
             [
              0.7777777777777778,
              "#fb9f3a"
             ],
             [
              0.8888888888888888,
              "#fdca26"
             ],
             [
              1,
              "#f0f921"
             ]
            ],
            "type": "heatmapgl"
           }
          ],
          "histogram": [
           {
            "marker": {
             "pattern": {
              "fillmode": "overlay",
              "size": 10,
              "solidity": 0.2
             }
            },
            "type": "histogram"
           }
          ],
          "histogram2d": [
           {
            "colorbar": {
             "outlinewidth": 0,
             "ticks": ""
            },
            "colorscale": [
             [
              0,
              "#0d0887"
             ],
             [
              0.1111111111111111,
              "#46039f"
             ],
             [
              0.2222222222222222,
              "#7201a8"
             ],
             [
              0.3333333333333333,
              "#9c179e"
             ],
             [
              0.4444444444444444,
              "#bd3786"
             ],
             [
              0.5555555555555556,
              "#d8576b"
             ],
             [
              0.6666666666666666,
              "#ed7953"
             ],
             [
              0.7777777777777778,
              "#fb9f3a"
             ],
             [
              0.8888888888888888,
              "#fdca26"
             ],
             [
              1,
              "#f0f921"
             ]
            ],
            "type": "histogram2d"
           }
          ],
          "histogram2dcontour": [
           {
            "colorbar": {
             "outlinewidth": 0,
             "ticks": ""
            },
            "colorscale": [
             [
              0,
              "#0d0887"
             ],
             [
              0.1111111111111111,
              "#46039f"
             ],
             [
              0.2222222222222222,
              "#7201a8"
             ],
             [
              0.3333333333333333,
              "#9c179e"
             ],
             [
              0.4444444444444444,
              "#bd3786"
             ],
             [
              0.5555555555555556,
              "#d8576b"
             ],
             [
              0.6666666666666666,
              "#ed7953"
             ],
             [
              0.7777777777777778,
              "#fb9f3a"
             ],
             [
              0.8888888888888888,
              "#fdca26"
             ],
             [
              1,
              "#f0f921"
             ]
            ],
            "type": "histogram2dcontour"
           }
          ],
          "mesh3d": [
           {
            "colorbar": {
             "outlinewidth": 0,
             "ticks": ""
            },
            "type": "mesh3d"
           }
          ],
          "parcoords": [
           {
            "line": {
             "colorbar": {
              "outlinewidth": 0,
              "ticks": ""
             }
            },
            "type": "parcoords"
           }
          ],
          "pie": [
           {
            "automargin": true,
            "type": "pie"
           }
          ],
          "scatter": [
           {
            "fillpattern": {
             "fillmode": "overlay",
             "size": 10,
             "solidity": 0.2
            },
            "type": "scatter"
           }
          ],
          "scatter3d": [
           {
            "line": {
             "colorbar": {
              "outlinewidth": 0,
              "ticks": ""
             }
            },
            "marker": {
             "colorbar": {
              "outlinewidth": 0,
              "ticks": ""
             }
            },
            "type": "scatter3d"
           }
          ],
          "scattercarpet": [
           {
            "marker": {
             "colorbar": {
              "outlinewidth": 0,
              "ticks": ""
             }
            },
            "type": "scattercarpet"
           }
          ],
          "scattergeo": [
           {
            "marker": {
             "colorbar": {
              "outlinewidth": 0,
              "ticks": ""
             }
            },
            "type": "scattergeo"
           }
          ],
          "scattergl": [
           {
            "marker": {
             "colorbar": {
              "outlinewidth": 0,
              "ticks": ""
             }
            },
            "type": "scattergl"
           }
          ],
          "scattermapbox": [
           {
            "marker": {
             "colorbar": {
              "outlinewidth": 0,
              "ticks": ""
             }
            },
            "type": "scattermapbox"
           }
          ],
          "scatterpolar": [
           {
            "marker": {
             "colorbar": {
              "outlinewidth": 0,
              "ticks": ""
             }
            },
            "type": "scatterpolar"
           }
          ],
          "scatterpolargl": [
           {
            "marker": {
             "colorbar": {
              "outlinewidth": 0,
              "ticks": ""
             }
            },
            "type": "scatterpolargl"
           }
          ],
          "scatterternary": [
           {
            "marker": {
             "colorbar": {
              "outlinewidth": 0,
              "ticks": ""
             }
            },
            "type": "scatterternary"
           }
          ],
          "surface": [
           {
            "colorbar": {
             "outlinewidth": 0,
             "ticks": ""
            },
            "colorscale": [
             [
              0,
              "#0d0887"
             ],
             [
              0.1111111111111111,
              "#46039f"
             ],
             [
              0.2222222222222222,
              "#7201a8"
             ],
             [
              0.3333333333333333,
              "#9c179e"
             ],
             [
              0.4444444444444444,
              "#bd3786"
             ],
             [
              0.5555555555555556,
              "#d8576b"
             ],
             [
              0.6666666666666666,
              "#ed7953"
             ],
             [
              0.7777777777777778,
              "#fb9f3a"
             ],
             [
              0.8888888888888888,
              "#fdca26"
             ],
             [
              1,
              "#f0f921"
             ]
            ],
            "type": "surface"
           }
          ],
          "table": [
           {
            "cells": {
             "fill": {
              "color": "#EBF0F8"
             },
             "line": {
              "color": "white"
             }
            },
            "header": {
             "fill": {
              "color": "#C8D4E3"
             },
             "line": {
              "color": "white"
             }
            },
            "type": "table"
           }
          ]
         },
         "layout": {
          "annotationdefaults": {
           "arrowcolor": "#2a3f5f",
           "arrowhead": 0,
           "arrowwidth": 1
          },
          "autotypenumbers": "strict",
          "coloraxis": {
           "colorbar": {
            "outlinewidth": 0,
            "ticks": ""
           }
          },
          "colorscale": {
           "diverging": [
            [
             0,
             "#8e0152"
            ],
            [
             0.1,
             "#c51b7d"
            ],
            [
             0.2,
             "#de77ae"
            ],
            [
             0.3,
             "#f1b6da"
            ],
            [
             0.4,
             "#fde0ef"
            ],
            [
             0.5,
             "#f7f7f7"
            ],
            [
             0.6,
             "#e6f5d0"
            ],
            [
             0.7,
             "#b8e186"
            ],
            [
             0.8,
             "#7fbc41"
            ],
            [
             0.9,
             "#4d9221"
            ],
            [
             1,
             "#276419"
            ]
           ],
           "sequential": [
            [
             0,
             "#0d0887"
            ],
            [
             0.1111111111111111,
             "#46039f"
            ],
            [
             0.2222222222222222,
             "#7201a8"
            ],
            [
             0.3333333333333333,
             "#9c179e"
            ],
            [
             0.4444444444444444,
             "#bd3786"
            ],
            [
             0.5555555555555556,
             "#d8576b"
            ],
            [
             0.6666666666666666,
             "#ed7953"
            ],
            [
             0.7777777777777778,
             "#fb9f3a"
            ],
            [
             0.8888888888888888,
             "#fdca26"
            ],
            [
             1,
             "#f0f921"
            ]
           ],
           "sequentialminus": [
            [
             0,
             "#0d0887"
            ],
            [
             0.1111111111111111,
             "#46039f"
            ],
            [
             0.2222222222222222,
             "#7201a8"
            ],
            [
             0.3333333333333333,
             "#9c179e"
            ],
            [
             0.4444444444444444,
             "#bd3786"
            ],
            [
             0.5555555555555556,
             "#d8576b"
            ],
            [
             0.6666666666666666,
             "#ed7953"
            ],
            [
             0.7777777777777778,
             "#fb9f3a"
            ],
            [
             0.8888888888888888,
             "#fdca26"
            ],
            [
             1,
             "#f0f921"
            ]
           ]
          },
          "colorway": [
           "#636efa",
           "#EF553B",
           "#00cc96",
           "#ab63fa",
           "#FFA15A",
           "#19d3f3",
           "#FF6692",
           "#B6E880",
           "#FF97FF",
           "#FECB52"
          ],
          "font": {
           "color": "#2a3f5f"
          },
          "geo": {
           "bgcolor": "white",
           "lakecolor": "white",
           "landcolor": "#E5ECF6",
           "showlakes": true,
           "showland": true,
           "subunitcolor": "white"
          },
          "hoverlabel": {
           "align": "left"
          },
          "hovermode": "closest",
          "mapbox": {
           "style": "light"
          },
          "paper_bgcolor": "white",
          "plot_bgcolor": "#E5ECF6",
          "polar": {
           "angularaxis": {
            "gridcolor": "white",
            "linecolor": "white",
            "ticks": ""
           },
           "bgcolor": "#E5ECF6",
           "radialaxis": {
            "gridcolor": "white",
            "linecolor": "white",
            "ticks": ""
           }
          },
          "scene": {
           "xaxis": {
            "backgroundcolor": "#E5ECF6",
            "gridcolor": "white",
            "gridwidth": 2,
            "linecolor": "white",
            "showbackground": true,
            "ticks": "",
            "zerolinecolor": "white"
           },
           "yaxis": {
            "backgroundcolor": "#E5ECF6",
            "gridcolor": "white",
            "gridwidth": 2,
            "linecolor": "white",
            "showbackground": true,
            "ticks": "",
            "zerolinecolor": "white"
           },
           "zaxis": {
            "backgroundcolor": "#E5ECF6",
            "gridcolor": "white",
            "gridwidth": 2,
            "linecolor": "white",
            "showbackground": true,
            "ticks": "",
            "zerolinecolor": "white"
           }
          },
          "shapedefaults": {
           "line": {
            "color": "#2a3f5f"
           }
          },
          "ternary": {
           "aaxis": {
            "gridcolor": "white",
            "linecolor": "white",
            "ticks": ""
           },
           "baxis": {
            "gridcolor": "white",
            "linecolor": "white",
            "ticks": ""
           },
           "bgcolor": "#E5ECF6",
           "caxis": {
            "gridcolor": "white",
            "linecolor": "white",
            "ticks": ""
           }
          },
          "title": {
           "x": 0.05
          },
          "xaxis": {
           "automargin": true,
           "gridcolor": "white",
           "linecolor": "white",
           "ticks": "",
           "title": {
            "standoff": 15
           },
           "zerolinecolor": "white",
           "zerolinewidth": 2
          },
          "yaxis": {
           "automargin": true,
           "gridcolor": "white",
           "linecolor": "white",
           "ticks": "",
           "title": {
            "standoff": 15
           },
           "zerolinecolor": "white",
           "zerolinewidth": 2
          }
         }
        },
        "xaxis": {
         "anchor": "y",
         "domain": [
          0,
          1
         ],
         "title": {
          "text": "x"
         }
        },
        "yaxis": {
         "anchor": "x",
         "domain": [
          0,
          1
         ],
         "title": {
          "text": "y"
         }
        }
       }
      }
     },
     "metadata": {},
     "output_type": "display_data"
    }
   ],
   "source": [
    "px.bar(x=years,y= sales)"
   ]
  },
  {
   "cell_type": "code",
   "execution_count": 20,
   "metadata": {},
   "outputs": [
    {
     "data": {
      "application/vnd.plotly.v1+json": {
       "config": {
        "plotlyServerURL": "https://plot.ly"
       },
       "data": [
        {
         "hovertemplate": "r=%{r}<br>theta=%{theta}<extra></extra>",
         "legendgroup": "",
         "marker": {
          "color": "#636efa",
          "pattern": {
           "shape": ""
          }
         },
         "name": "",
         "r": [
          2010,
          2011,
          2012,
          2013,
          2014,
          2015,
          2016,
          2017,
          2018,
          2019
         ],
         "showlegend": false,
         "subplot": "polar",
         "theta": [
          1012,
          1706,
          2684,
          1627,
          2365,
          3833,
          2886,
          1306,
          3924,
          1673
         ],
         "type": "barpolar"
        }
       ],
       "layout": {
        "barmode": "relative",
        "legend": {
         "tracegroupgap": 0
        },
        "margin": {
         "t": 60
        },
        "polar": {
         "angularaxis": {
          "direction": "clockwise",
          "rotation": 90
         },
         "domain": {
          "x": [
           0,
           1
          ],
          "y": [
           0,
           1
          ]
         }
        },
        "template": {
         "data": {
          "bar": [
           {
            "error_x": {
             "color": "#2a3f5f"
            },
            "error_y": {
             "color": "#2a3f5f"
            },
            "marker": {
             "line": {
              "color": "#E5ECF6",
              "width": 0.5
             },
             "pattern": {
              "fillmode": "overlay",
              "size": 10,
              "solidity": 0.2
             }
            },
            "type": "bar"
           }
          ],
          "barpolar": [
           {
            "marker": {
             "line": {
              "color": "#E5ECF6",
              "width": 0.5
             },
             "pattern": {
              "fillmode": "overlay",
              "size": 10,
              "solidity": 0.2
             }
            },
            "type": "barpolar"
           }
          ],
          "carpet": [
           {
            "aaxis": {
             "endlinecolor": "#2a3f5f",
             "gridcolor": "white",
             "linecolor": "white",
             "minorgridcolor": "white",
             "startlinecolor": "#2a3f5f"
            },
            "baxis": {
             "endlinecolor": "#2a3f5f",
             "gridcolor": "white",
             "linecolor": "white",
             "minorgridcolor": "white",
             "startlinecolor": "#2a3f5f"
            },
            "type": "carpet"
           }
          ],
          "choropleth": [
           {
            "colorbar": {
             "outlinewidth": 0,
             "ticks": ""
            },
            "type": "choropleth"
           }
          ],
          "contour": [
           {
            "colorbar": {
             "outlinewidth": 0,
             "ticks": ""
            },
            "colorscale": [
             [
              0,
              "#0d0887"
             ],
             [
              0.1111111111111111,
              "#46039f"
             ],
             [
              0.2222222222222222,
              "#7201a8"
             ],
             [
              0.3333333333333333,
              "#9c179e"
             ],
             [
              0.4444444444444444,
              "#bd3786"
             ],
             [
              0.5555555555555556,
              "#d8576b"
             ],
             [
              0.6666666666666666,
              "#ed7953"
             ],
             [
              0.7777777777777778,
              "#fb9f3a"
             ],
             [
              0.8888888888888888,
              "#fdca26"
             ],
             [
              1,
              "#f0f921"
             ]
            ],
            "type": "contour"
           }
          ],
          "contourcarpet": [
           {
            "colorbar": {
             "outlinewidth": 0,
             "ticks": ""
            },
            "type": "contourcarpet"
           }
          ],
          "heatmap": [
           {
            "colorbar": {
             "outlinewidth": 0,
             "ticks": ""
            },
            "colorscale": [
             [
              0,
              "#0d0887"
             ],
             [
              0.1111111111111111,
              "#46039f"
             ],
             [
              0.2222222222222222,
              "#7201a8"
             ],
             [
              0.3333333333333333,
              "#9c179e"
             ],
             [
              0.4444444444444444,
              "#bd3786"
             ],
             [
              0.5555555555555556,
              "#d8576b"
             ],
             [
              0.6666666666666666,
              "#ed7953"
             ],
             [
              0.7777777777777778,
              "#fb9f3a"
             ],
             [
              0.8888888888888888,
              "#fdca26"
             ],
             [
              1,
              "#f0f921"
             ]
            ],
            "type": "heatmap"
           }
          ],
          "heatmapgl": [
           {
            "colorbar": {
             "outlinewidth": 0,
             "ticks": ""
            },
            "colorscale": [
             [
              0,
              "#0d0887"
             ],
             [
              0.1111111111111111,
              "#46039f"
             ],
             [
              0.2222222222222222,
              "#7201a8"
             ],
             [
              0.3333333333333333,
              "#9c179e"
             ],
             [
              0.4444444444444444,
              "#bd3786"
             ],
             [
              0.5555555555555556,
              "#d8576b"
             ],
             [
              0.6666666666666666,
              "#ed7953"
             ],
             [
              0.7777777777777778,
              "#fb9f3a"
             ],
             [
              0.8888888888888888,
              "#fdca26"
             ],
             [
              1,
              "#f0f921"
             ]
            ],
            "type": "heatmapgl"
           }
          ],
          "histogram": [
           {
            "marker": {
             "pattern": {
              "fillmode": "overlay",
              "size": 10,
              "solidity": 0.2
             }
            },
            "type": "histogram"
           }
          ],
          "histogram2d": [
           {
            "colorbar": {
             "outlinewidth": 0,
             "ticks": ""
            },
            "colorscale": [
             [
              0,
              "#0d0887"
             ],
             [
              0.1111111111111111,
              "#46039f"
             ],
             [
              0.2222222222222222,
              "#7201a8"
             ],
             [
              0.3333333333333333,
              "#9c179e"
             ],
             [
              0.4444444444444444,
              "#bd3786"
             ],
             [
              0.5555555555555556,
              "#d8576b"
             ],
             [
              0.6666666666666666,
              "#ed7953"
             ],
             [
              0.7777777777777778,
              "#fb9f3a"
             ],
             [
              0.8888888888888888,
              "#fdca26"
             ],
             [
              1,
              "#f0f921"
             ]
            ],
            "type": "histogram2d"
           }
          ],
          "histogram2dcontour": [
           {
            "colorbar": {
             "outlinewidth": 0,
             "ticks": ""
            },
            "colorscale": [
             [
              0,
              "#0d0887"
             ],
             [
              0.1111111111111111,
              "#46039f"
             ],
             [
              0.2222222222222222,
              "#7201a8"
             ],
             [
              0.3333333333333333,
              "#9c179e"
             ],
             [
              0.4444444444444444,
              "#bd3786"
             ],
             [
              0.5555555555555556,
              "#d8576b"
             ],
             [
              0.6666666666666666,
              "#ed7953"
             ],
             [
              0.7777777777777778,
              "#fb9f3a"
             ],
             [
              0.8888888888888888,
              "#fdca26"
             ],
             [
              1,
              "#f0f921"
             ]
            ],
            "type": "histogram2dcontour"
           }
          ],
          "mesh3d": [
           {
            "colorbar": {
             "outlinewidth": 0,
             "ticks": ""
            },
            "type": "mesh3d"
           }
          ],
          "parcoords": [
           {
            "line": {
             "colorbar": {
              "outlinewidth": 0,
              "ticks": ""
             }
            },
            "type": "parcoords"
           }
          ],
          "pie": [
           {
            "automargin": true,
            "type": "pie"
           }
          ],
          "scatter": [
           {
            "fillpattern": {
             "fillmode": "overlay",
             "size": 10,
             "solidity": 0.2
            },
            "type": "scatter"
           }
          ],
          "scatter3d": [
           {
            "line": {
             "colorbar": {
              "outlinewidth": 0,
              "ticks": ""
             }
            },
            "marker": {
             "colorbar": {
              "outlinewidth": 0,
              "ticks": ""
             }
            },
            "type": "scatter3d"
           }
          ],
          "scattercarpet": [
           {
            "marker": {
             "colorbar": {
              "outlinewidth": 0,
              "ticks": ""
             }
            },
            "type": "scattercarpet"
           }
          ],
          "scattergeo": [
           {
            "marker": {
             "colorbar": {
              "outlinewidth": 0,
              "ticks": ""
             }
            },
            "type": "scattergeo"
           }
          ],
          "scattergl": [
           {
            "marker": {
             "colorbar": {
              "outlinewidth": 0,
              "ticks": ""
             }
            },
            "type": "scattergl"
           }
          ],
          "scattermapbox": [
           {
            "marker": {
             "colorbar": {
              "outlinewidth": 0,
              "ticks": ""
             }
            },
            "type": "scattermapbox"
           }
          ],
          "scatterpolar": [
           {
            "marker": {
             "colorbar": {
              "outlinewidth": 0,
              "ticks": ""
             }
            },
            "type": "scatterpolar"
           }
          ],
          "scatterpolargl": [
           {
            "marker": {
             "colorbar": {
              "outlinewidth": 0,
              "ticks": ""
             }
            },
            "type": "scatterpolargl"
           }
          ],
          "scatterternary": [
           {
            "marker": {
             "colorbar": {
              "outlinewidth": 0,
              "ticks": ""
             }
            },
            "type": "scatterternary"
           }
          ],
          "surface": [
           {
            "colorbar": {
             "outlinewidth": 0,
             "ticks": ""
            },
            "colorscale": [
             [
              0,
              "#0d0887"
             ],
             [
              0.1111111111111111,
              "#46039f"
             ],
             [
              0.2222222222222222,
              "#7201a8"
             ],
             [
              0.3333333333333333,
              "#9c179e"
             ],
             [
              0.4444444444444444,
              "#bd3786"
             ],
             [
              0.5555555555555556,
              "#d8576b"
             ],
             [
              0.6666666666666666,
              "#ed7953"
             ],
             [
              0.7777777777777778,
              "#fb9f3a"
             ],
             [
              0.8888888888888888,
              "#fdca26"
             ],
             [
              1,
              "#f0f921"
             ]
            ],
            "type": "surface"
           }
          ],
          "table": [
           {
            "cells": {
             "fill": {
              "color": "#EBF0F8"
             },
             "line": {
              "color": "white"
             }
            },
            "header": {
             "fill": {
              "color": "#C8D4E3"
             },
             "line": {
              "color": "white"
             }
            },
            "type": "table"
           }
          ]
         },
         "layout": {
          "annotationdefaults": {
           "arrowcolor": "#2a3f5f",
           "arrowhead": 0,
           "arrowwidth": 1
          },
          "autotypenumbers": "strict",
          "coloraxis": {
           "colorbar": {
            "outlinewidth": 0,
            "ticks": ""
           }
          },
          "colorscale": {
           "diverging": [
            [
             0,
             "#8e0152"
            ],
            [
             0.1,
             "#c51b7d"
            ],
            [
             0.2,
             "#de77ae"
            ],
            [
             0.3,
             "#f1b6da"
            ],
            [
             0.4,
             "#fde0ef"
            ],
            [
             0.5,
             "#f7f7f7"
            ],
            [
             0.6,
             "#e6f5d0"
            ],
            [
             0.7,
             "#b8e186"
            ],
            [
             0.8,
             "#7fbc41"
            ],
            [
             0.9,
             "#4d9221"
            ],
            [
             1,
             "#276419"
            ]
           ],
           "sequential": [
            [
             0,
             "#0d0887"
            ],
            [
             0.1111111111111111,
             "#46039f"
            ],
            [
             0.2222222222222222,
             "#7201a8"
            ],
            [
             0.3333333333333333,
             "#9c179e"
            ],
            [
             0.4444444444444444,
             "#bd3786"
            ],
            [
             0.5555555555555556,
             "#d8576b"
            ],
            [
             0.6666666666666666,
             "#ed7953"
            ],
            [
             0.7777777777777778,
             "#fb9f3a"
            ],
            [
             0.8888888888888888,
             "#fdca26"
            ],
            [
             1,
             "#f0f921"
            ]
           ],
           "sequentialminus": [
            [
             0,
             "#0d0887"
            ],
            [
             0.1111111111111111,
             "#46039f"
            ],
            [
             0.2222222222222222,
             "#7201a8"
            ],
            [
             0.3333333333333333,
             "#9c179e"
            ],
            [
             0.4444444444444444,
             "#bd3786"
            ],
            [
             0.5555555555555556,
             "#d8576b"
            ],
            [
             0.6666666666666666,
             "#ed7953"
            ],
            [
             0.7777777777777778,
             "#fb9f3a"
            ],
            [
             0.8888888888888888,
             "#fdca26"
            ],
            [
             1,
             "#f0f921"
            ]
           ]
          },
          "colorway": [
           "#636efa",
           "#EF553B",
           "#00cc96",
           "#ab63fa",
           "#FFA15A",
           "#19d3f3",
           "#FF6692",
           "#B6E880",
           "#FF97FF",
           "#FECB52"
          ],
          "font": {
           "color": "#2a3f5f"
          },
          "geo": {
           "bgcolor": "white",
           "lakecolor": "white",
           "landcolor": "#E5ECF6",
           "showlakes": true,
           "showland": true,
           "subunitcolor": "white"
          },
          "hoverlabel": {
           "align": "left"
          },
          "hovermode": "closest",
          "mapbox": {
           "style": "light"
          },
          "paper_bgcolor": "white",
          "plot_bgcolor": "#E5ECF6",
          "polar": {
           "angularaxis": {
            "gridcolor": "white",
            "linecolor": "white",
            "ticks": ""
           },
           "bgcolor": "#E5ECF6",
           "radialaxis": {
            "gridcolor": "white",
            "linecolor": "white",
            "ticks": ""
           }
          },
          "scene": {
           "xaxis": {
            "backgroundcolor": "#E5ECF6",
            "gridcolor": "white",
            "gridwidth": 2,
            "linecolor": "white",
            "showbackground": true,
            "ticks": "",
            "zerolinecolor": "white"
           },
           "yaxis": {
            "backgroundcolor": "#E5ECF6",
            "gridcolor": "white",
            "gridwidth": 2,
            "linecolor": "white",
            "showbackground": true,
            "ticks": "",
            "zerolinecolor": "white"
           },
           "zaxis": {
            "backgroundcolor": "#E5ECF6",
            "gridcolor": "white",
            "gridwidth": 2,
            "linecolor": "white",
            "showbackground": true,
            "ticks": "",
            "zerolinecolor": "white"
           }
          },
          "shapedefaults": {
           "line": {
            "color": "#2a3f5f"
           }
          },
          "ternary": {
           "aaxis": {
            "gridcolor": "white",
            "linecolor": "white",
            "ticks": ""
           },
           "baxis": {
            "gridcolor": "white",
            "linecolor": "white",
            "ticks": ""
           },
           "bgcolor": "#E5ECF6",
           "caxis": {
            "gridcolor": "white",
            "linecolor": "white",
            "ticks": ""
           }
          },
          "title": {
           "x": 0.05
          },
          "xaxis": {
           "automargin": true,
           "gridcolor": "white",
           "linecolor": "white",
           "ticks": "",
           "title": {
            "standoff": 15
           },
           "zerolinecolor": "white",
           "zerolinewidth": 2
          },
          "yaxis": {
           "automargin": true,
           "gridcolor": "white",
           "linecolor": "white",
           "ticks": "",
           "title": {
            "standoff": 15
           },
           "zerolinecolor": "white",
           "zerolinewidth": 2
          }
         }
        }
       }
      }
     },
     "metadata": {},
     "output_type": "display_data"
    }
   ],
   "source": [
    "px.bar_polar(r= years, theta = sales)"
   ]
  },
  {
   "cell_type": "code",
   "execution_count": 28,
   "metadata": {},
   "outputs": [
    {
     "data": {
      "image/png": "[encoded data removed]",
      "text/plain": [
       "<Figure size 640x480 with 1 Axes>"
      ]
     },
     "metadata": {},
     "output_type": "display_data"
    }
   ],
   "source": [
    "x = np.random.normal(size=1000)\n",
    "y = np.random.normal(size=1000)\n",
    "plt.scatter(x,y,alpha = 1,edgecolor= 'red')\n",
    "plt.show()"
   ]
  },
  {
   "cell_type": "code",
   "execution_count": 27,
   "metadata": {},
   "outputs": [
    {
     "data": {
      "text/plain": [
       "<Axes: >"
      ]
     },
     "execution_count": 27,
     "metadata": {},
     "output_type": "execute_result"
    },
    {
     "data": {
      "image/png": "[encoded data removed]",
      "text/plain": [
       "<Figure size 640x480 with 1 Axes>"
      ]
     },
     "metadata": {},
     "output_type": "display_data"
    }
   ],
   "source": [
    "sns.scatterplot(x=x,y=y,alpha = 1,edgecolor = 'black')"
   ]
  },
  {
   "cell_type": "code",
   "execution_count": 29,
   "metadata": {},
   "outputs": [
    {
     "data": {
      "text/plain": [
       "<Axes: >"
      ]
     },
     "execution_count": 29,
     "metadata": {},
     "output_type": "execute_result"
    },
    {
     "data": {
      "image/png": "[encoded data removed]",
      "text/plain": [
       "<Figure size 640x480 with 2 Axes>"
      ]
     },
     "metadata": {},
     "output_type": "display_data"
    }
   ],
   "source": [
    "sns.heatmap(np.random.rand(10,10))"
   ]
  },
  {
   "cell_type": "code",
   "execution_count": 30,
   "metadata": {},
   "outputs": [
    {
     "data": {
      "application/vnd.plotly.v1+json": {
       "config": {
        "plotlyServerURL": "https://plot.ly"
       },
       "data": [
        {
         "coloraxis": "coloraxis",
         "hovertemplate": "x=%{x}<br>y=%{y}<br>count=%{z}<extra></extra>",
         "name": "",
         "type": "histogram2d",
         "x": [
          0.9859237715583383,
          1.1586831119253345,
          1.1132862810819522,
          -1.6074430935420525,
          0.34999122176888564,
          1.232482485139858,
          0.9097750337488572,
          -0.92285167205215,
          0.6455954062327438,
          -1.5280760299376253,
          -2.1270289626730134,
          0.5325955343519663,
          1.508369551737977,
          0.5621889064567035,
          1.268650696643326,
          0.5623603749496432,
          -1.38854355964805,
          0.4670981282050056,
          0.5847458086310299,
          1.4247750529154228,
          -3.0517593613533287,
          0.7458879527775072,
          -0.28878023220247695,
          1.0787056209893737,
          -1.7136737141759466,
          -0.8046621680789192,
          -0.821517377195394,
          0.3650321090306441,
          -0.3229317146753504,
          -0.6162765162305869,
          -0.11021564040681375,
          -1.0846730647342255,
          -0.6264241819296319,
          1.0267446293214098,
          -0.8800021342135376,
          0.6087689778274912,
          1.205792448216655,
          -0.2668067743764223,
          0.36386416415868955,
          4.628863645848982,
          2.476823561531921,
          0.061851507243738474,
          1.4872404439183111,
          2.90105937187413,
          0.5167311670616312,
          -1.358660367791535,
          -1.5649342970110316,
          0.7610885454688683,
          -1.449651417696776,
          1.2799594454326284,
          0.47472532697386244,
          1.061392267585935,
          1.567650693940538,
          -0.7444277850208058,
          1.8069263625524703,
          -0.3239203977051838,
          0.5898860664051155,
          1.3547101916019495,
          -0.6297226121939787,
          0.11509152015562445,
          -0.9852269187535374,
          0.23483197726825708,
          0.9817915282202077,
          -0.5918184983997616,
          0.10074910499601325,
          1.6340907767227948,
          -1.6919014094159621,
          1.6476776120111547,
          0.4745195877351921,
          1.7844532196852143,
          0.03513929476494792,
          -0.3468128804344965,
          -0.6767657000727488,
          -0.6768805838427593,
          0.3633279656122273,
          -0.4110367136071896,
          -1.1058128844597077,
          -0.132920501448274,
          0.14135795769092782,
          -1.0109214420574462,
          0.24359234003423144,
          0.2015882317653774,
          0.5356679069696143,
          1.680031544103879,
          -0.8209290204747427,
          -0.8683875589395909,
          -0.9079168937472134,
          0.4380597800083781,
          -0.44211750463257266,
          -0.09745405945712883,
          -1.2597916747074183,
          1.0102637280428468,
          -0.4431004723512743,
          0.31226928963856365,
          0.5460078358798711,
          -1.371001882432936,
          -0.17966572996322874,
          -0.054710818172260735,
          -0.25573991768638527,
          0.8180488862122541,
          1.015921918148232,
          0.07393475110577692,
          0.49446890982080793,
          -0.9229511483634091,
          0.49465122679811974,
          0.7377348525767039,
          0.8846720249672356,
          0.7036756301913522,
          -2.002624645644795,
          -0.524673764981377,
          -1.0055243804731844,
          -0.24201558375621682,
          1.7617929480289929,
          0.7742741269505566,
          0.427354522851721,
          -1.0561446972383652,
          -0.4903419131793422,
          -0.10973771814606215,
          1.8918254515492476,
          1.4477392778298392,
          0.1662413093412121,
          0.6314294972640275,
          -0.018338496456263155,
          -0.38228923877329,
          0.8707096716411834,
          2.0085220347448276,
          1.0302005489029276,
          -0.6379387696171781,
          -0.5050976466646376,
          -1.3981301753112279,
          0.7303040787533536,
          0.6200737220269362,
          -0.6536875614324219,
          0.16393427069093564,
          2.3380434162416663,
          0.612195063174234,
          1.4526730914119248,
          -1.306211005195802,
          1.3172110804979142,
          0.39481000912925523,
          1.0819338078285488,
          2.0262274419993167,
          -0.748509305996388,
          -2.4192503384658153,
          1.6898691007908802,
          -1.4120353078118677,
          -0.7903540425446164,
          0.04023333962933725,
          -0.09688601405290787,
          0.29838134769369123,
          0.8073175087951496,
          -0.347461926637348,
          -0.42200182537467895,
          -1.1386028367984666,
          0.9942406367256729,
          -0.431178627349156,
          0.4521846069866375,
          -0.4836159343078631,
          0.22561320578866464,
          0.21774151376044593,
          1.3890174395851826,
          -0.0057316946575996655,
          -1.53143350416321,
          -0.4794681918584671,
          -0.19263715748944624,
          -1.0902147351007547,
          0.15842246420303988,
          1.5191565122952588,
          0.11538885802635963,
          -0.80051579819863,
          0.7016378877456457,
          -0.21588599207123602,
          1.2982873185009332,
          -2.4624207816140067,
          -0.9666026715586818,
          -1.3399936494894096,
          -0.11590775531751876,
          0.44348748696933477,
          0.8462917635544012,
          0.70333943329724,
          2.0814977193363378,
          -0.6852676931007866,
          -0.9890472358527034,
          0.06761715888040014,
          -0.14293259705404962,
          0.23402503624301627,
          0.08910475510882726,
          -0.7804482205676145,
          -0.5817824197888963,
          -0.26542179446202674,
          -0.34761665870430775,
          -0.36335225447288677,
          -0.11332688316383714,
          0.2796911934611624,
          1.1544881761024262,
          -1.7091540021970562,
          1.1623137079652555,
          -0.6740798503436836,
          1.4035340076766878,
          1.1074820764134703,
          -1.9373066489301582,
          -0.5621559551470735,
          -1.6748300011980597,
          2.507859426499268,
          0.6964393933275772,
          -1.146637377349606,
          1.3125868682367576,
          1.458683386183611,
          -1.0751769906007222,
          0.7638767029369277,
          -0.6643240901552994,
          -0.7945676407229662,
          0.8033229730685761,
          -0.11903476239719614,
          -0.5060384891168814,
          3.3018132045473423,
          -0.21760529378498134,
          -0.987112990372333,
          0.8269254606364677,
          -0.02165954637409474,
          -0.05674827153858464,
          -0.20038359606990772,
          0.027356722639954038,
          -0.047442155596965525,
          -1.2674061864433879,
          1.18893520282971,
          1.7191910789044795,
          -0.2695031008960007,
          0.3576564647555082,
          -1.1821795157353636,
          -0.27448793141124034,
          -1.0451550523142954,
          1.9800151916858983,
          -0.26752375731809663,
          0.007544246712032148,
          -0.6295100538377303,
          1.3979465057494294,
          -1.2926993400942635,
          1.1515687706062439,
          -1.0277747271935944,
          -0.38226262228390306,
          -0.056927605319374,
          -0.5915311738468825,
          2.4735986059317794,
          -1.1600208638679173,
          -0.8220018889940226,
          -1.0608398951233378,
          -0.3298501167532355,
          -0.4123301968176665,
          -0.5449870250101505,
          -2.186378396585733,
          0.660994701959551,
          -0.8147088967069124,
          -0.8750317489502755,
          -0.7810652181685608,
          0.6701081767656537,
          1.6986617631917702,
          -0.0005009751517155304,
          1.1203957614471929,
          0.3208362772463681,
          -0.7077201027350052,
          -0.48881231861568647,
          -1.2012269526842576,
          0.558783014246001,
          -0.717390080690239,
          -0.2318635337906431,
          -1.2585962458747735,
          1.766029958509665,
          -0.08842886052327384,
          2.476667206943112,
          0.1361385825995829,
          -0.13005049351915338,
          0.9951988457875451,
          -1.6737873070303488,
          -0.37606253603338924,
          0.5010815768070478,
          -1.2756902865107478,
          -0.4374810921644406,
          -2.0247646048492594,
          -1.0215389601360192,
          1.33485208676942,
          0.8658865182720644,
          0.34494965993701476,
          -2.036289638397587,
          -0.5193534402339925,
          -1.0472562739220077,
          -0.24022976725947096,
          -0.7423627666998469,
          -0.06810833421583867,
          1.2439951717950004,
          -0.18083016027413648,
          0.9071025693125598,
          0.2984604350519988,
          1.3508955701948704,
          1.3994012700530445,
          -0.20943331862348907,
          -2.192992274088902,
          -0.48524019442287164,
          0.26784392799789336,
          0.06135439985922252,
          -0.8968722803628878,
          -0.2493789056561921,
          -0.7981045422513172,
          1.1331457811999288,
          0.27020247968413924,
          0.15439718059286897,
          -0.5719863827339778,
          1.522243980761087,
          -0.08912630647365588,
          -0.8978866499941605,
          -0.36621156803066623,
          0.6705318323939118,
          -0.32558690238189586,
          0.21080949449218053,
          0.3854241526490245,
          0.12337518563161105,
          0.3050151267493316,
          -0.37788202503155943,
          0.04099471018985216,
          -1.8241460392741238,
          -0.2211232825735241,
          0.36386142737002425,
          -0.6016030555061633,
          0.3114659078979003,
          -0.12235383695972776,
          -0.3357077914879391,
          -0.5763064086341583,
          -0.15511456630275317,
          -1.4679389835140895,
          1.3672318492628046,
          0.145041496364705,
          -0.7234720964482979,
          -0.12981099871529914,
          -2.5717902524883787,
          -2.0395734652378117,
          -0.6233373766106698,
          -0.11317508879185853,
          -1.407898865961594,
          0.8494160402880864,
          0.18982057320680573,
          0.18644342481071846,
          1.0527358707491672,
          -0.9174964337810458,
          -1.1133215243317587,
          0.08731928650494485,
          -0.3359285401221746,
          0.005959287856304414,
          1.1200095260423661,
          2.1968805732553864,
          0.13327718342708114,
          -0.09928067233403652,
          0.2334165744538143,
          1.4120975868989467,
          3.295433345007513,
          -0.46427706721507445,
          -1.1408918907092016,
          1.003948168208131,
          -0.035773623950283794,
          0.036947291406838674,
          -1.0213174850839326,
          0.5660888316649013,
          0.17804505874280455,
          2.1688555047926004,
          0.6832162609491288,
          -0.9120074819885885,
          0.4841356698880774,
          0.40310508599284234,
          0.3064784387158516,
          -1.6847960563571573,
          -0.5477650431072362,
          -1.2535772509188574,
          0.4291746487322124,
          -0.716130175842428,
          0.35527577686579837,
          -0.745890250120384,
          1.009988653412263,
          0.21745834709495465,
          1.2336984648403837,
          -0.40334580108229606,
          -0.6102142354611712,
          -0.0652567403816049,
          1.5426763426865955,
          1.0911297003058276,
          0.7694577635233861,
          -0.29261788835848773,
          -0.9505612985189605,
          0.07982538689458184,
          -0.45758204113889495,
          0.9068284673301932,
          0.016553284808533072,
          -0.5091388775984211,
          -0.6834459393578125,
          2.580886415219287,
          0.7658456621221795,
          1.1287371760862555,
          0.33446389660426507,
          -0.7471281919974425,
          0.611365661433341,
          -0.1650874312426661,
          0.9039538265186577,
          1.3191276154617262,
          1.1755899293778367,
          -2.999303807919931,
          0.5403600142784272,
          0.07471395312396006,
          -0.02495985427644395,
          0.7830191100970441,
          1.3713932860585496,
          0.18651692276544707,
          0.8529942945700524,
          -1.3202585782812297,
          -0.40517187194500137,
          -0.03823543726345946,
          0.062226070972387255,
          0.5761591373372831,
          0.40412063086112715,
          1.6739050512060267,
          -1.3803674627999512,
          1.277046960883984,
          0.4638601124837034,
          1.1041117620492429,
          -1.456176285724989,
          0.7793485277642402,
          0.6623869815808601,
          -2.2945447801456087,
          -0.2798669341216837,
          0.014975534926612024,
          -0.24460241038104757,
          -0.5583163881959528,
          -0.10794969092031705,
          1.6794445295109837,
          0.047098077084707465,
          -0.4277976194186717,
          -0.7195411546230744,
          -1.3871830354359471,
          -0.8386471228985731,
          1.0812348422400881,
          0.008610479001180546,
          0.19233214827045633,
          0.32083161959077,
          1.1436350239802304,
          0.14586038228782988,
          1.4426658005978692,
          0.06217912767701918,
          -3.472577352667539,
          -0.6670502815446748,
          0.3548787851483378,
          -0.1740031602983664,
          -0.13669601023352457,
          -0.11974427470776058,
          -1.2913009534426652,
          0.559738291290984,
          -1.2688131072494622,
          -1.8098214598436404,
          0.12310980904313372,
          0.055770302570829204,
          -1.6241157951457552,
          -1.0225447272278856,
          -0.35793020136369547,
          0.44859464672168475,
          -1.0331273794287574,
          -0.32634425029215774,
          -1.67768135342752,
          1.2196157085440336,
          -0.8071150070279864,
          0.8587399505415637,
          -0.380227993220266,
          0.06372676799660468,
          1.2597739378160326,
          0.9090116525504047,
          0.6005619912482826,
          0.9847670946924484,
          0.45013583683659253,
          -1.1998273606840706,
          0.0606765563024905,
          -0.4841009354856514,
          -1.4819335281151982,
          -1.673429665683411,
          0.5353606370673415,
          0.14938371204441014,
          -0.44329438388792664,
          -1.3223088328162587,
          0.3088299372332596,
          -0.31245045295856094,
          -1.5862953255855217,
          -0.4461797917997572,
          -0.627908208591396,
          0.3980866438532821,
          0.5649704467279997,
          -0.904597531286451,
          -0.3414082447626713,
          0.4054988318718125,
          0.33541809198815864,
          0.06088856313918242,
          0.8123061090188833,
          0.7864255185829419,
          1.4704855462444826,
          -0.34999889188474725,
          -0.016659524502897476,
          0.5071112609479673,
          1.3186332540952712,
          1.538742736828864,
          -0.5009691959244976,
          1.2282463460561823,
          -1.0262401550221838,
          0.7474330265629151,
          -0.2584411545703947,
          0.06261591112391202,
          0.6281107513071904,
          -0.25278225127770243,
          0.4829799592278368,
          -0.034259489396908746,
          -0.8551143065128014,
          -1.282819795376143,
          0.30611287205599025,
          0.8148938968951471,
          1.3380760003966272,
          0.3573692636798665,
          -1.086293436751615,
          1.1981612185258903,
          0.36661074299909135,
          0.04267572676162387,
          0.2246468532655589,
          -1.8221389819127174,
          1.632918986201179,
          -0.15582791648590377,
          0.5486396961363672,
          0.3858468814355453,
          0.8705899883357606,
          0.482757904629399,
          0.47918077127821734,
          0.42770597501282454,
          -0.4233221912348462,
          -0.3739632091846349,
          1.6029457024302292,
          -0.42379055572280283,
          -1.2451660000329732,
          -0.15979340383366428,
          1.4604158761245192,
          -0.30028447861112534,
          1.587810349793412,
          -1.7523240053372553,
          -0.7582328053818413,
          1.2840032461696402,
          1.1036353660650697,
          1.1545421102078377,
          -0.059712570359467664,
          -0.03034969132368447,
          0.916197971849427,
          0.0616372537290082,
          -1.0623589961058084,
          0.60565427282852,
          0.853365657933775,
          0.823494404687333,
          1.8756196147020254,
          -1.7713055753335574,
          -1.174918508814699,
          1.5311571500942296,
          0.24033044505498274,
          0.6371120595248445,
          -0.7774156443856408,
          0.9892337225091653,
          -2.218649786133168,
          -0.44558492495816493,
          -0.7291414996809182,
          1.1448009290894856,
          3.1011991227118907,
          0.1353308476799563,
          0.4910228690236305,
          1.9358471118970566,
          0.7555801689412213,
          1.5800476240750545,
          0.5059153012152505,
          0.20855194543585748,
          -0.9995466759866083,
          2.069184846208833,
          -0.41405435037254434,
          -1.1720116753706438,
          0.6014005414941895,
          0.7122059518098594,
          0.13714621082330422,
          -0.28849389934833086,
          0.9028360231468736,
          -0.6719944201184508,
          0.14408951216659982,
          -0.2414288735836355,
          -0.558428154036172,
          1.2503399705588583,
          1.2486734887603368,
          0.9569536982479276,
          1.360635543343285,
          -0.5844846847455704,
          0.01256567907005691,
          0.9735634828717882,
          0.815043797728645,
          -0.2604634432040202,
          -0.35597028375723794,
          -0.1654701707005932,
          1.916995072676228,
          0.02885266758375567,
          0.4922313225639228,
          0.3233946306828317,
          -0.23332796306573178,
          -0.22630111271019457,
          0.005739922347415301,
          -1.5068369174407807,
          -1.0051964853393371,
          1.0775548527848726,
          0.5947674557120811,
          -1.3213406956069402,
          -0.6055506638035698,
          -0.9816077851861008,
          -2.1885223384207735,
          0.03964120015544451,
          0.162998744245174,
          -1.2556789473298726,
          -0.5168660062315901,
          0.8804912216167838,
          -0.3427721687716033,
          -0.40437013511521075,
          -1.3150258823006702,
          -0.17367376548578134,
          0.8981227671916888,
          0.12949611768412825,
          -0.30778746263643303,
          1.2338832500047718,
          0.47442867028558267,
          1.190191143286701,
          0.8148065894318994,
          -0.40358725098276566,
          0.026054318978525042,
          0.5205964568810466,
          0.03295200698283738,
          -0.172834000666238,
          0.8558187353451723,
          -0.6823846317811522,
          0.2767025408972591,
          -0.11706510108475232,
          -0.5238034768691359,
          0.1980785550600699,
          -0.7839490047570762,
          -1.5156989493364226,
          -0.8537112620205609,
          -0.975591903815247,
          0.46172192398320794,
          -0.37761989757819764,
          -0.03261200203775664,
          0.4163469421932895,
          -0.2869619566738468,
          2.013544146866167,
          -0.16967000371880495,
          -0.0674903159197094,
          -1.8960874556207936,
          -0.310338599440293,
          0.4397415021969913,
          -1.474404664526175,
          2.8749913221522796,
          0.5778459024544361,
          -0.49134858929721253,
          0.48389323945416857,
          -0.2689995601808007,
          -1.6906583349786821,
          1.2884553092928128,
          -0.6485273420499019,
          0.6627031391767948,
          1.8807865494660456,
          0.2879122426000819,
          0.5363898651305606,
          -0.6696143663512955,
          0.0960534943941575,
          1.380018156261187,
          -1.4379451346033914,
          0.1301016596210349,
          -0.48994877253857777,
          -1.459095538052662,
          1.6046872927155336,
          0.9584985262911447,
          0.10006849085481379,
          -0.9896120761471336,
          -0.45998104962266273,
          -1.6674916894284824,
          1.4094386293407186,
          0.03019967141917685,
          -0.6212728684799287,
          -0.1931698435979798,
          -1.2149162971932805,
          1.5827420994263086,
          -0.5699970560407415,
          0.07491321071657178,
          0.5140406862899268,
          0.5270451872579826,
          -2.4641593702678053,
          0.34687412739222034,
          -0.7819209751715579,
          -1.0240667365971088,
          -0.6350920753625631,
          0.7959866345961314,
          1.0917124667961031,
          0.5353603126062721,
          1.013607866418319,
          1.2636306455976394,
          0.06933249885876512,
          0.5859681624855951,
          -0.2096814070265171,
          0.7450362536642602,
          -0.9899160254198328,
          0.1280539224642797,
          -0.758269468266085,
          -0.49073848707403106,
          -0.4513942859396022,
          -1.4291271633045786,
          0.5602354445181623,
          -1.9815010683140037,
          0.9564494647143047,
          -0.784088101114183,
          1.2612071735019892,
          1.0106667396044793,
          -0.7099991027394923,
          0.18406240903436935,
          0.9638890645101523,
          -0.22354295832662538,
          1.0507103025789375,
          0.9507314325946649,
          -0.5246926942290033,
          0.6425486309437553,
          0.6587582012193751,
          -0.47817312528453276,
          -0.47214206877401776,
          -0.13326625460795116,
          0.05209455317895973,
          1.5489074873065038,
          -0.44198468681433467,
          -0.6971455748002382,
          0.6488114567007672,
          -0.72798493016802,
          -0.17126641930854752,
          -1.4121067452859937,
          2.2515695614323,
          0.025165770899408475,
          -0.006642169057188584,
          0.1130347981320746,
          0.43056611411997675,
          1.8395419967979778,
          -0.6765732622702196,
          0.1160330220016242,
          0.07256902361508788,
          0.0017291325524300234,
          -0.8742729293765179,
          -0.28894474736685516,
          0.219291343095701,
          -1.7906717936120418,
          1.40751393144291,
          -1.3136596689234437,
          -0.3245746953834668,
          0.9437290120224286,
          0.5474864044456376,
          0.5567237275958444,
          -0.09318771695829829,
          0.2293883885022139,
          0.3137563594856882,
          0.49597305411184595,
          -0.2745264985242459,
          -0.8231468976928584,
          1.9923313405506524,
          0.8785998081564581,
          -0.20256455160200412,
          -0.17195755674820684,
          0.2861322920509106,
          -0.7540672661577182,
          -0.4971864792514617,
          -1.032031194904731,
          0.6266460075387018,
          1.9012007768138612,
          0.3010432349498425,
          0.46435857631920624,
          -0.045155426756678385,
          0.7135438948680716,
          0.9647636917923346,
          -0.6026653330856949,
          0.023695989004281805,
          0.6212934372731791,
          0.5965453703434473,
          1.3730992882144706,
          0.6544573868430473,
          0.49617762162037937,
          0.18891363236483438,
          0.8019837067834549,
          -0.09555931897555836,
          -0.5117613157360054,
          0.4311023713663783,
          1.8851863188708486,
          -0.14948182565313167,
          0.30976062425692197,
          1.0573581126090665,
          -0.9217807733912159,
          0.4355091145003599,
          -0.752448950252521,
          0.704628879148479,
          0.7226573920877692,
          -0.34110325068995745,
          -0.6874904707063786,
          0.33510866869388733,
          -0.7105553146652124,
          -1.6351419034079422,
          -0.3619887885639927,
          -0.9282514115132131,
          0.660631464874206,
          0.12844034256479364,
          2.788842227387653,
          -1.5514007260079816,
          1.708401597476751,
          -1.9184310525227217,
          0.30898763765414666,
          -0.2768252675408939,
          -1.4942568576169921,
          0.11457976278561403,
          -0.26019797606549117,
          -0.12716513668071888,
          1.1777487508834366,
          -0.16433622812304793,
          -1.283313914752445,
          0.8503313517088282,
          0.2284892727875693,
          -0.09655018093786366,
          0.19143607086658423,
          -0.48221470549039297,
          -0.10230799482030481,
          0.6800227199148946,
          0.18245859407589174,
          -1.4300574449921404,
          -1.8925829668182776,
          -0.7919303436371089,
          1.1263200852930833,
          -1.6381289645330797,
          0.24881643381362867,
          -1.3764765932540606,
          -0.6605230397045271,
          -1.5022178173343552,
          1.0190966119414113,
          1.0290965908555914,
          0.19317534806272732,
          1.17363353700486,
          -1.1833332663627254,
          0.5617284825917725,
          -0.22291888155851633,
          0.6378826767088505,
          1.1650303839236202,
          0.5913280645289567,
          0.004568503171775171,
          0.9062626524401663,
          1.162175986602453,
          1.1741159895744577,
          -1.0818840258779576,
          -0.8308217736182537,
          0.6186897985687972,
          0.13113595355496538,
          -0.3839984191950394,
          0.29818988188901907,
          1.1522585210692264,
          0.06617045559999996,
          -1.0682961579476533,
          -1.1233048286982181,
          -1.4315496700630161,
          0.023240613553361343,
          -0.3893623958157094,
          -0.5136823290990592,
          -0.8507311651995874,
          -1.4197415633316124,
          2.741943046576807,
          0.2423064758905601,
          -1.5183064213613027,
          1.8023763125322707,
          0.300877819575651,
          -0.5213174357578545,
          2.2799946787828773,
          0.6402686555728341,
          1.9343443554265018,
          1.488044632254093,
          0.21697570099283678,
          1.985813173621159,
          -1.3744090238378226,
          0.3539221859540515,
          -0.8436413981805636,
          0.1330203716822605,
          -0.22671484657639485,
          -0.30859293608905786,
          0.4031757202266311,
          -1.0334095599387803,
          -0.3368784518993352,
          -0.5907548698480396,
          0.09265393474055712,
          0.2005914770133261,
          0.14542487468495224,
          -0.2962666582967817,
          0.04181787641218929,
          0.19643045768167244,
          1.4120636058028708,
          -1.4792165654975742,
          1.5752172979051986,
          -0.30956210078571655,
          1.089889386899542,
          0.9446566891485729,
          0.5142186295658666,
          -0.9444875171733418,
          0.3116716597474946,
          -0.6878345481608409,
          -0.19355670268647743,
          -1.8768970989178326,
          0.330429882749643,
          -1.1717467629060976,
          -0.19880096017789517,
          1.1481429301847155,
          -0.9180990187540591,
          0.2621373014971904,
          2.2693299628131993,
          -0.3647182277976652,
          0.2954810829416664,
          -0.9203882671529273,
          -0.7827616018810359,
          1.3899341505383742,
          -1.0173549829334634,
          -0.5017819853481299,
          -0.1309559417520653,
          0.10775768980616557,
          -1.5090077654617704,
          -1.6311391353326243,
          1.3818177025128604,
          0.08290059996689472,
          1.9303338754951491,
          1.734875121561471,
          -0.620759129568172,
          -0.983695605720483,
          0.15384837336485996,
          0.5872023131488905,
          0.5524649362182359,
          0.8358482426782278,
          -1.0380074298719508,
          -1.6453051906771274,
          0.15391551466231476,
          -0.05231584684185501,
          -0.5152378068986897,
          0.7677891359889342,
          0.3220873860904902,
          -1.4533621382096287,
          -1.562045059667411,
          -0.6185200354747062,
          1.2539549526784355,
          0.42914482143773236,
          -2.3135205925286626,
          -1.3172209829251007,
          -1.6905884309852708,
          -1.2789610135809661,
          0.023572780827128416,
          -0.5264311631372081,
          0.5313365886868384,
          -1.4315137700854728,
          -1.3542859044471112,
          -0.9013956899996972,
          -1.2977911541217926,
          -0.03888397683899463,
          0.5719503524821388,
          -0.32162926202761594,
          -1.2193533861557442,
          -0.21872504902205744,
          -0.9671623131531377,
          0.8105651660615572,
          -0.9449421015996381,
          1.2223188210096034,
          1.1081871393136968,
          0.20088233211688566,
          -1.1122125991261222,
          1.0550157669348847,
          -0.5121390991599497,
          0.5800658985497787,
          0.12033640419888444,
          -0.0861341409923645,
          0.5501623670795726,
          0.2852661686447316,
          -0.9298826499046007,
          -0.11971310257527722,
          -1.0343363649925577,
          0.30248699888818764,
          2.6440213020479915,
          -0.46437059799010044,
          1.5304142535463974,
          0.3967670347387821,
          1.7675939314137632,
          0.19308742392037112,
          -1.8425557340672196,
          0.15377928917256956,
          -0.0027601592155937615,
          -0.4354542827632445,
          0.9604478771868454,
          1.3235250404618086,
          0.5111429885550043,
          0.6082468537282703,
          -0.702425230289138,
          1.0576033712833537,
          0.1312738198750195,
          2.2293927266741203
         ],
         "xaxis": "x",
         "xbingroup": "x",
         "y": [
          -0.7392280377870987,
          0.34685572597711434,
          0.02368275583658923,
          -1.6044067437051448,
          0.7508053991797845,
          -0.3801953993318497,
          -0.1486984883650214,
          -0.41276165059710423,
          0.5993738840795853,
          0.07993075777958736,
          0.9791477096781415,
          0.38319221723331276,
          0.6666485584104622,
          1.3684266488191603,
          0.6328980768832448,
          0.05995685069297737,
          -1.777914702040107,
          0.794208461700145,
          -0.32894897441755144,
          -0.4064088915212927,
          -1.4989867422074243,
          0.5504108312566787,
          0.3915686190039799,
          0.7336178943102429,
          -0.32196356377558116,
          -0.6332708542995995,
          1.4140892911639382,
          -0.6546343884973306,
          0.04758376653976036,
          -2.4409344485221873,
          -0.1812092369036596,
          -2.1675611211285717,
          0.7691973583900644,
          -1.979217116331926,
          -0.2908511324385682,
          -0.263933052341816,
          0.3322783539751228,
          -1.9516851540553402,
          -1.0417532399387326,
          0.680623727129918,
          0.7673668281606483,
          0.5933802626771453,
          1.0712106013162965,
          -0.14514301956761474,
          1.5773492073762798,
          -2.0135166994518623,
          -0.6836100965702834,
          0.9062516772066251,
          2.00992826014911,
          0.9014611937100933,
          -1.3119639992419552,
          -1.0204593042350758,
          1.0941470166270066,
          -1.2447904266388028,
          -0.4419983148724065,
          1.2726129132356978,
          0.36040270566118726,
          -0.47810925258025216,
          -0.2863499839338348,
          0.6204901296552996,
          0.5047921271289975,
          0.09955944279975584,
          -0.014338853438470783,
          -0.2114039415371146,
          -0.17283744622653982,
          -0.11438499749536711,
          -0.9753457774043587,
          -2.3914631503537045,
          0.28353390232895065,
          -0.4957560513448163,
          1.044963599510558,
          0.37870715756526646,
          -0.2467992887042657,
          -0.958667732008292,
          0.4952074807575569,
          0.404966072925933,
          -1.1622796715890387,
          1.1805071263226954,
          -0.23482980615190335,
          0.08934303395821215,
          1.5252066849565376,
          1.7722208387336134,
          1.4163336266565976,
          0.248042999654897,
          1.6232042578677477,
          -0.2052954567711057,
          1.66866499968399,
          1.1647646378618017,
          -0.2188670566946408,
          -0.794013009795122,
          -1.8159330222234409,
          -0.2989678821395102,
          -0.9440055962410954,
          1.9725032232455628,
          1.1043988919121699,
          1.7290202482832748,
          -0.2232774939074879,
          -0.15114468664548897,
          -0.4392038770813518,
          0.3824813812012079,
          -0.6751077292472893,
          -0.536994630645917,
          1.5991570929073242,
          1.3405699105403244,
          2.03222993513438,
          0.17509696787858792,
          0.8358410141840471,
          0.2122642646347398,
          -0.5387522091888156,
          0.10727636794878909,
          -1.03282939328817,
          0.06568554825868048,
          0.795084010781729,
          -0.3192139140252872,
          0.959065582165938,
          -0.2685983663190195,
          1.2773510750882324,
          -0.056110170559616514,
          -0.9124279576650085,
          1.309848527609998,
          -1.7350473709159073,
          0.4838643891253547,
          -0.5699148978961147,
          -0.5609306724627516,
          1.2333806203929185,
          0.16340459100041446,
          0.5542281206051214,
          0.004127119583037848,
          -0.5487844927044288,
          0.6124754349232663,
          1.2634158042688013,
          -1.0317627300597847,
          0.420465490910851,
          2.429674085295418,
          0.8846868703699423,
          -1.6602401958272508,
          -0.39768472301240987,
          -0.5756991780514277,
          0.8566056245358116,
          0.6389299751161271,
          -0.5162485242724759,
          -0.7255962433263414,
          0.10931444678072967,
          -0.0029761277759717776,
          0.4604439036931094,
          0.08618419850237431,
          -0.2680445688376609,
          -0.2888407792475627,
          0.6259473930069928,
          1.3573653509127424,
          -2.1605706459733955,
          -0.9473624533675501,
          -0.5987200874169867,
          -2.1733126107868608,
          1.3488936141668957,
          1.1420311055355654,
          -0.25002668669027944,
          -1.2556237618136308,
          -0.12477405897083946,
          -0.3419629052670375,
          -0.9349552139583202,
          -2.3006078924047575,
          -0.847148983181376,
          1.0137619484264482,
          0.70401598134329,
          1.4232329220537296,
          0.41684564076556546,
          0.06242003152180568,
          -0.5709759939281909,
          0.07015460144215335,
          -1.0330753480540367,
          -3.642231081576505,
          -0.19759145232181163,
          -1.4505651965253799,
          0.948228486079674,
          1.515598851203953,
          -1.3969509036246333,
          0.6870167445884092,
          -0.5110684643615232,
          0.7225948928310574,
          0.5044402057623997,
          0.23743839969279804,
          0.7521808812116094,
          -1.1893331229335895,
          -0.5067827117738488,
          2.2819823867771576,
          0.008429028037570603,
          1.0022613221608985,
          -0.7413665743248757,
          -1.2947742721185063,
          0.8640248992660191,
          -0.47676065289640185,
          0.1440546835509996,
          1.4806537809999538,
          0.49000521519576606,
          -0.8807389895730848,
          0.5317401041431459,
          0.9567670347012365,
          -0.1343904229525901,
          0.9384801229800229,
          0.6103181750635219,
          -0.215399663116557,
          2.0739757452893444,
          1.5349104446736113,
          0.14091919863607952,
          -0.25254250951455665,
          -0.6050166884926141,
          -1.8470407013236068,
          0.4943613439710225,
          0.8895126244099486,
          -0.1061230250114224,
          -0.46131205361266525,
          0.31762155641889017,
          -1.115992627595117,
          -0.2664465766497783,
          -0.8073965381403755,
          -0.2872389345049694,
          -0.11239027790793567,
          1.453820043641391,
          -0.9529026221380368,
          -0.062033434205216675,
          -0.1071530318147632,
          0.6363080582977825,
          1.1029657803043338,
          -0.3631306081372263,
          0.5089874554200173,
          -1.5548552999853213,
          0.7046858972469267,
          0.07956337367111467,
          -1.085706752872392,
          -0.6855608007046647,
          0.10366811355220018,
          -0.9914725691158575,
          0.7861674767042701,
          0.8621994360950567,
          -0.5264007252705759,
          -1.3895857193286256,
          1.101805655243603,
          -1.730028014484463,
          0.43079583158923107,
          1.1488780210591285,
          -1.5668704873095527,
          -0.29950375150241826,
          -0.36140358565474023,
          0.6968381837451416,
          0.03266467323949784,
          0.10677408252457876,
          0.7007847763847582,
          -0.7549745221355103,
          0.7157287816158245,
          -1.3890887883957124,
          0.023407450089432524,
          1.0009948028363325,
          -0.2436575125730017,
          -0.6536556536947471,
          1.907925489971391,
          0.7415437728797685,
          1.6809620602614361,
          0.3612609538278023,
          1.305919262274254,
          -0.6792050726891746,
          0.0035915335662779447,
          -0.17050779584701212,
          -1.224698966804356,
          1.0290910247645297,
          -0.6830518983116085,
          1.4195028485084518,
          1.280395613392989,
          0.0610105093057792,
          -0.008384952527525196,
          -0.6843429078302663,
          -0.891414457899713,
          0.018493949143987578,
          0.47132670342784805,
          -2.0808063113219806,
          -1.8295136693030645,
          0.9898600887092022,
          0.6771705634059636,
          0.6942405112932863,
          -1.9180417213205605,
          -0.2876753474738893,
          1.4468030340994182,
          -0.042257020408539396,
          -1.5045327205521342,
          -0.8397673265943246,
          -0.1956877196567239,
          0.7111389194283322,
          -1.020701609249288,
          -0.6599112943177109,
          1.0212364360699753,
          0.37926069716244876,
          0.10927805576874974,
          1.8970963257029385,
          -1.0426438769320145,
          -1.5326524468370306,
          -0.27274021688930283,
          -0.8007751110483913,
          1.951184982201487,
          0.9285557652865742,
          1.0662999022657118,
          -0.3797588219334083,
          -0.9308324854982796,
          -0.3805921345447433,
          -0.5399578242752533,
          0.4780456371342454,
          -0.8011704155408725,
          1.9996604059902712,
          -0.5516835880771739,
          0.6516178847945416,
          0.22415499014516663,
          1.6742149026698085,
          -1.2108131056322782,
          -0.3135652903479348,
          -0.1411276142080116,
          0.26386286960616556,
          -1.5285928895811882,
          1.2979107191487134,
          2.4107843933113453,
          -0.049737022279148675,
          1.5791134724648193,
          -0.3976987307773248,
          -1.0701169868315743,
          0.3113823266386074,
          -0.1494400348234648,
          0.2789607437465121,
          0.6068133484947008,
          -2.311879446995341,
          -0.6905718324095136,
          1.2102873333427455,
          1.3002596251317764,
          0.04879668456973103,
          -1.2567257194084063,
          -1.4354144454909128,
          1.836995572938888,
          -0.1120295820412148,
          1.348682535620541,
          -1.9841671443453996,
          -1.1593685818841375,
          0.26737350005835014,
          0.14365665396137514,
          -0.5362637654723,
          -0.14761109339489306,
          0.7024148937497896,
          -0.34880852623380276,
          -0.08295304894339668,
          -0.2844447612913628,
          -0.9322426867408009,
          0.2637187102518861,
          -0.35578765491993614,
          -0.39755142265857896,
          -0.8473392983040409,
          -1.4351195688928784,
          -0.7822893593217003,
          0.2194915015590647,
          -0.37789572903477575,
          -0.7429112433803158,
          -0.7290186050296193,
          -0.26243888904558643,
          0.2589151172442275,
          -0.6239960391005355,
          0.2731382066333704,
          -0.38816264544086937,
          -1.8534069934082207,
          0.6930017877185498,
          0.8215304539036064,
          -0.25675274657118974,
          -1.2709559316631855,
          0.215737897616276,
          0.013871344446033452,
          -0.6429773431407,
          -2.412736831032017,
          0.8674197429531841,
          0.483478647618438,
          0.8614682250676262,
          -0.20035253189774122,
          -1.51596850331464,
          -0.2861663019160989,
          -1.3174143184364173,
          -0.06496417383909725,
          0.26691487657729124,
          -0.21748312942184916,
          -0.6681905496695703,
          -0.18840182230173425,
          0.2162181360385806,
          -0.265911325425045,
          -1.974547519537114,
          -0.7347262352650011,
          0.11098092942639251,
          0.8082169088461325,
          -1.1973988932579318,
          -0.00508261295910148,
          0.8779822811425723,
          -1.3309429667858144,
          -1.2028843899201902,
          0.9814866094318934,
          0.30280107037201476,
          1.3635907364170865,
          -1.9747626777975076,
          0.1259859019863601,
          -0.8923788705907029,
          0.4900791251252797,
          -0.07793082266257564,
          0.779268294188725,
          1.9906079987698104,
          0.9017641586139705,
          -1.6470216172106167,
          0.6098238329542707,
          -1.7212548692384875,
          1.5442526907516245,
          -1.6061087851933522,
          -3.010430896957359,
          0.2932825008072116,
          0.2401823538834922,
          0.9707126144580943,
          0.501866905144227,
          0.23391306132630452,
          -0.48520734856187725,
          0.3568177084746438,
          1.1395416129074916,
          -0.46870097151253354,
          0.02202099419419976,
          0.5880422657287088,
          0.7241264242441181,
          -1.4905034546791003,
          -0.33158331100794614,
          0.8233542885378153,
          -0.8627532491466735,
          0.9781007001274072,
          -0.30950626377722984,
          0.9801433248395574,
          1.9108859420956295,
          -1.5257193287664481,
          0.4998223690678664,
          -0.25723632293520443,
          -1.5930685685839157,
          -1.056639613229217,
          -0.6096252672729507,
          0.13138169846447798,
          1.8850257200853937,
          0.7184883312989248,
          -0.8750464952467176,
          0.322313439903916,
          -0.4054218477309081,
          -1.6793752710296133,
          0.15595572373965055,
          -0.8568613895768229,
          0.2987012594667808,
          0.4428728380904552,
          0.20730513364234743,
          -1.1230658825682518,
          -0.63323312763104,
          -0.9774884293005903,
          0.1527305412836958,
          -0.3005496333065673,
          -2.23194211577741,
          -0.060647521899377645,
          0.5144667858319736,
          -1.8141628610596463,
          -2.241011502572632,
          1.3607827286956022,
          0.7905803834091687,
          -0.2147577794356985,
          0.225366813014175,
          -1.6956067712886134,
          0.7078810151517188,
          1.9951619189922505,
          0.5468612993811801,
          0.02501351119853688,
          -1.3671027638305364,
          0.6989266052961514,
          0.6071514644026311,
          -0.997329483239644,
          -1.1340959031407067,
          -0.46705394213465895,
          0.7504474825099277,
          -0.7316503469047994,
          -0.7198565841511271,
          0.00583589800456752,
          -0.5228630217137775,
          0.2802290449053862,
          -0.4056199941300774,
          0.8321112167483187,
          0.6376518915571684,
          0.6927006943038728,
          -0.42525911752756335,
          0.9804653003885855,
          -0.5172939979913258,
          -1.3000307079333344,
          0.16846061516719385,
          1.1003552717487417,
          2.366686198978389,
          1.657675694449629,
          0.46445782035128624,
          0.03480320106480379,
          -0.5060462130558904,
          0.707556472835653,
          -0.046993830771685285,
          -0.2384490912358403,
          -0.6429928435964614,
          -0.2585095994760073,
          -0.18353346319315123,
          -0.16355700207183166,
          1.1698008338861146,
          1.6827317836472124,
          1.2239477173691404,
          -1.0330823424751545,
          0.8874465905354522,
          -0.3784844884546168,
          0.9528994089263093,
          -0.7580764626484555,
          0.8724614826914429,
          -0.5351256165797575,
          -0.9561745982274008,
          0.6130154292441438,
          -1.0305165154150364,
          0.1826769820595836,
          -0.8164890282316456,
          1.2829180427466156,
          -0.4294779711024725,
          -0.32797137809191845,
          1.2361336369771574,
          -0.297246258277608,
          1.8702818239210044,
          -0.3221351847116345,
          1.6822206033234486,
          0.39783951485465774,
          0.08598618270765268,
          -0.8698587095526188,
          -0.6609837218178758,
          1.4632796004134339,
          -0.14940145579957415,
          1.215752254999947,
          0.6322807842836206,
          -1.6426131045993386,
          -0.17281101257849898,
          -1.6345182931798496,
          0.9083953913884134,
          -0.4308608627986168,
          0.8339706586697319,
          -1.6645206950878826,
          0.4322451302952654,
          0.9365304331151724,
          -0.18442813518221365,
          0.07231346913331713,
          2.3206120802337176,
          0.5127370370582164,
          -0.03745344560947427,
          -0.49791829961024314,
          0.13114491238958512,
          -0.9920410738140881,
          -0.4329546942797384,
          0.25610837699194505,
          -0.03865174059643482,
          1.0305725317527448,
          1.0686199556162614,
          -0.6255366027875547,
          0.0255675507060164,
          -0.031580320980584595,
          -0.2660360163345627,
          -0.829713333454372,
          0.7668880666133573,
          0.6575755976323957,
          -1.371168662031266,
          -2.020447507587078,
          0.5031243812939559,
          0.242396833407886,
          -2.6017824788492705,
          1.03566584520727,
          0.8383833835973913,
          -1.9762351967324185,
          0.9506990761926258,
          2.544416701515465,
          -0.4521924427310191,
          -0.9256399586909434,
          0.3541556482679431,
          1.012733325407584,
          0.45196860815348383,
          -0.5742212581812068,
          -1.9742527423677025,
          1.2803101929544405,
          1.3307634721224921,
          1.1931106304803436,
          1.4890082862818461,
          2.0889307562404364,
          0.5224623613346475,
          -0.123756545367873,
          1.1153163215731223,
          -0.3673669870843742,
          -0.9988243087531624,
          -1.1803184634724428,
          -1.6243071084900262,
          0.5774292199732859,
          0.9937043464860501,
          0.730126846043485,
          -0.3028028279374515,
          -0.6932722766938908,
          0.513291794988035,
          0.6888630595842676,
          -0.8722172392205725,
          0.5080951317069725,
          -1.0325406002279727,
          0.21791162837980088,
          -0.2997319790572864,
          1.6652884066951814,
          0.48357636653412533,
          -0.8287124028680417,
          -0.5812152684203031,
          -0.4167216652953078,
          -0.014875405968810545,
          -0.9068997807184792,
          -0.6059666113562439,
          -1.709264702244066,
          -0.3893456146616949,
          0.6884090780751135,
          1.6775922564516241,
          1.182819498534546,
          0.5540890963562777,
          -1.0717281037724273,
          0.40489318838370403,
          0.7360445464571029,
          0.1528463609488181,
          0.5793285321404568,
          0.20294775845451912,
          1.18444690524276,
          -0.10779969882205813,
          0.27232447990121156,
          0.9721544523062259,
          0.6277205737742125,
          0.8149896056302286,
          1.4032117989801849,
          -0.17697408893873165,
          0.1400511303929162,
          1.849289579276896,
          1.7950374739594452,
          1.6797664118882627,
          0.4106674819508255,
          0.14734014789337965,
          -0.1945031659107406,
          -0.803328849444401,
          0.7338891565695355,
          0.19441377839489432,
          1.0738256177806726,
          1.2914614293200766,
          0.6486075316353543,
          -1.2313276458079512,
          0.3309997168494823,
          -0.19538163998329552,
          1.106776830888749,
          -0.8649328766581352,
          0.5693263566574488,
          -0.860814410281256,
          -0.574141352444839,
          2.5092419928246943,
          -1.192037486920784,
          0.256718810927189,
          -0.5431594399810307,
          0.8975181070596394,
          -0.5658911514992854,
          -0.4210926074555822,
          -0.6264174188681747,
          -0.15585170872694185,
          -1.456343152683439,
          0.08227692570172826,
          0.4933173978656098,
          -0.7877153679425546,
          0.9007330177413878,
          0.9275843425748892,
          -0.011418889036281602,
          -0.5511425416653519,
          0.6102526748490505,
          -0.07763583009397017,
          -0.9211469718138482,
          -0.019881747098348283,
          -0.5404833339680094,
          -0.44074720374836224,
          -0.5256440466663157,
          -1.1743272510378946,
          0.6497884467019638,
          1.437701822706125,
          -0.9542599083649601,
          1.8240511768378038,
          -0.5901355136968963,
          0.41549708946586644,
          -0.05433027581159156,
          -1.0422536645227947,
          -0.06515277449738106,
          -0.5084229312365213,
          -0.8695361731963736,
          -0.2463904792818212,
          -0.8298036560605513,
          1.0583332887981247,
          -0.7994604841512857,
          0.10775416916231949,
          0.6800469568074397,
          -0.36217396835480925,
          -0.120091702598506,
          -1.7172157485750363,
          0.6010566125315351,
          -0.06048709178624342,
          1.399148369814495,
          0.10306061057586005,
          -0.6504492030225336,
          0.41143874006149933,
          0.5438933711203822,
          -0.48457795127038156,
          0.3331484258200272,
          -0.6062971513435552,
          -0.2768702813002604,
          1.544169786230506,
          0.7027239043839294,
          0.7996355799694644,
          0.32963618524593913,
          -0.5783371835310811,
          0.31253278003298274,
          0.5107878903356846,
          -0.5284288134445425,
          -1.6614195572745187,
          -0.4181179781367274,
          1.5674883891981366,
          0.33940142924208366,
          -0.07248951581280598,
          -0.5582172796160522,
          1.107330130444334,
          -0.5491120755624572,
          -0.6237290933509658,
          -1.6330814166272174,
          -1.6511413998689042,
          -0.28294343187283966,
          0.19747159114270438,
          0.8680405941963367,
          0.9162019444357906,
          -0.5897357736651312,
          -0.8394591446402172,
          -0.1496036519389247,
          0.48250970768375556,
          0.19503578987630937,
          -0.6134816459920919,
          0.06840436631608184,
          -1.2951444310655418,
          1.6130423506510194,
          0.060641705602220514,
          -0.12823989623192011,
          0.9925793714908827,
          -0.5221602011876697,
          0.3857688508464017,
          -1.030602541845417,
          -1.565411152064638,
          0.6274320677206077,
          -0.8127597061887049,
          1.0594227155172635,
          0.19759163838175978,
          1.9859818255608166,
          -0.21845590283728014,
          0.0008000519977507836,
          1.6845851462715187,
          0.8525055050880801,
          0.8241278711136354,
          0.6882050193275581,
          0.5279916366087599,
          1.2344824214631063,
          -0.9195657523657488,
          1.1694517106139146,
          0.9977305948147133,
          -0.9115951806463753,
          0.08560105447296443,
          -0.26499319861191184,
          0.6060035041137412,
          -0.0555328875978122,
          1.7902132497463175,
          -0.20305827553310637,
          -0.5073382881260301,
          -0.5521666619275344,
          -0.8135703679706611,
          -1.1325085048654486,
          -0.002413401455883377,
          -0.028829705504894384,
          0.005613204551964745,
          0.603438355228194,
          0.453839682339077,
          -2.1456222767170687,
          0.008208492630332258,
          0.2749712768532959,
          0.14819097818709875,
          0.3390162896876544,
          -2.246616469077803,
          0.8351686649772968,
          2.327817539986022,
          -0.8798604229733786,
          -1.1042456690788083,
          1.4185817461021364,
          -1.6975330958572725,
          1.1211747600457913,
          -0.04470598466781376,
          -0.7848184130407643,
          -1.1442917762889806,
          0.12737994146951992,
          -0.06106054417704591,
          0.5305120501473636,
          0.19401718561493533,
          0.03579942145574798,
          0.31512777465413555,
          0.8312471900830488,
          -1.6203979356353666,
          2.524999256638989,
          -2.863075273279184,
          0.02550810839440062,
          1.1846432882564608,
          -0.13397056370538218,
          -0.05736568927651276,
          0.2611821934547846,
          -0.04372084203080262,
          -0.29364413168468306,
          -1.5991613849802324,
          -0.4874966033737186,
          -0.7334867260089809,
          -0.12781933678096616,
          -0.4881223454768172,
          0.2761776191871526,
          0.45669887616378724,
          -0.2358012059253466,
          -0.7159182196035244,
          1.2925294161117675,
          -1.0968649533042327,
          -1.719804605137347,
          0.29126196377552105,
          1.153787605060772,
          -1.140152334769331,
          -0.16146514860096486,
          0.5530604227920868,
          1.3605460172116703,
          -0.390529364772546,
          -0.8046522486441203,
          -1.4603730296618391,
          0.45471907867847694,
          0.06635897524935404,
          -0.8571644367247716,
          -0.8010342120812474,
          -1.5449872555733637,
          -0.8318758063588438,
          -0.5296627160460743,
          -0.9457260052994114,
          0.6086490911078677,
          0.31927475679171496,
          -0.3738971236046081,
          0.4219558051441765,
          -1.0308238641683312,
          -0.324557387367531,
          -0.25951625394360905,
          1.6121092106898038,
          -0.8134394429436834,
          1.6059766377398703,
          1.9963787610880452,
          1.0022103992358016,
          -0.34937744949731236,
          0.9893770413936569,
          -0.1547917439828909,
          1.933735493639633,
          0.1796880016482841,
          -1.5414864038290803,
          -2.3960998340759203,
          0.47375951499778324,
          -0.21146621098538385,
          -0.8330333925152024,
          -0.07195155480962338,
          -0.26393245935968856,
          1.594836524762363,
          -0.8658314151283604,
          0.13345954929981957,
          -0.3022170250731281,
          -1.1651470563076214,
          1.1971870877265598,
          1.0191119654499785,
          1.151422368791619,
          0.9243185107696584,
          2.300751940698659,
          0.25413845284167713,
          0.24571774223532766,
          1.1080834472561238,
          0.45568976079816714,
          0.9985662081491774,
          0.8499698267224791,
          -0.4298856001010985,
          -0.19640068337093994,
          -1.7888491515583753,
          -0.11537604535500079,
          0.8188903221501368,
          -0.2247467249468158,
          0.9370430323997722,
          2.4211150586402255,
          0.680686412082092,
          -0.7256355972312687,
          0.27633606685571266,
          0.4554884186010861,
          -0.21584337493606862,
          -0.24402554721964298,
          -1.08624031463247,
          -0.47973951822007743,
          -0.8966819471908962,
          1.1464982670997408,
          0.7570701324263885,
          -1.4574248370825895,
          -0.7601075151638089,
          -0.8927271390689937,
          0.9607005672302781,
          -0.146485160626828,
          2.0204710053519492,
          0.594717002499267,
          1.0461224562020113,
          -0.3219573956301226,
          1.35657775993127,
          0.9462955252939016,
          -0.603897589153903,
          -0.638419216343869,
          0.2681026610975494,
          0.4488686136152084,
          0.15802679318810092,
          -0.12262647374862713,
          2.0914514909044892,
          -0.3762073926271747,
          -0.28828653418628875,
          -1.1118921856038586,
          1.3446264220364608,
          -0.6958677681578567,
          0.3564036031823564,
          0.3493607403507081,
          -0.5723540937653915,
          1.0645780842515822,
          -2.4732973272339294,
          0.25919407662190014,
          2.0286188066451794,
          0.9888191604683224,
          -0.3418338689925928,
          -2.323895734270994,
          0.690286866833936,
          2.2290237681512677,
          2.5084257861514123,
          -0.3971555478969136,
          0.6105793191908313,
          1.6085755682555614,
          1.367812497643617,
          -1.3084376960754114,
          1.2334130668764467,
          -0.20329627462791786,
          -2.33402726523721,
          0.2513481917817099,
          0.7850844032295405,
          -0.5878119287692607,
          1.4974723315068617,
          -0.6742772944161503,
          1.3130781633566468,
          1.4500978454354003,
          0.15174529048589577,
          -1.2198816907843029,
          1.1561518924425345,
          0.413655258135546,
          -1.649308438728401,
          1.920633992651153,
          -0.0725698362227836,
          -0.06988573776032553,
          0.05832653955961599,
          -0.05272832352006821,
          -0.6683265504544699,
          1.8398004330730788,
          0.3261411904238011,
          -0.19175032902092665,
          0.7248232934055666,
          0.2704600573176423,
          1.0809436048022913,
          -0.5467419545075182,
          -0.5311228605351183,
          0.6692793029644538,
          -1.9703889561769894,
          -0.014936468139046857,
          -0.33956912811521434,
          0.8022364808015083,
          0.8122102741388972,
          0.23215419443332921,
          -0.26107635653916267,
          0.26137580112452385,
          0.9816442712918512,
          -0.49722329101046,
          0.24274506206433377,
          -0.04864749395112246,
          0.9490674763650417,
          -1.11988518051136,
          -0.2536223647093894,
          0.8894759714430969,
          0.8143401332292287,
          0.14592642768745648,
          0.773653014015115,
          -1.3826623745938682,
          -1.472893536939782,
          -0.19337776281150482,
          -0.6142320399865369,
          -0.5321598690716904,
          -0.6071686212953747,
          -1.6251618465262163,
          -2.5850899101578793,
          -0.28264086572373254,
          1.9959533571444135
         ],
         "yaxis": "y",
         "ybingroup": "y"
        }
       ],
       "layout": {
        "coloraxis": {
         "colorbar": {
          "title": {
           "text": "count"
          }
         },
         "colorscale": [
          [
           0,
           "#0d0887"
          ],
          [
           0.1111111111111111,
           "#46039f"
          ],
          [
           0.2222222222222222,
           "#7201a8"
          ],
          [
           0.3333333333333333,
           "#9c179e"
          ],
          [
           0.4444444444444444,
           "#bd3786"
          ],
          [
           0.5555555555555556,
           "#d8576b"
          ],
          [
           0.6666666666666666,
           "#ed7953"
          ],
          [
           0.7777777777777778,
           "#fb9f3a"
          ],
          [
           0.8888888888888888,
           "#fdca26"
          ],
          [
           1,
           "#f0f921"
          ]
         ]
        },
        "legend": {
         "tracegroupgap": 0
        },
        "margin": {
         "t": 60
        },
        "template": {
         "data": {
          "bar": [
           {
            "error_x": {
             "color": "#2a3f5f"
            },
            "error_y": {
             "color": "#2a3f5f"
            },
            "marker": {
             "line": {
              "color": "#E5ECF6",
              "width": 0.5
             },
             "pattern": {
              "fillmode": "overlay",
              "size": 10,
              "solidity": 0.2
             }
            },
            "type": "bar"
           }
          ],
          "barpolar": [
           {
            "marker": {
             "line": {
              "color": "#E5ECF6",
              "width": 0.5
             },
             "pattern": {
              "fillmode": "overlay",
              "size": 10,
              "solidity": 0.2
             }
            },
            "type": "barpolar"
           }
          ],
          "carpet": [
           {
            "aaxis": {
             "endlinecolor": "#2a3f5f",
             "gridcolor": "white",
             "linecolor": "white",
             "minorgridcolor": "white",
             "startlinecolor": "#2a3f5f"
            },
            "baxis": {
             "endlinecolor": "#2a3f5f",
             "gridcolor": "white",
             "linecolor": "white",
             "minorgridcolor": "white",
             "startlinecolor": "#2a3f5f"
            },
            "type": "carpet"
           }
          ],
          "choropleth": [
           {
            "colorbar": {
             "outlinewidth": 0,
             "ticks": ""
            },
            "type": "choropleth"
           }
          ],
          "contour": [
           {
            "colorbar": {
             "outlinewidth": 0,
             "ticks": ""
            },
            "colorscale": [
             [
              0,
              "#0d0887"
             ],
             [
              0.1111111111111111,
              "#46039f"
             ],
             [
              0.2222222222222222,
              "#7201a8"
             ],
             [
              0.3333333333333333,
              "#9c179e"
             ],
             [
              0.4444444444444444,
              "#bd3786"
             ],
             [
              0.5555555555555556,
              "#d8576b"
             ],
             [
              0.6666666666666666,
              "#ed7953"
             ],
             [
              0.7777777777777778,
              "#fb9f3a"
             ],
             [
              0.8888888888888888,
              "#fdca26"
             ],
             [
              1,
              "#f0f921"
             ]
            ],
            "type": "contour"
           }
          ],
          "contourcarpet": [
           {
            "colorbar": {
             "outlinewidth": 0,
             "ticks": ""
            },
            "type": "contourcarpet"
           }
          ],
          "heatmap": [
           {
            "colorbar": {
             "outlinewidth": 0,
             "ticks": ""
            },
            "colorscale": [
             [
              0,
              "#0d0887"
             ],
             [
              0.1111111111111111,
              "#46039f"
             ],
             [
              0.2222222222222222,
              "#7201a8"
             ],
             [
              0.3333333333333333,
              "#9c179e"
             ],
             [
              0.4444444444444444,
              "#bd3786"
             ],
             [
              0.5555555555555556,
              "#d8576b"
             ],
             [
              0.6666666666666666,
              "#ed7953"
             ],
             [
              0.7777777777777778,
              "#fb9f3a"
             ],
             [
              0.8888888888888888,
              "#fdca26"
             ],
             [
              1,
              "#f0f921"
             ]
            ],
            "type": "heatmap"
           }
          ],
          "heatmapgl": [
           {
            "colorbar": {
             "outlinewidth": 0,
             "ticks": ""
            },
            "colorscale": [
             [
              0,
              "#0d0887"
             ],
             [
              0.1111111111111111,
              "#46039f"
             ],
             [
              0.2222222222222222,
              "#7201a8"
             ],
             [
              0.3333333333333333,
              "#9c179e"
             ],
             [
              0.4444444444444444,
              "#bd3786"
             ],
             [
              0.5555555555555556,
              "#d8576b"
             ],
             [
              0.6666666666666666,
              "#ed7953"
             ],
             [
              0.7777777777777778,
              "#fb9f3a"
             ],
             [
              0.8888888888888888,
              "#fdca26"
             ],
             [
              1,
              "#f0f921"
             ]
            ],
            "type": "heatmapgl"
           }
          ],
          "histogram": [
           {
            "marker": {
             "pattern": {
              "fillmode": "overlay",
              "size": 10,
              "solidity": 0.2
             }
            },
            "type": "histogram"
           }
          ],
          "histogram2d": [
           {
            "colorbar": {
             "outlinewidth": 0,
             "ticks": ""
            },
            "colorscale": [
             [
              0,
              "#0d0887"
             ],
             [
              0.1111111111111111,
              "#46039f"
             ],
             [
              0.2222222222222222,
              "#7201a8"
             ],
             [
              0.3333333333333333,
              "#9c179e"
             ],
             [
              0.4444444444444444,
              "#bd3786"
             ],
             [
              0.5555555555555556,
              "#d8576b"
             ],
             [
              0.6666666666666666,
              "#ed7953"
             ],
             [
              0.7777777777777778,
              "#fb9f3a"
             ],
             [
              0.8888888888888888,
              "#fdca26"
             ],
             [
              1,
              "#f0f921"
             ]
            ],
            "type": "histogram2d"
           }
          ],
          "histogram2dcontour": [
           {
            "colorbar": {
             "outlinewidth": 0,
             "ticks": ""
            },
            "colorscale": [
             [
              0,
              "#0d0887"
             ],
             [
              0.1111111111111111,
              "#46039f"
             ],
             [
              0.2222222222222222,
              "#7201a8"
             ],
             [
              0.3333333333333333,
              "#9c179e"
             ],
             [
              0.4444444444444444,
              "#bd3786"
             ],
             [
              0.5555555555555556,
              "#d8576b"
             ],
             [
              0.6666666666666666,
              "#ed7953"
             ],
             [
              0.7777777777777778,
              "#fb9f3a"
             ],
             [
              0.8888888888888888,
              "#fdca26"
             ],
             [
              1,
              "#f0f921"
             ]
            ],
            "type": "histogram2dcontour"
           }
          ],
          "mesh3d": [
           {
            "colorbar": {
             "outlinewidth": 0,
             "ticks": ""
            },
            "type": "mesh3d"
           }
          ],
          "parcoords": [
           {
            "line": {
             "colorbar": {
              "outlinewidth": 0,
              "ticks": ""
             }
            },
            "type": "parcoords"
           }
          ],
          "pie": [
           {
            "automargin": true,
            "type": "pie"
           }
          ],
          "scatter": [
           {
            "fillpattern": {
             "fillmode": "overlay",
             "size": 10,
             "solidity": 0.2
            },
            "type": "scatter"
           }
          ],
          "scatter3d": [
           {
            "line": {
             "colorbar": {
              "outlinewidth": 0,
              "ticks": ""
             }
            },
            "marker": {
             "colorbar": {
              "outlinewidth": 0,
              "ticks": ""
             }
            },
            "type": "scatter3d"
           }
          ],
          "scattercarpet": [
           {
            "marker": {
             "colorbar": {
              "outlinewidth": 0,
              "ticks": ""
             }
            },
            "type": "scattercarpet"
           }
          ],
          "scattergeo": [
           {
            "marker": {
             "colorbar": {
              "outlinewidth": 0,
              "ticks": ""
             }
            },
            "type": "scattergeo"
           }
          ],
          "scattergl": [
           {
            "marker": {
             "colorbar": {
              "outlinewidth": 0,
              "ticks": ""
             }
            },
            "type": "scattergl"
           }
          ],
          "scattermapbox": [
           {
            "marker": {
             "colorbar": {
              "outlinewidth": 0,
              "ticks": ""
             }
            },
            "type": "scattermapbox"
           }
          ],
          "scatterpolar": [
           {
            "marker": {
             "colorbar": {
              "outlinewidth": 0,
              "ticks": ""
             }
            },
            "type": "scatterpolar"
           }
          ],
          "scatterpolargl": [
           {
            "marker": {
             "colorbar": {
              "outlinewidth": 0,
              "ticks": ""
             }
            },
            "type": "scatterpolargl"
           }
          ],
          "scatterternary": [
           {
            "marker": {
             "colorbar": {
              "outlinewidth": 0,
              "ticks": ""
             }
            },
            "type": "scatterternary"
           }
          ],
          "surface": [
           {
            "colorbar": {
             "outlinewidth": 0,
             "ticks": ""
            },
            "colorscale": [
             [
              0,
              "#0d0887"
             ],
             [
              0.1111111111111111,
              "#46039f"
             ],
             [
              0.2222222222222222,
              "#7201a8"
             ],
             [
              0.3333333333333333,
              "#9c179e"
             ],
             [
              0.4444444444444444,
              "#bd3786"
             ],
             [
              0.5555555555555556,
              "#d8576b"
             ],
             [
              0.6666666666666666,
              "#ed7953"
             ],
             [
              0.7777777777777778,
              "#fb9f3a"
             ],
             [
              0.8888888888888888,
              "#fdca26"
             ],
             [
              1,
              "#f0f921"
             ]
            ],
            "type": "surface"
           }
          ],
          "table": [
           {
            "cells": {
             "fill": {
              "color": "#EBF0F8"
             },
             "line": {
              "color": "white"
             }
            },
            "header": {
             "fill": {
              "color": "#C8D4E3"
             },
             "line": {
              "color": "white"
             }
            },
            "type": "table"
           }
          ]
         },
         "layout": {
          "annotationdefaults": {
           "arrowcolor": "#2a3f5f",
           "arrowhead": 0,
           "arrowwidth": 1
          },
          "autotypenumbers": "strict",
          "coloraxis": {
           "colorbar": {
            "outlinewidth": 0,
            "ticks": ""
           }
          },
          "colorscale": {
           "diverging": [
            [
             0,
             "#8e0152"
            ],
            [
             0.1,
             "#c51b7d"
            ],
            [
             0.2,
             "#de77ae"
            ],
            [
             0.3,
             "#f1b6da"
            ],
            [
             0.4,
             "#fde0ef"
            ],
            [
             0.5,
             "#f7f7f7"
            ],
            [
             0.6,
             "#e6f5d0"
            ],
            [
             0.7,
             "#b8e186"
            ],
            [
             0.8,
             "#7fbc41"
            ],
            [
             0.9,
             "#4d9221"
            ],
            [
             1,
             "#276419"
            ]
           ],
           "sequential": [
            [
             0,
             "#0d0887"
            ],
            [
             0.1111111111111111,
             "#46039f"
            ],
            [
             0.2222222222222222,
             "#7201a8"
            ],
            [
             0.3333333333333333,
             "#9c179e"
            ],
            [
             0.4444444444444444,
             "#bd3786"
            ],
            [
             0.5555555555555556,
             "#d8576b"
            ],
            [
             0.6666666666666666,
             "#ed7953"
            ],
            [
             0.7777777777777778,
             "#fb9f3a"
            ],
            [
             0.8888888888888888,
             "#fdca26"
            ],
            [
             1,
             "#f0f921"
            ]
           ],
           "sequentialminus": [
            [
             0,
             "#0d0887"
            ],
            [
             0.1111111111111111,
             "#46039f"
            ],
            [
             0.2222222222222222,
             "#7201a8"
            ],
            [
             0.3333333333333333,
             "#9c179e"
            ],
            [
             0.4444444444444444,
             "#bd3786"
            ],
            [
             0.5555555555555556,
             "#d8576b"
            ],
            [
             0.6666666666666666,
             "#ed7953"
            ],
            [
             0.7777777777777778,
             "#fb9f3a"
            ],
            [
             0.8888888888888888,
             "#fdca26"
            ],
            [
             1,
             "#f0f921"
            ]
           ]
          },
          "colorway": [
           "#636efa",
           "#EF553B",
           "#00cc96",
           "#ab63fa",
           "#FFA15A",
           "#19d3f3",
           "#FF6692",
           "#B6E880",
           "#FF97FF",
           "#FECB52"
          ],
          "font": {
           "color": "#2a3f5f"
          },
          "geo": {
           "bgcolor": "white",
           "lakecolor": "white",
           "landcolor": "#E5ECF6",
           "showlakes": true,
           "showland": true,
           "subunitcolor": "white"
          },
          "hoverlabel": {
           "align": "left"
          },
          "hovermode": "closest",
          "mapbox": {
           "style": "light"
          },
          "paper_bgcolor": "white",
          "plot_bgcolor": "#E5ECF6",
          "polar": {
           "angularaxis": {
            "gridcolor": "white",
            "linecolor": "white",
            "ticks": ""
           },
           "bgcolor": "#E5ECF6",
           "radialaxis": {
            "gridcolor": "white",
            "linecolor": "white",
            "ticks": ""
           }
          },
          "scene": {
           "xaxis": {
            "backgroundcolor": "#E5ECF6",
            "gridcolor": "white",
            "gridwidth": 2,
            "linecolor": "white",
            "showbackground": true,
            "ticks": "",
            "zerolinecolor": "white"
           },
           "yaxis": {
            "backgroundcolor": "#E5ECF6",
            "gridcolor": "white",
            "gridwidth": 2,
            "linecolor": "white",
            "showbackground": true,
            "ticks": "",
            "zerolinecolor": "white"
           },
           "zaxis": {
            "backgroundcolor": "#E5ECF6",
            "gridcolor": "white",
            "gridwidth": 2,
            "linecolor": "white",
            "showbackground": true,
            "ticks": "",
            "zerolinecolor": "white"
           }
          },
          "shapedefaults": {
           "line": {
            "color": "#2a3f5f"
           }
          },
          "ternary": {
           "aaxis": {
            "gridcolor": "white",
            "linecolor": "white",
            "ticks": ""
           },
           "baxis": {
            "gridcolor": "white",
            "linecolor": "white",
            "ticks": ""
           },
           "bgcolor": "#E5ECF6",
           "caxis": {
            "gridcolor": "white",
            "linecolor": "white",
            "ticks": ""
           }
          },
          "title": {
           "x": 0.05
          },
          "xaxis": {
           "automargin": true,
           "gridcolor": "white",
           "linecolor": "white",
           "ticks": "",
           "title": {
            "standoff": 15
           },
           "zerolinecolor": "white",
           "zerolinewidth": 2
          },
          "yaxis": {
           "automargin": true,
           "gridcolor": "white",
           "linecolor": "white",
           "ticks": "",
           "title": {
            "standoff": 15
           },
           "zerolinecolor": "white",
           "zerolinewidth": 2
          }
         }
        },
        "xaxis": {
         "anchor": "y",
         "domain": [
          0,
          1
         ],
         "title": {
          "text": "x"
         }
        },
        "yaxis": {
         "anchor": "x",
         "domain": [
          0,
          1
         ],
         "title": {
          "text": "y"
         }
        }
       }
      }
     },
     "metadata": {},
     "output_type": "display_data"
    }
   ],
   "source": [
    "px.density_heatmap(x=x,y=y)"
   ]
  },
  {
   "cell_type": "code",
   "execution_count": 31,
   "metadata": {},
   "outputs": [
    {
     "ename": "TypeError",
     "evalue": "heatmap() missing 1 required positional argument: 'data'",
     "output_type": "error",
     "traceback": [
      "\u001b[1;31m---------------------------------------------------------------------------\u001b[0m",
      "\u001b[1;31mTypeError\u001b[0m                                 Traceback (most recent call last)",
      "Cell \u001b[1;32mIn[31], line 1\u001b[0m\n\u001b[1;32m----> 1\u001b[0m sns\u001b[38;5;241m.\u001b[39mheatmap(x\u001b[38;5;241m=\u001b[39mx,y\u001b[38;5;241m=\u001b[39my)\n",
      "\u001b[1;31mTypeError\u001b[0m: heatmap() missing 1 required positional argument: 'data'"
     ]
    }
   ],
   "source": [
    "sns.heatmap(x=x,y=y)"
   ]
  },
  {
   "cell_type": "code",
   "execution_count": 33,
   "metadata": {},
   "outputs": [
    {
     "data": {
      "text/plain": [
       "<matplotlib.collections.PathCollection at 0x1feb3ed08c0>"
      ]
     },
     "execution_count": 33,
     "metadata": {},
     "output_type": "execute_result"
    },
    {
     "data": {
      "image/png": "[encoded data removed]",
      "text/plain": [
       "<Figure size 640x480 with 1 Axes>"
      ]
     },
     "metadata": {},
     "output_type": "display_data"
    }
   ],
   "source": [
    "#bubble plot\n",
    "z= np.random.randint(10,20,1000)\n",
    "plt.scatter(x,y,s=z,alpha = .5,c=z)\n"
   ]
  },
  {
   "cell_type": "code",
   "execution_count": 34,
   "metadata": {},
   "outputs": [
    {
     "data": {
      "application/vnd.plotly.v1+json": {
       "config": {
        "plotlyServerURL": "https://plot.ly"
       },
       "data": [
        {
         "hovertemplate": "x=%{x}<br>y=%{y}<br>size=%{marker.size}<extra></extra>",
         "legendgroup": "",
         "marker": {
          "color": "#636efa",
          "size": [
           14,
           15,
           17,
           16,
           16,
           19,
           11,
           19,
           12,
           17,
           12,
           10,
           17,
           13,
           13,
           12,
           11,
           11,
           19,
           15,
           13,
           16,
           19,
           11,
           13,
           17,
           10,
           15,
           14,
           18,
           14,
           17,
           12,
           13,
           10,
           17,
           12,
           14,
           15,
           19,
           10,
           13,
           12,
           17,
           18,
           13,
           17,
           13,
           16,
           18,
           10,
           17,
           12,
           12,
           19,
           17,
           19,
           11,
           19,
           15,
           16,
           17,
           17,
           15,
           15,
           18,
           17,
           18,
           13,
           17,
           14,
           14,
           15,
           11,
           10,
           19,
           17,
           19,
           19,
           19,
           14,
           13,
           17,
           15,
           10,
           12,
           19,
           10,
           15,
           16,
           10,
           10,
           11,
           14,
           15,
           19,
           16,
           15,
           17,
           17,
           17,
           15,
           16,
           14,
           15,
           16,
           14,
           10,
           15,
           10,
           11,
           16,
           15,
           19,
           13,
           12,
           12,
           18,
           12,
           16,
           19,
           14,
           13,
           12,
           18,
           13,
           13,
           13,
           18,
           16,
           11,
           13,
           10,
           19,
           13,
           13,
           12,
           13,
           10,
           14,
           14,
           14,
           13,
           16,
           17,
           13,
           18,
           17,
           15,
           15,
           16,
           15,
           15,
           18,
           12,
           14,
           13,
           18,
           11,
           14,
           13,
           12,
           10,
           12,
           11,
           14,
           15,
           17,
           10,
           11,
           14,
           18,
           13,
           15,
           18,
           13,
           11,
           18,
           11,
           17,
           12,
           19,
           17,
           14,
           19,
           11,
           19,
           15,
           11,
           12,
           19,
           16,
           10,
           15,
           10,
           11,
           19,
           14,
           10,
           14,
           11,
           10,
           13,
           19,
           13,
           16,
           16,
           10,
           19,
           16,
           18,
           19,
           19,
           16,
           11,
           10,
           12,
           15,
           14,
           16,
           19,
           12,
           14,
           18,
           15,
           14,
           16,
           14,
           17,
           15,
           14,
           14,
           13,
           10,
           10,
           19,
           19,
           10,
           18,
           15,
           11,
           10,
           10,
           13,
           10,
           10,
           10,
           12,
           19,
           13,
           10,
           15,
           14,
           16,
           16,
           16,
           10,
           17,
           14,
           10,
           10,
           19,
           19,
           17,
           14,
           12,
           18,
           11,
           13,
           10,
           19,
           19,
           19,
           18,
           12,
           12,
           15,
           16,
           11,
           13,
           14,
           14,
           17,
           13,
           10,
           10,
           15,
           12,
           15,
           15,
           15,
           14,
           11,
           13,
           16,
           15,
           12,
           18,
           11,
           17,
           14,
           13,
           10,
           12,
           12,
           16,
           19,
           10,
           13,
           15,
           19,
           15,
           12,
           18,
           19,
           12,
           16,
           15,
           10,
           12,
           13,
           16,
           16,
           17,
           19,
           10,
           11,
           14,
           18,
           19,
           12,
           17,
           16,
           18,
           11,
           11,
           12,
           14,
           17,
           15,
           12,
           13,
           15,
           16,
           15,
           15,
           14,
           15,
           17,
           15,
           16,
           18,
           10,
           16,
           18,
           14,
           17,
           16,
           17,
           15,
           13,
           16,
           12,
           19,
           17,
           14,
           19,
           15,
           10,
           19,
           18,
           17,
           17,
           17,
           15,
           16,
           16,
           15,
           16,
           11,
           17,
           19,
           14,
           14,
           15,
           14,
           15,
           18,
           12,
           17,
           18,
           11,
           11,
           18,
           15,
           12,
           19,
           17,
           16,
           19,
           13,
           15,
           19,
           17,
           19,
           16,
           15,
           17,
           12,
           18,
           12,
           10,
           19,
           13,
           10,
           15,
           14,
           18,
           11,
           18,
           15,
           17,
           11,
           11,
           15,
           11,
           13,
           15,
           10,
           13,
           16,
           11,
           11,
           17,
           15,
           19,
           15,
           13,
           15,
           11,
           14,
           10,
           14,
           11,
           14,
           10,
           19,
           18,
           13,
           12,
           13,
           16,
           13,
           15,
           18,
           19,
           11,
           19,
           14,
           12,
           19,
           11,
           13,
           16,
           17,
           15,
           12,
           16,
           10,
           13,
           15,
           14,
           15,
           13,
           12,
           18,
           18,
           16,
           13,
           13,
           13,
           16,
           15,
           13,
           18,
           18,
           19,
           19,
           15,
           13,
           10,
           12,
           17,
           19,
           18,
           17,
           10,
           12,
           15,
           14,
           18,
           17,
           10,
           19,
           15,
           13,
           14,
           12,
           19,
           10,
           18,
           16,
           16,
           13,
           14,
           17,
           12,
           18,
           14,
           16,
           14,
           12,
           16,
           16,
           10,
           11,
           19,
           15,
           17,
           15,
           17,
           13,
           19,
           19,
           19,
           18,
           15,
           11,
           15,
           11,
           13,
           19,
           15,
           14,
           10,
           18,
           19,
           19,
           17,
           16,
           10,
           10,
           14,
           17,
           17,
           15,
           12,
           19,
           13,
           13,
           10,
           15,
           10,
           14,
           18,
           10,
           18,
           12,
           11,
           16,
           13,
           19,
           11,
           13,
           10,
           13,
           16,
           18,
           12,
           19,
           14,
           15,
           17,
           12,
           13,
           17,
           16,
           17,
           17,
           18,
           16,
           16,
           18,
           19,
           13,
           10,
           11,
           10,
           18,
           13,
           18,
           12,
           12,
           10,
           17,
           16,
           14,
           17,
           13,
           13,
           18,
           15,
           18,
           10,
           19,
           18,
           10,
           19,
           12,
           10,
           17,
           11,
           15,
           17,
           10,
           19,
           16,
           17,
           15,
           17,
           14,
           17,
           10,
           18,
           13,
           18,
           14,
           16,
           12,
           14,
           12,
           19,
           10,
           12,
           18,
           13,
           12,
           19,
           13,
           19,
           13,
           11,
           18,
           16,
           18,
           12,
           19,
           11,
           15,
           11,
           11,
           10,
           15,
           13,
           10,
           15,
           15,
           14,
           16,
           15,
           16,
           13,
           10,
           12,
           16,
           16,
           18,
           15,
           18,
           12,
           19,
           19,
           15,
           17,
           12,
           19,
           18,
           18,
           14,
           16,
           11,
           14,
           11,
           13,
           10,
           19,
           17,
           19,
           10,
           16,
           18,
           17,
           16,
           17,
           15,
           15,
           16,
           14,
           14,
           13,
           16,
           19,
           15,
           17,
           16,
           14,
           13,
           16,
           17,
           10,
           16,
           19,
           14,
           14,
           11,
           14,
           16,
           17,
           14,
           10,
           16,
           17,
           19,
           12,
           19,
           10,
           15,
           12,
           17,
           17,
           14,
           17,
           19,
           17,
           11,
           10,
           15,
           12,
           15,
           12,
           10,
           19,
           19,
           11,
           16,
           15,
           13,
           10,
           16,
           11,
           19,
           15,
           10,
           17,
           16,
           10,
           16,
           17,
           12,
           11,
           12,
           14,
           14,
           12,
           14,
           18,
           11,
           12,
           11,
           14,
           14,
           11,
           18,
           14,
           14,
           12,
           14,
           15,
           10,
           12,
           10,
           13,
           13,
           11,
           10,
           16,
           16,
           15,
           17,
           15,
           18,
           19,
           12,
           13,
           18,
           12,
           19,
           11,
           11,
           14,
           17,
           19,
           10,
           11,
           16,
           18,
           19,
           14,
           15,
           16,
           14,
           18,
           15,
           15,
           19,
           14,
           19,
           12,
           11,
           15,
           17,
           10,
           15,
           18,
           12,
           16,
           11,
           12,
           14,
           10,
           14,
           10,
           11,
           16,
           14,
           16,
           11,
           10,
           18,
           19,
           16,
           13,
           19,
           19,
           14,
           12,
           13,
           10,
           15,
           12,
           18,
           19,
           12,
           12,
           14,
           10,
           12,
           12,
           10,
           11,
           10,
           14,
           15,
           17,
           10,
           12,
           18,
           11,
           17,
           18,
           10,
           19,
           17,
           16,
           16,
           19,
           18,
           13,
           14,
           16,
           15,
           13,
           12,
           17,
           18,
           13,
           17,
           10,
           13,
           12,
           17,
           13,
           16,
           12,
           11,
           16,
           15,
           13,
           17,
           12,
           16,
           11,
           19,
           10,
           11,
           16,
           11,
           12,
           14,
           15,
           12,
           12,
           19,
           12,
           12,
           17,
           14,
           19,
           19,
           12,
           11,
           16,
           14,
           13,
           16,
           17,
           14,
           10,
           18,
           12,
           18,
           12,
           18,
           11,
           19,
           14,
           14,
           14,
           11,
           15,
           17,
           18,
           10,
           13,
           10,
           15,
           17,
           12,
           11,
           10,
           19,
           13,
           18,
           15,
           10,
           13,
           15,
           19,
           13,
           15,
           15,
           12,
           16,
           15,
           18,
           14,
           11,
           17,
           12,
           13,
           13,
           15,
           14,
           19,
           16,
           12,
           10,
           18,
           11,
           12,
           19,
           15,
           14,
           13,
           12,
           12,
           19,
           11,
           18,
           14
          ],
          "sizemode": "area",
          "sizeref": 0.0475,
          "symbol": "circle"
         },
         "mode": "markers",
         "name": "",
         "orientation": "v",
         "showlegend": false,
         "type": "scatter",
         "x": [
          13,
          15,
          10,
          15,
          11,
          11,
          12,
          12,
          11,
          17,
          18,
          10,
          17,
          19,
          11,
          16,
          19,
          13,
          17,
          15,
          18,
          16,
          15,
          10,
          10,
          13,
          15,
          12,
          15,
          15,
          14,
          19,
          13,
          13,
          11,
          19,
          10,
          14,
          18,
          19,
          13,
          17,
          14,
          18,
          10,
          13,
          10,
          19,
          16,
          10,
          17,
          17,
          19,
          14,
          14,
          18,
          17,
          18,
          18,
          12,
          17,
          19,
          12,
          19,
          18,
          14,
          11,
          11,
          19,
          16,
          12,
          17,
          16,
          15,
          19,
          10,
          12,
          14,
          14,
          12,
          15,
          15,
          13,
          17,
          17,
          10,
          18,
          18,
          10,
          15,
          14,
          13,
          11,
          18,
          14,
          19,
          12,
          17,
          18,
          19,
          19,
          15,
          12,
          12,
          19,
          15,
          14,
          15,
          13,
          14,
          14,
          10,
          16,
          15,
          14,
          10,
          16,
          15,
          14,
          12,
          14,
          12,
          11,
          14,
          18,
          13,
          19,
          11,
          18,
          11,
          17,
          15,
          11,
          16,
          16,
          11,
          19,
          14,
          16,
          18,
          16,
          11,
          13,
          11,
          14,
          13,
          19,
          10,
          17,
          15,
          15,
          10,
          15,
          12,
          17,
          19,
          11,
          19,
          10,
          14,
          17,
          10,
          18,
          18,
          16,
          13,
          12,
          17,
          13,
          18,
          13,
          11,
          16,
          14,
          15,
          11,
          14,
          18,
          13,
          12,
          16,
          14,
          11,
          12,
          10,
          18,
          17,
          10,
          17,
          16,
          15,
          14,
          16,
          10,
          11,
          11,
          13,
          16,
          17,
          10,
          18,
          16,
          11,
          17,
          12,
          10,
          12,
          17,
          11,
          13,
          13,
          17,
          17,
          16,
          10,
          13,
          15,
          17,
          12,
          10,
          11,
          19,
          19,
          10,
          15,
          11,
          14,
          18,
          11,
          16,
          16,
          15,
          15,
          14,
          10,
          19,
          11,
          17,
          12,
          14,
          19,
          10,
          12,
          12,
          13,
          10,
          19,
          11,
          18,
          15,
          13,
          11,
          13,
          17,
          14,
          12,
          15,
          13,
          16,
          12,
          13,
          19,
          12,
          18,
          17,
          12,
          14,
          16,
          19,
          13,
          17,
          15,
          15,
          10,
          14,
          12,
          17,
          19,
          12,
          15,
          14,
          17,
          10,
          17,
          19,
          15,
          17,
          16,
          18,
          10,
          19,
          12,
          11,
          13,
          17,
          16,
          15,
          12,
          19,
          19,
          16,
          13,
          14,
          10,
          19,
          13,
          15,
          17,
          16,
          16,
          14,
          10,
          14,
          10,
          18,
          10,
          11,
          12,
          13,
          13,
          13,
          19,
          15,
          16,
          18,
          14,
          11,
          11,
          11,
          12,
          14,
          15,
          14,
          18,
          14,
          12,
          13,
          10,
          15,
          18,
          17,
          11,
          13,
          19,
          15,
          18,
          16,
          14,
          16,
          19,
          16,
          10,
          19,
          14,
          14,
          19,
          17,
          17,
          11,
          18,
          15,
          15,
          11,
          15,
          18,
          17,
          11,
          11,
          10,
          18,
          16,
          15,
          12,
          13,
          13,
          11,
          17,
          17,
          12,
          13,
          11,
          15,
          19,
          11,
          10,
          19,
          18,
          15,
          11,
          10,
          17,
          19,
          14,
          16,
          16,
          10,
          11,
          14,
          10,
          16,
          18,
          16,
          19,
          15,
          14,
          14,
          15,
          15,
          19,
          13,
          17,
          15,
          14,
          17,
          14,
          17,
          15,
          19,
          16,
          17,
          15,
          14,
          19,
          17,
          16,
          13,
          15,
          14,
          10,
          15,
          12,
          13,
          17,
          18,
          17,
          12,
          16,
          17,
          18,
          19,
          13,
          13,
          19,
          15,
          12,
          16,
          12,
          18,
          13,
          14,
          16,
          14,
          19,
          10,
          19,
          15,
          17,
          15,
          19,
          13,
          19,
          14,
          13,
          11,
          13,
          10,
          13,
          17,
          19,
          14,
          11,
          14,
          12,
          18,
          17,
          18,
          18,
          19,
          14,
          10,
          17,
          13,
          11,
          15,
          16,
          13,
          15,
          15,
          15,
          16,
          18,
          16,
          13,
          15,
          18,
          11,
          16,
          17,
          19,
          13,
          19,
          15,
          10,
          13,
          13,
          18,
          11,
          18,
          17,
          15,
          17,
          19,
          14,
          15,
          11,
          18,
          14,
          15,
          11,
          17,
          18,
          19,
          19,
          16,
          14,
          10,
          12,
          12,
          12,
          19,
          11,
          19,
          13,
          18,
          18,
          14,
          16,
          13,
          19,
          12,
          10,
          13,
          18,
          10,
          12,
          11,
          12,
          12,
          19,
          19,
          18,
          13,
          12,
          14,
          17,
          13,
          11,
          17,
          17,
          10,
          14,
          14,
          16,
          11,
          17,
          16,
          19,
          19,
          10,
          12,
          16,
          17,
          10,
          18,
          19,
          15,
          10,
          12,
          13,
          12,
          10,
          14,
          11,
          16,
          13,
          15,
          14,
          14,
          16,
          13,
          13,
          19,
          16,
          13,
          13,
          19,
          16,
          11,
          15,
          12,
          14,
          13,
          19,
          14,
          13,
          19,
          10,
          11,
          16,
          17,
          15,
          13,
          11,
          12,
          14,
          11,
          19,
          18,
          19,
          14,
          14,
          16,
          14,
          11,
          11,
          19,
          14,
          13,
          10,
          18,
          13,
          17,
          14,
          13,
          14,
          13,
          19,
          18,
          19,
          18,
          15,
          15,
          17,
          10,
          13,
          10,
          18,
          18,
          11,
          13,
          16,
          13,
          13,
          11,
          18,
          12,
          11,
          19,
          17,
          13,
          15,
          15,
          17,
          12,
          15,
          19,
          10,
          15,
          18,
          11,
          15,
          18,
          18,
          13,
          19,
          16,
          19,
          18,
          10,
          12,
          13,
          16,
          15,
          13,
          14,
          10,
          11,
          15,
          18,
          13,
          12,
          11,
          15,
          17,
          12,
          13,
          10,
          19,
          14,
          14,
          18,
          14,
          13,
          17,
          14,
          11,
          18,
          15,
          19,
          17,
          12,
          16,
          14,
          13,
          16,
          18,
          12,
          13,
          14,
          17,
          17,
          13,
          15,
          10,
          19,
          14,
          17,
          18,
          15,
          13,
          17,
          14,
          12,
          17,
          13,
          12,
          19,
          19,
          16,
          13,
          15,
          14,
          18,
          13,
          14,
          18,
          16,
          15,
          16,
          13,
          10,
          17,
          18,
          17,
          19,
          15,
          19,
          19,
          10,
          14,
          13,
          17,
          13,
          13,
          11,
          12,
          16,
          11,
          15,
          13,
          19,
          13,
          14,
          15,
          15,
          17,
          15,
          18,
          16,
          15,
          15,
          14,
          16,
          16,
          15,
          15,
          16,
          13,
          13,
          11,
          19,
          11,
          10,
          14,
          16,
          14,
          19,
          14,
          11,
          12,
          19,
          16,
          10,
          18,
          13,
          16,
          18,
          13,
          12,
          18,
          13,
          14,
          10,
          14,
          15,
          17,
          15,
          15,
          15,
          18,
          12,
          11,
          19,
          16,
          11,
          12,
          12,
          11,
          17,
          14,
          12,
          13,
          17,
          13,
          14,
          16,
          11,
          18,
          10,
          15,
          15,
          19,
          17,
          11,
          18,
          10,
          12,
          14,
          19,
          17,
          18,
          13,
          10,
          17,
          13,
          13,
          15,
          15,
          16,
          17,
          11,
          13,
          15,
          13,
          19,
          16,
          14,
          13,
          11,
          10,
          13,
          15,
          13,
          16,
          11,
          14,
          11,
          18,
          19,
          15,
          19,
          11,
          16,
          17,
          13,
          14,
          10,
          13,
          14,
          10,
          11,
          19,
          12,
          19,
          18,
          16,
          17,
          15,
          17,
          11,
          18,
          10,
          18,
          18,
          15,
          14,
          11,
          15,
          14,
          11,
          15,
          19,
          18,
          14,
          15,
          17,
          19,
          19,
          12,
          12,
          15,
          12,
          10,
          16,
          11,
          18,
          10,
          15,
          15,
          12,
          11,
          18,
          10,
          19,
          16,
          11,
          19,
          10,
          10,
          15,
          19,
          10,
          17,
          15,
          11,
          15,
          15,
          10,
          18,
          13,
          18,
          19,
          17,
          10,
          13,
          18,
          17,
          16,
          17,
          11,
          13,
          12,
          11,
          11,
          10,
          18,
          17,
          16,
          17,
          15,
          15,
          14,
          18,
          15,
          11,
          14,
          17,
          12,
          10,
          13,
          16,
          10,
          14,
          14,
          18,
          19,
          19,
          11,
          18,
          10,
          16,
          13,
          19,
          14,
          15,
          19,
          12,
          13,
          17,
          11
         ],
         "xaxis": "x",
         "y": [
          -0.7392280377870987,
          0.34685572597711434,
          0.02368275583658923,
          -1.6044067437051448,
          0.7508053991797845,
          -0.3801953993318497,
          -0.1486984883650214,
          -0.41276165059710423,
          0.5993738840795853,
          0.07993075777958736,
          0.9791477096781415,
          0.38319221723331276,
          0.6666485584104622,
          1.3684266488191603,
          0.6328980768832448,
          0.05995685069297737,
          -1.777914702040107,
          0.794208461700145,
          -0.32894897441755144,
          -0.4064088915212927,
          -1.4989867422074243,
          0.5504108312566787,
          0.3915686190039799,
          0.7336178943102429,
          -0.32196356377558116,
          -0.6332708542995995,
          1.4140892911639382,
          -0.6546343884973306,
          0.04758376653976036,
          -2.4409344485221873,
          -0.1812092369036596,
          -2.1675611211285717,
          0.7691973583900644,
          -1.979217116331926,
          -0.2908511324385682,
          -0.263933052341816,
          0.3322783539751228,
          -1.9516851540553402,
          -1.0417532399387326,
          0.680623727129918,
          0.7673668281606483,
          0.5933802626771453,
          1.0712106013162965,
          -0.14514301956761474,
          1.5773492073762798,
          -2.0135166994518623,
          -0.6836100965702834,
          0.9062516772066251,
          2.00992826014911,
          0.9014611937100933,
          -1.3119639992419552,
          -1.0204593042350758,
          1.0941470166270066,
          -1.2447904266388028,
          -0.4419983148724065,
          1.2726129132356978,
          0.36040270566118726,
          -0.47810925258025216,
          -0.2863499839338348,
          0.6204901296552996,
          0.5047921271289975,
          0.09955944279975584,
          -0.014338853438470783,
          -0.2114039415371146,
          -0.17283744622653982,
          -0.11438499749536711,
          -0.9753457774043587,
          -2.3914631503537045,
          0.28353390232895065,
          -0.4957560513448163,
          1.044963599510558,
          0.37870715756526646,
          -0.2467992887042657,
          -0.958667732008292,
          0.4952074807575569,
          0.404966072925933,
          -1.1622796715890387,
          1.1805071263226954,
          -0.23482980615190335,
          0.08934303395821215,
          1.5252066849565376,
          1.7722208387336134,
          1.4163336266565976,
          0.248042999654897,
          1.6232042578677477,
          -0.2052954567711057,
          1.66866499968399,
          1.1647646378618017,
          -0.2188670566946408,
          -0.794013009795122,
          -1.8159330222234409,
          -0.2989678821395102,
          -0.9440055962410954,
          1.9725032232455628,
          1.1043988919121699,
          1.7290202482832748,
          -0.2232774939074879,
          -0.15114468664548897,
          -0.4392038770813518,
          0.3824813812012079,
          -0.6751077292472893,
          -0.536994630645917,
          1.5991570929073242,
          1.3405699105403244,
          2.03222993513438,
          0.17509696787858792,
          0.8358410141840471,
          0.2122642646347398,
          -0.5387522091888156,
          0.10727636794878909,
          -1.03282939328817,
          0.06568554825868048,
          0.795084010781729,
          -0.3192139140252872,
          0.959065582165938,
          -0.2685983663190195,
          1.2773510750882324,
          -0.056110170559616514,
          -0.9124279576650085,
          1.309848527609998,
          -1.7350473709159073,
          0.4838643891253547,
          -0.5699148978961147,
          -0.5609306724627516,
          1.2333806203929185,
          0.16340459100041446,
          0.5542281206051214,
          0.004127119583037848,
          -0.5487844927044288,
          0.6124754349232663,
          1.2634158042688013,
          -1.0317627300597847,
          0.420465490910851,
          2.429674085295418,
          0.8846868703699423,
          -1.6602401958272508,
          -0.39768472301240987,
          -0.5756991780514277,
          0.8566056245358116,
          0.6389299751161271,
          -0.5162485242724759,
          -0.7255962433263414,
          0.10931444678072967,
          -0.0029761277759717776,
          0.4604439036931094,
          0.08618419850237431,
          -0.2680445688376609,
          -0.2888407792475627,
          0.6259473930069928,
          1.3573653509127424,
          -2.1605706459733955,
          -0.9473624533675501,
          -0.5987200874169867,
          -2.1733126107868608,
          1.3488936141668957,
          1.1420311055355654,
          -0.25002668669027944,
          -1.2556237618136308,
          -0.12477405897083946,
          -0.3419629052670375,
          -0.9349552139583202,
          -2.3006078924047575,
          -0.847148983181376,
          1.0137619484264482,
          0.70401598134329,
          1.4232329220537296,
          0.41684564076556546,
          0.06242003152180568,
          -0.5709759939281909,
          0.07015460144215335,
          -1.0330753480540367,
          -3.642231081576505,
          -0.19759145232181163,
          -1.4505651965253799,
          0.948228486079674,
          1.515598851203953,
          -1.3969509036246333,
          0.6870167445884092,
          -0.5110684643615232,
          0.7225948928310574,
          0.5044402057623997,
          0.23743839969279804,
          0.7521808812116094,
          -1.1893331229335895,
          -0.5067827117738488,
          2.2819823867771576,
          0.008429028037570603,
          1.0022613221608985,
          -0.7413665743248757,
          -1.2947742721185063,
          0.8640248992660191,
          -0.47676065289640185,
          0.1440546835509996,
          1.4806537809999538,
          0.49000521519576606,
          -0.8807389895730848,
          0.5317401041431459,
          0.9567670347012365,
          -0.1343904229525901,
          0.9384801229800229,
          0.6103181750635219,
          -0.215399663116557,
          2.0739757452893444,
          1.5349104446736113,
          0.14091919863607952,
          -0.25254250951455665,
          -0.6050166884926141,
          -1.8470407013236068,
          0.4943613439710225,
          0.8895126244099486,
          -0.1061230250114224,
          -0.46131205361266525,
          0.31762155641889017,
          -1.115992627595117,
          -0.2664465766497783,
          -0.8073965381403755,
          -0.2872389345049694,
          -0.11239027790793567,
          1.453820043641391,
          -0.9529026221380368,
          -0.062033434205216675,
          -0.1071530318147632,
          0.6363080582977825,
          1.1029657803043338,
          -0.3631306081372263,
          0.5089874554200173,
          -1.5548552999853213,
          0.7046858972469267,
          0.07956337367111467,
          -1.085706752872392,
          -0.6855608007046647,
          0.10366811355220018,
          -0.9914725691158575,
          0.7861674767042701,
          0.8621994360950567,
          -0.5264007252705759,
          -1.3895857193286256,
          1.101805655243603,
          -1.730028014484463,
          0.43079583158923107,
          1.1488780210591285,
          -1.5668704873095527,
          -0.29950375150241826,
          -0.36140358565474023,
          0.6968381837451416,
          0.03266467323949784,
          0.10677408252457876,
          0.7007847763847582,
          -0.7549745221355103,
          0.7157287816158245,
          -1.3890887883957124,
          0.023407450089432524,
          1.0009948028363325,
          -0.2436575125730017,
          -0.6536556536947471,
          1.907925489971391,
          0.7415437728797685,
          1.6809620602614361,
          0.3612609538278023,
          1.305919262274254,
          -0.6792050726891746,
          0.0035915335662779447,
          -0.17050779584701212,
          -1.224698966804356,
          1.0290910247645297,
          -0.6830518983116085,
          1.4195028485084518,
          1.280395613392989,
          0.0610105093057792,
          -0.008384952527525196,
          -0.6843429078302663,
          -0.891414457899713,
          0.018493949143987578,
          0.47132670342784805,
          -2.0808063113219806,
          -1.8295136693030645,
          0.9898600887092022,
          0.6771705634059636,
          0.6942405112932863,
          -1.9180417213205605,
          -0.2876753474738893,
          1.4468030340994182,
          -0.042257020408539396,
          -1.5045327205521342,
          -0.8397673265943246,
          -0.1956877196567239,
          0.7111389194283322,
          -1.020701609249288,
          -0.6599112943177109,
          1.0212364360699753,
          0.37926069716244876,
          0.10927805576874974,
          1.8970963257029385,
          -1.0426438769320145,
          -1.5326524468370306,
          -0.27274021688930283,
          -0.8007751110483913,
          1.951184982201487,
          0.9285557652865742,
          1.0662999022657118,
          -0.3797588219334083,
          -0.9308324854982796,
          -0.3805921345447433,
          -0.5399578242752533,
          0.4780456371342454,
          -0.8011704155408725,
          1.9996604059902712,
          -0.5516835880771739,
          0.6516178847945416,
          0.22415499014516663,
          1.6742149026698085,
          -1.2108131056322782,
          -0.3135652903479348,
          -0.1411276142080116,
          0.26386286960616556,
          -1.5285928895811882,
          1.2979107191487134,
          2.4107843933113453,
          -0.049737022279148675,
          1.5791134724648193,
          -0.3976987307773248,
          -1.0701169868315743,
          0.3113823266386074,
          -0.1494400348234648,
          0.2789607437465121,
          0.6068133484947008,
          -2.311879446995341,
          -0.6905718324095136,
          1.2102873333427455,
          1.3002596251317764,
          0.04879668456973103,
          -1.2567257194084063,
          -1.4354144454909128,
          1.836995572938888,
          -0.1120295820412148,
          1.348682535620541,
          -1.9841671443453996,
          -1.1593685818841375,
          0.26737350005835014,
          0.14365665396137514,
          -0.5362637654723,
          -0.14761109339489306,
          0.7024148937497896,
          -0.34880852623380276,
          -0.08295304894339668,
          -0.2844447612913628,
          -0.9322426867408009,
          0.2637187102518861,
          -0.35578765491993614,
          -0.39755142265857896,
          -0.8473392983040409,
          -1.4351195688928784,
          -0.7822893593217003,
          0.2194915015590647,
          -0.37789572903477575,
          -0.7429112433803158,
          -0.7290186050296193,
          -0.26243888904558643,
          0.2589151172442275,
          -0.6239960391005355,
          0.2731382066333704,
          -0.38816264544086937,
          -1.8534069934082207,
          0.6930017877185498,
          0.8215304539036064,
          -0.25675274657118974,
          -1.2709559316631855,
          0.215737897616276,
          0.013871344446033452,
          -0.6429773431407,
          -2.412736831032017,
          0.8674197429531841,
          0.483478647618438,
          0.8614682250676262,
          -0.20035253189774122,
          -1.51596850331464,
          -0.2861663019160989,
          -1.3174143184364173,
          -0.06496417383909725,
          0.26691487657729124,
          -0.21748312942184916,
          -0.6681905496695703,
          -0.18840182230173425,
          0.2162181360385806,
          -0.265911325425045,
          -1.974547519537114,
          -0.7347262352650011,
          0.11098092942639251,
          0.8082169088461325,
          -1.1973988932579318,
          -0.00508261295910148,
          0.8779822811425723,
          -1.3309429667858144,
          -1.2028843899201902,
          0.9814866094318934,
          0.30280107037201476,
          1.3635907364170865,
          -1.9747626777975076,
          0.1259859019863601,
          -0.8923788705907029,
          0.4900791251252797,
          -0.07793082266257564,
          0.779268294188725,
          1.9906079987698104,
          0.9017641586139705,
          -1.6470216172106167,
          0.6098238329542707,
          -1.7212548692384875,
          1.5442526907516245,
          -1.6061087851933522,
          -3.010430896957359,
          0.2932825008072116,
          0.2401823538834922,
          0.9707126144580943,
          0.501866905144227,
          0.23391306132630452,
          -0.48520734856187725,
          0.3568177084746438,
          1.1395416129074916,
          -0.46870097151253354,
          0.02202099419419976,
          0.5880422657287088,
          0.7241264242441181,
          -1.4905034546791003,
          -0.33158331100794614,
          0.8233542885378153,
          -0.8627532491466735,
          0.9781007001274072,
          -0.30950626377722984,
          0.9801433248395574,
          1.9108859420956295,
          -1.5257193287664481,
          0.4998223690678664,
          -0.25723632293520443,
          -1.5930685685839157,
          -1.056639613229217,
          -0.6096252672729507,
          0.13138169846447798,
          1.8850257200853937,
          0.7184883312989248,
          -0.8750464952467176,
          0.322313439903916,
          -0.4054218477309081,
          -1.6793752710296133,
          0.15595572373965055,
          -0.8568613895768229,
          0.2987012594667808,
          0.4428728380904552,
          0.20730513364234743,
          -1.1230658825682518,
          -0.63323312763104,
          -0.9774884293005903,
          0.1527305412836958,
          -0.3005496333065673,
          -2.23194211577741,
          -0.060647521899377645,
          0.5144667858319736,
          -1.8141628610596463,
          -2.241011502572632,
          1.3607827286956022,
          0.7905803834091687,
          -0.2147577794356985,
          0.225366813014175,
          -1.6956067712886134,
          0.7078810151517188,
          1.9951619189922505,
          0.5468612993811801,
          0.02501351119853688,
          -1.3671027638305364,
          0.6989266052961514,
          0.6071514644026311,
          -0.997329483239644,
          -1.1340959031407067,
          -0.46705394213465895,
          0.7504474825099277,
          -0.7316503469047994,
          -0.7198565841511271,
          0.00583589800456752,
          -0.5228630217137775,
          0.2802290449053862,
          -0.4056199941300774,
          0.8321112167483187,
          0.6376518915571684,
          0.6927006943038728,
          -0.42525911752756335,
          0.9804653003885855,
          -0.5172939979913258,
          -1.3000307079333344,
          0.16846061516719385,
          1.1003552717487417,
          2.366686198978389,
          1.657675694449629,
          0.46445782035128624,
          0.03480320106480379,
          -0.5060462130558904,
          0.707556472835653,
          -0.046993830771685285,
          -0.2384490912358403,
          -0.6429928435964614,
          -0.2585095994760073,
          -0.18353346319315123,
          -0.16355700207183166,
          1.1698008338861146,
          1.6827317836472124,
          1.2239477173691404,
          -1.0330823424751545,
          0.8874465905354522,
          -0.3784844884546168,
          0.9528994089263093,
          -0.7580764626484555,
          0.8724614826914429,
          -0.5351256165797575,
          -0.9561745982274008,
          0.6130154292441438,
          -1.0305165154150364,
          0.1826769820595836,
          -0.8164890282316456,
          1.2829180427466156,
          -0.4294779711024725,
          -0.32797137809191845,
          1.2361336369771574,
          -0.297246258277608,
          1.8702818239210044,
          -0.3221351847116345,
          1.6822206033234486,
          0.39783951485465774,
          0.08598618270765268,
          -0.8698587095526188,
          -0.6609837218178758,
          1.4632796004134339,
          -0.14940145579957415,
          1.215752254999947,
          0.6322807842836206,
          -1.6426131045993386,
          -0.17281101257849898,
          -1.6345182931798496,
          0.9083953913884134,
          -0.4308608627986168,
          0.8339706586697319,
          -1.6645206950878826,
          0.4322451302952654,
          0.9365304331151724,
          -0.18442813518221365,
          0.07231346913331713,
          2.3206120802337176,
          0.5127370370582164,
          -0.03745344560947427,
          -0.49791829961024314,
          0.13114491238958512,
          -0.9920410738140881,
          -0.4329546942797384,
          0.25610837699194505,
          -0.03865174059643482,
          1.0305725317527448,
          1.0686199556162614,
          -0.6255366027875547,
          0.0255675507060164,
          -0.031580320980584595,
          -0.2660360163345627,
          -0.829713333454372,
          0.7668880666133573,
          0.6575755976323957,
          -1.371168662031266,
          -2.020447507587078,
          0.5031243812939559,
          0.242396833407886,
          -2.6017824788492705,
          1.03566584520727,
          0.8383833835973913,
          -1.9762351967324185,
          0.9506990761926258,
          2.544416701515465,
          -0.4521924427310191,
          -0.9256399586909434,
          0.3541556482679431,
          1.012733325407584,
          0.45196860815348383,
          -0.5742212581812068,
          -1.9742527423677025,
          1.2803101929544405,
          1.3307634721224921,
          1.1931106304803436,
          1.4890082862818461,
          2.0889307562404364,
          0.5224623613346475,
          -0.123756545367873,
          1.1153163215731223,
          -0.3673669870843742,
          -0.9988243087531624,
          -1.1803184634724428,
          -1.6243071084900262,
          0.5774292199732859,
          0.9937043464860501,
          0.730126846043485,
          -0.3028028279374515,
          -0.6932722766938908,
          0.513291794988035,
          0.6888630595842676,
          -0.8722172392205725,
          0.5080951317069725,
          -1.0325406002279727,
          0.21791162837980088,
          -0.2997319790572864,
          1.6652884066951814,
          0.48357636653412533,
          -0.8287124028680417,
          -0.5812152684203031,
          -0.4167216652953078,
          -0.014875405968810545,
          -0.9068997807184792,
          -0.6059666113562439,
          -1.709264702244066,
          -0.3893456146616949,
          0.6884090780751135,
          1.6775922564516241,
          1.182819498534546,
          0.5540890963562777,
          -1.0717281037724273,
          0.40489318838370403,
          0.7360445464571029,
          0.1528463609488181,
          0.5793285321404568,
          0.20294775845451912,
          1.18444690524276,
          -0.10779969882205813,
          0.27232447990121156,
          0.9721544523062259,
          0.6277205737742125,
          0.8149896056302286,
          1.4032117989801849,
          -0.17697408893873165,
          0.1400511303929162,
          1.849289579276896,
          1.7950374739594452,
          1.6797664118882627,
          0.4106674819508255,
          0.14734014789337965,
          -0.1945031659107406,
          -0.803328849444401,
          0.7338891565695355,
          0.19441377839489432,
          1.0738256177806726,
          1.2914614293200766,
          0.6486075316353543,
          -1.2313276458079512,
          0.3309997168494823,
          -0.19538163998329552,
          1.106776830888749,
          -0.8649328766581352,
          0.5693263566574488,
          -0.860814410281256,
          -0.574141352444839,
          2.5092419928246943,
          -1.192037486920784,
          0.256718810927189,
          -0.5431594399810307,
          0.8975181070596394,
          -0.5658911514992854,
          -0.4210926074555822,
          -0.6264174188681747,
          -0.15585170872694185,
          -1.456343152683439,
          0.08227692570172826,
          0.4933173978656098,
          -0.7877153679425546,
          0.9007330177413878,
          0.9275843425748892,
          -0.011418889036281602,
          -0.5511425416653519,
          0.6102526748490505,
          -0.07763583009397017,
          -0.9211469718138482,
          -0.019881747098348283,
          -0.5404833339680094,
          -0.44074720374836224,
          -0.5256440466663157,
          -1.1743272510378946,
          0.6497884467019638,
          1.437701822706125,
          -0.9542599083649601,
          1.8240511768378038,
          -0.5901355136968963,
          0.41549708946586644,
          -0.05433027581159156,
          -1.0422536645227947,
          -0.06515277449738106,
          -0.5084229312365213,
          -0.8695361731963736,
          -0.2463904792818212,
          -0.8298036560605513,
          1.0583332887981247,
          -0.7994604841512857,
          0.10775416916231949,
          0.6800469568074397,
          -0.36217396835480925,
          -0.120091702598506,
          -1.7172157485750363,
          0.6010566125315351,
          -0.06048709178624342,
          1.399148369814495,
          0.10306061057586005,
          -0.6504492030225336,
          0.41143874006149933,
          0.5438933711203822,
          -0.48457795127038156,
          0.3331484258200272,
          -0.6062971513435552,
          -0.2768702813002604,
          1.544169786230506,
          0.7027239043839294,
          0.7996355799694644,
          0.32963618524593913,
          -0.5783371835310811,
          0.31253278003298274,
          0.5107878903356846,
          -0.5284288134445425,
          -1.6614195572745187,
          -0.4181179781367274,
          1.5674883891981366,
          0.33940142924208366,
          -0.07248951581280598,
          -0.5582172796160522,
          1.107330130444334,
          -0.5491120755624572,
          -0.6237290933509658,
          -1.6330814166272174,
          -1.6511413998689042,
          -0.28294343187283966,
          0.19747159114270438,
          0.8680405941963367,
          0.9162019444357906,
          -0.5897357736651312,
          -0.8394591446402172,
          -0.1496036519389247,
          0.48250970768375556,
          0.19503578987630937,
          -0.6134816459920919,
          0.06840436631608184,
          -1.2951444310655418,
          1.6130423506510194,
          0.060641705602220514,
          -0.12823989623192011,
          0.9925793714908827,
          -0.5221602011876697,
          0.3857688508464017,
          -1.030602541845417,
          -1.565411152064638,
          0.6274320677206077,
          -0.8127597061887049,
          1.0594227155172635,
          0.19759163838175978,
          1.9859818255608166,
          -0.21845590283728014,
          0.0008000519977507836,
          1.6845851462715187,
          0.8525055050880801,
          0.8241278711136354,
          0.6882050193275581,
          0.5279916366087599,
          1.2344824214631063,
          -0.9195657523657488,
          1.1694517106139146,
          0.9977305948147133,
          -0.9115951806463753,
          0.08560105447296443,
          -0.26499319861191184,
          0.6060035041137412,
          -0.0555328875978122,
          1.7902132497463175,
          -0.20305827553310637,
          -0.5073382881260301,
          -0.5521666619275344,
          -0.8135703679706611,
          -1.1325085048654486,
          -0.002413401455883377,
          -0.028829705504894384,
          0.005613204551964745,
          0.603438355228194,
          0.453839682339077,
          -2.1456222767170687,
          0.008208492630332258,
          0.2749712768532959,
          0.14819097818709875,
          0.3390162896876544,
          -2.246616469077803,
          0.8351686649772968,
          2.327817539986022,
          -0.8798604229733786,
          -1.1042456690788083,
          1.4185817461021364,
          -1.6975330958572725,
          1.1211747600457913,
          -0.04470598466781376,
          -0.7848184130407643,
          -1.1442917762889806,
          0.12737994146951992,
          -0.06106054417704591,
          0.5305120501473636,
          0.19401718561493533,
          0.03579942145574798,
          0.31512777465413555,
          0.8312471900830488,
          -1.6203979356353666,
          2.524999256638989,
          -2.863075273279184,
          0.02550810839440062,
          1.1846432882564608,
          -0.13397056370538218,
          -0.05736568927651276,
          0.2611821934547846,
          -0.04372084203080262,
          -0.29364413168468306,
          -1.5991613849802324,
          -0.4874966033737186,
          -0.7334867260089809,
          -0.12781933678096616,
          -0.4881223454768172,
          0.2761776191871526,
          0.45669887616378724,
          -0.2358012059253466,
          -0.7159182196035244,
          1.2925294161117675,
          -1.0968649533042327,
          -1.719804605137347,
          0.29126196377552105,
          1.153787605060772,
          -1.140152334769331,
          -0.16146514860096486,
          0.5530604227920868,
          1.3605460172116703,
          -0.390529364772546,
          -0.8046522486441203,
          -1.4603730296618391,
          0.45471907867847694,
          0.06635897524935404,
          -0.8571644367247716,
          -0.8010342120812474,
          -1.5449872555733637,
          -0.8318758063588438,
          -0.5296627160460743,
          -0.9457260052994114,
          0.6086490911078677,
          0.31927475679171496,
          -0.3738971236046081,
          0.4219558051441765,
          -1.0308238641683312,
          -0.324557387367531,
          -0.25951625394360905,
          1.6121092106898038,
          -0.8134394429436834,
          1.6059766377398703,
          1.9963787610880452,
          1.0022103992358016,
          -0.34937744949731236,
          0.9893770413936569,
          -0.1547917439828909,
          1.933735493639633,
          0.1796880016482841,
          -1.5414864038290803,
          -2.3960998340759203,
          0.47375951499778324,
          -0.21146621098538385,
          -0.8330333925152024,
          -0.07195155480962338,
          -0.26393245935968856,
          1.594836524762363,
          -0.8658314151283604,
          0.13345954929981957,
          -0.3022170250731281,
          -1.1651470563076214,
          1.1971870877265598,
          1.0191119654499785,
          1.151422368791619,
          0.9243185107696584,
          2.300751940698659,
          0.25413845284167713,
          0.24571774223532766,
          1.1080834472561238,
          0.45568976079816714,
          0.9985662081491774,
          0.8499698267224791,
          -0.4298856001010985,
          -0.19640068337093994,
          -1.7888491515583753,
          -0.11537604535500079,
          0.8188903221501368,
          -0.2247467249468158,
          0.9370430323997722,
          2.4211150586402255,
          0.680686412082092,
          -0.7256355972312687,
          0.27633606685571266,
          0.4554884186010861,
          -0.21584337493606862,
          -0.24402554721964298,
          -1.08624031463247,
          -0.47973951822007743,
          -0.8966819471908962,
          1.1464982670997408,
          0.7570701324263885,
          -1.4574248370825895,
          -0.7601075151638089,
          -0.8927271390689937,
          0.9607005672302781,
          -0.146485160626828,
          2.0204710053519492,
          0.594717002499267,
          1.0461224562020113,
          -0.3219573956301226,
          1.35657775993127,
          0.9462955252939016,
          -0.603897589153903,
          -0.638419216343869,
          0.2681026610975494,
          0.4488686136152084,
          0.15802679318810092,
          -0.12262647374862713,
          2.0914514909044892,
          -0.3762073926271747,
          -0.28828653418628875,
          -1.1118921856038586,
          1.3446264220364608,
          -0.6958677681578567,
          0.3564036031823564,
          0.3493607403507081,
          -0.5723540937653915,
          1.0645780842515822,
          -2.4732973272339294,
          0.25919407662190014,
          2.0286188066451794,
          0.9888191604683224,
          -0.3418338689925928,
          -2.323895734270994,
          0.690286866833936,
          2.2290237681512677,
          2.5084257861514123,
          -0.3971555478969136,
          0.6105793191908313,
          1.6085755682555614,
          1.367812497643617,
          -1.3084376960754114,
          1.2334130668764467,
          -0.20329627462791786,
          -2.33402726523721,
          0.2513481917817099,
          0.7850844032295405,
          -0.5878119287692607,
          1.4974723315068617,
          -0.6742772944161503,
          1.3130781633566468,
          1.4500978454354003,
          0.15174529048589577,
          -1.2198816907843029,
          1.1561518924425345,
          0.413655258135546,
          -1.649308438728401,
          1.920633992651153,
          -0.0725698362227836,
          -0.06988573776032553,
          0.05832653955961599,
          -0.05272832352006821,
          -0.6683265504544699,
          1.8398004330730788,
          0.3261411904238011,
          -0.19175032902092665,
          0.7248232934055666,
          0.2704600573176423,
          1.0809436048022913,
          -0.5467419545075182,
          -0.5311228605351183,
          0.6692793029644538,
          -1.9703889561769894,
          -0.014936468139046857,
          -0.33956912811521434,
          0.8022364808015083,
          0.8122102741388972,
          0.23215419443332921,
          -0.26107635653916267,
          0.26137580112452385,
          0.9816442712918512,
          -0.49722329101046,
          0.24274506206433377,
          -0.04864749395112246,
          0.9490674763650417,
          -1.11988518051136,
          -0.2536223647093894,
          0.8894759714430969,
          0.8143401332292287,
          0.14592642768745648,
          0.773653014015115,
          -1.3826623745938682,
          -1.472893536939782,
          -0.19337776281150482,
          -0.6142320399865369,
          -0.5321598690716904,
          -0.6071686212953747,
          -1.6251618465262163,
          -2.5850899101578793,
          -0.28264086572373254,
          1.9959533571444135
         ],
         "yaxis": "y"
        }
       ],
       "layout": {
        "legend": {
         "itemsizing": "constant",
         "tracegroupgap": 0
        },
        "margin": {
         "t": 60
        },
        "template": {
         "data": {
          "bar": [
           {
            "error_x": {
             "color": "#2a3f5f"
            },
            "error_y": {
             "color": "#2a3f5f"
            },
            "marker": {
             "line": {
              "color": "#E5ECF6",
              "width": 0.5
             },
             "pattern": {
              "fillmode": "overlay",
              "size": 10,
              "solidity": 0.2
             }
            },
            "type": "bar"
           }
          ],
          "barpolar": [
           {
            "marker": {
             "line": {
              "color": "#E5ECF6",
              "width": 0.5
             },
             "pattern": {
              "fillmode": "overlay",
              "size": 10,
              "solidity": 0.2
             }
            },
            "type": "barpolar"
           }
          ],
          "carpet": [
           {
            "aaxis": {
             "endlinecolor": "#2a3f5f",
             "gridcolor": "white",
             "linecolor": "white",
             "minorgridcolor": "white",
             "startlinecolor": "#2a3f5f"
            },
            "baxis": {
             "endlinecolor": "#2a3f5f",
             "gridcolor": "white",
             "linecolor": "white",
             "minorgridcolor": "white",
             "startlinecolor": "#2a3f5f"
            },
            "type": "carpet"
           }
          ],
          "choropleth": [
           {
            "colorbar": {
             "outlinewidth": 0,
             "ticks": ""
            },
            "type": "choropleth"
           }
          ],
          "contour": [
           {
            "colorbar": {
             "outlinewidth": 0,
             "ticks": ""
            },
            "colorscale": [
             [
              0,
              "#0d0887"
             ],
             [
              0.1111111111111111,
              "#46039f"
             ],
             [
              0.2222222222222222,
              "#7201a8"
             ],
             [
              0.3333333333333333,
              "#9c179e"
             ],
             [
              0.4444444444444444,
              "#bd3786"
             ],
             [
              0.5555555555555556,
              "#d8576b"
             ],
             [
              0.6666666666666666,
              "#ed7953"
             ],
             [
              0.7777777777777778,
              "#fb9f3a"
             ],
             [
              0.8888888888888888,
              "#fdca26"
             ],
             [
              1,
              "#f0f921"
             ]
            ],
            "type": "contour"
           }
          ],
          "contourcarpet": [
           {
            "colorbar": {
             "outlinewidth": 0,
             "ticks": ""
            },
            "type": "contourcarpet"
           }
          ],
          "heatmap": [
           {
            "colorbar": {
             "outlinewidth": 0,
             "ticks": ""
            },
            "colorscale": [
             [
              0,
              "#0d0887"
             ],
             [
              0.1111111111111111,
              "#46039f"
             ],
             [
              0.2222222222222222,
              "#7201a8"
             ],
             [
              0.3333333333333333,
              "#9c179e"
             ],
             [
              0.4444444444444444,
              "#bd3786"
             ],
             [
              0.5555555555555556,
              "#d8576b"
             ],
             [
              0.6666666666666666,
              "#ed7953"
             ],
             [
              0.7777777777777778,
              "#fb9f3a"
             ],
             [
              0.8888888888888888,
              "#fdca26"
             ],
             [
              1,
              "#f0f921"
             ]
            ],
            "type": "heatmap"
           }
          ],
          "heatmapgl": [
           {
            "colorbar": {
             "outlinewidth": 0,
             "ticks": ""
            },
            "colorscale": [
             [
              0,
              "#0d0887"
             ],
             [
              0.1111111111111111,
              "#46039f"
             ],
             [
              0.2222222222222222,
              "#7201a8"
             ],
             [
              0.3333333333333333,
              "#9c179e"
             ],
             [
              0.4444444444444444,
              "#bd3786"
             ],
             [
              0.5555555555555556,
              "#d8576b"
             ],
             [
              0.6666666666666666,
              "#ed7953"
             ],
             [
              0.7777777777777778,
              "#fb9f3a"
             ],
             [
              0.8888888888888888,
              "#fdca26"
             ],
             [
              1,
              "#f0f921"
             ]
            ],
            "type": "heatmapgl"
           }
          ],
          "histogram": [
           {
            "marker": {
             "pattern": {
              "fillmode": "overlay",
              "size": 10,
              "solidity": 0.2
             }
            },
            "type": "histogram"
           }
          ],
          "histogram2d": [
           {
            "colorbar": {
             "outlinewidth": 0,
             "ticks": ""
            },
            "colorscale": [
             [
              0,
              "#0d0887"
             ],
             [
              0.1111111111111111,
              "#46039f"
             ],
             [
              0.2222222222222222,
              "#7201a8"
             ],
             [
              0.3333333333333333,
              "#9c179e"
             ],
             [
              0.4444444444444444,
              "#bd3786"
             ],
             [
              0.5555555555555556,
              "#d8576b"
             ],
             [
              0.6666666666666666,
              "#ed7953"
             ],
             [
              0.7777777777777778,
              "#fb9f3a"
             ],
             [
              0.8888888888888888,
              "#fdca26"
             ],
             [
              1,
              "#f0f921"
             ]
            ],
            "type": "histogram2d"
           }
          ],
          "histogram2dcontour": [
           {
            "colorbar": {
             "outlinewidth": 0,
             "ticks": ""
            },
            "colorscale": [
             [
              0,
              "#0d0887"
             ],
             [
              0.1111111111111111,
              "#46039f"
             ],
             [
              0.2222222222222222,
              "#7201a8"
             ],
             [
              0.3333333333333333,
              "#9c179e"
             ],
             [
              0.4444444444444444,
              "#bd3786"
             ],
             [
              0.5555555555555556,
              "#d8576b"
             ],
             [
              0.6666666666666666,
              "#ed7953"
             ],
             [
              0.7777777777777778,
              "#fb9f3a"
             ],
             [
              0.8888888888888888,
              "#fdca26"
             ],
             [
              1,
              "#f0f921"
             ]
            ],
            "type": "histogram2dcontour"
           }
          ],
          "mesh3d": [
           {
            "colorbar": {
             "outlinewidth": 0,
             "ticks": ""
            },
            "type": "mesh3d"
           }
          ],
          "parcoords": [
           {
            "line": {
             "colorbar": {
              "outlinewidth": 0,
              "ticks": ""
             }
            },
            "type": "parcoords"
           }
          ],
          "pie": [
           {
            "automargin": true,
            "type": "pie"
           }
          ],
          "scatter": [
           {
            "fillpattern": {
             "fillmode": "overlay",
             "size": 10,
             "solidity": 0.2
            },
            "type": "scatter"
           }
          ],
          "scatter3d": [
           {
            "line": {
             "colorbar": {
              "outlinewidth": 0,
              "ticks": ""
             }
            },
            "marker": {
             "colorbar": {
              "outlinewidth": 0,
              "ticks": ""
             }
            },
            "type": "scatter3d"
           }
          ],
          "scattercarpet": [
           {
            "marker": {
             "colorbar": {
              "outlinewidth": 0,
              "ticks": ""
             }
            },
            "type": "scattercarpet"
           }
          ],
          "scattergeo": [
           {
            "marker": {
             "colorbar": {
              "outlinewidth": 0,
              "ticks": ""
             }
            },
            "type": "scattergeo"
           }
          ],
          "scattergl": [
           {
            "marker": {
             "colorbar": {
              "outlinewidth": 0,
              "ticks": ""
             }
            },
            "type": "scattergl"
           }
          ],
          "scattermapbox": [
           {
            "marker": {
             "colorbar": {
              "outlinewidth": 0,
              "ticks": ""
             }
            },
            "type": "scattermapbox"
           }
          ],
          "scatterpolar": [
           {
            "marker": {
             "colorbar": {
              "outlinewidth": 0,
              "ticks": ""
             }
            },
            "type": "scatterpolar"
           }
          ],
          "scatterpolargl": [
           {
            "marker": {
             "colorbar": {
              "outlinewidth": 0,
              "ticks": ""
             }
            },
            "type": "scatterpolargl"
           }
          ],
          "scatterternary": [
           {
            "marker": {
             "colorbar": {
              "outlinewidth": 0,
              "ticks": ""
             }
            },
            "type": "scatterternary"
           }
          ],
          "surface": [
           {
            "colorbar": {
             "outlinewidth": 0,
             "ticks": ""
            },
            "colorscale": [
             [
              0,
              "#0d0887"
             ],
             [
              0.1111111111111111,
              "#46039f"
             ],
             [
              0.2222222222222222,
              "#7201a8"
             ],
             [
              0.3333333333333333,
              "#9c179e"
             ],
             [
              0.4444444444444444,
              "#bd3786"
             ],
             [
              0.5555555555555556,
              "#d8576b"
             ],
             [
              0.6666666666666666,
              "#ed7953"
             ],
             [
              0.7777777777777778,
              "#fb9f3a"
             ],
             [
              0.8888888888888888,
              "#fdca26"
             ],
             [
              1,
              "#f0f921"
             ]
            ],
            "type": "surface"
           }
          ],
          "table": [
           {
            "cells": {
             "fill": {
              "color": "#EBF0F8"
             },
             "line": {
              "color": "white"
             }
            },
            "header": {
             "fill": {
              "color": "#C8D4E3"
             },
             "line": {
              "color": "white"
             }
            },
            "type": "table"
           }
          ]
         },
         "layout": {
          "annotationdefaults": {
           "arrowcolor": "#2a3f5f",
           "arrowhead": 0,
           "arrowwidth": 1
          },
          "autotypenumbers": "strict",
          "coloraxis": {
           "colorbar": {
            "outlinewidth": 0,
            "ticks": ""
           }
          },
          "colorscale": {
           "diverging": [
            [
             0,
             "#8e0152"
            ],
            [
             0.1,
             "#c51b7d"
            ],
            [
             0.2,
             "#de77ae"
            ],
            [
             0.3,
             "#f1b6da"
            ],
            [
             0.4,
             "#fde0ef"
            ],
            [
             0.5,
             "#f7f7f7"
            ],
            [
             0.6,
             "#e6f5d0"
            ],
            [
             0.7,
             "#b8e186"
            ],
            [
             0.8,
             "#7fbc41"
            ],
            [
             0.9,
             "#4d9221"
            ],
            [
             1,
             "#276419"
            ]
           ],
           "sequential": [
            [
             0,
             "#0d0887"
            ],
            [
             0.1111111111111111,
             "#46039f"
            ],
            [
             0.2222222222222222,
             "#7201a8"
            ],
            [
             0.3333333333333333,
             "#9c179e"
            ],
            [
             0.4444444444444444,
             "#bd3786"
            ],
            [
             0.5555555555555556,
             "#d8576b"
            ],
            [
             0.6666666666666666,
             "#ed7953"
            ],
            [
             0.7777777777777778,
             "#fb9f3a"
            ],
            [
             0.8888888888888888,
             "#fdca26"
            ],
            [
             1,
             "#f0f921"
            ]
           ],
           "sequentialminus": [
            [
             0,
             "#0d0887"
            ],
            [
             0.1111111111111111,
             "#46039f"
            ],
            [
             0.2222222222222222,
             "#7201a8"
            ],
            [
             0.3333333333333333,
             "#9c179e"
            ],
            [
             0.4444444444444444,
             "#bd3786"
            ],
            [
             0.5555555555555556,
             "#d8576b"
            ],
            [
             0.6666666666666666,
             "#ed7953"
            ],
            [
             0.7777777777777778,
             "#fb9f3a"
            ],
            [
             0.8888888888888888,
             "#fdca26"
            ],
            [
             1,
             "#f0f921"
            ]
           ]
          },
          "colorway": [
           "#636efa",
           "#EF553B",
           "#00cc96",
           "#ab63fa",
           "#FFA15A",
           "#19d3f3",
           "#FF6692",
           "#B6E880",
           "#FF97FF",
           "#FECB52"
          ],
          "font": {
           "color": "#2a3f5f"
          },
          "geo": {
           "bgcolor": "white",
           "lakecolor": "white",
           "landcolor": "#E5ECF6",
           "showlakes": true,
           "showland": true,
           "subunitcolor": "white"
          },
          "hoverlabel": {
           "align": "left"
          },
          "hovermode": "closest",
          "mapbox": {
           "style": "light"
          },
          "paper_bgcolor": "white",
          "plot_bgcolor": "#E5ECF6",
          "polar": {
           "angularaxis": {
            "gridcolor": "white",
            "linecolor": "white",
            "ticks": ""
           },
           "bgcolor": "#E5ECF6",
           "radialaxis": {
            "gridcolor": "white",
            "linecolor": "white",
            "ticks": ""
           }
          },
          "scene": {
           "xaxis": {
            "backgroundcolor": "#E5ECF6",
            "gridcolor": "white",
            "gridwidth": 2,
            "linecolor": "white",
            "showbackground": true,
            "ticks": "",
            "zerolinecolor": "white"
           },
           "yaxis": {
            "backgroundcolor": "#E5ECF6",
            "gridcolor": "white",
            "gridwidth": 2,
            "linecolor": "white",
            "showbackground": true,
            "ticks": "",
            "zerolinecolor": "white"
           },
           "zaxis": {
            "backgroundcolor": "#E5ECF6",
            "gridcolor": "white",
            "gridwidth": 2,
            "linecolor": "white",
            "showbackground": true,
            "ticks": "",
            "zerolinecolor": "white"
           }
          },
          "shapedefaults": {
           "line": {
            "color": "#2a3f5f"
           }
          },
          "ternary": {
           "aaxis": {
            "gridcolor": "white",
            "linecolor": "white",
            "ticks": ""
           },
           "baxis": {
            "gridcolor": "white",
            "linecolor": "white",
            "ticks": ""
           },
           "bgcolor": "#E5ECF6",
           "caxis": {
            "gridcolor": "white",
            "linecolor": "white",
            "ticks": ""
           }
          },
          "title": {
           "x": 0.05
          },
          "xaxis": {
           "automargin": true,
           "gridcolor": "white",
           "linecolor": "white",
           "ticks": "",
           "title": {
            "standoff": 15
           },
           "zerolinecolor": "white",
           "zerolinewidth": 2
          },
          "yaxis": {
           "automargin": true,
           "gridcolor": "white",
           "linecolor": "white",
           "ticks": "",
           "title": {
            "standoff": 15
           },
           "zerolinecolor": "white",
           "zerolinewidth": 2
          }
         }
        },
        "xaxis": {
         "anchor": "y",
         "domain": [
          0,
          1
         ],
         "title": {
          "text": "x"
         }
        },
        "yaxis": {
         "anchor": "x",
         "domain": [
          0,
          1
         ],
         "title": {
          "text": "y"
         }
        }
       }
      }
     },
     "metadata": {},
     "output_type": "display_data"
    }
   ],
   "source": [
    "px.scatter(x=x, y=y ,size= z)"
   ]
  },
  {
   "cell_type": "code",
   "execution_count": null,
   "metadata": {},
   "outputs": [],
   "source": []
  }
 ],
 "metadata": {
  "kernelspec": {
   "display_name": "base",
   "language": "python",
   "name": "python3"
  },
  "language_info": {
   "codemirror_mode": {
    "name": "ipython",
    "version": 3
   },
   "file_extension": ".py",
   "mimetype": "text/x-python",
   "name": "python",
   "nbconvert_exporter": "python",
   "pygments_lexer": "ipython3",
   "version": "3.12.3"
  }
 },
 "nbformat": 4,
 "nbformat_minor": 2
}
