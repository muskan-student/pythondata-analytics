{
 "cells": [
  {
   "cell_type": "code",
   "execution_count": null,
   "metadata": {},
   "outputs": [],
   "source": []
  },
  {
   "cell_type": "markdown",
   "metadata": {},
   "source": [
    "#function syntax\n",
    "\n",
    "# creating a function\n",
    "def func_name (param1 )"
   ]
  },
  {
   "cell_type": "code",
   "execution_count": 1,
   "metadata": {},
   "outputs": [],
   "source": [
    "def si(p,r,t):\n",
    "    return p*r*t/100"
   ]
  },
  {
   "cell_type": "code",
   "execution_count": 2,
   "metadata": {},
   "outputs": [
    {
     "data": {
      "text/plain": [
       "1998.0"
      ]
     },
     "execution_count": 2,
     "metadata": {},
     "output_type": "execute_result"
    }
   ],
   "source": [
    "si(12000,3.33,5)"
   ]
  },
  {
   "cell_type": "code",
   "execution_count": 3,
   "metadata": {},
   "outputs": [],
   "source": [
    "def info(l,w):\n",
    "    area = l*w\n",
    "    perimeter = 2 *(l+w)\n",
    "    return area ,perimeter"
   ]
  },
  {
   "cell_type": "code",
   "execution_count": 4,
   "metadata": {},
   "outputs": [
    {
     "data": {
      "text/plain": [
       "(1000, 140)"
      ]
     },
     "execution_count": 4,
     "metadata": {},
     "output_type": "execute_result"
    }
   ],
   "source": [
    "info(20,50)"
   ]
  },
  {
   "cell_type": "code",
   "execution_count": 5,
   "metadata": {},
   "outputs": [
    {
     "name": "stdout",
     "output_type": "stream",
     "text": [
      "area:200,perimeter:60\n"
     ]
    }
   ],
   "source": [
    "a,p = info(20,10)#tuple unpacking\n",
    "print(f'area:{a},perimeter:{p}')"
   ]
  },
  {
   "cell_type": "code",
   "execution_count": 6,
   "metadata": {},
   "outputs": [],
   "source": [
    "def acronym(name):\n",
    "    result = ' '\n",
    "    for word in name.split():\n",
    "        #print (word[0])\n",
    "        result+= word[0]\n",
    "    return result "
   ]
  },
  {
   "cell_type": "code",
   "execution_count": 9,
   "metadata": {},
   "outputs": [
    {
     "data": {
      "text/plain": [
       "' Ml'"
      ]
     },
     "execution_count": 9,
     "metadata": {},
     "output_type": "execute_result"
    }
   ],
   "source": [
    "acronym('Muskan Bajpai')\n",
    "acronym('Machine learning')\n"
   ]
  },
  {
   "cell_type": "code",
   "execution_count": 11,
   "metadata": {},
   "outputs": [
    {
     "name": "stdout",
     "output_type": "stream",
     "text": [
      "['Sam Altman', 'Guido Von Rossum', 'Tim Bell']\n",
      "[' SA', ' GVR', ' TB']\n"
     ]
    }
   ],
   "source": [
    "names = ['Sam Altman','Guido Von Rossum','Tim Bell']\n",
    "acr = [acronym(name) for name in names]\n",
    "print(names)\n",
    "print(acr)"
   ]
  },
  {
   "cell_type": "code",
   "execution_count": 12,
   "metadata": {},
   "outputs": [
    {
     "name": "stdout",
     "output_type": "stream",
     "text": [
      "25\n",
      "9765625\n",
      "125\n"
     ]
    }
   ],
   "source": [
    "def power(number,exp =2):\n",
    "    \n",
    "    return number ** exp\n",
    "print(power(5))\n",
    "print(power(5,10))\n",
    "print(power(5,3))"
   ]
  },
  {
   "cell_type": "code",
   "execution_count": 14,
   "metadata": {},
   "outputs": [
    {
     "name": "stdout",
     "output_type": "stream",
     "text": [
      "0\n",
      "2\n",
      "5\n",
      "31\n"
     ]
    }
   ],
   "source": [
    "def summer (a = 0,b = 0,c=0,d = 0):\n",
    "    return a+b+c+d\n",
    "print(summer())\n",
    "print(summer(2))\n",
    "print(summer(2,3))\n",
    "print(summer(a=2,c=6,d=23))"
   ]
  },
  {
   "cell_type": "code",
   "execution_count": 15,
   "metadata": {},
   "outputs": [
    {
     "name": "stdout",
     "output_type": "stream",
     "text": [
      "50\n",
      "12.5\n",
      "1\n",
      "4\n"
     ]
    }
   ],
   "source": [
    "def stats (*numbers,action = 'sum'):\n",
    "    if action == \"sum\":\n",
    "        return sum(numbers)\n",
    "    if action == 'mean':\n",
    "        return sum(numbers)/len(numbers)\n",
    "    if action == 'count':\n",
    "        return len(numbers)\n",
    "    if action == 'min':\n",
    "        return min(numbers)\n",
    "    \n",
    "print(stats(11,12,13,14)) \n",
    "print(stats(11,12,13,14 , action = 'mean')) \n",
    "print(stats(1,1,1,2,1,3,1,4 , action = 'min')) \n",
    "print(stats(11,12,13,14, action = 'count')) "
   ]
  },
  {
   "cell_type": "code",
   "execution_count": 16,
   "metadata": {},
   "outputs": [],
   "source": [
    "def greeting():\n",
    "    print('hello')\n",
    "    print('world')\n",
    "    "
   ]
  },
  {
   "cell_type": "code",
   "execution_count": 17,
   "metadata": {},
   "outputs": [
    {
     "name": "stdout",
     "output_type": "stream",
     "text": [
      "hello\n",
      "world\n",
      "None\n"
     ]
    }
   ],
   "source": [
    "print(greeting())"
   ]
  },
  {
   "cell_type": "code",
   "execution_count": 19,
   "metadata": {},
   "outputs": [
    {
     "name": "stdout",
     "output_type": "stream",
     "text": [
      "[1, 4, 9, 16, 25]\n",
      "[1, 8, 27, 64, 125]\n"
     ]
    }
   ],
   "source": [
    "def apply (func,data):\n",
    "    return [func(x) for x in data]\n",
    "def square(x):\n",
    "    return x ** 2\n",
    "def cube (x):\n",
    "    return x ** 3\n",
    "#implement a function that takes a list of numbers and a function\n",
    "ans = apply(square , [1,2,3,4,5])\n",
    "print(ans)\n",
    "ans = apply(cube ,[1,2,3,4,5])\n",
    "print(ans)\n"
   ]
  },
  {
   "cell_type": "code",
   "execution_count": 20,
   "metadata": {},
   "outputs": [
    {
     "name": "stdout",
     "output_type": "stream",
     "text": [
      "<function <lambda> at 0x0000022E9B41A520>\n",
      "14\n",
      "35\n",
      "110\n"
     ]
    }
   ],
   "source": [
    "f = lambda x : x**2 +10\n",
    "print(f)\n",
    "print(f(2))\n",
    "print(f(5))\n",
    "print(f(10))"
   ]
  },
  {
   "cell_type": "code",
   "execution_count": 21,
   "metadata": {},
   "outputs": [
    {
     "name": "stdout",
     "output_type": "stream",
     "text": [
      "11\n",
      "71\n",
      "12\n"
     ]
    }
   ],
   "source": [
    "g = lambda x, y: x*2 + y*2 -x+y\n",
    "print(g(2,3))\n",
    "print(g(2,23))\n",
    "print(g(3,3))"
   ]
  },
  {
   "cell_type": "code",
   "execution_count": 1,
   "metadata": {},
   "outputs": [
    {
     "name": "stdout",
     "output_type": "stream",
     "text": [
      "[1, 8, 27, 64, 125, 216]\n",
      "[1, 8, 27, 64, 125, 216]\n",
      "[1, 8, 27, 64, 125, 216]\n"
     ]
    }
   ],
   "source": [
    "x=[1,2,3,4,5,6]\n",
    "#style -1\n",
    "x3 = []\n",
    "for i  in x:\n",
    "    x3.append(i**3)\n",
    "print(x3)\n",
    "\n",
    "#style2 \n",
    "x3 = [i**3 for i in x]\n",
    "print(x3)\n",
    "\n",
    "#style 3\n",
    "x3 = list(map(lambda i : i**3 ,x))\n",
    "print(x3)"
   ]
  },
  {
   "cell_type": "code",
   "execution_count": 2,
   "metadata": {},
   "outputs": [
    {
     "name": "stdout",
     "output_type": "stream",
     "text": [
      "[1, 2, 3, 2, 5, 6]\n"
     ]
    }
   ],
   "source": [
    "x = [1,2,'a','b',3,2,'4',5,6]\n",
    "nums = filter(lambda i: isinstance(i,int),x )\n",
    "nums = list(nums)\n",
    "print(nums)"
   ]
  },
  {
   "cell_type": "code",
   "execution_count": null,
   "metadata": {},
   "outputs": [],
   "source": []
  }
 ],
 "metadata": {
  "kernelspec": {
   "display_name": "base",
   "language": "python",
   "name": "python3"
  },
  "language_info": {
   "codemirror_mode": {
    "name": "ipython",
    "version": 3
   },
   "file_extension": ".py",
   "mimetype": "text/x-python",
   "name": "python",
   "nbconvert_exporter": "python",
   "pygments_lexer": "ipython3",
   "version": "3.12.3"
  }
 },
 "nbformat": 4,
 "nbformat_minor": 2
}
