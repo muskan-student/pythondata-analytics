{
 "cells": [
  {
   "cell_type": "markdown",
   "metadata": {},
   "source": [
    "#strings\n",
    "- creation\n",
    "- indexing and slicing\n",
    "- methods"
   ]
  },
  {
   "cell_type": "code",
   "execution_count": 1,
   "metadata": {},
   "outputs": [
    {
     "name": "stdout",
     "output_type": "stream",
     "text": [
      "<class 'str'>\n"
     ]
    }
   ],
   "source": [
    "a = 'apple'\n",
    "print (type(a))"
   ]
  },
  {
   "cell_type": "code",
   "execution_count": 3,
   "metadata": {},
   "outputs": [
    {
     "name": "stdout",
     "output_type": "stream",
     "text": [
      "<class 'str'>\n"
     ]
    }
   ],
   "source": [
    "# double quoted\n",
    "b= \"apple\"\n",
    "print (type(b))"
   ]
  },
  {
   "cell_type": "code",
   "execution_count": 4,
   "metadata": {},
   "outputs": [
    {
     "name": "stdout",
     "output_type": "stream",
     "text": [
      "<class 'str'>\n"
     ]
    }
   ],
   "source": [
    "#triple quoted\n",
    "c = '''this is a string and \n",
    "it's a triple quote'''\n",
    "print(type(c))\n"
   ]
  },
  {
   "cell_type": "code",
   "execution_count": 5,
   "metadata": {},
   "outputs": [
    {
     "name": "stdout",
     "output_type": "stream",
     "text": [
      "<class 'str'>\n"
     ]
    }
   ],
   "source": [
    "d = str(12345)\n",
    "print(type(d))"
   ]
  },
  {
   "cell_type": "markdown",
   "metadata": {},
   "source": [
    "types of strings\n",
    "- byte b'hello'\n",
    "- raw r 'hello'\n",
    "- format f 'hello {a}'"
   ]
  },
  {
   "cell_type": "code",
   "execution_count": 6,
   "metadata": {},
   "outputs": [
    {
     "name": "stdout",
     "output_type": "stream",
     "text": [
      "b'this is a byte sting'\n",
      "this is \\n \\n \\n a byte string\n",
      "apple is a fruit\n"
     ]
    }
   ],
   "source": [
    "print (b'this is a byte sting')\n",
    "print (r'this is \\n \\n \\n a byte string')#it removes the value of special character\n",
    "print (f'{a} is a fruit')"
   ]
  },
  {
   "cell_type": "markdown",
   "metadata": {},
   "source": [
    "# indexing\n",
    "'''\n",
    "    -5 -4 -3 -2 -1\n",
    "    a  p  p  l  e \n",
    "    0  1  2  3  4 \n",
    "                     '''"
   ]
  },
  {
   "cell_type": "code",
   "execution_count": 9,
   "metadata": {},
   "outputs": [
    {
     "name": "stdout",
     "output_type": "stream",
     "text": [
      "g\n",
      "r\n",
      "e\n",
      "e\n",
      "k\n"
     ]
    }
   ],
   "source": [
    "\n",
    "word = 'greek'\n",
    "print (word[0])\n",
    "print (word[1])\n",
    "print (word[2])\n",
    "print (word[-2])\n",
    "print (word[-1])\n",
    "\n",
    "\n"
   ]
  },
  {
   "cell_type": "code",
   "execution_count": 13,
   "metadata": {},
   "outputs": [
    {
     "name": "stdout",
     "output_type": "stream",
     "text": [
      " before\n",
      "destination\n"
     ]
    }
   ],
   "source": [
    "msg = \" journey before destination\"\n",
    "print (msg[8 : 15])\n",
    "print (msg [ 16:30 ])"
   ]
  },
  {
   "cell_type": "code",
   "execution_count": 14,
   "metadata": {},
   "outputs": [
    {
     "name": "stdout",
     "output_type": "stream",
     "text": [
      "msg[0:5]\n",
      "msg[6:-8]\n",
      "msg[-7:]\n"
     ]
    }
   ],
   "source": [
    "name = 'vijay deenanath chauhan'\n",
    "f = 'vijaya'\n",
    "l = 'deenanath'\n",
    "n = 'chauhan'\n",
    "print(f\"msg[0:5]\")\n",
    "print (f\"msg[6:-8]\")\n",
    "print (f\"msg[-7:]\")\n"
   ]
  },
  {
   "cell_type": "code",
   "execution_count": 16,
   "metadata": {},
   "outputs": [
    {
     "name": "stdout",
     "output_type": "stream",
     "text": [
      "vijay deenanath chauhan\n",
      "vjydeaahcahn\n",
      "ia ennt hua\n"
     ]
    }
   ],
   "source": [
    "#reverse \n",
    "print(name[::1])\n",
    "\n",
    "#step\n",
    "print(name[::2])\n",
    "print(name[1::2])"
   ]
  },
  {
   "cell_type": "code",
   "execution_count": 17,
   "metadata": {},
   "outputs": [
    {
     "name": "stdout",
     "output_type": "stream",
     "text": [
      "5599.25 \n"
     ]
    }
   ],
   "source": [
    "x= \"$5599.25 only\"\n",
    "print(x[1:-4])"
   ]
  },
  {
   "cell_type": "code",
   "execution_count": null,
   "metadata": {},
   "outputs": [],
   "source": []
  },
  {
   "cell_type": "markdown",
   "metadata": {},
   "source": [
    "# string method\n",
    "- formatting\n",
    "    -upper()\n",
    "    - lower ()\n",
    "    - capitalize()\n",
    "    - title()\n",
    "    - swapcase()\n",
    "    - casefold()\n",
    "    - centre()\n",
    "    - ljust()\n",
    "    - rjust()\n",
    "    "
   ]
  },
  {
   "cell_type": "code",
   "execution_count": 23,
   "metadata": {},
   "outputs": [
    {
     "name": "stdout",
     "output_type": "stream",
     "text": [
      "LIFE IS BEAUTIFUL\n",
      "life is beautiful\n",
      "Life is beautiful\n",
      "life is beautiful\n",
      "Life Is Beautiful\n",
      "lIFE IS bEAUTIFUL\n",
      "                Life is Beautiful                 \n",
      "Life is Beautiful                                 \n",
      "                                 Life is Beautiful\n",
      "*********************************Life is Beautiful\n",
      "Life is Beautiful*********************************\n",
      "****************Life is Beautiful*****************\n"
     ]
    }
   ],
   "source": [
    "msg = 'Life is Beautiful'\n",
    "print(msg.upper())\n",
    "print(msg.lower())\n",
    "print(msg.capitalize())\n",
    "print(msg.casefold())\n",
    "print(msg.title())\n",
    "print(msg.swapcase())\n",
    "print(msg.center(50))\n",
    "print(msg.ljust(50))\n",
    "print(msg.rjust(50))\n",
    "print(msg.rjust(50,\"*\"))\n",
    "print(msg.ljust(50,\"*\"))\n",
    "print(msg.center(50,\"*\"))\n",
    "\n"
   ]
  },
  {
   "cell_type": "markdown",
   "metadata": {},
   "source": [
    "validation method\n",
    "- isalpha()\n",
    "-isalnum()\n",
    "- isnumeric()\n",
    "- isdigit()\n",
    "- isspace()\n",
    "- isascii()\n",
    "- isprintable()\n",
    "- islower()\n",
    "- isupper()"
   ]
  },
  {
   "cell_type": "markdown",
   "metadata": {},
   "source": [
    "- utility functions\n",
    "    - split()\n",
    "    - find ()\n",
    "    - rfind()\n",
    "    - index()\n",
    "    - rindex()\n",
    "    - count()\n",
    "    - split()"
   ]
  },
  {
   "cell_type": "markdown",
   "metadata": {},
   "source": []
  },
  {
   "cell_type": "code",
   "execution_count": 1,
   "metadata": {},
   "outputs": [
    {
     "data": {
      "text/plain": [
       "['all', 'that', 'glitter', 'is', 'not', 'gold']"
      ]
     },
     "execution_count": 1,
     "metadata": {},
     "output_type": "execute_result"
    }
   ],
   "source": [
    "sen =' all that glitter is not gold'\n",
    "sen.split()"
   ]
  },
  {
   "cell_type": "code",
   "execution_count": 2,
   "metadata": {},
   "outputs": [
    {
     "name": "stdout",
     "output_type": "stream",
     "text": [
      "['all', 'that', 'glitter', 'is', 'not', 'gold']\n",
      "['all', 'that', 'glitter', 'is', 'not', 'gold']\n",
      "['all', 'that', 'glitter', 'is', 'not', 'gold']\n",
      "['all', 'that', 'glitter', 'is', 'not', 'gold']\n",
      "['all', 'that', 'glitter', 'is', 'not', 'gold']\n",
      "['all', 'that', 'glitter', 'is', 'not', 'gold']\n"
     ]
    }
   ],
   "source": [
    "words = sen.split()\n",
    "for word in words:\n",
    "    print(words) "
   ]
  },
  {
   "cell_type": "code",
   "execution_count": 5,
   "metadata": {},
   "outputs": [
    {
     "data": {
      "text/plain": [
       "[' life before death', 'strenth before weakness, journey before destination']"
      ]
     },
     "execution_count": 5,
     "metadata": {},
     "output_type": "execute_result"
    }
   ],
   "source": [
    "quote = \" life before death , strenth before weakness, journey before destination\"\n",
    "quote.split(\" , \")"
   ]
  },
  {
   "cell_type": "code",
   "execution_count": 6,
   "metadata": {},
   "outputs": [
    {
     "data": {
      "text/plain": [
       "['johny johny , yes papa',\n",
       " 'eating sugar no papa telling a lie no papa ',\n",
       " 'open your mouth ha ha ha ']"
      ]
     },
     "execution_count": 6,
     "metadata": {},
     "output_type": "execute_result"
    }
   ],
   "source": [
    "poem = \"\"\"johny johny , yes papa\n",
    "eating sugar no papa telling a lie no papa \n",
    "open your mouth ha ha ha \"\"\"\n",
    "poem.splitlines()"
   ]
  },
  {
   "cell_type": "code",
   "execution_count": 8,
   "metadata": {},
   "outputs": [
    {
     "name": "stdout",
     "output_type": "stream",
     "text": [
      "['c:users', 'muskan', 'download', 'file.text']\n",
      "c:users/muskan/download/file.text\n"
     ]
    }
   ],
   "source": [
    "addr= ['c:' 'users', 'muskan', 'download', 'file.text']\n",
    "print(addr)\n",
    "full_addr = \"/\".join(addr)\n",
    "print(full_addr)"
   ]
  },
  {
   "cell_type": "code",
   "execution_count": 15,
   "metadata": {},
   "outputs": [
    {
     "name": "stdout",
     "output_type": "stream",
     "text": [
      "0\n"
     ]
    }
   ],
   "source": [
    "#wap to count all even sized words in a string\n",
    "user = input(\"enter any quote\")\n",
    "words= user.split()\n",
    "total = 0\n",
    "for word in words:\n",
    "    size = len(words)\n",
    "    if size  % 2 == 0:\n",
    "        total+= 1\n",
    "print(total)\n"
   ]
  },
  {
   "cell_type": "code",
   "execution_count": 19,
   "metadata": {},
   "outputs": [
    {
     "name": "stdout",
     "output_type": "stream",
     "text": [
      "2\n",
      "-1\n",
      "-1\n",
      "2\n",
      "5\n"
     ]
    }
   ],
   "source": [
    "a = \"this is my notebook\"\n",
    "print(a.find('is'))\n",
    "print(a.find('mess'))\n",
    "print(a.find('are'))\n",
    "print(a.index('is'))\n",
    "print(a.index('is',3))"
   ]
  },
  {
   "cell_type": "markdown",
   "metadata": {},
   "source": []
  },
  {
   "cell_type": "code",
   "execution_count": 21,
   "metadata": {},
   "outputs": [
    {
     "name": "stdout",
     "output_type": "stream",
     "text": [
      "thwas was my notebook\n",
      "this is my notebook\n",
      "this is my noteboot\n"
     ]
    }
   ],
   "source": [
    "\n",
    "b= a.replace('is', 'was')\n",
    "print(b)\n",
    "c= b.replace(\"message\", \"letter\").replace('was','is')\n",
    "print(c)\n",
    "d= c.replace('k','t',2)#replace first two occurence\n",
    "print(d)"
   ]
  },
  {
   "cell_type": "code",
   "execution_count": 23,
   "metadata": {},
   "outputs": [
    {
     "data": {
      "text/plain": [
       "'hello'"
      ]
     },
     "execution_count": 23,
     "metadata": {},
     "output_type": "execute_result"
    }
   ],
   "source": [
    "data = 'he!!!llo'\n",
    "data.replace ('!','')"
   ]
  },
  {
   "cell_type": "code",
   "execution_count": 33,
   "metadata": {},
   "outputs": [
    {
     "data": {
      "text/plain": [
       "'this is my ntebk'"
      ]
     },
     "execution_count": 33,
     "metadata": {},
     "output_type": "execute_result"
    }
   ],
   "source": [
    "a= 'this is my notebook'\n",
    "a.replace('o','')"
   ]
  },
  {
   "cell_type": "code",
   "execution_count": 34,
   "metadata": {},
   "outputs": [
    {
     "name": "stdout",
     "output_type": "stream",
     "text": [
      "4\n",
      "2\n",
      "1\n",
      "0\n"
     ]
    }
   ],
   "source": [
    "msg = 'one two three one two'\n",
    "print(msg.count('o'))\n",
    "print(msg.count('one'))\n",
    "print(msg.count('ee'))\n",
    "print(msg.count('four'))"
   ]
  },
  {
   "cell_type": "code",
   "execution_count": 35,
   "metadata": {},
   "outputs": [
    {
     "name": "stdout",
     "output_type": "stream",
     "text": [
      "9   muskan \n",
      "6 muskan\n"
     ]
    }
   ],
   "source": [
    "name = '  muskan '\n",
    "print(len(name), name)\n",
    "clean_name= name.strip()\n",
    "print(len(clean_name),clean_name)"
   ]
  },
  {
   "cell_type": "code",
   "execution_count": 45,
   "metadata": {},
   "outputs": [
    {
     "name": "stdout",
     "output_type": "stream",
     "text": [
      "4 john\n",
      "4 alex\n",
      "4 jane\n",
      "5 alexa\n",
      "5 jacob\n",
      "5 Jacob\n"
     ]
    }
   ],
   "source": [
    "names = [\n",
    "    'john',\n",
    "    'alex',\n",
    "    'jane',\n",
    "    'alexa',\n",
    "    'jacob',\n",
    "]\n",
    "for n in names:\n",
    "    print(len(n),n)\n",
    "    clean_n = n.strip()\n",
    "print(len(clean_n),clean_n)\n",
    "\n",
    "\n"
   ]
  },
  {
   "cell_type": "code",
   "execution_count": null,
   "metadata": {},
   "outputs": [],
   "source": []
  }
 ],
 "metadata": {
  "kernelspec": {
   "display_name": "base",
   "language": "python",
   "name": "python3"
  },
  "language_info": {
   "codemirror_mode": {
    "name": "ipython",
    "version": 3
   },
   "file_extension": ".py",
   "mimetype": "text/x-python",
   "name": "python",
   "nbconvert_exporter": "python",
   "pygments_lexer": "ipython3",
   "version": "3.12.3"
  }
 },
 "nbformat": 4,
 "nbformat_minor": 2
}
