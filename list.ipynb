{
 "cells": [
  {
   "cell_type": "code",
   "execution_count": 1,
   "metadata": {},
   "outputs": [
    {
     "name": "stdout",
     "output_type": "stream",
     "text": [
      "[1, 2, 3] <class 'list'>\n",
      "['alice', 'bob', 'charlie'] <class 'list'>\n",
      "['apple', 50, 'banana', 50, 'orange', 70]\n",
      "[[1, 2, 3], [4, 5, 6], [8, 5, 7]]\n",
      "[1, 1, 1, 1, 1, 1, 1, 1, 1, 1]\n",
      "['v', 'e', 'r', 't', 'e', 'x']\n",
      "['welcome', 'to', 'listing']\n"
     ]
    }
   ],
   "source": [
    "a= [1,2,3]\n",
    "print(a,type(a))\n",
    "b= ['alice','bob','charlie']\n",
    "print(b,type(b))\n",
    "data= ['apple',50,'banana',50,'orange',70]\n",
    "nested_list = [[1,2,3],[4,5,6],[8,5,7]]\n",
    "print(data)\n",
    "print(nested_list)\n",
    "duplicated_list = [1]*10\n",
    "duplicated_list = []*10\n",
    "print(duplicated_list)\n",
    "print(list('vertex'))\n",
    "print('welcome to listing'.split())"
   ]
  },
  {
   "cell_type": "code",
   "execution_count": 25,
   "metadata": {},
   "outputs": [
    {
     "name": "stdout",
     "output_type": "stream",
     "text": [
      "first five = [11, 12, 13, 14, 15]\n",
      "last five = [16, 17, 18, 19, 20]\n",
      "first element = 11\n",
      "last element = 20\n",
      "reverse list = [20, 19, 18, 17, 16, 15, 14, 13, 12, 11]\n",
      "all odd indexes = [12, 14, 16, 18, 20]\n",
      "all even indexes = [11, 13, 15, 17, 19]\n",
      "reverse first five = [15, 14, 13, 12, 11]\n",
      "reverse first five = []\n"
     ]
    }
   ],
   "source": [
    "n = [11,12,13,14,15,16,17,18,19,20]\n",
    "print('first five =',n[:5])\n",
    "print('last five =',n[-5:])\n",
    "print('first element =',n[0])\n",
    "print('last element =',n[-1])\n",
    "print('reverse list =',n[::-1])\n",
    "print('all odd indexes =',n[1::2])\n",
    "print('all even indexes =',n[::2])\n",
    "print('reverse first five =',n[4::-1])\n",
    "print('reverse first five =',n[-5:1])\n"
   ]
  },
  {
   "cell_type": "code",
   "execution_count": 26,
   "metadata": {},
   "outputs": [
    {
     "name": "stdout",
     "output_type": "stream",
     "text": [
      "[11, 12, 13, 14, 15, 100, 17, 18, 19, 20]\n",
      "[200, 12, 13, 14, 15, 100, 17, 18, 19, 20]\n"
     ]
    }
   ],
   "source": [
    "#list is mutable\n",
    "n [5]=100\n",
    "print(n)\n",
    "n[0] = 200\n",
    "print(n)"
   ]
  },
  {
   "cell_type": "code",
   "execution_count": 27,
   "metadata": {},
   "outputs": [
    {
     "name": "stdout",
     "output_type": "stream",
     "text": [
      "<class 'list'>\n",
      "0\n",
      "['star wars', 'jimanji', 'harry potter', 'the core', 'star bullet train']\n",
      "5\n"
     ]
    }
   ],
   "source": [
    "movies = []\n",
    "print (type(movies))\n",
    "print(len(movies))\n",
    "movies.append('star wars')\n",
    "movies.append('jimanji')\n",
    "movies.append('harry potter')\n",
    "movies.append('the core')\n",
    "movies.append('star bullet train')\n",
    "print(movies)\n",
    "print(len(movies))"
   ]
  },
  {
   "cell_type": "code",
   "execution_count": 31,
   "metadata": {},
   "outputs": [
    {
     "name": "stdout",
     "output_type": "stream",
     "text": [
      "[1, 2, 3, 4, 6, 7, 8, 9]\n",
      "[1, 2, 3, 4, 5, 6, 7, 8, 9]\n"
     ]
    }
   ],
   "source": [
    "num = [1,2,3,6,7,8,9]\n",
    "num.insert(3,4)\n",
    "print(num)\n",
    "num.insert(4,5)\n",
    "print(num)"
   ]
  },
  {
   "cell_type": "code",
   "execution_count": 32,
   "metadata": {},
   "outputs": [
    {
     "name": "stdout",
     "output_type": "stream",
     "text": [
      "[1, 2, 3, 4, 5, 6]\n",
      "[4, 5, 6, 7, 8, 9]\n",
      "[7, 8, 9, 1, 2, 3, 4, 5]\n"
     ]
    }
   ],
   "source": [
    "#adding a list in another list\n",
    "l1 = [1,2,3]\n",
    "l2 = [4,5,6]\n",
    "l3 = [7,8,9]\n",
    "l1.extend(l2)\n",
    "print(l1)\n",
    "l2.extend(l3)\n",
    "print(l2)\n",
    "l3.extend([1,2,3,4,5])\n",
    "print(l3)\n"
   ]
  },
  {
   "cell_type": "code",
   "execution_count": null,
   "metadata": {},
   "outputs": [],
   "source": []
  }
 ],
 "metadata": {
  "kernelspec": {
   "display_name": "base",
   "language": "python",
   "name": "python3"
  },
  "language_info": {
   "codemirror_mode": {
    "name": "ipython",
    "version": 3
   },
   "file_extension": ".py",
   "mimetype": "text/x-python",
   "name": "python",
   "nbconvert_exporter": "python",
   "pygments_lexer": "ipython3",
   "version": "3.12.3"
  }
 },
 "nbformat": 4,
 "nbformat_minor": 2
}
