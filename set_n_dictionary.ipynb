{
 "cells": [
  {
   "cell_type": "markdown",
   "metadata": {},
   "source": [
    "sets\n",
    "- create\n",
    "- method"
   ]
  },
  {
   "cell_type": "markdown",
   "metadata": {},
   "source": []
  },
  {
   "cell_type": "code",
   "execution_count": 1,
   "metadata": {},
   "outputs": [
    {
     "name": "stdout",
     "output_type": "stream",
     "text": [
      "set()\n",
      "{1, 2, 3, 4}\n",
      "{'apple', 'cherry', 'banana'}\n",
      "{'apple', 'banana', 205, 23.2}\n",
      "{1, 2, 3, 4, 5, 6, 7, 8, 9, 10}\n",
      "{'y', 'o', 'a', 'r', 't', ' ', 'e', 'h', 'p'}\n"
     ]
    }
   ],
   "source": [
    "x= set()\n",
    "print(x)\n",
    "y = {1,2,3,4,1,2,3,4}\n",
    "print(y)\n",
    "fruits= {'apple','banana','cherry'}\n",
    "print(fruits)\n",
    "data = {'apple',23.2,205,'banana'}\n",
    "print(data)\n",
    "a = set([1,2,3,4,5,6,7,8,9,10])\n",
    "b = set('harry potter')\n",
    "print(a)\n",
    "print(b)"
   ]
  },
  {
   "cell_type": "code",
   "execution_count": 6,
   "metadata": {},
   "outputs": [
    {
     "name": "stdout",
     "output_type": "stream",
     "text": [
      "{'the final empire', 'the hero of ages', 'the money heist'}\n",
      "{'the money heist', 'appleseed', 'the hero of ages', 'applecidar', 'the final empire', 'applepie'}\n",
      "{'l', 's', 'the money heist', 'd', 'appleseed', 'a', 'the hero of ages', 'e', 'applecidar', 'the final empire', 'applepie', 'p'}\n",
      "{'l', 's', 'the money heist', 'd', 'a', 'the hero of ages', 'e', 'applecidar', 'the final empire', 'p'}\n"
     ]
    }
   ],
   "source": [
    "a = set()\n",
    "a.add(\"the final empire\")\n",
    "a.add(\"the hero of ages\")\n",
    "a.add(\"the money heist\")\n",
    "print(a)\n",
    "a.update(['appleseed','applepie','applecidar'])\n",
    "print(a)\n",
    "a.update('appleseed')\n",
    "print(a)\n",
    "a.discard('appleseed')\n",
    "a.discard('applepie')\n",
    "print(a)\n"
   ]
  },
  {
   "cell_type": "code",
   "execution_count": 7,
   "metadata": {},
   "outputs": [
    {
     "name": "stdout",
     "output_type": "stream",
     "text": [
      "{1, 2, 3, 4, 5}\n",
      "{1, 2, 3, 4, 5, 6, 7, 8}\n",
      "{1, 2, 3, 4, 5, 6, 7, 8}\n"
     ]
    }
   ],
   "source": [
    "a = {1,2,3}\n",
    "b = {3,4,5}\n",
    "c = {6,7,8}\n",
    "ab = a.union(b)\n",
    "print(ab)\n",
    "print(a.union(b,c))\n",
    "print(a|b|c)"
   ]
  },
  {
   "cell_type": "code",
   "execution_count": 8,
   "metadata": {},
   "outputs": [
    {
     "name": "stdout",
     "output_type": "stream",
     "text": [
      "{3}\n",
      "{3}\n",
      "set()\n",
      "set()\n"
     ]
    }
   ],
   "source": [
    "print(a.intersection(b))\n",
    "print(a & b)\n",
    "print(a & c)\n",
    "print(a & b  & c)"
   ]
  },
  {
   "cell_type": "code",
   "execution_count": 10,
   "metadata": {},
   "outputs": [
    {
     "name": "stdout",
     "output_type": "stream",
     "text": [
      "{1, 2}\n",
      "{4, 5}\n",
      "{1, 2}\n"
     ]
    }
   ],
   "source": [
    "print(a.difference (b))\n",
    "print(b.difference (a))\n",
    "print(a - b)"
   ]
  },
  {
   "cell_type": "code",
   "execution_count": 12,
   "metadata": {},
   "outputs": [
    {
     "name": "stdout",
     "output_type": "stream",
     "text": [
      "{1, 2, 4, 5}\n",
      "{1, 2, 4, 5}\n"
     ]
    }
   ],
   "source": [
    "print(a.symmetric_difference(b))\n",
    "print(a^b) #it will print the element of which are unique"
   ]
  },
  {
   "cell_type": "code",
   "execution_count": 1,
   "metadata": {},
   "outputs": [],
   "source": [
    "data = ['Alex', True,False,29,'New York',\"photographer\"]\n",
    "datadict = {\n",
    "    'name' : 'Alex',\n",
    "    'isMarried' : True,\n",
    "    \"haschildren\" : False ,\n",
    "    'age' : 29,\n",
    "    'city' : 'New York',\n",
    "    'profession' : 'Photographer'\n",
    "}"
   ]
  },
  {
   "cell_type": "code",
   "execution_count": 2,
   "metadata": {},
   "outputs": [
    {
     "data": {
      "text/plain": [
       "{'name': 'Alex',\n",
       " 'isMarried': True,\n",
       " 'haschildren': False,\n",
       " 'age': 29,\n",
       " 'city': 'New York',\n",
       " 'profession': 'Photographer'}"
      ]
     },
     "execution_count": 2,
     "metadata": {},
     "output_type": "execute_result"
    }
   ],
   "source": [
    "datadict"
   ]
  },
  {
   "cell_type": "code",
   "execution_count": 3,
   "metadata": {},
   "outputs": [
    {
     "name": "stdout",
     "output_type": "stream",
     "text": [
      "{'name': 'Alex', 'isMarried': True, 'haschildren': False, 'age': 29, 'city': 'New York', 'profession': 'Photographer'}\n",
      "{'food': 500, 'rent': 1500, 'insurence': 200}\n"
     ]
    }
   ],
   "source": [
    "movies = {}\n",
    "\n",
    "expenditure = dict(\n",
    "    food = 500,\n",
    "    rent = 1500,\n",
    "    insurence = 200,\n",
    "\n",
    ")\n",
    "print(datadict)\n",
    "print(expenditure)"
   ]
  },
  {
   "cell_type": "markdown",
   "metadata": {},
   "source": [
    "-creating\n",
    "- accessing\n",
    "- add or update \n",
    "- remove\n",
    "- traverse "
   ]
  },
  {
   "cell_type": "code",
   "execution_count": 5,
   "metadata": {},
   "outputs": [
    {
     "name": "stdout",
     "output_type": "stream",
     "text": [
      "Alex\n",
      "True\n",
      "New York\n"
     ]
    }
   ],
   "source": [
    "print(datadict['name'])\n",
    "print(datadict['isMarried'])\n",
    "print(datadict['city'])\n",
    "#  print(datadict['state'])# key error\n"
   ]
  },
  {
   "cell_type": "code",
   "execution_count": 7,
   "metadata": {},
   "outputs": [
    {
     "name": "stdout",
     "output_type": "stream",
     "text": [
      "New York\n",
      "None\n",
      "29\n",
      "100\n"
     ]
    }
   ],
   "source": [
    "print(datadict.get('city'))\n",
    "print(datadict.get('City')) #not in dictionary\n",
    "print(datadict.get('age',100))\n",
    "print(datadict.get('AGE',100))# AGE is not in the dictionary\n"
   ]
  },
  {
   "cell_type": "code",
   "execution_count": 8,
   "metadata": {},
   "outputs": [
    {
     "name": "stdout",
     "output_type": "stream",
     "text": [
      "{'deadpool and wolverine': ' shawn levy', 'bahubali': 'ss rajmouli', 'inception': 'chistopher nolan'}\n"
     ]
    }
   ],
   "source": [
    "movies['deadpool and wolverine'] = ' shawn levy'\n",
    "movies['bahubali'] = 'ss rajmouli'\n",
    "movies ['inception'] = 'chistopher nolan'\n",
    "print(movies)"
   ]
  },
  {
   "cell_type": "code",
   "execution_count": 12,
   "metadata": {},
   "outputs": [
    {
     "name": "stdout",
     "output_type": "stream",
     "text": [
      "{'deadpool and wolverine': ' shawn levy', 'bahubali': 'ss rajmouli', 'inception': 'chistopher nolan', 'the dark knight': 'christopher nolan', 'The Prestige': 'christopher nolan', 'the matrix': 'wachowki brothers'}\n",
      "6\n"
     ]
    },
    {
     "data": {
      "text/plain": [
       "'ss rajmouli'"
      ]
     },
     "execution_count": 12,
     "metadata": {},
     "output_type": "execute_result"
    }
   ],
   "source": [
    "movies.update(\n",
    "    {\n",
    "        'the dark knight': 'christopher nolan',\n",
    "        'The Prestige' : 'christopher nolan',\n",
    "        'the matrix' : 'wachowki brothers'\n",
    "\n",
    "    }\n",
    ")\n",
    "print(movies)\n",
    "print(len(movies))\n",
    "movies.pop('bahubali')\n",
    "#list - remove, set - discard,dictionary- pop"
   ]
  },
  {
   "cell_type": "code",
   "execution_count": 10,
   "metadata": {},
   "outputs": [
    {
     "name": "stdout",
     "output_type": "stream",
     "text": [
      "{'name': 'Alexender', 'isMarried': True, 'haschildren': False, 'age': 29, 'city': 'New York', 'profession': 'Photographer'}\n"
     ]
    }
   ],
   "source": [
    "datadict['name'] = 'Alexender'\n",
    "print(datadict)"
   ]
  },
  {
   "cell_type": "code",
   "execution_count": 13,
   "metadata": {},
   "outputs": [
    {
     "name": "stdout",
     "output_type": "stream",
     "text": [
      "name\n",
      "isMarried\n",
      "haschildren\n",
      "age\n",
      "city\n",
      "profession\n"
     ]
    }
   ],
   "source": [
    "for item in datadict:\n",
    "    print(item)"
   ]
  },
  {
   "cell_type": "code",
   "execution_count": 14,
   "metadata": {},
   "outputs": [
    {
     "name": "stdout",
     "output_type": "stream",
     "text": [
      "Alexender\n",
      "True\n",
      "False\n",
      "29\n",
      "New York\n",
      "Photographer\n"
     ]
    }
   ],
   "source": [
    "for item in datadict:\n",
    "    print(datadict[item])"
   ]
  },
  {
   "cell_type": "code",
   "execution_count": 17,
   "metadata": {},
   "outputs": [
    {
     "name": "stdout",
     "output_type": "stream",
     "text": [
      "name Alexender\n",
      "isMarried True\n",
      "haschildren False\n",
      "age 29\n",
      "city New York\n",
      "profession Photographer\n"
     ]
    }
   ],
   "source": [
    "for k,v in datadict.items():\n",
    "    print(k,v)"
   ]
  },
  {
   "cell_type": "code",
   "execution_count": 19,
   "metadata": {},
   "outputs": [
    {
     "data": {
      "text/plain": [
       "dict_keys(['deadpool and wolverine', 'inception', 'the dark knight', 'The Prestige', 'the matrix'])"
      ]
     },
     "execution_count": 19,
     "metadata": {},
     "output_type": "execute_result"
    }
   ],
   "source": [
    "movies.keys()\n",
    "#movies.values()"
   ]
  },
  {
   "cell_type": "code",
   "execution_count": 20,
   "metadata": {},
   "outputs": [],
   "source": [
    "from pprint import pp"
   ]
  },
  {
   "cell_type": "code",
   "execution_count": 21,
   "metadata": {},
   "outputs": [
    {
     "ename": "NameError",
     "evalue": "name 'report' is not defined",
     "output_type": "error",
     "traceback": [
      "\u001b[1;31m---------------------------------------------------------------------------\u001b[0m",
      "\u001b[1;31mNameError\u001b[0m                                 Traceback (most recent call last)",
      "Cell \u001b[1;32mIn[21], line 1\u001b[0m\n\u001b[1;32m----> 1\u001b[0m pp(report)\n",
      "\u001b[1;31mNameError\u001b[0m: name 'report' is not defined"
     ]
    }
   ],
   "source": [
    "pp(report)"
   ]
  },
  {
   "cell_type": "code",
   "execution_count": 22,
   "metadata": {},
   "outputs": [
    {
     "name": "stdout",
     "output_type": "stream",
     "text": [
      "{'year': [2019, 2020, 2021, 2022, 2023], 'rainfall': [2023, 2004, 2009, 2001]}\n"
     ]
    }
   ],
   "source": [
    "rainfall_data = {\n",
    "    'year': [2019,2020,2021,2022,2023],\n",
    "    'rainfall' : [2023,2004,2009,2001]\n",
    "}\n",
    "print(rainfall_data)"
   ]
  },
  {
   "cell_type": "code",
   "execution_count": null,
   "metadata": {},
   "outputs": [],
   "source": []
  }
 ],
 "metadata": {
  "kernelspec": {
   "display_name": "base",
   "language": "python",
   "name": "python3"
  },
  "language_info": {
   "codemirror_mode": {
    "name": "ipython",
    "version": 3
   },
   "file_extension": ".py",
   "mimetype": "text/x-python",
   "name": "python",
   "nbconvert_exporter": "python",
   "pygments_lexer": "ipython3",
   "version": "3.12.3"
  }
 },
 "nbformat": 4,
 "nbformat_minor": 2
}
