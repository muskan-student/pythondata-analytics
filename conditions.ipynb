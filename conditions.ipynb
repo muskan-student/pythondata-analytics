{
 "cells": [
  {
   "cell_type": "markdown",
   "metadata": {},
   "source": [
    "#condition \n",
    "- 'if' \n",
    "- 'if else'\n",
    "- ' if elif'\n",
    "- 'match case'"
   ]
  },
  {
   "cell_type": "code",
   "execution_count": 8,
   "metadata": {},
   "outputs": [],
   "source": [
    "name = (input(\"enter your name\"))\n",
    "if len(name) >= 10:\n",
    "    print(\"you have a big name\")\n"
   ]
  },
  {
   "cell_type": "code",
   "execution_count": 13,
   "metadata": {},
   "outputs": [
    {
     "name": "stdout",
     "output_type": "stream",
     "text": [
      "you have a standard name\n"
     ]
    }
   ],
   "source": [
    "\n",
    "name = (input(\"enter your name\"))\n",
    "if len(name) >= 10:\n",
    "    print(\"you have a big name\")\n",
    "if len(name) < 10 :\n",
    "    print(\"you have a standard name\")\n",
    "if len(name) == 0 :\n",
    "    print(\"no name\")\n",
    "if len(name) <= 4:\n",
    "    print(\" you have a small name\")\n"
   ]
  },
  {
   "cell_type": "code",
   "execution_count": 15,
   "metadata": {},
   "outputs": [
    {
     "name": "stdout",
     "output_type": "stream",
     "text": [
      "number is odd\n"
     ]
    }
   ],
   "source": [
    "num = int(input(\"enter the number\"))\n",
    "if num % 2== 0:\n",
    "     print(\"number is even\")\n",
    "else :\n",
    "    print(\"number is odd\")"
   ]
  },
  {
   "cell_type": "code",
   "execution_count": 19,
   "metadata": {},
   "outputs": [
    {
     "name": "stdout",
     "output_type": "stream",
     "text": [
      "invalid user\n"
     ]
    }
   ],
   "source": [
    "username= input(\"enter the username\")\n",
    "password = input(\"enter the password\")\n",
    "if username == \"admin\" and password == \"admin\":\n",
    "    print(\"welcome\")\n",
    "else :\n",
    "    print(\"invalid user\")\n"
   ]
  },
  {
   "cell_type": "code",
   "execution_count": 20,
   "metadata": {},
   "outputs": [
    {
     "name": "stdout",
     "output_type": "stream",
     "text": [
      " you got c grade\n"
     ]
    }
   ],
   "source": [
    "# id elif ladder\n",
    "marks = int(input(\"enter your marks\"))\n",
    "if  marks >= 85:\n",
    "    print(\" you got A grade\")\n",
    "elif marks >= 70:\n",
    "    print (\"you got B grade\")\n",
    "elif marks >= 50:\n",
    "    print (\" you got c grade\")\n",
    "else :\n",
    "    print (\"failed\")"
   ]
  },
  {
   "cell_type": "code",
   "execution_count": 21,
   "metadata": {},
   "outputs": [
    {
     "name": "stdout",
     "output_type": "stream",
     "text": [
      " username does not exist \n"
     ]
    }
   ],
   "source": [
    "#nested conditions\n",
    "username = input(\"username\")\n",
    "password = input (\"password\")\n",
    "if username != '  ' and password != ' ' :\n",
    "    if username == 'admin':\n",
    "        if password == 'admin':\n",
    "            print('welcome user 2233')\n",
    "        else:\n",
    "            print (\" password do not match\")\n",
    "    else:\n",
    "        print(\" username does not exist \")\n",
    "else: \n",
    "    print(\"credentials do not be blank\")"
   ]
  }
 ],
 "metadata": {
  "kernelspec": {
   "display_name": "base",
   "language": "python",
   "name": "python3"
  },
  "language_info": {
   "codemirror_mode": {
    "name": "ipython",
    "version": 3
   },
   "file_extension": ".py",
   "mimetype": "text/x-python",
   "name": "python",
   "nbconvert_exporter": "python",
   "pygments_lexer": "ipython3",
   "version": "3.12.3"
  }
 },
 "nbformat": 4,
 "nbformat_minor": 2
}
