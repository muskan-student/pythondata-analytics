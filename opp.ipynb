{
 "cells": [
  {
   "cell_type": "code",
   "execution_count": null,
   "metadata": {},
   "outputs": [],
   "source": [
    "x= 12\n",
    "print(x,type(x))"
   ]
  },
  {
   "cell_type": "markdown",
   "metadata": {},
   "source": [
    "0PP\n",
    "- class\n",
    "- object\n",
    "- inheritance\n",
    "-\n",
    "- "
   ]
  },
  {
   "cell_type": "markdown",
   "metadata": {},
   "source": [
    "class- blueprint of an object\n",
    "- properties/attributes/feilds\n",
    "- methods/fn\n",
    "- constructor\n"
   ]
  },
  {
   "cell_type": "code",
   "execution_count": null,
   "metadata": {},
   "outputs": [],
   "source": [
    "class Nothing: \n",
    "    pass"
   ]
  },
  {
   "cell_type": "code",
   "execution_count": null,
   "metadata": {},
   "outputs": [],
   "source": [
    "class Book:\n",
    "    title =\"\"\n",
    "    author = \"\""
   ]
  },
  {
   "cell_type": "code",
   "execution_count": null,
   "metadata": {},
   "outputs": [],
   "source": [
    "dir(Book)"
   ]
  },
  {
   "cell_type": "code",
   "execution_count": 10,
   "metadata": {},
   "outputs": [
    {
     "name": "stdout",
     "output_type": "stream",
     "text": [
      "<__main__.Book object at 0x000001E403F2AED0>\n",
      "Words of Radiance\n",
      "Brandon Sanderson\n",
      "<__main__.Book object at 0x000001E403F2B950>\n",
      "The way of kings\n",
      "Brandon Sanderson\n"
     ]
    }
   ],
   "source": [
    "b1 = Book()\n",
    "print(b1)\n",
    "b1.title= 'Words of Radiance'\n",
    "b1.author = 'Brandon Sanderson'\n",
    "print(b1.title)\n",
    "print(b1.author)\n",
    "\n",
    "b2 = Book()\n",
    "b2.title = 'The way of kings'\n",
    "b2.author = 'Brandon Sanderson'\n",
    "print(b2)\n",
    "print(b2.title)\n",
    "print(b2.author)"
   ]
  },
  {
   "cell_type": "code",
   "execution_count": 19,
   "metadata": {},
   "outputs": [
    {
     "ename": "AttributeError",
     "evalue": "'str' object has no attribute 'Update'",
     "output_type": "error",
     "traceback": [
      "\u001b[1;31m---------------------------------------------------------------------------\u001b[0m",
      "\u001b[1;31mAttributeError\u001b[0m                            Traceback (most recent call last)",
      "Cell \u001b[1;32mIn[19], line 15\u001b[0m\n\u001b[0;32m     12\u001b[0m cm1 \u001b[38;5;241m=\u001b[39m ChatMessage(\u001b[38;5;124m'\u001b[39m\u001b[38;5;124mAmazon Pay\u001b[39m\u001b[38;5;124m'\u001b[39m, \u001b[38;5;124m\"\u001b[39m\u001b[38;5;124myou have coupon\u001b[39m\u001b[38;5;124m\"\u001b[39m,\u001b[38;5;124m'\u001b[39m\u001b[38;5;124mamazon.jpg\u001b[39m\u001b[38;5;124m'\u001b[39m,date \u001b[38;5;241m=\u001b[39m \u001b[38;5;124m'\u001b[39m\u001b[38;5;124m12-12-24\u001b[39m\u001b[38;5;124m'\u001b[39m,\n\u001b[0;32m     13\u001b[0m                   n\u001b[38;5;241m=\u001b[39m\u001b[38;5;241m0\u001b[39m,p \u001b[38;5;241m=\u001b[39m\u001b[38;5;28;01mFalse\u001b[39;00m,m\u001b[38;5;241m=\u001b[39m\u001b[38;5;28;01mFalse\u001b[39;00m,hs \u001b[38;5;241m=\u001b[39m \u001b[38;5;28;01mTrue\u001b[39;00m)\n\u001b[0;32m     14\u001b[0m \u001b[38;5;28mdir\u001b[39m(cm1)\n\u001b[1;32m---> 15\u001b[0m cm1\u001b[38;5;241m.\u001b[39mlast_msg\u001b[38;5;241m.\u001b[39mUpdate \u001b[38;5;241m=\u001b[39m\u001b[38;5;124m'\u001b[39m\u001b[38;5;124mgd\u001b[39m\u001b[38;5;124m'\u001b[39m\n\u001b[0;32m     16\u001b[0m \u001b[38;5;28mprint\u001b[39m(cm1\u001b[38;5;241m.\u001b[39mdate)\n",
      "\u001b[1;31mAttributeError\u001b[0m: 'str' object has no attribute 'Update'"
     ]
    }
   ],
   "source": [
    "class ChatMessage:\n",
    "    def __init__(self,s,msg, dp, date, n, p, m, hs ):\n",
    "        self.sender = s\n",
    "        self.last_msg = msg\n",
    "        self.dp = dp\n",
    "        self.date = date\n",
    "        self.notification = n\n",
    "        self.pinned = p\n",
    "        self.muted = m\n",
    "        self.has_status = hs\n",
    "\n",
    "cm1 = ChatMessage('Amazon Pay', \"you have coupon\",'amazon.jpg',date = '12-12-24',\n",
    "                  n=0,p =False,m=False,hs = True)\n",
    "dir(cm1)\n",
    "print(cm1.date)\n",
    "    \n"
   ]
  },
  {
   "cell_type": "code",
   "execution_count": 20,
   "metadata": {},
   "outputs": [],
   "source": [
    "class Stu:\n",
    "    def __init__ (self,name,std,roll_no):\n",
    "        self.name = name\n",
    "        self.std = std\n",
    "        self.roll_no=roll_no\n",
    "    def display(self):\n",
    "        print(self.name)\n",
    "        print(self.std)\n",
    "        print(self.roll_no)"
   ]
  },
  {
   "cell_type": "code",
   "execution_count": 23,
   "metadata": {},
   "outputs": [
    {
     "name": "stdout",
     "output_type": "stream",
     "text": [
      "John\n",
      "12\n",
      "101\n",
      "Mia\n",
      "12\n",
      "102\n",
      "jack\n",
      "10\n",
      "123\n"
     ]
    }
   ],
   "source": [
    "s1 = Stu('John',12,101)\n",
    "s2 = Stu('Mia',12,102)\n",
    "s3 = Stu('jack',10,123)\n",
    "s1.display()\n",
    "s2.display()\n",
    "s3.display()"
   ]
  },
  {
   "cell_type": "code",
   "execution_count": 28,
   "metadata": {},
   "outputs": [],
   "source": [
    "class Pet:\n",
    "    def __init__(self,animal,breed,color,gender):\n",
    "        self.animal = animal\n",
    "        self.breed = breed\n",
    "        self.color = color\n",
    "        self.gender = gender\n",
    "    def display(self):\n",
    "        print(self.animal)\n",
    "        print(self.breed)\n",
    "        print(self.color)\n",
    "        print(self.gender)\n",
    "        "
   ]
  },
  {
   "cell_type": "code",
   "execution_count": 29,
   "metadata": {},
   "outputs": [
    {
     "name": "stdout",
     "output_type": "stream",
     "text": [
      "dog\n",
      "german shepphard\n",
      "brown\n",
      "male\n"
     ]
    }
   ],
   "source": [
    "p1 = Pet('dog','german shepphard','brown','male')\n",
    "p1.display()"
   ]
  },
  {
   "cell_type": "code",
   "execution_count": 30,
   "metadata": {},
   "outputs": [],
   "source": [
    "from dataclasses import dataclass\n",
    "@dataclass\n",
    "class pet:\n",
    "    pet_type : str\n",
    "    gender : str\n",
    "    color : str\n",
    "    age : int"
   ]
  },
  {
   "cell_type": "code",
   "execution_count": 32,
   "metadata": {},
   "outputs": [
    {
     "name": "stdout",
     "output_type": "stream",
     "text": [
      "pet(pet_type='cat', gender='male', color='white', age=3)\n",
      "pet(pet_type='parrot', gender='female', color='green', age=4)\n"
     ]
    }
   ],
   "source": [
    "p1 = pet(pet_type = 'cat',gender = 'male',color = 'white',age =3)\n",
    "p2 = pet(pet_type = 'parrot',gender = 'female',color = 'green',age =4)\n",
    "print(p1)\n",
    "print(p2)"
   ]
  },
  {
   "cell_type": "code",
   "execution_count": 35,
   "metadata": {},
   "outputs": [
    {
     "name": "stdout",
     "output_type": "stream",
     "text": [
      "200\n",
      "50\n",
      "30\n",
      "r1 is bigger\n"
     ]
    }
   ],
   "source": [
    "class Rectangle:\n",
    "    def __init__(self ,l,w):\n",
    "        self.length = l\n",
    "        self.width = w\n",
    "    def area(self):\n",
    "        return self.length *self.width\n",
    "    def perimeter(self):\n",
    "        return 2*(self.length + self.width)\n",
    "r1 = Rectangle(10,20)\n",
    "r2 = Rectangle(10,5)\n",
    "print(r1.area())\n",
    "print(r2.area())\n",
    "print(r2.perimeter())\n",
    "\n",
    "if r1.area() > r2.area():\n",
    "    print('r1 is bigger')\n",
    "else:\n",
    "    print('r2 is bigger')\n"
   ]
  },
  {
   "cell_type": "code",
   "execution_count": null,
   "metadata": {},
   "outputs": [],
   "source": []
  }
 ],
 "metadata": {
  "kernelspec": {
   "display_name": "base",
   "language": "python",
   "name": "python3"
  },
  "language_info": {
   "codemirror_mode": {
    "name": "ipython",
    "version": 3
   },
   "file_extension": ".py",
   "mimetype": "text/x-python",
   "name": "python",
   "nbconvert_exporter": "python",
   "pygments_lexer": "ipython3",
   "version": "3.12.3"
  }
 },
 "nbformat": 4,
 "nbformat_minor": 2
}
