{
 "cells": [
  {
   "cell_type": "code",
   "execution_count": null,
   "metadata": {},
   "outputs": [],
   "source": [
    "x= 12\n",
    "print(x,type(x))"
   ]
  },
  {
   "cell_type": "markdown",
   "metadata": {},
   "source": [
    "0PP\n",
    "- class\n",
    "- object\n",
    "- inheritance\n",
    "-\n",
    "- "
   ]
  },
  {
   "cell_type": "markdown",
   "metadata": {},
   "source": [
    "class- blueprint of an object\n",
    "- properties/attributes/feilds\n",
    "- methods/fn\n",
    "- constructor\n"
   ]
  },
  {
   "cell_type": "code",
   "execution_count": null,
   "metadata": {},
   "outputs": [],
   "source": [
    "class Nothing: \n",
    "    pass"
   ]
  },
  {
   "cell_type": "code",
   "execution_count": null,
   "metadata": {},
   "outputs": [],
   "source": [
    "class Book:\n",
    "    title =\"\"\n",
    "    author = \"\""
   ]
  },
  {
   "cell_type": "code",
   "execution_count": null,
   "metadata": {},
   "outputs": [],
   "source": [
    "dir(Book)"
   ]
  },
  {
   "cell_type": "code",
   "execution_count": 10,
   "metadata": {},
   "outputs": [
    {
     "name": "stdout",
     "output_type": "stream",
     "text": [
      "<__main__.Book object at 0x000001E403F2AED0>\n",
      "Words of Radiance\n",
      "Brandon Sanderson\n",
      "<__main__.Book object at 0x000001E403F2B950>\n",
      "The way of kings\n",
      "Brandon Sanderson\n"
     ]
    }
   ],
   "source": [
    "b1 = Book()\n",
    "print(b1)\n",
    "b1.title= 'Words of Radiance'\n",
    "b1.author = 'Brandon Sanderson'\n",
    "print(b1.title)\n",
    "print(b1.author)\n",
    "\n",
    "b2 = Book()\n",
    "b2.title = 'The way of kings'\n",
    "b2.author = 'Brandon Sanderson'\n",
    "print(b2)\n",
    "print(b2.title)\n",
    "print(b2.author)"
   ]
  },
  {
   "cell_type": "code",
   "execution_count": 1,
   "metadata": {},
   "outputs": [
    {
     "name": "stdout",
     "output_type": "stream",
     "text": [
      "12-12-24\n"
     ]
    }
   ],
   "source": [
    "class ChatMessage:\n",
    "    def __init__(self,s,msg, dp, date, n, p, m, hs ):\n",
    "        self.sender = s\n",
    "        self.last_msg = msg\n",
    "        self.dp = dp\n",
    "        self.date = date\n",
    "        self.notification = n\n",
    "        self.pinned = p\n",
    "        self.muted = m\n",
    "        self.has_status = hs\n",
    "\n",
    "cm1 = ChatMessage('Amazon Pay', \"you have coupon\",'amazon.jpg',date = '12-12-24',\n",
    "                  n=0,p =False,m=False,hs = True)\n",
    "dir(cm1)\n",
    "print(cm1.date)\n",
    "    \n"
   ]
  },
  {
   "cell_type": "code",
   "execution_count": 20,
   "metadata": {},
   "outputs": [],
   "source": [
    "class Stu:\n",
    "    def __init__ (self,name,std,roll_no):\n",
    "        self.name = name\n",
    "        self.std = std\n",
    "        self.roll_no=roll_no\n",
    "    def display(self):\n",
    "        print(self.name)\n",
    "        print(self.std)\n",
    "        print(self.roll_no)"
   ]
  },
  {
   "cell_type": "code",
   "execution_count": 23,
   "metadata": {},
   "outputs": [
    {
     "name": "stdout",
     "output_type": "stream",
     "text": [
      "John\n",
      "12\n",
      "101\n",
      "Mia\n",
      "12\n",
      "102\n",
      "jack\n",
      "10\n",
      "123\n"
     ]
    }
   ],
   "source": [
    "s1 = Stu('John',12,101)\n",
    "s2 = Stu('Mia',12,102)\n",
    "s3 = Stu('jack',10,123)\n",
    "s1.display()\n",
    "s2.display()\n",
    "s3.display()"
   ]
  },
  {
   "cell_type": "code",
   "execution_count": 28,
   "metadata": {},
   "outputs": [],
   "source": [
    "class Pet:\n",
    "    def __init__(self,animal,breed,color,gender):\n",
    "        self.animal = animal\n",
    "        self.breed = breed\n",
    "        self.color = color\n",
    "        self.gender = gender\n",
    "    def display(self):\n",
    "        print(self.animal)\n",
    "        print(self.breed)\n",
    "        print(self.color)\n",
    "        print(self.gender)\n",
    "        "
   ]
  },
  {
   "cell_type": "code",
   "execution_count": 29,
   "metadata": {},
   "outputs": [
    {
     "name": "stdout",
     "output_type": "stream",
     "text": [
      "dog\n",
      "german shepphard\n",
      "brown\n",
      "male\n"
     ]
    }
   ],
   "source": [
    "p1 = Pet('dog','german shepphard','brown','male')\n",
    "p1.display()"
   ]
  },
  {
   "cell_type": "code",
   "execution_count": 30,
   "metadata": {},
   "outputs": [],
   "source": [
    "from dataclasses import dataclass\n",
    "@dataclass\n",
    "class pet:\n",
    "    pet_type : str\n",
    "    gender : str\n",
    "    color : str\n",
    "    age : int"
   ]
  },
  {
   "cell_type": "code",
   "execution_count": 32,
   "metadata": {},
   "outputs": [
    {
     "name": "stdout",
     "output_type": "stream",
     "text": [
      "pet(pet_type='cat', gender='male', color='white', age=3)\n",
      "pet(pet_type='parrot', gender='female', color='green', age=4)\n"
     ]
    }
   ],
   "source": [
    "p1 = pet(pet_type = 'cat',gender = 'male',color = 'white',age =3)\n",
    "p2 = pet(pet_type = 'parrot',gender = 'female',color = 'green',age =4)\n",
    "print(p1)\n",
    "print(p2)"
   ]
  },
  {
   "cell_type": "code",
   "execution_count": 35,
   "metadata": {},
   "outputs": [
    {
     "name": "stdout",
     "output_type": "stream",
     "text": [
      "200\n",
      "50\n",
      "30\n",
      "r1 is bigger\n"
     ]
    }
   ],
   "source": [
    "class Rectangle:\n",
    "    def __init__(self ,l,w):\n",
    "        self.length = l\n",
    "        self.width = w\n",
    "    def area(self):\n",
    "        return self.length *self.width\n",
    "    def perimeter(self):\n",
    "        return 2*(self.length + self.width)\n",
    "r1 = Rectangle(10,20)\n",
    "r2 = Rectangle(10,5)\n",
    "print(r1.area())\n",
    "print(r2.area())\n",
    "print(r2.perimeter())\n",
    "\n",
    "if r1.area() > r2.area():\n",
    "    print('r1 is bigger')\n",
    "else:\n",
    "    print('r2 is bigger')\n"
   ]
  },
  {
   "cell_type": "markdown",
   "metadata": {},
   "source": [
    "Inheritence\n",
    "- multi level inheritence(A ->B->C)\n",
    "- multiple inheritence(A,B->)"
   ]
  },
  {
   "cell_type": "code",
   "execution_count": 2,
   "metadata": {},
   "outputs": [],
   "source": [
    "class Vehicle:\n",
    "    def __init__(self,brand,model):\n",
    "        self.brand= brand\n",
    "        self.model= model\n",
    "    def display(self):\n",
    "        print(f'{self.brand} -{self.model}')"
   ]
  },
  {
   "cell_type": "code",
   "execution_count": 3,
   "metadata": {},
   "outputs": [],
   "source": [
    "class Car(Vehicle):\n",
    "    def __init__ (self,brand,model,carType,seats):\n",
    "        super().__init__(brand,model)\n",
    "        self.carType = carType\n",
    "        self.seats = seats"
   ]
  },
  {
   "cell_type": "code",
   "execution_count": 5,
   "metadata": {},
   "outputs": [
    {
     "name": "stdout",
     "output_type": "stream",
     "text": [
      "Hyundi -Verna\n",
      "toyota -Civic\n"
     ]
    }
   ],
   "source": [
    "c1 = Car(\"Hyundi\",'Verna','Sedan',5)\n",
    "c2 = Car(\"toyota\",'Civic','Sedan',5)\n",
    "c1.display()\n",
    "c2.display()"
   ]
  },
  {
   "cell_type": "code",
   "execution_count": 6,
   "metadata": {},
   "outputs": [],
   "source": [
    "class SuperList(list):\n",
    "    def __init(self,*args):\n",
    "        super().__init__(*args)\n",
    "    def sum(self):\n",
    "        clean_list = [x for x in self if isinstance (x,int)]\n",
    "        return sum(clean_list)"
   ]
  },
  {
   "cell_type": "code",
   "execution_count": 7,
   "metadata": {},
   "outputs": [
    {
     "name": "stdout",
     "output_type": "stream",
     "text": [
      "[1, 'bat', 2, 3, 'cat', 4, 5, 'dat', 6]\n",
      "21\n"
     ]
    }
   ],
   "source": [
    "x = SuperList([1,'bat',2,3,'cat',4,5,'dat',6])\n",
    "print(x)\n",
    "print(x.sum())"
   ]
  },
  {
   "cell_type": "code",
   "execution_count": 16,
   "metadata": {},
   "outputs": [],
   "source": [
    "#multiple inheritence\n",
    "import random \n",
    "class Wizard:\n",
    "    def __init__(self,spells):\n",
    "        self.spells = spells\n",
    "    def cast_spell(self):\n",
    "        print(f'casting spell {random.choice(self.spells)}')\n",
    "class Warrior:\n",
    "    def __init__(self,weapons):\n",
    "        self.weapons = weapons\n",
    "    def attack (self):\n",
    "        print(f'attacking with {self.weapons}')\n",
    "class Battlemage(Wizard,Warrior):\n",
    "    def __init__(self,spell,weapons):\n",
    "        Wizard.__init__(self,spell)\n",
    "        Warrior.__init__(self,weapons)\n",
    "    def fight(self):\n",
    "        self.cast_spell()\n",
    "        self.attack()\n"
   ]
  },
  {
   "cell_type": "code",
   "execution_count": 17,
   "metadata": {},
   "outputs": [
    {
     "name": "stdout",
     "output_type": "stream",
     "text": [
      "Warrior\n",
      "attacking with ['sword', 'Axe', 'Mace']\n",
      "Wizard\n",
      "casting spell Iceball\n",
      "Battlemage\n",
      "casting spell Iceball\n",
      "attacking with ['sword', 'Axe', 'Mace']\n"
     ]
    }
   ],
   "source": [
    "w = Warrior(['sword','Axe','Mace'])\n",
    "wz = Wizard(['Fireball','Iceball','lightning'])\n",
    "bm = Battlemage(['Fireball','Iceball','lightning'],['sword','Axe','Mace'])\n",
    "print('Warrior')\n",
    "w.attack()\n",
    "print('Wizard')\n",
    "wz.cast_spell()\n",
    "print('Battlemage')\n",
    "bm.fight()"
   ]
  },
  {
   "cell_type": "code",
   "execution_count": null,
   "metadata": {},
   "outputs": [],
   "source": []
  }
 ],
 "metadata": {
  "kernelspec": {
   "display_name": "base",
   "language": "python",
   "name": "python3"
  },
  "language_info": {
   "codemirror_mode": {
    "name": "ipython",
    "version": 3
   },
   "file_extension": ".py",
   "mimetype": "text/x-python",
   "name": "python",
   "nbconvert_exporter": "python",
   "pygments_lexer": "ipython3",
   "version": "3.12.3"
  }
 },
 "nbformat": 4,
 "nbformat_minor": 2
}
