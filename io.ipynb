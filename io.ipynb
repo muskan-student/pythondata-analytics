{
 "cells": [
  {
   "cell_type": "code",
   "execution_count": null,
   "metadata": {},
   "outputs": [],
   "source": []
  },
  {
   "cell_type": "markdown",
   "metadata": {},
   "source": [
    "example ans= input (\" prompt\")"
   ]
  },
  {
   "cell_type": "code",
   "execution_count": 1,
   "metadata": {},
   "outputs": [
    {
     "data": {
      "text/plain": [
       "'enter your name'"
      ]
     },
     "execution_count": 1,
     "metadata": {},
     "output_type": "execute_result"
    }
   ],
   "source": [
    "input(\"enter your name\")"
   ]
  },
  {
   "cell_type": "code",
   "execution_count": 5,
   "metadata": {},
   "outputs": [],
   "source": [
    "name = input('enter your name ')\n",
    "city= input('enter your city')\n",
    "color= input('enter your color')\n",
    "luckynum= input('enter your luckynum')\n",
    "\n"
   ]
  },
  {
   "cell_type": "markdown",
   "metadata": {},
   "source": [
    "typecasting \n",
    " from one datatype to another \n",
    " str = int (variable )int"
   ]
  },
  {
   "cell_type": "code",
   "execution_count": 7,
   "metadata": {},
   "outputs": [
    {
     "data": {
      "text/plain": [
       "10.2"
      ]
     },
     "execution_count": 7,
     "metadata": {},
     "output_type": "execute_result"
    }
   ],
   "source": [
    "int(123)\n",
    "float(10.20)\n"
   ]
  },
  {
   "cell_type": "code",
   "execution_count": 10,
   "metadata": {},
   "outputs": [
    {
     "name": "stdout",
     "output_type": "stream",
     "text": [
      "<class 'int'>\n",
      "<class 'str'>\n",
      "<class 'str'>\n",
      "<class 'float'>\n"
     ]
    }
   ],
   "source": [
    "a= 10\n",
    "b = \"10\"\n",
    "c = \"10,20\"\n",
    "d= 10.20\n",
    "print(type(a))\n",
    "print(type(b))\n",
    "print(type(c))\n",
    "print(type(d))"
   ]
  },
  {
   "cell_type": "code",
   "execution_count": 12,
   "metadata": {},
   "outputs": [
    {
     "name": "stdout",
     "output_type": "stream",
     "text": [
      "10.0\n",
      "10\n",
      "True\n"
     ]
    }
   ],
   "source": [
    "print(float(a))\n",
    "print(str(a))\n",
    "print(bool(a))"
   ]
  },
  {
   "cell_type": "code",
   "execution_count": 14,
   "metadata": {},
   "outputs": [
    {
     "name": "stdout",
     "output_type": "stream",
     "text": [
      "1100\n"
     ]
    }
   ],
   "source": [
    "a= input('enter a number')\n",
    "b= input('enter a number')\n",
    "c = int(a)+int(b) #c=a+b print(c)\n",
    "print(c)"
   ]
  },
  {
   "cell_type": "code",
   "execution_count": 1,
   "metadata": {},
   "outputs": [
    {
     "name": "stdout",
     "output_type": "stream",
     "text": [
      "750.0\n"
     ]
    }
   ],
   "source": [
    "p = int(input('enter a number'))\n",
    "r = float(input('enter the rate'))\n",
    "t = int (input('enter the time'))\n",
    "si = p*r*t/100\n",
    "print(si)"
   ]
  },
  {
   "cell_type": "markdown",
   "metadata": {},
   "source": [
    "answer : 12 - 3 = 9 it will tell how we want to display the answer"
   ]
  },
  {
   "cell_type": "code",
   "execution_count": 3,
   "metadata": {},
   "outputs": [
    {
     "name": "stdout",
     "output_type": "stream",
     "text": [
      "answer: 12 - 3 = 9\n"
     ]
    }
   ],
   "source": [
    "a = 12\n",
    "b = 3\n",
    "c = a-b\n",
    "print(\"answer:\", a,\"-\",b,\"=\",c)"
   ]
  },
  {
   "cell_type": "code",
   "execution_count": 9,
   "metadata": {},
   "outputs": [
    {
     "name": "stdout",
     "output_type": "stream",
     "text": [
      "Simple Interst calculation\n",
      "Principle=$ 10000\n",
      "Rate= 3.0 %\n",
      "Time= 5 year\n",
      "_______________\n",
      "simple interest= 1500.0\n"
     ]
    }
   ],
   "source": [
    "p = int(input('enter a number'))\n",
    "r = float(input('enter the rate'))\n",
    "t = int (input('enter the time'))\n",
    "si = p*r*t/100\n",
    "print(\"Simple Interst calculation\")\n",
    "print(\"Principle=$\", p)\n",
    "print(\"Rate=\", r,\"%\")\n",
    "print(\"Time=\",t ,\"year\")\n",
    "print('_'*15)\n",
    "print(\"simple interest=\",si)"
   ]
  },
  {
   "cell_type": "code",
   "execution_count": 10,
   "metadata": {},
   "outputs": [
    {
     "name": "stdout",
     "output_type": "stream",
     "text": [
      "h-e-l-l-o\n",
      "f r u i t s\n"
     ]
    }
   ],
   "source": [
    "print(*'hello', sep='-')\n",
    "fruits =['apple','banana','cherry']\n",
    "print(*'fruits')"
   ]
  },
  {
   "cell_type": "markdown",
   "metadata": {},
   "source": [
    "string interpolation for formatted output"
   ]
  },
  {
   "cell_type": "code",
   "execution_count": 12,
   "metadata": {},
   "outputs": [
    {
     "name": "stdout",
     "output_type": "stream",
     "text": [
      "answer: 12 - 3 = 9\n",
      "answer : 12-3=9\n"
     ]
    }
   ],
   "source": [
    "a = 12\n",
    "b = 3\n",
    "c = a-b\n",
    "print(\"answer:\", a,\"-\",b,\"=\",c)\n",
    "print(f\"answer : {a}-{b}={c}\")"
   ]
  },
  {
   "cell_type": "code",
   "execution_count": 1,
   "metadata": {},
   "outputs": [
    {
     "ename": "ValueError",
     "evalue": "invalid literal for int() with base 10: ''",
     "output_type": "error",
     "traceback": [
      "\u001b[1;31m---------------------------------------------------------------------------\u001b[0m",
      "\u001b[1;31mValueError\u001b[0m                                Traceback (most recent call last)",
      "Cell \u001b[1;32mIn[1], line 2\u001b[0m\n\u001b[0;32m      1\u001b[0m \u001b[38;5;66;03m#area of triangle\u001b[39;00m\n\u001b[1;32m----> 2\u001b[0m b\u001b[38;5;241m=\u001b[39m \u001b[38;5;28mint\u001b[39m(\u001b[38;5;28minput\u001b[39m(\u001b[38;5;124m\"\u001b[39m\u001b[38;5;124menter the base of triangle\u001b[39m\u001b[38;5;124m\"\u001b[39m))\n\u001b[0;32m      3\u001b[0m h\u001b[38;5;241m=\u001b[39m \u001b[38;5;28mint\u001b[39m(\u001b[38;5;28minput\u001b[39m(\u001b[38;5;124m\"\u001b[39m\u001b[38;5;124menter the height of a triangle\u001b[39m\u001b[38;5;124m\"\u001b[39m))\n\u001b[0;32m      4\u001b[0m area\u001b[38;5;241m=\u001b[39m \u001b[38;5;241m1\u001b[39m\u001b[38;5;241m/\u001b[39m\u001b[38;5;241m2\u001b[39m \u001b[38;5;241m*\u001b[39mb\u001b[38;5;241m*\u001b[39mh\n",
      "\u001b[1;31mValueError\u001b[0m: invalid literal for int() with base 10: ''"
     ]
    }
   ],
   "source": [
    "#area of triangle\n",
    "b= int(input(\"enter the base of triangle\"))\n",
    "h= int(input(\"enter the height of a triangle\"))\n",
    "area= 1/2*b*h\n",
    "print(\"area of the triangle\")\n",
    "print(f\"base= {b} cm\")\n",
    "print(f\"height= {h} cm\")\n",
    "print('_'*15)\n",
    "print(f\"area ={area} cm\")"
   ]
  },
  {
   "cell_type": "code",
   "execution_count": 3,
   "metadata": {},
   "outputs": [
    {
     "name": "stdout",
     "output_type": "stream",
     "text": [
      "original values : a= 45 ,b = 56\n",
      " swapped variable : a =56, b= 45\n"
     ]
    }
   ],
   "source": [
    "#python program to swap the two variable\n",
    "a= int(input(\"enter the first variable\"))\n",
    "b= int(input(\"enter the second variable\"))\n",
    "print(f\"original values : a= {a} ,b = {b}\")\n",
    "temp= a\n",
    "a = b\n",
    "b = temp \n",
    "print (f\" swapped variable : a ={a}, b= {b}\")\n"
   ]
  },
  {
   "cell_type": "code",
   "execution_count": 6,
   "metadata": {},
   "outputs": [
    {
     "name": "stdout",
     "output_type": "stream",
     "text": [
      " 1000 kilometer is equal to 621.371 miles\n"
     ]
    }
   ],
   "source": [
    "# python program to convert kilometer to miles\n",
    "kilo=int(input(\"enter the value of kilometer\"))\n",
    "conversion_fac= 0.621371\n",
    "miles= kilo * conversion_fac\n",
    "print(f\" {kilo} kilometer is equal to {miles} miles\")"
   ]
  },
  {
   "cell_type": "code",
   "execution_count": 7,
   "metadata": {},
   "outputs": [
    {
     "name": "stdout",
     "output_type": "stream",
     "text": [
      "32 is equal to 89.6 dregree fahrenheit\n"
     ]
    }
   ],
   "source": [
    "#python program celcius to fahrenheit\n",
    "celcius =int(input(\"enter the temperature in celcius \"))\n",
    "fah = (celcius * 9/5 ) +32\n",
    "print(f\"{celcius} is equal to {fah} dregree fahrenheit\")"
   ]
  },
  {
   "cell_type": "code",
   "execution_count": 10,
   "metadata": {},
   "outputs": [
    {
     "name": "stdout",
     "output_type": "stream",
     "text": [
      "0 is equal to zero\n"
     ]
    }
   ],
   "source": [
    "# python prog to check if the number the positive , negative , zero\n",
    "a = int(input( \"enter the number :\"))\n",
    "if a > 0:\n",
    "    print(f\"{a} is positive\")\n",
    "elif a == 0:\n",
    "    print (f\"{a} is zero\")\n",
    "else :\n",
    "    print (f\"{a} is negative\")    \n"
   ]
  },
  {
   "cell_type": "code",
   "execution_count": 11,
   "metadata": {},
   "outputs": [
    {
     "name": "stdout",
     "output_type": "stream",
     "text": [
      "34 is even number \n"
     ]
    }
   ],
   "source": [
    "#python program to check wheter the number is even or odd\n",
    "num=int(input(\"enter the number :\"))\n",
    "if num % 2==0:\n",
    "    print(f\"{num} is even number \")\n",
    "else :\n",
    "    print(f\"{num} is odd number\")    \n"
   ]
  },
  {
   "cell_type": "code",
   "execution_count": 7,
   "metadata": {},
   "outputs": [
    {
     "name": "stdout",
     "output_type": "stream",
     "text": [
      "3400 is the largest number\n"
     ]
    }
   ],
   "source": [
    "#python program to check the largest among the three\n",
    "a = int(input(\"enter the first number\"))\n",
    "b = int(input(\"enter the second number\"))\n",
    "c = int(input(\"enter the third number\"))\n",
    "if (a >= b and  a >= c):\n",
    "    print (f\"{a} is the largest number\")\n",
    "elif (b >= a and b >= c):\n",
    "    print(f\"{b} is the largest number\")\n",
    "else:\n",
    "    print(f\"{c} is the largest number\")\n"
   ]
  },
  {
   "cell_type": "code",
   "execution_count": 1,
   "metadata": {},
   "outputs": [
    {
     "ename": "SyntaxError",
     "evalue": "expected ':' (3913739364.py, line 6)",
     "output_type": "error",
     "traceback": [
      "\u001b[1;36m  Cell \u001b[1;32mIn[1], line 6\u001b[1;36m\u001b[0m\n\u001b[1;33m    for i in range(2,num)\u001b[0m\n\u001b[1;37m                         ^\u001b[0m\n\u001b[1;31mSyntaxError\u001b[0m\u001b[1;31m:\u001b[0m expected ':'\n"
     ]
    }
   ],
   "source": [
    "#python program to check wheter the number is prime or not\n",
    "num = int(input(\"enter the value\"))\n",
    "if num == 1:\n",
    "    print(f\"{num} is not the prime number\")\n",
    "elif num > 1:\n",
    "    for i in range(2,num)\n",
    "    if num % i ==0 :\n"
   ]
  },
  {
   "cell_type": "code",
   "execution_count": 2,
   "metadata": {},
   "outputs": [
    {
     "name": "stdout",
     "output_type": "stream",
     "text": [
      "3\n",
      "3.3\n",
      "3.33\n",
      "3.333\n"
     ]
    }
   ],
   "source": [
    "# round function use d with expression \n",
    "print(round (10/3))\n",
    "print(round(10/3,1))\n",
    "print(round(10/3,2))\n",
    "print(round(10/3,3))"
   ]
  },
  {
   "cell_type": "code",
   "execution_count": 7,
   "metadata": {},
   "outputs": [
    {
     "name": "stdout",
     "output_type": "stream",
     "text": [
      "The final empire                         | Brandson Sanderson  | 499\n",
      "the art of war                           |      Sun Tzu        | 299\n",
      "Stromlight Archives : the way of king    | Brandson Sanderson  | 345\n"
     ]
    }
   ],
   "source": [
    "#text alignment \n",
    "n1 = \"The final empire\"\n",
    "a1 = \"Brandson Sanderson\"\n",
    "p1 = 499\n",
    "n2 = \"the art of war\"\n",
    "a2 = \"Sun Tzu\"\n",
    "p2 = 299\n",
    "n3 = \"Stromlight Archives : the way of king\"\n",
    "a3 = \"Brandson Sanderson\"\n",
    "p3 = 345\n",
    "print(f'{n1:<40} |{a1:^20} | {p1}')\n",
    "print(f'{n2:<40} |{a2:^20} | {p2}')\n",
    "print(f'{n3:<40} |{a3:^20} | {p3}')"
   ]
  },
  {
   "cell_type": "code",
   "execution_count": 10,
   "metadata": {},
   "outputs": [
    {
     "name": "stdout",
     "output_type": "stream",
     "text": [
      "             america | food\n",
      "               rainy | shillong\n"
     ]
    }
   ],
   "source": [
    "a1 =input(\"enter your favourite country\")\n",
    "b1= input(\"enter the famous thing about this country\")\n",
    "a2= input (\"enter your your favorite season\")\n",
    "b2 = input('enter the city which is famous for this season')\n",
    "print(f'{a1:>20} | {b1}')\n",
    "print(f'{a2:>20} | {b2}')"
   ]
  },
  {
   "cell_type": "code",
   "execution_count": null,
   "metadata": {},
   "outputs": [],
   "source": []
  }
 ],
 "metadata": {
  "kernelspec": {
   "display_name": "base",
   "language": "python",
   "name": "python3"
  },
  "language_info": {
   "codemirror_mode": {
    "name": "ipython",
    "version": 3
   },
   "file_extension": ".py",
   "mimetype": "text/x-python",
   "name": "python",
   "nbconvert_exporter": "python",
   "pygments_lexer": "ipython3",
   "version": "3.12.3"
  }
 },
 "nbformat": 4,
 "nbformat_minor": 2
}
