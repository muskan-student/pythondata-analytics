{
 "cells": [
  {
   "cell_type": "code",
   "execution_count": null,
   "metadata": {},
   "outputs": [],
   "source": []
  },
  {
   "cell_type": "markdown",
   "metadata": {},
   "source": [
    "example ans= input (\" prompt\")"
   ]
  },
  {
   "cell_type": "code",
   "execution_count": 1,
   "metadata": {},
   "outputs": [
    {
     "data": {
      "text/plain": [
       "'enter your name'"
      ]
     },
     "execution_count": 1,
     "metadata": {},
     "output_type": "execute_result"
    }
   ],
   "source": [
    "input(\"enter your name\")"
   ]
  },
  {
   "cell_type": "code",
   "execution_count": 5,
   "metadata": {},
   "outputs": [],
   "source": [
    "name = input('enter your name ')\n",
    "city= input('enter your city')\n",
    "color= input('enter your color')\n",
    "luckynum= input('enter your luckynum')\n",
    "\n"
   ]
  },
  {
   "cell_type": "markdown",
   "metadata": {},
   "source": [
    "typecasting \n",
    " from one datatype to another \n",
    " str = int (variable )int"
   ]
  },
  {
   "cell_type": "code",
   "execution_count": 7,
   "metadata": {},
   "outputs": [
    {
     "data": {
      "text/plain": [
       "10.2"
      ]
     },
     "execution_count": 7,
     "metadata": {},
     "output_type": "execute_result"
    }
   ],
   "source": [
    "int(123)\n",
    "float(10.20)\n"
   ]
  },
  {
   "cell_type": "code",
   "execution_count": 10,
   "metadata": {},
   "outputs": [
    {
     "name": "stdout",
     "output_type": "stream",
     "text": [
      "<class 'int'>\n",
      "<class 'str'>\n",
      "<class 'str'>\n",
      "<class 'float'>\n"
     ]
    }
   ],
   "source": [
    "a= 10\n",
    "b = \"10\"\n",
    "c = \"10,20\"\n",
    "d= 10.20\n",
    "print(type(a))\n",
    "print(type(b))\n",
    "print(type(c))\n",
    "print(type(d))"
   ]
  },
  {
   "cell_type": "code",
   "execution_count": 12,
   "metadata": {},
   "outputs": [
    {
     "name": "stdout",
     "output_type": "stream",
     "text": [
      "10.0\n",
      "10\n",
      "True\n"
     ]
    }
   ],
   "source": [
    "print(float(a))\n",
    "print(str(a))\n",
    "print(bool(a))"
   ]
  },
  {
   "cell_type": "code",
   "execution_count": 14,
   "metadata": {},
   "outputs": [
    {
     "name": "stdout",
     "output_type": "stream",
     "text": [
      "1100\n"
     ]
    }
   ],
   "source": [
    "a= input('enter a number')\n",
    "b= input('enter a number')\n",
    "c = int(a)+int(b) #c=a+b print(c)\n",
    "print(c)"
   ]
  },
  {
   "cell_type": "code",
   "execution_count": 1,
   "metadata": {},
   "outputs": [
    {
     "name": "stdout",
     "output_type": "stream",
     "text": [
      "750.0\n"
     ]
    }
   ],
   "source": [
    "p = int(input('enter a number'))\n",
    "r = float(input('enter the rate'))\n",
    "t = int (input('enter the time'))\n",
    "si = p*r*t/100\n",
    "print(si)"
   ]
  },
  {
   "cell_type": "markdown",
   "metadata": {},
   "source": [
    "answer : 12 - 3 = 9 it will tell how we want to display the answer"
   ]
  },
  {
   "cell_type": "code",
   "execution_count": 3,
   "metadata": {},
   "outputs": [
    {
     "name": "stdout",
     "output_type": "stream",
     "text": [
      "answer: 12 - 3 = 9\n"
     ]
    }
   ],
   "source": [
    "a = 12\n",
    "b = 3\n",
    "c = a-b\n",
    "print(\"answer:\", a,\"-\",b,\"=\",c)"
   ]
  },
  {
   "cell_type": "code",
   "execution_count": 9,
   "metadata": {},
   "outputs": [
    {
     "name": "stdout",
     "output_type": "stream",
     "text": [
      "Simple Interst calculation\n",
      "Principle=$ 10000\n",
      "Rate= 3.0 %\n",
      "Time= 5 year\n",
      "_______________\n",
      "simple interest= 1500.0\n"
     ]
    }
   ],
   "source": [
    "p = int(input('enter a number'))\n",
    "r = float(input('enter the rate'))\n",
    "t = int (input('enter the time'))\n",
    "si = p*r*t/100\n",
    "print(\"Simple Interst calculation\")\n",
    "print(\"Principle=$\", p)\n",
    "print(\"Rate=\", r,\"%\")\n",
    "print(\"Time=\",t ,\"year\")\n",
    "print('_'*15)\n",
    "print(\"simple interest=\",si)"
   ]
  },
  {
   "cell_type": "code",
   "execution_count": 10,
   "metadata": {},
   "outputs": [
    {
     "name": "stdout",
     "output_type": "stream",
     "text": [
      "h-e-l-l-o\n",
      "f r u i t s\n"
     ]
    }
   ],
   "source": [
    "print(*'hello', sep='-')\n",
    "fruits =['apple','banana','cherry']\n",
    "print(*'fruits')"
   ]
  },
  {
   "cell_type": "markdown",
   "metadata": {},
   "source": [
    "string interpolation for formatted output"
   ]
  },
  {
   "cell_type": "code",
   "execution_count": 12,
   "metadata": {},
   "outputs": [
    {
     "name": "stdout",
     "output_type": "stream",
     "text": [
      "answer: 12 - 3 = 9\n",
      "answer : 12-3=9\n"
     ]
    }
   ],
   "source": [
    "a = 12\n",
    "b = 3\n",
    "c = a-b\n",
    "print(\"answer:\", a,\"-\",b,\"=\",c)\n",
    "print(f\"answer : {a}-{b}={c}\")"
   ]
  },
  {
   "cell_type": "code",
   "execution_count": 14,
   "metadata": {},
   "outputs": [
    {
     "name": "stdout",
     "output_type": "stream",
     "text": [
      "area of the triangle\n",
      "base= 100 cm\n",
      "height= 23 cm\n",
      "_______________\n",
      "area =1150.0 cm\n"
     ]
    }
   ],
   "source": [
    "#area of triangle\n",
    "b= int(input(\"enter the base of triangle\"))\n",
    "h= int(input(\"enter the height of a triangle\"))\n",
    "area= 1/2 *b*h\n",
    "print(\"area of the triangle\")\n",
    "print(f\"base= {b} cm\")\n",
    "print(f\"height= {h} cm\")\n",
    "print('_'*15)\n",
    "print(f\"area ={area} cm\")"
   ]
  }
 ],
 "metadata": {
  "kernelspec": {
   "display_name": "base",
   "language": "python",
   "name": "python3"
  },
  "language_info": {
   "codemirror_mode": {
    "name": "ipython",
    "version": 3
   },
   "file_extension": ".py",
   "mimetype": "text/x-python",
   "name": "python",
   "nbconvert_exporter": "python",
   "pygments_lexer": "ipython3",
   "version": "3.12.3"
  }
 },
 "nbformat": 4,
 "nbformat_minor": 2
}
